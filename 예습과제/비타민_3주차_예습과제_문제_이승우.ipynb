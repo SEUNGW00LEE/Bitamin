{
  "cells": [
    {
      "cell_type": "markdown",
      "id": "42f79dd2",
      "metadata": {
        "id": "42f79dd2"
      },
      "source": [
        "> #### 5조"
      ]
    },
    {
      "cell_type": "markdown",
      "id": "2b761054",
      "metadata": {
        "id": "2b761054"
      },
      "source": [
        "# 1번 (25점)\n",
        "\n",
        "#### 문제 1-1. 각 분류 모델의 주요 특징을 간략하게 설명해주세요.  (5점, 각 1점)"
      ]
    },
    {
      "cell_type": "markdown",
      "id": "3b7af567",
      "metadata": {
        "id": "3b7af567"
      },
      "source": [
        "1. GBM\n",
        ": 여러 개의 약한 예측 모델들을 결합하여 강력한 예측 모델을 만드는 기법"
      ]
    },
    {
      "cell_type": "markdown",
      "id": "2c2a8629",
      "metadata": {
        "id": "2c2a8629"
      },
      "source": [
        "2. XGB (XGBoost)\n",
        ":과적합을 방지하기 위한 정규화를 포함한 고성능 그래디언트 부스팅 라이브러리"
      ]
    },
    {
      "cell_type": "markdown",
      "id": "0831cbd4",
      "metadata": {
        "id": "0831cbd4"
      },
      "source": [
        "3. LGBM (LightGBM)\n",
        ": 그래디언트 부스팅 프레임워크로, 리프 중심 트리 분할(Leaf-wise tree growth) 방식을 사용하여 모델의 정확도를 높이면서도 계산 비용을 낮춤."
      ]
    },
    {
      "cell_type": "markdown",
      "id": "81695911",
      "metadata": {
        "id": "81695911"
      },
      "source": [
        "4. SVM\n",
        ": 데이터를 분류하기 위한 경계선(결정 경계)을 정의하는 모델로, 분류를 위한 최적의 경계선을 찾는 것을 목표로 함."
      ]
    },
    {
      "cell_type": "markdown",
      "id": "56694552",
      "metadata": {
        "id": "56694552"
      },
      "source": [
        "5. KNN\n",
        ":: KNN은 분류하고자 하는 샘플에 가장 가까운 K개의 이웃 샘플들의 정보를 바탕으로 해당 샘플의 분류나 회귀 결과를 예측하는 비모수 방식의 알고리즘"
      ]
    },
    {
      "cell_type": "markdown",
      "id": "08a7cdc9",
      "metadata": {
        "id": "08a7cdc9"
      },
      "source": [
        "### **1-2.  GBM의 가장 큰 단점은 무엇인가요? (3점)**\n",
        "\n",
        "a) 과적합 가능성이 낮음\n",
        "\n",
        "b) 속도가 매우 빠름\n",
        "\n",
        "c) 하이퍼파라미터 튜닝이 쉬움\n",
        "\n",
        "d) 학습 시간이 오래 걸릴 수 있음"
      ]
    },
    {
      "cell_type": "code",
      "source": [
        "# 정답 : d"
      ],
      "metadata": {
        "id": "gPQs_EguTwQe"
      },
      "id": "gPQs_EguTwQe",
      "execution_count": 1,
      "outputs": []
    },
    {
      "cell_type": "markdown",
      "id": "e9f60939",
      "metadata": {
        "id": "e9f60939"
      },
      "source": [
        "### **1-3. XGB의 주요 특징 중 하나는 무엇인가요? (3점)**\n",
        "\n",
        "a) 병렬 처리 기능을 갖추고 있지 않음\n",
        "\n",
        "b) 속도가 느리고 메모리를 많이 사용함\n",
        "\n",
        "c) 규제 기능을 갖추어 과적합을 방지함\n",
        "\n",
        "d) 하이퍼파라미터 튜닝이 필요하지 않음"
      ]
    },
    {
      "cell_type": "code",
      "source": [
        "# 정답 : c"
      ],
      "metadata": {
        "id": "spq_zk7TTyK9"
      },
      "id": "spq_zk7TTyK9",
      "execution_count": 2,
      "outputs": []
    },
    {
      "cell_type": "markdown",
      "id": "5328dd3c",
      "metadata": {
        "id": "5328dd3c"
      },
      "source": [
        "### **1-4. LGBM의 주요 특징 중 하나는 무엇인가요? (3점)**\n",
        "\n",
        "a) 학습 시간이 오래 걸림\n",
        "\n",
        "b) 고차원 데이터에 적합하지 않음\n",
        "\n",
        "c) 대규모 데이터셋에 효율적으로 적용됨\n",
        "\n",
        "d) 규제 기능이 없음"
      ]
    },
    {
      "cell_type": "code",
      "source": [
        "# 정답 : c"
      ],
      "metadata": {
        "id": "E-K6G-l4T2Xr"
      },
      "id": "E-K6G-l4T2Xr",
      "execution_count": 3,
      "outputs": []
    },
    {
      "cell_type": "markdown",
      "id": "edaa81f1",
      "metadata": {
        "id": "edaa81f1"
      },
      "source": [
        "### **1-5. SVM은 어떤 종류의 학습 알고리즘인가요? (3점)**\n",
        "\n",
        "a) 지도 학습\n",
        "b) 비지도 학습\n",
        "c) 준지도 학습\n",
        "d) 강화 학습"
      ]
    },
    {
      "cell_type": "code",
      "source": [
        "# 정답 : a"
      ],
      "metadata": {
        "id": "HKOahA2ST8sp"
      },
      "id": "HKOahA2ST8sp",
      "execution_count": 6,
      "outputs": []
    },
    {
      "cell_type": "markdown",
      "id": "2368e3a8",
      "metadata": {
        "id": "2368e3a8"
      },
      "source": [
        "### **1-6. K-NN 알고리즘에서 k값이 너무 작을 경우 발생할 수 있는 문제는 무엇인가요? (3점)**\n",
        "\n",
        "a) 과적합될 가능성이 높음\n",
        "b) 모델이 너무 단순해짐\n",
        "c) 노이즈의 영향을 줄이기 어려움\n",
        "d) 모델이 너무 복잡해짐"
      ]
    },
    {
      "cell_type": "code",
      "source": [
        "# 정답 : a"
      ],
      "metadata": {
        "id": "_wcN2pwmT-3z"
      },
      "id": "_wcN2pwmT-3z",
      "execution_count": 5,
      "outputs": []
    },
    {
      "cell_type": "markdown",
      "id": "ab4751da",
      "metadata": {
        "id": "ab4751da"
      },
      "source": [
        "### **1-7. XGBoost 모델에서 가장 중요한 하이퍼파라미터는 무엇이고, 이를 조정함으로써 어떤 효과를 기대할 수 있나요? (5점)**"
      ]
    },
    {
      "cell_type": "code",
      "source": [
        "# learning_rate : 각 단계에서 가중치 업데이트의 크기를 결정"
      ],
      "metadata": {
        "id": "hXe0Hgp1UCHy"
      },
      "id": "hXe0Hgp1UCHy",
      "execution_count": 7,
      "outputs": []
    },
    {
      "cell_type": "markdown",
      "id": "2e6f6566",
      "metadata": {
        "id": "2e6f6566"
      },
      "source": [
        "---"
      ]
    },
    {
      "cell_type": "markdown",
      "id": "aefc8ba1",
      "metadata": {
        "id": "aefc8ba1"
      },
      "source": [
        "# 2번"
      ]
    },
    {
      "cell_type": "markdown",
      "id": "a7e585fa",
      "metadata": {
        "id": "a7e585fa"
      },
      "source": [
        "### 기본세팅"
      ]
    },
    {
      "cell_type": "code",
      "execution_count": 8,
      "id": "8e7b9d9d",
      "metadata": {
        "id": "8e7b9d9d"
      },
      "outputs": [],
      "source": [
        "# 필요한 라이브러리\n",
        "import numpy as np\n",
        "import pandas as pd\n",
        "\n",
        "import matplotlib as mpl\n",
        "import matplotlib.pyplot as plt\n",
        "import seaborn as sns\n",
        "\n",
        "from sklearn.datasets import load_iris\n",
        "from sklearn.model_selection import train_test_split\n",
        "from sklearn.metrics import accuracy_score"
      ]
    },
    {
      "cell_type": "code",
      "execution_count": 9,
      "id": "aef1bc40",
      "metadata": {
        "id": "aef1bc40"
      },
      "outputs": [],
      "source": [
        "# 데이터 로드\n",
        "iris = load_iris()\n",
        "X, y = iris.data, iris.target\n",
        "\n",
        "# 학습 데이터와 테스트 데이터로 분리\n",
        "X_train, X_test, y_train, y_test = train_test_split(X, y, test_size=0.2, random_state=42)"
      ]
    },
    {
      "cell_type": "markdown",
      "id": "2d3517f9",
      "metadata": {
        "id": "2d3517f9"
      },
      "source": [
        "### 2-1. GBM 예제. 다음 코드를 완성해주세요. (5점)"
      ]
    },
    {
      "cell_type": "code",
      "execution_count": 11,
      "id": "7278cafa",
      "metadata": {
        "colab": {
          "base_uri": "https://localhost:8080/"
        },
        "id": "7278cafa",
        "outputId": "29e13af8-3b81-4c8b-93a5-f46e480cf984"
      },
      "outputs": [
        {
          "output_type": "stream",
          "name": "stdout",
          "text": [
            "GBM Accuracy: 1.0\n"
          ]
        }
      ],
      "source": [
        "from sklearn.ensemble import GradientBoostingClassifier\n",
        "\n",
        "gbm_model = GradientBoostingClassifier()\n",
        "gbm_model.fit(X_train, y_train)\n",
        "gbm_pred = gbm_model.predict(X_test)\n",
        "print(\"GBM Accuracy:\", accuracy_score(y_test, gbm_pred))"
      ]
    },
    {
      "cell_type": "markdown",
      "id": "334deddd",
      "metadata": {
        "id": "334deddd"
      },
      "source": [
        "### 2-2. XGB 예제. 다음 코드를 완성해주세요. (5점)"
      ]
    },
    {
      "cell_type": "markdown",
      "id": "3ba30d4a",
      "metadata": {
        "id": "3ba30d4a"
      },
      "source": [
        "##### XGBoost 설치하기\n",
        ": 아나콘다 Command 창을 연뒤에 ‘conda install -c anaconda py-xgboost’ 명령어 입력\n",
        "안되면 구글 코랩을 사용해주세요!"
      ]
    },
    {
      "cell_type": "code",
      "execution_count": 12,
      "id": "60b0e4fc",
      "metadata": {
        "colab": {
          "base_uri": "https://localhost:8080/"
        },
        "id": "60b0e4fc",
        "outputId": "479ae6d1-6d89-49d4-ec91-c0457ca08dbf"
      },
      "outputs": [
        {
          "output_type": "stream",
          "name": "stdout",
          "text": [
            "XGBoost Accuracy: 1.0\n"
          ]
        }
      ],
      "source": [
        "import xgboost as xgb\n",
        "xgb_model =  xgb.XGBClassifier()\n",
        "xgb_model.fit(X_train, y_train)\n",
        "xgb_pred = xgb_model.predict(X_test)\n",
        "print(\"XGBoost Accuracy:\", accuracy_score(y_test, xgb_pred))"
      ]
    },
    {
      "cell_type": "markdown",
      "id": "a85914c0",
      "metadata": {
        "id": "a85914c0"
      },
      "source": [
        "### 2-3. LGBM 예제. 다음 코드를 완성해주세요.(5점)"
      ]
    },
    {
      "cell_type": "code",
      "execution_count": 13,
      "id": "c7ab0312",
      "metadata": {
        "colab": {
          "base_uri": "https://localhost:8080/"
        },
        "id": "c7ab0312",
        "outputId": "bfc332b8-906d-4b01-9097-ffece337e4cb"
      },
      "outputs": [
        {
          "output_type": "stream",
          "name": "stdout",
          "text": [
            "[LightGBM] [Info] Auto-choosing col-wise multi-threading, the overhead of testing was 0.000158 seconds.\n",
            "You can set `force_col_wise=true` to remove the overhead.\n",
            "[LightGBM] [Info] Total Bins 91\n",
            "[LightGBM] [Info] Number of data points in the train set: 120, number of used features: 4\n",
            "[LightGBM] [Info] Start training from score -1.098612\n",
            "[LightGBM] [Info] Start training from score -1.073920\n",
            "[LightGBM] [Info] Start training from score -1.123930\n",
            "[LightGBM] [Warning] No further splits with positive gain, best gain: -inf\n",
            "[LightGBM] [Warning] No further splits with positive gain, best gain: -inf\n",
            "[LightGBM] [Warning] No further splits with positive gain, best gain: -inf\n",
            "[LightGBM] [Warning] No further splits with positive gain, best gain: -inf\n",
            "[LightGBM] [Warning] No further splits with positive gain, best gain: -inf\n",
            "[LightGBM] [Warning] No further splits with positive gain, best gain: -inf\n",
            "[LightGBM] [Warning] No further splits with positive gain, best gain: -inf\n",
            "[LightGBM] [Warning] No further splits with positive gain, best gain: -inf\n",
            "[LightGBM] [Warning] No further splits with positive gain, best gain: -inf\n",
            "[LightGBM] [Warning] No further splits with positive gain, best gain: -inf\n",
            "[LightGBM] [Warning] No further splits with positive gain, best gain: -inf\n",
            "[LightGBM] [Warning] No further splits with positive gain, best gain: -inf\n",
            "[LightGBM] [Warning] No further splits with positive gain, best gain: -inf\n",
            "[LightGBM] [Warning] No further splits with positive gain, best gain: -inf\n",
            "[LightGBM] [Warning] No further splits with positive gain, best gain: -inf\n",
            "[LightGBM] [Warning] No further splits with positive gain, best gain: -inf\n",
            "[LightGBM] [Warning] No further splits with positive gain, best gain: -inf\n",
            "[LightGBM] [Warning] No further splits with positive gain, best gain: -inf\n",
            "[LightGBM] [Warning] No further splits with positive gain, best gain: -inf\n",
            "[LightGBM] [Warning] No further splits with positive gain, best gain: -inf\n",
            "[LightGBM] [Warning] No further splits with positive gain, best gain: -inf\n",
            "[LightGBM] [Warning] No further splits with positive gain, best gain: -inf\n",
            "[LightGBM] [Warning] No further splits with positive gain, best gain: -inf\n",
            "[LightGBM] [Warning] No further splits with positive gain, best gain: -inf\n",
            "[LightGBM] [Warning] No further splits with positive gain, best gain: -inf\n",
            "[LightGBM] [Warning] No further splits with positive gain, best gain: -inf\n",
            "[LightGBM] [Warning] No further splits with positive gain, best gain: -inf\n",
            "[LightGBM] [Warning] No further splits with positive gain, best gain: -inf\n",
            "[LightGBM] [Warning] No further splits with positive gain, best gain: -inf\n",
            "[LightGBM] [Warning] No further splits with positive gain, best gain: -inf\n",
            "[LightGBM] [Warning] No further splits with positive gain, best gain: -inf\n",
            "[LightGBM] [Warning] No further splits with positive gain, best gain: -inf\n",
            "[LightGBM] [Warning] No further splits with positive gain, best gain: -inf\n",
            "[LightGBM] [Warning] No further splits with positive gain, best gain: -inf\n",
            "[LightGBM] [Warning] No further splits with positive gain, best gain: -inf\n",
            "[LightGBM] [Warning] No further splits with positive gain, best gain: -inf\n",
            "[LightGBM] [Warning] No further splits with positive gain, best gain: -inf\n",
            "[LightGBM] [Warning] No further splits with positive gain, best gain: -inf\n",
            "[LightGBM] [Warning] No further splits with positive gain, best gain: -inf\n",
            "[LightGBM] [Warning] No further splits with positive gain, best gain: -inf\n",
            "[LightGBM] [Warning] No further splits with positive gain, best gain: -inf\n",
            "[LightGBM] [Warning] No further splits with positive gain, best gain: -inf\n",
            "[LightGBM] [Warning] No further splits with positive gain, best gain: -inf\n",
            "[LightGBM] [Warning] No further splits with positive gain, best gain: -inf\n",
            "[LightGBM] [Warning] No further splits with positive gain, best gain: -inf\n",
            "[LightGBM] [Warning] No further splits with positive gain, best gain: -inf\n",
            "[LightGBM] [Warning] No further splits with positive gain, best gain: -inf\n",
            "[LightGBM] [Warning] No further splits with positive gain, best gain: -inf\n",
            "[LightGBM] [Warning] No further splits with positive gain, best gain: -inf\n",
            "[LightGBM] [Warning] No further splits with positive gain, best gain: -inf\n",
            "[LightGBM] [Warning] No further splits with positive gain, best gain: -inf\n",
            "[LightGBM] [Warning] No further splits with positive gain, best gain: -inf\n",
            "[LightGBM] [Warning] No further splits with positive gain, best gain: -inf\n",
            "[LightGBM] [Warning] No further splits with positive gain, best gain: -inf\n",
            "[LightGBM] [Warning] No further splits with positive gain, best gain: -inf\n",
            "[LightGBM] [Warning] No further splits with positive gain, best gain: -inf\n",
            "[LightGBM] [Warning] No further splits with positive gain, best gain: -inf\n",
            "[LightGBM] [Warning] No further splits with positive gain, best gain: -inf\n",
            "[LightGBM] [Warning] No further splits with positive gain, best gain: -inf\n",
            "[LightGBM] [Warning] No further splits with positive gain, best gain: -inf\n",
            "[LightGBM] [Warning] No further splits with positive gain, best gain: -inf\n",
            "[LightGBM] [Warning] No further splits with positive gain, best gain: -inf\n",
            "[LightGBM] [Warning] No further splits with positive gain, best gain: -inf\n",
            "[LightGBM] [Warning] No further splits with positive gain, best gain: -inf\n",
            "[LightGBM] [Warning] No further splits with positive gain, best gain: -inf\n",
            "[LightGBM] [Warning] No further splits with positive gain, best gain: -inf\n",
            "[LightGBM] [Warning] No further splits with positive gain, best gain: -inf\n",
            "[LightGBM] [Warning] No further splits with positive gain, best gain: -inf\n",
            "[LightGBM] [Warning] No further splits with positive gain, best gain: -inf\n",
            "[LightGBM] [Warning] No further splits with positive gain, best gain: -inf\n",
            "[LightGBM] [Warning] No further splits with positive gain, best gain: -inf\n",
            "[LightGBM] [Warning] No further splits with positive gain, best gain: -inf\n",
            "[LightGBM] [Warning] No further splits with positive gain, best gain: -inf\n",
            "[LightGBM] [Warning] No further splits with positive gain, best gain: -inf\n",
            "[LightGBM] [Warning] No further splits with positive gain, best gain: -inf\n",
            "[LightGBM] [Warning] No further splits with positive gain, best gain: -inf\n",
            "[LightGBM] [Warning] No further splits with positive gain, best gain: -inf\n",
            "[LightGBM] [Warning] No further splits with positive gain, best gain: -inf\n",
            "[LightGBM] [Warning] No further splits with positive gain, best gain: -inf\n",
            "[LightGBM] [Warning] No further splits with positive gain, best gain: -inf\n",
            "[LightGBM] [Warning] No further splits with positive gain, best gain: -inf\n",
            "[LightGBM] [Warning] No further splits with positive gain, best gain: -inf\n",
            "[LightGBM] [Warning] No further splits with positive gain, best gain: -inf\n",
            "[LightGBM] [Warning] No further splits with positive gain, best gain: -inf\n",
            "[LightGBM] [Warning] No further splits with positive gain, best gain: -inf\n",
            "[LightGBM] [Warning] No further splits with positive gain, best gain: -inf\n",
            "[LightGBM] [Warning] No further splits with positive gain, best gain: -inf\n",
            "[LightGBM] [Warning] No further splits with positive gain, best gain: -inf\n",
            "[LightGBM] [Warning] No further splits with positive gain, best gain: -inf\n",
            "[LightGBM] [Warning] No further splits with positive gain, best gain: -inf\n",
            "[LightGBM] [Warning] No further splits with positive gain, best gain: -inf\n",
            "[LightGBM] [Warning] No further splits with positive gain, best gain: -inf\n",
            "[LightGBM] [Warning] No further splits with positive gain, best gain: -inf\n",
            "[LightGBM] [Warning] No further splits with positive gain, best gain: -inf\n",
            "[LightGBM] [Warning] No further splits with positive gain, best gain: -inf\n",
            "[LightGBM] [Warning] No further splits with positive gain, best gain: -inf\n",
            "[LightGBM] [Warning] No further splits with positive gain, best gain: -inf\n",
            "[LightGBM] [Warning] No further splits with positive gain, best gain: -inf\n",
            "[LightGBM] [Warning] No further splits with positive gain, best gain: -inf\n",
            "[LightGBM] [Warning] No further splits with positive gain, best gain: -inf\n",
            "[LightGBM] [Warning] No further splits with positive gain, best gain: -inf\n",
            "[LightGBM] [Warning] No further splits with positive gain, best gain: -inf\n",
            "[LightGBM] [Warning] No further splits with positive gain, best gain: -inf\n",
            "[LightGBM] [Warning] No further splits with positive gain, best gain: -inf\n",
            "[LightGBM] [Warning] No further splits with positive gain, best gain: -inf\n",
            "[LightGBM] [Warning] No further splits with positive gain, best gain: -inf\n",
            "[LightGBM] [Warning] No further splits with positive gain, best gain: -inf\n",
            "[LightGBM] [Warning] No further splits with positive gain, best gain: -inf\n",
            "[LightGBM] [Warning] No further splits with positive gain, best gain: -inf\n",
            "[LightGBM] [Warning] No further splits with positive gain, best gain: -inf\n",
            "[LightGBM] [Warning] No further splits with positive gain, best gain: -inf\n",
            "[LightGBM] [Warning] No further splits with positive gain, best gain: -inf\n",
            "[LightGBM] [Warning] No further splits with positive gain, best gain: -inf\n",
            "[LightGBM] [Warning] No further splits with positive gain, best gain: -inf\n",
            "[LightGBM] [Warning] No further splits with positive gain, best gain: -inf\n",
            "[LightGBM] [Warning] No further splits with positive gain, best gain: -inf\n",
            "[LightGBM] [Warning] No further splits with positive gain, best gain: -inf\n",
            "[LightGBM] [Warning] No further splits with positive gain, best gain: -inf\n",
            "[LightGBM] [Warning] No further splits with positive gain, best gain: -inf\n",
            "[LightGBM] [Warning] No further splits with positive gain, best gain: -inf\n",
            "[LightGBM] [Warning] No further splits with positive gain, best gain: -inf\n",
            "[LightGBM] [Warning] No further splits with positive gain, best gain: -inf\n",
            "[LightGBM] [Warning] No further splits with positive gain, best gain: -inf\n",
            "[LightGBM] [Warning] No further splits with positive gain, best gain: -inf\n",
            "[LightGBM] [Warning] No further splits with positive gain, best gain: -inf\n",
            "[LightGBM] [Warning] No further splits with positive gain, best gain: -inf\n",
            "[LightGBM] [Warning] No further splits with positive gain, best gain: -inf\n",
            "[LightGBM] [Warning] No further splits with positive gain, best gain: -inf\n",
            "[LightGBM] [Warning] No further splits with positive gain, best gain: -inf\n",
            "[LightGBM] [Warning] No further splits with positive gain, best gain: -inf\n",
            "[LightGBM] [Warning] No further splits with positive gain, best gain: -inf\n",
            "[LightGBM] [Warning] No further splits with positive gain, best gain: -inf\n",
            "[LightGBM] [Warning] No further splits with positive gain, best gain: -inf\n",
            "[LightGBM] [Warning] No further splits with positive gain, best gain: -inf\n",
            "[LightGBM] [Warning] No further splits with positive gain, best gain: -inf\n",
            "[LightGBM] [Warning] No further splits with positive gain, best gain: -inf\n",
            "[LightGBM] [Warning] No further splits with positive gain, best gain: -inf\n",
            "[LightGBM] [Warning] No further splits with positive gain, best gain: -inf\n",
            "[LightGBM] [Warning] No further splits with positive gain, best gain: -inf\n",
            "[LightGBM] [Warning] No further splits with positive gain, best gain: -inf\n",
            "[LightGBM] [Warning] No further splits with positive gain, best gain: -inf\n",
            "[LightGBM] [Warning] No further splits with positive gain, best gain: -inf\n",
            "[LightGBM] [Warning] No further splits with positive gain, best gain: -inf\n",
            "[LightGBM] [Warning] No further splits with positive gain, best gain: -inf\n",
            "[LightGBM] [Warning] No further splits with positive gain, best gain: -inf\n",
            "[LightGBM] [Warning] No further splits with positive gain, best gain: -inf\n",
            "[LightGBM] [Warning] No further splits with positive gain, best gain: -inf\n",
            "[LightGBM] [Warning] No further splits with positive gain, best gain: -inf\n",
            "[LightGBM] [Warning] No further splits with positive gain, best gain: -inf\n",
            "[LightGBM] [Warning] No further splits with positive gain, best gain: -inf\n",
            "[LightGBM] [Warning] No further splits with positive gain, best gain: -inf\n",
            "[LightGBM] [Warning] No further splits with positive gain, best gain: -inf\n",
            "[LightGBM] [Warning] No further splits with positive gain, best gain: -inf\n",
            "[LightGBM] [Warning] No further splits with positive gain, best gain: -inf\n",
            "[LightGBM] [Warning] No further splits with positive gain, best gain: -inf\n",
            "[LightGBM] [Warning] No further splits with positive gain, best gain: -inf\n",
            "[LightGBM] [Warning] No further splits with positive gain, best gain: -inf\n",
            "[LightGBM] [Warning] No further splits with positive gain, best gain: -inf\n",
            "[LightGBM] [Warning] No further splits with positive gain, best gain: -inf\n",
            "[LightGBM] [Warning] No further splits with positive gain, best gain: -inf\n",
            "[LightGBM] [Warning] No further splits with positive gain, best gain: -inf\n",
            "[LightGBM] [Warning] No further splits with positive gain, best gain: -inf\n",
            "[LightGBM] [Warning] No further splits with positive gain, best gain: -inf\n",
            "[LightGBM] [Warning] No further splits with positive gain, best gain: -inf\n",
            "[LightGBM] [Warning] No further splits with positive gain, best gain: -inf\n",
            "[LightGBM] [Warning] No further splits with positive gain, best gain: -inf\n",
            "[LightGBM] [Warning] No further splits with positive gain, best gain: -inf\n",
            "[LightGBM] [Warning] No further splits with positive gain, best gain: -inf\n",
            "[LightGBM] [Warning] No further splits with positive gain, best gain: -inf\n",
            "[LightGBM] [Warning] No further splits with positive gain, best gain: -inf\n",
            "[LightGBM] [Warning] No further splits with positive gain, best gain: -inf\n",
            "[LightGBM] [Warning] No further splits with positive gain, best gain: -inf\n",
            "[LightGBM] [Warning] No further splits with positive gain, best gain: -inf\n",
            "[LightGBM] [Warning] No further splits with positive gain, best gain: -inf\n",
            "[LightGBM] [Warning] No further splits with positive gain, best gain: -inf\n",
            "[LightGBM] [Warning] No further splits with positive gain, best gain: -inf\n",
            "[LightGBM] [Warning] No further splits with positive gain, best gain: -inf\n",
            "[LightGBM] [Warning] No further splits with positive gain, best gain: -inf\n",
            "[LightGBM] [Warning] No further splits with positive gain, best gain: -inf\n",
            "[LightGBM] [Warning] No further splits with positive gain, best gain: -inf\n",
            "[LightGBM] [Warning] No further splits with positive gain, best gain: -inf\n",
            "[LightGBM] [Warning] No further splits with positive gain, best gain: -inf\n",
            "[LightGBM] [Warning] No further splits with positive gain, best gain: -inf\n",
            "[LightGBM] [Warning] No further splits with positive gain, best gain: -inf\n",
            "[LightGBM] [Warning] No further splits with positive gain, best gain: -inf\n",
            "[LightGBM] [Warning] No further splits with positive gain, best gain: -inf\n",
            "[LightGBM] [Warning] No further splits with positive gain, best gain: -inf\n",
            "[LightGBM] [Warning] No further splits with positive gain, best gain: -inf\n",
            "[LightGBM] [Warning] No further splits with positive gain, best gain: -inf\n",
            "[LightGBM] [Warning] No further splits with positive gain, best gain: -inf\n",
            "[LightGBM] [Warning] No further splits with positive gain, best gain: -inf\n",
            "[LightGBM] [Warning] No further splits with positive gain, best gain: -inf\n",
            "[LightGBM] [Warning] No further splits with positive gain, best gain: -inf\n",
            "[LightGBM] [Warning] No further splits with positive gain, best gain: -inf\n",
            "[LightGBM] [Warning] No further splits with positive gain, best gain: -inf\n",
            "[LightGBM] [Warning] No further splits with positive gain, best gain: -inf\n",
            "[LightGBM] [Warning] No further splits with positive gain, best gain: -inf\n",
            "[LightGBM] [Warning] No further splits with positive gain, best gain: -inf\n",
            "[LightGBM] [Warning] No further splits with positive gain, best gain: -inf\n",
            "[LightGBM] [Warning] No further splits with positive gain, best gain: -inf\n",
            "[LightGBM] [Warning] No further splits with positive gain, best gain: -inf\n",
            "[LightGBM] [Warning] No further splits with positive gain, best gain: -inf\n",
            "[LightGBM] [Warning] No further splits with positive gain, best gain: -inf\n",
            "[LightGBM] [Warning] No further splits with positive gain, best gain: -inf\n",
            "[LightGBM] [Warning] No further splits with positive gain, best gain: -inf\n",
            "[LightGBM] [Warning] No further splits with positive gain, best gain: -inf\n",
            "[LightGBM] [Warning] No further splits with positive gain, best gain: -inf\n",
            "[LightGBM] [Warning] No further splits with positive gain, best gain: -inf\n",
            "[LightGBM] [Warning] No further splits with positive gain, best gain: -inf\n",
            "[LightGBM] [Warning] No further splits with positive gain, best gain: -inf\n",
            "[LightGBM] [Warning] No further splits with positive gain, best gain: -inf\n",
            "[LightGBM] [Warning] No further splits with positive gain, best gain: -inf\n",
            "[LightGBM] [Warning] No further splits with positive gain, best gain: -inf\n",
            "[LightGBM] [Warning] No further splits with positive gain, best gain: -inf\n",
            "[LightGBM] [Warning] No further splits with positive gain, best gain: -inf\n",
            "[LightGBM] [Warning] No further splits with positive gain, best gain: -inf\n",
            "[LightGBM] [Warning] No further splits with positive gain, best gain: -inf\n",
            "[LightGBM] [Warning] No further splits with positive gain, best gain: -inf\n",
            "[LightGBM] [Warning] No further splits with positive gain, best gain: -inf\n",
            "[LightGBM] [Warning] No further splits with positive gain, best gain: -inf\n",
            "[LightGBM] [Warning] No further splits with positive gain, best gain: -inf\n",
            "[LightGBM] [Warning] No further splits with positive gain, best gain: -inf\n",
            "[LightGBM] [Warning] No further splits with positive gain, best gain: -inf\n",
            "[LightGBM] [Warning] No further splits with positive gain, best gain: -inf\n",
            "[LightGBM] [Warning] No further splits with positive gain, best gain: -inf\n",
            "[LightGBM] [Warning] No further splits with positive gain, best gain: -inf\n",
            "[LightGBM] [Warning] No further splits with positive gain, best gain: -inf\n",
            "[LightGBM] [Warning] No further splits with positive gain, best gain: -inf\n",
            "[LightGBM] [Warning] No further splits with positive gain, best gain: -inf\n",
            "[LightGBM] [Warning] No further splits with positive gain, best gain: -inf\n",
            "[LightGBM] [Warning] No further splits with positive gain, best gain: -inf\n",
            "[LightGBM] [Warning] No further splits with positive gain, best gain: -inf\n",
            "[LightGBM] [Warning] No further splits with positive gain, best gain: -inf\n",
            "[LightGBM] [Warning] No further splits with positive gain, best gain: -inf\n",
            "[LightGBM] [Warning] No further splits with positive gain, best gain: -inf\n",
            "[LightGBM] [Warning] No further splits with positive gain, best gain: -inf\n",
            "[LightGBM] [Warning] No further splits with positive gain, best gain: -inf\n",
            "[LightGBM] [Warning] No further splits with positive gain, best gain: -inf\n",
            "[LightGBM] [Warning] No further splits with positive gain, best gain: -inf\n",
            "[LightGBM] [Warning] No further splits with positive gain, best gain: -inf\n",
            "[LightGBM] [Warning] No further splits with positive gain, best gain: -inf\n",
            "[LightGBM] [Warning] No further splits with positive gain, best gain: -inf\n",
            "[LightGBM] [Warning] No further splits with positive gain, best gain: -inf\n",
            "[LightGBM] [Warning] No further splits with positive gain, best gain: -inf\n",
            "[LightGBM] [Warning] No further splits with positive gain, best gain: -inf\n",
            "[LightGBM] [Warning] No further splits with positive gain, best gain: -inf\n",
            "[LightGBM] [Warning] No further splits with positive gain, best gain: -inf\n",
            "[LightGBM] [Warning] No further splits with positive gain, best gain: -inf\n",
            "[LightGBM] [Warning] No further splits with positive gain, best gain: -inf\n",
            "[LightGBM] [Warning] No further splits with positive gain, best gain: -inf\n",
            "[LightGBM] [Warning] No further splits with positive gain, best gain: -inf\n",
            "[LightGBM] [Warning] No further splits with positive gain, best gain: -inf\n",
            "[LightGBM] [Warning] No further splits with positive gain, best gain: -inf\n",
            "[LightGBM] [Warning] No further splits with positive gain, best gain: -inf\n",
            "[LightGBM] [Warning] No further splits with positive gain, best gain: -inf\n",
            "[LightGBM] [Warning] No further splits with positive gain, best gain: -inf\n",
            "[LightGBM] [Warning] No further splits with positive gain, best gain: -inf\n",
            "[LightGBM] [Warning] No further splits with positive gain, best gain: -inf\n",
            "[LightGBM] [Warning] No further splits with positive gain, best gain: -inf\n",
            "[LightGBM] [Warning] No further splits with positive gain, best gain: -inf\n",
            "[LightGBM] [Warning] No further splits with positive gain, best gain: -inf\n",
            "[LightGBM] [Warning] No further splits with positive gain, best gain: -inf\n",
            "[LightGBM] [Warning] No further splits with positive gain, best gain: -inf\n",
            "[LightGBM] [Warning] No further splits with positive gain, best gain: -inf\n",
            "[LightGBM] [Warning] No further splits with positive gain, best gain: -inf\n",
            "[LightGBM] [Warning] No further splits with positive gain, best gain: -inf\n",
            "[LightGBM] [Warning] No further splits with positive gain, best gain: -inf\n",
            "[LightGBM] [Warning] No further splits with positive gain, best gain: -inf\n",
            "[LightGBM] [Warning] No further splits with positive gain, best gain: -inf\n",
            "[LightGBM] [Warning] No further splits with positive gain, best gain: -inf\n",
            "[LightGBM] [Warning] No further splits with positive gain, best gain: -inf\n",
            "[LightGBM] [Warning] No further splits with positive gain, best gain: -inf\n",
            "[LightGBM] [Warning] No further splits with positive gain, best gain: -inf\n",
            "[LightGBM] [Warning] No further splits with positive gain, best gain: -inf\n",
            "[LightGBM] [Warning] No further splits with positive gain, best gain: -inf\n",
            "[LightGBM] [Warning] No further splits with positive gain, best gain: -inf\n",
            "[LightGBM] [Warning] No further splits with positive gain, best gain: -inf\n",
            "[LightGBM] [Warning] No further splits with positive gain, best gain: -inf\n",
            "[LightGBM] [Warning] No further splits with positive gain, best gain: -inf\n",
            "[LightGBM] [Warning] No further splits with positive gain, best gain: -inf\n",
            "[LightGBM] [Warning] No further splits with positive gain, best gain: -inf\n",
            "[LightGBM] [Warning] No further splits with positive gain, best gain: -inf\n",
            "[LightGBM] [Warning] No further splits with positive gain, best gain: -inf\n",
            "[LightGBM] [Warning] No further splits with positive gain, best gain: -inf\n",
            "[LightGBM] [Warning] No further splits with positive gain, best gain: -inf\n",
            "[LightGBM] [Warning] No further splits with positive gain, best gain: -inf\n",
            "[LightGBM] [Warning] No further splits with positive gain, best gain: -inf\n",
            "[LightGBM] [Warning] No further splits with positive gain, best gain: -inf\n",
            "[LightGBM] [Warning] No further splits with positive gain, best gain: -inf\n",
            "[LightGBM] [Warning] No further splits with positive gain, best gain: -inf\n",
            "[LightGBM] [Warning] No further splits with positive gain, best gain: -inf\n",
            "[LightGBM] [Warning] No further splits with positive gain, best gain: -inf\n",
            "[LightGBM] [Warning] No further splits with positive gain, best gain: -inf\n",
            "[LightGBM] [Warning] No further splits with positive gain, best gain: -inf\n",
            "[LightGBM] [Warning] No further splits with positive gain, best gain: -inf\n",
            "[LightGBM] [Warning] No further splits with positive gain, best gain: -inf\n",
            "[LightGBM] [Warning] No further splits with positive gain, best gain: -inf\n",
            "[LightGBM] [Warning] No further splits with positive gain, best gain: -inf\n",
            "[LightGBM] [Warning] No further splits with positive gain, best gain: -inf\n",
            "[LightGBM] [Warning] No further splits with positive gain, best gain: -inf\n",
            "LightGBM Accuracy: 1.0\n"
          ]
        }
      ],
      "source": [
        "import lightgbm as lgb\n",
        "lgb_model =  lgb.LGBMClassifier()\n",
        "lgb_model.fit(X_train, y_train)\n",
        "lgb_pred = lgb_model.predict(X_test)\n",
        "print(\"LightGBM Accuracy:\", accuracy_score(y_test, lgb_pred))"
      ]
    },
    {
      "cell_type": "markdown",
      "id": "3461029f",
      "metadata": {
        "id": "3461029f"
      },
      "source": [
        "### 2-4. SVM 예제. 다음 코드를 완성해주세요. (5점)"
      ]
    },
    {
      "cell_type": "code",
      "execution_count": 14,
      "id": "0f5d7787",
      "metadata": {
        "colab": {
          "base_uri": "https://localhost:8080/"
        },
        "id": "0f5d7787",
        "outputId": "de76d423-192d-441f-ccef-addaa6c38909"
      },
      "outputs": [
        {
          "output_type": "stream",
          "name": "stdout",
          "text": [
            "SVM Accuracy: 1.0\n"
          ]
        }
      ],
      "source": [
        "from sklearn.svm import SVC\n",
        "svm_model = SVC()\n",
        "svm_model.fit(X_train, y_train)\n",
        "svm_pred = svm_model.predict(X_test)\n",
        "print(\"SVM Accuracy:\", accuracy_score(y_test, svm_pred))"
      ]
    },
    {
      "cell_type": "markdown",
      "id": "a4986736",
      "metadata": {
        "id": "a4986736"
      },
      "source": [
        "### 2-5. K-NN 예제. 다음 코드를 완성해주세요. (5점)"
      ]
    },
    {
      "cell_type": "code",
      "execution_count": 15,
      "id": "350eed7f",
      "metadata": {
        "colab": {
          "base_uri": "https://localhost:8080/"
        },
        "id": "350eed7f",
        "outputId": "f0d02558-1de6-4b99-be82-d8bb07629716"
      },
      "outputs": [
        {
          "output_type": "stream",
          "name": "stdout",
          "text": [
            "K-NN Accuracy: 1.0\n"
          ]
        }
      ],
      "source": [
        "from sklearn.neighbors import KNeighborsClassifier\n",
        "knn_model = KNeighborsClassifier()\n",
        "knn_model.fit(X_train, y_train)\n",
        "knn_pred = knn_model.predict(X_test)\n",
        "print(\"K-NN Accuracy:\", accuracy_score(y_test, knn_pred))"
      ]
    },
    {
      "cell_type": "markdown",
      "id": "ab67fc5e",
      "metadata": {
        "id": "ab67fc5e"
      },
      "source": [
        "---"
      ]
    },
    {
      "cell_type": "markdown",
      "id": "b17ada3f",
      "metadata": {
        "id": "b17ada3f"
      },
      "source": [
        "---"
      ]
    },
    {
      "cell_type": "markdown",
      "id": "38d0018f",
      "metadata": {
        "id": "38d0018f"
      },
      "source": [
        "> #### 1조"
      ]
    },
    {
      "cell_type": "markdown",
      "id": "904eadea",
      "metadata": {
        "id": "904eadea"
      },
      "source": [
        "## 1번 (24점)\n",
        "\n",
        "#### 문제 1-1. 과적합과 과소적합이 발생하는 원인을 각각 한 줄로 서술하시오. (3점)"
      ]
    },
    {
      "cell_type": "markdown",
      "id": "8769ac34",
      "metadata": {
        "id": "8769ac34"
      },
      "source": [
        "답:\n",
        "\n",
        "과적합: 모델이 학습 데이터에 너무 잘 맞추어져 있어 새로운 데이터에 대한 일반화 능력이 떨어지는 상황입니다.\n",
        "\n",
        "과소적합: 모델이 너무 단순하여 학습 데이터의 패턴을 충분히 학습하지 못하고, 새로운 데이터에 대해서도 예측 성능이 낮은 상황입니다."
      ]
    },
    {
      "cell_type": "markdown",
      "id": "a94ddaf3",
      "metadata": {
        "id": "a94ddaf3"
      },
      "source": [
        "#### 문제 1-2. 과적합을 대처하는 방법으로 옳지 않은 것을 고르시오. (3점)"
      ]
    },
    {
      "cell_type": "markdown",
      "id": "3d00257e",
      "metadata": {
        "id": "3d00257e"
      },
      "source": [
        "1. 데이터 양 늘리기\n",
        "\n",
        "2. Feature의 개수를 줄이기\n",
        "\n",
        "3. Parameter가 더 많은 복잡한 모델을 선택하기\n",
        "\n",
        "4. 훈련데이터의 잡음을 줄이기\n",
        "\n",
        "5. 정규화 기법 사용하기"
      ]
    },
    {
      "cell_type": "markdown",
      "id": "571e9959",
      "metadata": {
        "id": "571e9959"
      },
      "source": [
        "답: 3"
      ]
    },
    {
      "cell_type": "markdown",
      "id": "d7f04a2c-a46c-4b2e-a87b-17d77ed1bf5f",
      "metadata": {
        "id": "d7f04a2c-a46c-4b2e-a87b-17d77ed1bf5f"
      },
      "source": [
        "#### 문제 1-3. 정확도의 개념과 한계에 대해 적어주세요. (3점)"
      ]
    },
    {
      "cell_type": "markdown",
      "id": "65db4af4-7929-448b-82bb-a91004ff3bdd",
      "metadata": {
        "id": "65db4af4-7929-448b-82bb-a91004ff3bdd"
      },
      "source": [
        "정확도(accuracy)는 전체 데이터 중 모델이 올바르게 예측한 데이터의 비율을 의미\n",
        "<br>\n",
        "<br>\n",
        "한계: 정확도는 불균형한 데이터셋에서 모델의 성능을 과대평가하거나 과소평가할 수 있음."
      ]
    },
    {
      "cell_type": "markdown",
      "id": "4596ab6e-a11e-4ba3-8e9d-c54ea7c51de4",
      "metadata": {
        "id": "4596ab6e-a11e-4ba3-8e9d-c54ea7c51de4"
      },
      "source": [
        "- 오차 행렬은 다음과 같습니다.\n",
        "![image.png](attachment:7cf62483-a6ae-4800-99c7-7e47a01e9197.png)"
      ]
    },
    {
      "cell_type": "markdown",
      "id": "a62f2455-b80a-4393-b614-ea8e1fc513af",
      "metadata": {
        "id": "a62f2455-b80a-4393-b614-ea8e1fc513af"
      },
      "source": [
        "#### 문제 1-4. TP, FP, FN, TN에 대해 간략히 설명해주세요. (3점)"
      ]
    },
    {
      "cell_type": "markdown",
      "id": "ede6ce23-b3d9-404a-94a7-2f4f571395f1",
      "metadata": {
        "id": "ede6ce23-b3d9-404a-94a7-2f4f571395f1"
      },
      "source": [
        "TP (True Positive): 실제 양성을 양성으로 정확하게 예측한 경우의 수\n",
        "<br>\n",
        "FP (False Positive): 실제 음성을 양성으로 잘못 예측한 경우의 수 (1종 오류)\n",
        "<br>\n",
        "FN (False Negative): 실제 양성을 음성으로 잘못 예측한 경우의 수 (2종 오류)\n",
        "<br>\n",
        "TN (True Negative): 실제 음성을 음성으로 정확하게 예측한 경우의 수"
      ]
    },
    {
      "cell_type": "markdown",
      "id": "1a62630c-3840-4ccd-a40b-d1dbbc570d87",
      "metadata": {
        "id": "1a62630c-3840-4ccd-a40b-d1dbbc570d87"
      },
      "source": [
        "#### 문제 1-5. 위와 같은 오차 행렬에서 정확도, 정밀도, 재현율은 어떻게 정의될까요? (TN, FP, FN, TP를 사용하여 수식으로 표현해주세요. ) (3점)"
      ]
    },
    {
      "cell_type": "markdown",
      "id": "ec6abdf7-2729-4613-8a69-2329f172ab9d",
      "metadata": {
        "id": "ec6abdf7-2729-4613-8a69-2329f172ab9d"
      },
      "source": [
        "답 :\n",
        "1) 정확도 : (TP+TN)/(TP+TN+FP+FN)\n",
        "<br>\n",
        "2) 정밀도 : TP / (TP+FP)\n",
        "<br>\n",
        "3) 재현율 : TP / (TP+FN)"
      ]
    },
    {
      "cell_type": "markdown",
      "id": "ae758071",
      "metadata": {
        "id": "ae758071"
      },
      "source": [
        "#### 문제 1-6. 정밀도와 재현율을 결합하여 F1스코어의 수식을 적어주세요. (3점)"
      ]
    },
    {
      "cell_type": "markdown",
      "id": "1aa4a229",
      "metadata": {
        "id": "1aa4a229"
      },
      "source": [
        "답 : F1 = 2 x (정밀도+재현율) / 정밀도x 재현율\n",
        "​\n",
        ""
      ]
    },
    {
      "cell_type": "markdown",
      "id": "d1d29b40",
      "metadata": {
        "id": "d1d29b40"
      },
      "source": [
        "#### 문제 1-7. FPR과 TPR의 수식을 적고 각각이 의미하는 바를 설명해주세요. (3점)"
      ]
    },
    {
      "cell_type": "markdown",
      "id": "3057e204",
      "metadata": {
        "id": "3057e204"
      },
      "source": [
        "답 : FPR = FP/(FP+TN)"
      ]
    },
    {
      "cell_type": "markdown",
      "id": "33bf1a0b",
      "metadata": {
        "id": "33bf1a0b"
      },
      "source": [
        "답 : TPR = TP/(TP+FN)"
      ]
    },
    {
      "cell_type": "markdown",
      "id": "192b3384",
      "metadata": {
        "id": "192b3384"
      },
      "source": [
        "#### 문제 1-8. AUC 스코어를 ROC 곡선을 이용하여 설명해주세요. (3점)"
      ]
    },
    {
      "cell_type": "markdown",
      "id": "fa336c8f",
      "metadata": {
        "id": "fa336c8f"
      },
      "source": [
        "답 : AUC (Area Under the Curve) 스코어는 ROC (Receiver Operating Characteristic) 곡선 아래의 면적을 의미합니다. ROC 곡선은 다양한 분류 임계값에서의 TPR(재현율)과 FPR(거짓 양성 비율)을 플로팅한 것입니다. AUC 스코어는 0과 1 사이의 값을 가지며, 값이 클수록 모델의 성능이 더 좋다고 평가할 수 있습니다"
      ]
    },
    {
      "cell_type": "markdown",
      "id": "685b1748",
      "metadata": {
        "id": "685b1748"
      },
      "source": [
        "## 2번 (26점)"
      ]
    },
    {
      "cell_type": "markdown",
      "id": "4869d6ae",
      "metadata": {
        "id": "4869d6ae"
      },
      "source": [
        "(문제가 아닙니다. 코드를 실행하세요.)"
      ]
    },
    {
      "cell_type": "code",
      "execution_count": 16,
      "id": "ed40a2de",
      "metadata": {
        "id": "ed40a2de"
      },
      "outputs": [],
      "source": [
        "import pandas as pd\n",
        "import numpy as np\n",
        "import seaborn as sns\n",
        "from sklearn.linear_model import Ridge, Lasso\n",
        "from sklearn.preprocessing import StandardScaler\n",
        "from sklearn.metrics import mean_squared_error\n",
        "from sklearn.model_selection import train_test_split\n",
        "\n",
        "# seaborn을 통해 타이타닉 데이터셋 로드\n",
        "titanic = sns.load_dataset('titanic')\n",
        "\n",
        "# 데이터 전처리: 필요한 특성 선택 및 결측치 처리\n",
        "titanic = titanic[['survived', 'pclass', 'age', 'sibsp', 'parch', 'fare']].dropna()\n",
        "\n",
        "X = titanic.drop('survived', axis=1)\n",
        "y = titanic['survived']\n",
        "\n",
        "# 데이터 분할\n",
        "X_train, X_test, y_train, y_test = train_test_split(X, y, test_size=0.2, random_state=42)\n",
        "\n",
        "# 특성 스케일링\n",
        "scaler = StandardScaler()\n",
        "X_train_scaled = scaler.fit_transform(X_train)\n",
        "X_test_scaled = scaler.transform(X_test)\n"
      ]
    },
    {
      "cell_type": "markdown",
      "id": "a2dc06a0",
      "metadata": {
        "id": "a2dc06a0"
      },
      "source": [
        "#### 문제 2-1. 릿지 회귀를 이용하여 과적합을 방지하는 코드를 완성하시오. (4점)"
      ]
    },
    {
      "cell_type": "code",
      "execution_count": 19,
      "id": "b7d85b03",
      "metadata": {
        "colab": {
          "base_uri": "https://localhost:8080/"
        },
        "id": "b7d85b03",
        "outputId": "970cb341-d2e0-4503-c50c-613989ed4060"
      },
      "outputs": [
        {
          "output_type": "stream",
          "name": "stdout",
          "text": [
            "Ridge Regression MSE: 0.19864875882344685\n"
          ]
        }
      ],
      "source": [
        "# 릿지 회귀 모델\n",
        "ridge_model = Ridge(alpha=1.0)\n",
        "ridge_model.fit(X_train_scaled, y_train)\n",
        "ridge_pred = ridge_model.predict(X_test_scaled)\n",
        "ridge_mse = mean_squared_error(y_test, ridge_pred)\n",
        "print(f'Ridge Regression MSE: {ridge_mse}')"
      ]
    },
    {
      "cell_type": "markdown",
      "id": "3d0aa832",
      "metadata": {
        "id": "3d0aa832"
      },
      "source": [
        "올바른 출력값: Ridge Regression MSE: 0.19864875882344687"
      ]
    },
    {
      "cell_type": "markdown",
      "id": "6e9928c3",
      "metadata": {
        "id": "6e9928c3"
      },
      "source": [
        "#### 문제 2-2. 라쏘 회귀를 이용하여 과적합을 방지하는 코드를 완성하시오. (4점)"
      ]
    },
    {
      "cell_type": "code",
      "execution_count": 20,
      "id": "6c557f91",
      "metadata": {
        "colab": {
          "base_uri": "https://localhost:8080/"
        },
        "id": "6c557f91",
        "outputId": "389a82ec-f38b-4ec2-8574-2fb9fb96ab64"
      },
      "outputs": [
        {
          "output_type": "stream",
          "name": "stdout",
          "text": [
            "Lasso Regression MSE: 0.2138317931536248\n"
          ]
        }
      ],
      "source": [
        "# 라쏘 회귀 모델\n",
        "lasso_model = Lasso(alpha=0.1)\n",
        "lasso_model.fit(X_train_scaled, y_train)\n",
        "lasso_pred = lasso_model.predict(X_test_scaled)\n",
        "lasso_mse = mean_squared_error(y_test, lasso_pred)\n",
        "print(f'Lasso Regression MSE: {lasso_mse}')"
      ]
    },
    {
      "cell_type": "markdown",
      "id": "eaa1d7f2",
      "metadata": {
        "id": "eaa1d7f2"
      },
      "source": [
        "올바른 출력값: Lasso Regression MSE: 0.2138317931536248"
      ]
    },
    {
      "cell_type": "markdown",
      "id": "6007aea1-8f4e-458a-866e-c4efe5434fe0",
      "metadata": {
        "id": "6007aea1-8f4e-458a-866e-c4efe5434fe0"
      },
      "source": [
        "(문제가 아닙니다. 다음 코드를 실행하세요.)"
      ]
    },
    {
      "cell_type": "code",
      "execution_count": 17,
      "id": "5016d434",
      "metadata": {
        "id": "5016d434"
      },
      "outputs": [],
      "source": [
        "from sklearn.base import BaseEstimator\n",
        "import numpy as np\n",
        "\n",
        "class MyDummyClassifier(BaseEstimator):\n",
        "    # fit() 메서드는 아무것도 학습하지 않음.\n",
        "    def fit(self, X, y=None):\n",
        "        pass\n",
        "    # predict() 메서드는 단순히 Sex피처가 1이면 0, 그렇지 않으면 1로 예측함\n",
        "    def predict(self, X):\n",
        "        pred = np.zeros((X.shape[0],1)) # 0으로 구성된 다차원 array 생성\n",
        "        for i in range(X.shape[0]):\n",
        "            if X['Sex'].iloc[i] == 1 : # 위치기반 인덱싱\n",
        "                pred[i] = 0\n",
        "            else:\n",
        "                pred[i] = 1\n",
        "\n",
        "        return pred\n",
        "\n",
        "from sklearn.preprocessing import LabelEncoder\n",
        "# Null 처리 함수\n",
        "def fillna(df):\n",
        "    df['Age'].fillna(df['Age'].mean(), inplace=True)\n",
        "    df['Cabin'].fillna('N', inplace=True)\n",
        "    df['Embarked'].fillna('N', inplace=True)\n",
        "    df['Fare'].fillna(0, inplace=True)\n",
        "    return df\n",
        "# 머신러닝 알고리즘에 불필요한 피처 제거\n",
        "def drop_features(df):\n",
        "    df.drop(['PassengerId', 'Name', 'Ticket'], axis=1, inplace=True)\n",
        "    return df\n",
        "\n",
        "# 레이블 인코딩 수행\n",
        "def format_features(df):\n",
        "    df['Cabin'] = df['Cabin'].str[:1]\n",
        "    features = ['Cabin', 'Sex', 'Embarked']\n",
        "    for feature in features:\n",
        "        le = LabelEncoder()\n",
        "        le = le.fit(df[feature])\n",
        "        df[feature] = le.transform(df[feature])\n",
        "    return df\n",
        "# 앞에서 설정한 데이터 전처리 함수 호출\n",
        "def transform_features(df):\n",
        "    df = fillna(df)\n",
        "    df = drop_features(df)\n",
        "    df = format_features(df)\n",
        "    return df\n"
      ]
    },
    {
      "cell_type": "code",
      "execution_count": 21,
      "id": "305a770c",
      "metadata": {
        "id": "305a770c"
      },
      "outputs": [],
      "source": [
        "import pandas as pd\n",
        "from sklearn.model_selection import train_test_split\n",
        "from sklearn.metrics import accuracy_score\n",
        "\n",
        "# 타이타닉 데이터셋 로드\n",
        "titanic_df = pd.read_csv('/content/titanic_train.csv')\n",
        "\n",
        "y_titanic_df = titanic_df['Survived']\n",
        "X_titanic_df = titanic_df.drop('Survived', axis=1)\n",
        "\n",
        "X_titanic_df = transform_features(X_titanic_df)\n",
        "X_train,X_test, y_train, y_test = train_test_split(X_titanic_df, y_titanic_df,\n",
        "                                                   test_size=0.2, random_state=0)\n"
      ]
    },
    {
      "cell_type": "markdown",
      "id": "b8b885dc-49a0-4d59-985d-7f7a0c0884b4",
      "metadata": {
        "id": "b8b885dc-49a0-4d59-985d-7f7a0c0884b4"
      },
      "source": [
        "#### 문제 2-3. 코드의 '???' 부분을 채워서 실행해주세요. (5점)"
      ]
    },
    {
      "cell_type": "code",
      "execution_count": 23,
      "id": "b13b87e2",
      "metadata": {
        "colab": {
          "base_uri": "https://localhost:8080/"
        },
        "id": "b13b87e2",
        "outputId": "9dc0adb8-6c28-4150-fa2e-fc4ffc45faad"
      },
      "outputs": [
        {
          "output_type": "stream",
          "name": "stdout",
          "text": [
            "Dummy Classifier의 정확도는: 0.7877\n"
          ]
        }
      ],
      "source": [
        "#위에서 생성한 DummyClassifier를 이용해 학습/예측/평가 수행\n",
        "myclf = MyDummyClassifier()\n",
        "myclf.fit(X_train, y_train)\n",
        "\n",
        "mypredictions = myclf.predict(X_test)\n",
        "print('Dummy Classifier의 정확도는: {0:.4f}'.format(accuracy_score(y_test, mypredictions)))"
      ]
    },
    {
      "cell_type": "markdown",
      "id": "d5c6a887-97eb-4ced-9117-1d4eddee74ff",
      "metadata": {
        "id": "d5c6a887-97eb-4ced-9117-1d4eddee74ff"
      },
      "source": [
        "[output]\n",
        "![image.png](attachment:e36ed738-3ef1-4046-8095-3be0d9322e63.png)"
      ]
    },
    {
      "cell_type": "markdown",
      "id": "f71c93f3-b15d-4d51-8d01-d784b9c24e9a",
      "metadata": {
        "id": "f71c93f3-b15d-4d51-8d01-d784b9c24e9a"
      },
      "source": [
        "#### 문제 2-4. 코드의 '???' 부분을 채워서 실행해주세요. (5점)"
      ]
    },
    {
      "cell_type": "code",
      "execution_count": 24,
      "id": "80f3bfda",
      "metadata": {
        "id": "80f3bfda"
      },
      "outputs": [],
      "source": [
        "from sklearn.metrics import accuracy_score, precision_score, recall_score, confusion_matrix\n",
        "\n",
        "def get_clf_eval(y_test, pred):\n",
        "    confusion = confusion_matrix(y_test, pred)\n",
        "    accuracy = accuracy_score(y_test, pred)\n",
        "    precision = precision_score(y_test, pred)\n",
        "    recall = recall_score(y_test, pred)\n",
        "    print('오차 행렬')\n",
        "    print(confusion)\n",
        "    print('정확도: {0:.4f}, 정밀도: {1:.4f}, 재현율: {2:.4f}'.format(accuracy, precision, recall))"
      ]
    },
    {
      "cell_type": "code",
      "execution_count": 25,
      "id": "a1714b5a",
      "metadata": {
        "colab": {
          "base_uri": "https://localhost:8080/"
        },
        "id": "a1714b5a",
        "outputId": "35696c14-110e-4afb-c9d8-ade0197252bb"
      },
      "outputs": [
        {
          "output_type": "stream",
          "name": "stdout",
          "text": [
            "오차 행렬\n",
            "[[108  10]\n",
            " [ 14  47]]\n",
            "정확도: 0.8659, 정밀도: 0.8246, 재현율: 0.7705\n"
          ]
        }
      ],
      "source": [
        "import pandas as pd\n",
        "from sklearn.model_selection import train_test_split\n",
        "from sklearn.linear_model import LogisticRegression\n",
        "\n",
        "#원본 데이터를 재로딩, 데이터 가공, 학습 데이터/테스트 데이터 분할\n",
        "titanic_df = pd.read_csv('titanic_train.csv')\n",
        "y_titanic_df = titanic_df['Survived']\n",
        "X_titanic_df = titanic_df.drop('Survived', axis=1)\n",
        "x_titanic_df = transform_features(X_titanic_df)\n",
        "\n",
        "X_train,X_test,y_train,y_test = train_test_split(X_titanic_df, y_titanic_df,\n",
        "                                                test_size=0.2, random_state=11)\n",
        "\n",
        "Ir_clf = LogisticRegression(solver='liblinear')\n",
        "\n",
        "Ir_clf.fit(X_train,y_train)\n",
        "pred = Ir_clf.predict(X_test)\n",
        "get_clf_eval(y_test, pred)"
      ]
    },
    {
      "cell_type": "markdown",
      "id": "c2702b4b-42d7-4f3c-9b82-7937b0d5e439",
      "metadata": {
        "id": "c2702b4b-42d7-4f3c-9b82-7937b0d5e439"
      },
      "source": [
        "[output]\n",
        "![image.png](attachment:13482f4b-8f83-4628-952d-fa1727156eee.png)705"
      ]
    },
    {
      "cell_type": "markdown",
      "id": "203791a1",
      "metadata": {
        "id": "203791a1"
      },
      "source": [
        "#### 문제 2-5. F1 스코어를 구하기 위한 아래 코드의 '???' 부분을 채워서 실행해주세요. (4점)"
      ]
    },
    {
      "cell_type": "code",
      "execution_count": 26,
      "id": "666c3267",
      "metadata": {
        "colab": {
          "base_uri": "https://localhost:8080/"
        },
        "id": "666c3267",
        "outputId": "9ee850ac-0875-47c9-b504-f15f754990fe"
      },
      "outputs": [
        {
          "output_type": "stream",
          "name": "stdout",
          "text": [
            "F1 스코어: 0.796610\n"
          ]
        }
      ],
      "source": [
        "from sklearn.metrics import f1_score\n",
        "\n",
        "f1 = f1_score(y_test, pred)\n",
        "print('F1 스코어: {0:4f}'.format(f1))"
      ]
    },
    {
      "cell_type": "markdown",
      "id": "184fb0ae",
      "metadata": {
        "id": "184fb0ae"
      },
      "source": [
        "올바른 출력값)  F1 스코어: 0.796610"
      ]
    },
    {
      "cell_type": "markdown",
      "id": "fc6fcc65",
      "metadata": {
        "id": "fc6fcc65"
      },
      "source": [
        "#### 문제 2-6. AOC 스코어를 구하기 위한 아래 코드의 '???' 부분을 채워서 실행해주세요. (4점)"
      ]
    },
    {
      "cell_type": "code",
      "execution_count": 27,
      "id": "633b4c89",
      "metadata": {
        "colab": {
          "base_uri": "https://localhost:8080/"
        },
        "id": "633b4c89",
        "outputId": "e9fd06af-e145-4e2c-b468-75dd86d2347a"
      },
      "outputs": [
        {
          "output_type": "stream",
          "name": "stdout",
          "text": [
            "ROC AUC 값: 0.8987\n"
          ]
        }
      ],
      "source": [
        "from sklearn.linear_model import LogisticRegression\n",
        "from sklearn.metrics import roc_auc_score\n",
        "lr_clf = LogisticRegression(solver='liblinear')\n",
        "lr_clf.fit(X_train,y_train)\n",
        "pred_proba = lr_clf.predict_proba(X_test)[:, 1]\n",
        "roc_score = roc_auc_score(y_test, pred_proba)\n",
        "print('ROC AUC 값: {0:.4f}'.format(roc_score))"
      ]
    },
    {
      "cell_type": "markdown",
      "id": "e4279f8b",
      "metadata": {
        "id": "e4279f8b"
      },
      "source": [
        "올바른 출력값)  ROC AUC 값: 0.8987"
      ]
    },
    {
      "cell_type": "code",
      "source": [],
      "metadata": {
        "id": "cT8AAJf4XeCl"
      },
      "id": "cT8AAJf4XeCl",
      "execution_count": null,
      "outputs": []
    }
  ],
  "metadata": {
    "kernelspec": {
      "display_name": "Python 3 (ipykernel)",
      "language": "python",
      "name": "python3"
    },
    "language_info": {
      "codemirror_mode": {
        "name": "ipython",
        "version": 3
      },
      "file_extension": ".py",
      "mimetype": "text/x-python",
      "name": "python",
      "nbconvert_exporter": "python",
      "pygments_lexer": "ipython3",
      "version": "3.11.5"
    },
    "colab": {
      "provenance": []
    }
  },
  "nbformat": 4,
  "nbformat_minor": 5
}