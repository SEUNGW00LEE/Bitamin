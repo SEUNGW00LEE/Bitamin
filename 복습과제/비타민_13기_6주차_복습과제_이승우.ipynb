{
  "cells": [
    {
      "cell_type": "markdown",
      "id": "95ebce5f",
      "metadata": {
        "id": "95ebce5f"
      },
      "source": [
        "# 문제 1 _RNN_ (50점)\n",
        "(참고)\n",
        "- 딥러닝으로 걷는 시계열 예측\n",
        "- https://github.com/jeffheaton/app_deep_learning?tab=readme-ov-file#syllabus 강의의 Module 10: Time Series in PyTorch"
      ]
    },
    {
      "cell_type": "code",
      "execution_count": 41,
      "id": "eeaf191a",
      "metadata": {
        "ExecuteTime": {
          "end_time": "2024-02-13T21:41:36.267951Z",
          "start_time": "2024-02-13T21:41:31.330157Z"
        },
        "id": "eeaf191a"
      },
      "outputs": [],
      "source": [
        "import pandas as pd\n",
        "import numpy as np\n",
        "import copy\n",
        "\n",
        "# Visualization\n",
        "import matplotlib.pylab as plt\n",
        "from matplotlib import font_manager, rc\n",
        "import matplotlib\n",
        "import seaborn as sns\n",
        "%matplotlib inline\n",
        "\n",
        "# PyTorch\n",
        "import torch\n",
        "from torch.utils.data import Dataset, DataLoader, TensorDataset\n",
        "import torch.nn as nn\n",
        "import torch.nn.functional as F\n",
        "import torch.optim as optim\n",
        "from torch.autograd import Variable\n",
        "from torch.nn import Parameter\n",
        "from torch import Tensor\n",
        "from torch.utils.data import DataLoader\n",
        "from torch.optim.lr_scheduler import ReduceLROnPlateau"
      ]
    },
    {
      "cell_type": "markdown",
      "id": "182dd744",
      "metadata": {
        "id": "182dd744"
      },
      "source": [
        "#### 아래 코드를 실행해주세요. (파일 경로는 적절히 변경)"
      ]
    },
    {
      "cell_type": "code",
      "execution_count": 42,
      "id": "5e83a71d",
      "metadata": {
        "ExecuteTime": {
          "end_time": "2024-02-13T22:33:51.082381Z",
          "start_time": "2024-02-13T22:33:50.920088Z"
        },
        "id": "5e83a71d",
        "outputId": "fa308329-1d6a-4a28-8105-5825a289b421"
      },
      "outputs": [
        {
          "data": {
            "text/html": [
              "<div>\n",
              "<style scoped>\n",
              "    .dataframe tbody tr th:only-of-type {\n",
              "        vertical-align: middle;\n",
              "    }\n",
              "\n",
              "    .dataframe tbody tr th {\n",
              "        vertical-align: top;\n",
              "    }\n",
              "\n",
              "    .dataframe thead th {\n",
              "        text-align: right;\n",
              "    }\n",
              "</style>\n",
              "<table border=\"1\" class=\"dataframe\">\n",
              "  <thead>\n",
              "    <tr style=\"text-align: right;\">\n",
              "      <th></th>\n",
              "      <th>시가</th>\n",
              "      <th>고가</th>\n",
              "      <th>저가</th>\n",
              "      <th>종가</th>\n",
              "      <th>거래량</th>\n",
              "    </tr>\n",
              "    <tr>\n",
              "      <th>일자</th>\n",
              "      <th></th>\n",
              "      <th></th>\n",
              "      <th></th>\n",
              "      <th></th>\n",
              "      <th></th>\n",
              "    </tr>\n",
              "  </thead>\n",
              "  <tbody>\n",
              "    <tr>\n",
              "      <th>2020-01-31</th>\n",
              "      <td>57800</td>\n",
              "      <td>58400</td>\n",
              "      <td>56400</td>\n",
              "      <td>56400</td>\n",
              "      <td>19749457</td>\n",
              "    </tr>\n",
              "    <tr>\n",
              "      <th>2020-01-30</th>\n",
              "      <td>58800</td>\n",
              "      <td>58800</td>\n",
              "      <td>56800</td>\n",
              "      <td>57200</td>\n",
              "      <td>20821939</td>\n",
              "    </tr>\n",
              "    <tr>\n",
              "      <th>2020-01-29</th>\n",
              "      <td>59100</td>\n",
              "      <td>59700</td>\n",
              "      <td>58800</td>\n",
              "      <td>59100</td>\n",
              "      <td>16446102</td>\n",
              "    </tr>\n",
              "    <tr>\n",
              "      <th>2020-01-28</th>\n",
              "      <td>59400</td>\n",
              "      <td>59400</td>\n",
              "      <td>58300</td>\n",
              "      <td>58800</td>\n",
              "      <td>23664541</td>\n",
              "    </tr>\n",
              "    <tr>\n",
              "      <th>2020-01-23</th>\n",
              "      <td>61800</td>\n",
              "      <td>61800</td>\n",
              "      <td>60700</td>\n",
              "      <td>60800</td>\n",
              "      <td>14916555</td>\n",
              "    </tr>\n",
              "  </tbody>\n",
              "</table>\n",
              "</div>"
            ],
            "text/plain": [
              "               시가     고가     저가     종가       거래량\n",
              "일자                                              \n",
              "2020-01-31  57800  58400  56400  56400  19749457\n",
              "2020-01-30  58800  58800  56800  57200  20821939\n",
              "2020-01-29  59100  59700  58800  59100  16446102\n",
              "2020-01-28  59400  59400  58300  58800  23664541\n",
              "2020-01-23  61800  61800  60700  60800  14916555"
            ]
          },
          "execution_count": 42,
          "metadata": {},
          "output_type": "execute_result"
        }
      ],
      "source": [
        "samsung = pd.read_csv('/Users/seungwoo/Desktop/Bitamin/복습과제/dataset/samsung.csv',encoding='cp949',index_col=0)\n",
        "for i in range(len(samsung.index)):\n",
        "    for j in range(len(samsung.iloc[i])):\n",
        "        samsung.iloc[i,j] = int(samsung.iloc[i,j].replace(',',''))\n",
        "samsung.head(5)"
      ]
    },
    {
      "cell_type": "markdown",
      "id": "574992b2",
      "metadata": {
        "id": "574992b2"
      },
      "source": [
        "### 문제1-1) (6점)\n",
        "samsung 데이터셋을 time series 데이터에 맞게 변형하여라.\n",
        "- 시퀀스 길이 : sequence_size = 10\n",
        "- output_size : 예측할 sequence의 길이 = 1"
      ]
    },
    {
      "cell_type": "code",
      "execution_count": 43,
      "id": "9491e90d",
      "metadata": {
        "id": "9491e90d"
      },
      "outputs": [],
      "source": [
        "SEQUENCE_SIZE = 10\n",
        "def to_sequence(dataset, seq_size, output_size):\n",
        "    dataset = dataset.values\n",
        "    x,y = [],[]\n",
        "    for i in range(len(dataset)):\n",
        "        x_end_number = i + seq_size\n",
        "        y_end_number = x_end_number + output_size\n",
        "        if y_end_number > len(dataset):\n",
        "            break\n",
        "        tmp_x = dataset[i:x_end_number]\n",
        "        tmp_y = dataset[x_end_number:y_end_number]\n",
        "        x.append(tmp_x)\n",
        "        y.append(tmp_y)\n",
        "    return np.array(x), np.array(y)\n",
        "\n",
        "x,y = to_sequence(samsung, SEQUENCE_SIZE, 1)"
      ]
    },
    {
      "cell_type": "markdown",
      "id": "fbc899a7",
      "metadata": {
        "ExecuteTime": {
          "end_time": "2024-02-13T22:06:29.269287Z",
          "start_time": "2024-02-13T22:06:29.255982Z"
        },
        "id": "fbc899a7"
      },
      "source": [
        "x와 y의 shape을 확인해보세요"
      ]
    },
    {
      "cell_type": "code",
      "execution_count": 44,
      "id": "9ca8790f",
      "metadata": {
        "id": "9ca8790f",
        "outputId": "8c8d3fe6-0bf8-44f7-b43a-9df825e270eb"
      },
      "outputs": [
        {
          "name": "stdout",
          "output_type": "stream",
          "text": [
            "(416, 10, 5)\n",
            "(416, 1, 5)\n"
          ]
        }
      ],
      "source": [
        "print(x.shape, y.shape, sep='\\n')"
      ]
    },
    {
      "cell_type": "markdown",
      "id": "73f02ff1",
      "metadata": {
        "ExecuteTime": {
          "end_time": "2024-02-13T22:09:42.420296Z",
          "start_time": "2024-02-13T22:09:42.403266Z"
        },
        "id": "73f02ff1"
      },
      "source": [
        "### 문제1-2) (1점)\n",
        "train, test 데이터셋으로 분할하세요.\n",
        "- test_size = 0.2\n",
        "- random_state = 142"
      ]
    },
    {
      "cell_type": "code",
      "execution_count": 45,
      "id": "ca89a1b5",
      "metadata": {
        "id": "ca89a1b5"
      },
      "outputs": [],
      "source": [
        "from sklearn.model_selection import train_test_split\n",
        "x_train, x_test, y_train, y_test = train_test_split(x, y, test_size=0.2, random_state=142)"
      ]
    },
    {
      "cell_type": "markdown",
      "id": "8a8d9eab",
      "metadata": {
        "id": "8a8d9eab"
      },
      "source": [
        "### 문제1-3) (2점)\n",
        "전처리를 위해 x_train과 x_test 데이터셋을 잠시 2차원으로 변형하여 StandarScaler로 표준화 해주세요."
      ]
    },
    {
      "cell_type": "code",
      "execution_count": 46,
      "id": "6e0be67a",
      "metadata": {
        "id": "6e0be67a"
      },
      "outputs": [],
      "source": [
        "# Reshape\n",
        "x_train_2d = np.reshape(x_train, (x_train.shape[0], -1))\n",
        "x_test_2d = np.reshape(x_test, (x_test.shape[0], -1))\n",
        "\n",
        "# Preprocessing\n",
        "from sklearn.preprocessing import StandardScaler\n",
        "scaler = StandardScaler()\n",
        "x_train_scaled = scaler.fit_transform(x_train_2d)\n",
        "x_test_scaled = scaler.transform(x_test_2d)"
      ]
    },
    {
      "cell_type": "markdown",
      "id": "bfc91ffa",
      "metadata": {
        "id": "bfc91ffa"
      },
      "source": [
        "### 문제1-4) (1점)\n",
        "전처리가 완료된 데이터를 다시 time series 데이터에 맞게 3차원으로 변형하세요."
      ]
    },
    {
      "cell_type": "code",
      "execution_count": 47,
      "id": "7e4c7dc2",
      "metadata": {
        "id": "7e4c7dc2"
      },
      "outputs": [],
      "source": [
        "x_train = np.reshape(x_train_scaled, (x_train_scaled.shape[0], SEQUENCE_SIZE, -1))\n",
        "x_test = np.reshape(x_test_scaled, (x_test_scaled.shape[0], SEQUENCE_SIZE, -1))"
      ]
    },
    {
      "cell_type": "markdown",
      "id": "51029d72",
      "metadata": {
        "id": "51029d72"
      },
      "source": [
        "### 문제1-5) (10점)\n",
        "RNN 모델을 정의하세요.<br>\n",
        "RMSE 손실함수 클래스를 정의하세요."
      ]
    },
    {
      "cell_type": "code",
      "execution_count": 48,
      "id": "6c4fab26",
      "metadata": {
        "id": "6c4fab26"
      },
      "outputs": [],
      "source": [
        "class RNNModel(nn.Module):\n",
        "    def __init__(self,feature_size):\n",
        "        super(RNNModel,self).__init__()\n",
        "        self.rnn = nn.RNN(input_size=feature_size, hidden_size=64, batch_first=True)\n",
        "        self.dropout = nn.Dropout(0.2)\n",
        "        self.seq = nn.Sequential(nn.Linear(64,32),\n",
        "                                nn.ReLU(),\n",
        "                                nn.Linear(32,32),\n",
        "                                nn.ReLU(),\n",
        "                                nn.Linear(32,16),\n",
        "                                nn.ReLU(),\n",
        "                                nn.Linear(16,1)\n",
        "                                )\n",
        "\n",
        "    def forward(self,x):\n",
        "        x,_ = self.rnn(x)\n",
        "        x = self.dropout(x[:, -1, :])\n",
        "        x = self.seq(x)\n",
        "        return x\n",
        "\n",
        "class RMSELoss(nn.Module):\n",
        "    def __init__(self):\n",
        "        super(RMSELoss,self).__init__()\n",
        "        self.mse = nn.MSELoss()\n",
        "\n",
        "    def forward(self,pred,true):\n",
        "        mse = self.mse(pred, true)\n",
        "        return torch.sqrt(mse)\n",
        "\n",
        "model = RNNModel(feature_size=x_train.shape[-1])\n",
        "criterion = RMSELoss()"
      ]
    },
    {
      "cell_type": "code",
      "execution_count": 49,
      "id": "a421553b",
      "metadata": {
        "ExecuteTime": {
          "end_time": "2024-02-13T22:39:53.441768Z",
          "start_time": "2024-02-13T22:39:53.429967Z"
        },
        "id": "a421553b"
      },
      "outputs": [],
      "source": [
        "#(문제 아님)\n",
        "# optimizer 와 scheduler를 정의합니다. (코드 실행해주세요.)\n",
        "optimizer = optim.Adam(model.parameters(), lr=0.001)\n",
        "scheduler = ReduceLROnPlateau(optimizer, 'min', factor=0.1, patience=20,verbose=True)"
      ]
    },
    {
      "cell_type": "markdown",
      "id": "ce796346",
      "metadata": {
        "id": "ce796346"
      },
      "source": [
        "### 문제1-6) (5점)\n",
        "train-validation 셋을 준비하고,\n",
        "데이터셋을 tensor로 변환하고,\n",
        "DataLoader에 담으세요."
      ]
    },
    {
      "cell_type": "code",
      "execution_count": 50,
      "id": "77bf80ca",
      "metadata": {
        "id": "77bf80ca"
      },
      "outputs": [],
      "source": [
        "# split train dataset into train-validation (random_state=142,test_size=0.2)\n",
        "x_tr, x_val, y_tr, y_val = train_test_split(x_train, y_train, random_state=142, test_size=0.2)\n",
        "\n",
        "# to tensor\n",
        "\n",
        "# to tensor\n",
        "x_tr_tensor = torch.tensor(x_tr.astype(np.float32),dtype=torch.float32)\n",
        "x_val_tensor = torch.tensor(x_val.astype(np.float32),dtype=torch.float32)\n",
        "y_tr_tensor = torch.tensor(y_tr.astype(np.float32),dtype=torch.float32)\n",
        "y_val_tensor = torch.tensor(y_val.astype(np.float32),dtype=torch.float32)\n",
        "\n",
        "# to DataLoader\n",
        "batch_size = 30\n",
        "train_dataset = TensorDataset(x_tr_tensor, y_tr_tensor)\n",
        "val_dataset = TensorDataset(x_val_tensor, y_val_tensor)\n",
        "train_loader = DataLoader(train_dataset,\n",
        "                         batch_size=batch_size,shuffle=True)\n",
        "val_loader = DataLoader(val_dataset,\n",
        "                       batch_size=batch_size,shuffle=False)"
      ]
    },
    {
      "cell_type": "code",
      "execution_count": 51,
      "id": "f508d448",
      "metadata": {
        "ExecuteTime": {
          "end_time": "2024-02-13T22:39:59.846452Z",
          "start_time": "2024-02-13T22:39:59.835974Z"
        },
        "id": "f508d448"
      },
      "outputs": [],
      "source": [
        "#(문제 아님)\n",
        "import copy\n",
        "class EarlyStopping:\n",
        "    def __init__(self, patience=5, min_delta=0, restore_best_weights=True):\n",
        "        self.patience = patience\n",
        "        self.min_delta = min_delta\n",
        "        self.restore_best_weights = restore_best_weights\n",
        "        self.best_model = None\n",
        "        self.best_loss = None\n",
        "        self.counter = 0\n",
        "        self.status = \"\"\n",
        "\n",
        "    def __call__(self, model, val_loss):\n",
        "        if self.best_loss is None:\n",
        "            self.best_loss = val_loss\n",
        "            self.best_model = copy.deepcopy(model.state_dict())\n",
        "        elif self.best_loss - val_loss >= self.min_delta:\n",
        "            self.best_model = copy.deepcopy(model.state_dict())\n",
        "            self.best_loss = val_loss\n",
        "            self.counter = 0\n",
        "            self.status = f\"Improvement found, counter reset to {self.counter}\"\n",
        "        else:\n",
        "            self.counter += 1\n",
        "            self.status = f\"No improvement in the last {self.counter} epochs\"\n",
        "            if self.counter >= self.patience:\n",
        "                self.status = f\"Early stopping triggered after {self.counter} epochs.\"\n",
        "                if self.restore_best_weights:\n",
        "                    model.load_state_dict(self.best_model)\n",
        "                return True\n",
        "        return False"
      ]
    },
    {
      "cell_type": "markdown",
      "id": "af38a57c",
      "metadata": {
        "id": "af38a57c"
      },
      "source": [
        "\n",
        "### 문제1-7) (20점)\n",
        "모델을 훈련시키세요."
      ]
    },
    {
      "cell_type": "code",
      "execution_count": 52,
      "id": "8082a177",
      "metadata": {
        "id": "8082a177",
        "outputId": "2f30ef9a-1c3b-4779-f24e-9030ac8f20c5"
      },
      "outputs": [
        {
          "name": "stderr",
          "output_type": "stream",
          "text": [
            "/Library/Frameworks/Python.framework/Versions/3.11/lib/python3.11/site-packages/torch/nn/modules/loss.py:535: UserWarning: Using a target size (torch.Size([30, 1, 5])) that is different to the input size (torch.Size([30, 1])). This will likely lead to incorrect results due to broadcasting. Please ensure they have the same size.\n",
            "  return F.mse_loss(input, target, reduction=self.reduction)\n",
            "/Library/Frameworks/Python.framework/Versions/3.11/lib/python3.11/site-packages/torch/nn/modules/loss.py:535: UserWarning: Using a target size (torch.Size([25, 1, 5])) that is different to the input size (torch.Size([25, 1])). This will likely lead to incorrect results due to broadcasting. Please ensure they have the same size.\n",
            "  return F.mse_loss(input, target, reduction=self.reduction)\n",
            "/Library/Frameworks/Python.framework/Versions/3.11/lib/python3.11/site-packages/torch/nn/modules/loss.py:535: UserWarning: Using a target size (torch.Size([7, 1, 5])) that is different to the input size (torch.Size([7, 1])). This will likely lead to incorrect results due to broadcasting. Please ensure they have the same size.\n",
            "  return F.mse_loss(input, target, reduction=self.reduction)\n"
          ]
        },
        {
          "name": "stdout",
          "output_type": "stream",
          "text": [
            "Epoch 10/1000, Train Loss: 5277920.7778, Validation Loss: 5863188.8333\n",
            "Epoch 20/1000, Train Loss: 5276768.2778, Validation Loss: 5862594.1667\n",
            "Epoch 30/1000, Train Loss: 5271486.2222, Validation Loss: 5858354.8333\n",
            "Epoch 40/1000, Train Loss: 5254623.4444, Validation Loss: 5844133.3333\n",
            "Epoch 50/1000, Train Loss: 5242236.3333, Validation Loss: 5811896.0000\n",
            "Epoch 60/1000, Train Loss: 5164675.6111, Validation Loss: 5753377.3333\n",
            "Epoch 70/1000, Train Loss: 5094752.7222, Validation Loss: 5666116.5000\n",
            "Epoch 80/1000, Train Loss: 4993211.8333, Validation Loss: 5559754.6667\n",
            "Epoch 90/1000, Train Loss: 4892027.7222, Validation Loss: 5457921.3333\n",
            "Epoch 100/1000, Train Loss: 4807115.0556, Validation Loss: 5386822.8333\n",
            "Epoch 110/1000, Train Loss: 4789525.3333, Validation Loss: 5353357.5000\n",
            "Epoch 120/1000, Train Loss: 4793959.8333, Validation Loss: 5342042.5000\n",
            "Epoch 130/1000, Train Loss: 4785432.0000, Validation Loss: 5339042.6667\n",
            "Epoch 140/1000, Train Loss: 4782514.0556, Validation Loss: 5338250.8333\n",
            "Epoch 150/1000, Train Loss: 4782697.1667, Validation Loss: 5338115.6667\n",
            "Epoch 160/1000, Train Loss: 4789416.3889, Validation Loss: 5337975.5000\n",
            "Epoch 00167: reducing learning rate of group 0 to 1.0000e-04.\n",
            "Epoch 170/1000, Train Loss: 4766032.8056, Validation Loss: 5337976.1667\n",
            "Epoch 180/1000, Train Loss: 4793821.6111, Validation Loss: 5338010.5000\n",
            "Epoch 00188: reducing learning rate of group 0 to 1.0000e-05.\n",
            "Epoch 190/1000, Train Loss: 4756775.7778, Validation Loss: 5338008.3333\n"
          ]
        }
      ],
      "source": [
        "EPOCHS = 1000\n",
        "epoch_counter = 0\n",
        "patience = 50\n",
        "best_loss = float('inf')\n",
        "done = False\n",
        "es = EarlyStopping(patience=patience)\n",
        "tr_losses_for_plot, val_losses_for_plot = [],[]\n",
        "\n",
        "while not done and epoch_counter<EPOCHS:\n",
        "    epoch_counter+=1\n",
        "    \n",
        "    # train\n",
        "    model.train()\n",
        "    train_losses = []\n",
        "    for x_batch,y_batch in train_loader:\n",
        "        optimizer.zero_grad()\n",
        "        output = model(x_batch)\n",
        "        loss = criterion(output, y_batch)\n",
        "        loss.backward()\n",
        "        optimizer.step()\n",
        "        train_losses.append(loss.item())\n",
        "    train_loss = np.mean(train_losses)\n",
        "    tr_losses_for_plot.append(train_loss)\n",
        "    \n",
        "    # validation\n",
        "    model.eval()\n",
        "    val_losses = []\n",
        "    with torch.no_grad():\n",
        "        for x_batch, y_batch in val_loader:\n",
        "            output = model(x_batch)\n",
        "            loss = criterion(output, y_batch)\n",
        "            val_losses.append(loss.item())\n",
        "    val_loss = np.mean(val_losses)\n",
        "    val_losses_for_plot.append(val_loss)\n",
        "    scheduler.step(val_loss)\n",
        "    \n",
        "    if es(model, val_loss):\n",
        "        done = True\n",
        "    \n",
        "    # print each 10 epochs\n",
        "    if epoch_counter % 10 == 0:\n",
        "        print(f\"Epoch {epoch_counter}/{EPOCHS}, Train Loss: {train_loss:.4f}, Validation Loss: {val_loss:.4f}\")"
      ]
    },
    {
      "cell_type": "code",
      "execution_count": 53,
      "id": "c12d95a6",
      "metadata": {
        "ExecuteTime": {
          "end_time": "2024-02-13T22:42:06.028276Z",
          "start_time": "2024-02-13T22:42:05.880171Z"
        },
        "id": "c12d95a6",
        "outputId": "d51ffd9a-e024-4ce1-f3d6-4015632e8d4b"
      },
      "outputs": [
        {
          "data": {
            "image/png": "[encoded data removed]",
            "text/plain": [
              "<Figure size 640x480 with 1 Axes>"
            ]
          },
          "metadata": {},
          "output_type": "display_data"
        }
      ],
      "source": [
        "# (문제 아님)\n",
        "import matplotlib.pyplot as plt\n",
        "plt.plot(range(len(tr_losses_for_plot)),tr_losses_for_plot,color='blue',label='train_loss')\n",
        "plt.plot(range(len(val_losses_for_plot)),val_losses_for_plot,color='red',label='val_loss',alpha=0.6)\n",
        "plt.legend()\n",
        "plt.show()"
      ]
    },
    {
      "cell_type": "markdown",
      "id": "311a2df4",
      "metadata": {
        "id": "311a2df4"
      },
      "source": [
        "### 문제1-8) (5점)\n",
        "테스트 데이터셋으로 예측을 진행하고 최종 결과를 확인하세요.<br>\n",
        "아래 그래프처럼 나와야 합니다."
      ]
    },
    {
      "cell_type": "code",
      "execution_count": 54,
      "id": "1bd6269e",
      "metadata": {
        "id": "1bd6269e"
      },
      "outputs": [],
      "source": [
        "# evaluation\n",
        "model.eval()\n",
        "with torch.no_grad():\n",
        "    x_test_tensor = torch.tensor(x_test.astype(np.float32),dtype=torch.float32)\n",
        "    pred = model(x_test_tensor)"
      ]
    },
    {
      "cell_type": "code",
      "execution_count": 55,
      "id": "5f020539",
      "metadata": {
        "ExecuteTime": {
          "end_time": "2024-02-13T22:46:10.480796Z",
          "start_time": "2024-02-13T22:46:10.330381Z"
        },
        "id": "5f020539",
        "outputId": "3ed7fc5e-fb73-419c-ddfa-645890451783"
      },
      "outputs": [
        {
          "ename": "ValueError",
          "evalue": "x and y must have same first dimension, but have shapes (420,) and (84,)",
          "output_type": "error",
          "traceback": [
            "\u001b[0;31m---------------------------------------------------------------------------\u001b[0m",
            "\u001b[0;31mValueError\u001b[0m                                Traceback (most recent call last)",
            "\u001b[1;32m/Users/seungwoo/Downloads/비타민_6주차_복습과제_문제_(1).ipynb 셀 26\u001b[0m line \u001b[0;36m5\n\u001b[1;32m      <a href='vscode-notebook-cell:/Users/seungwoo/Downloads/%E1%84%87%E1%85%B5%E1%84%90%E1%85%A1%E1%84%86%E1%85%B5%E1%86%AB_6%E1%84%8C%E1%85%AE%E1%84%8E%E1%85%A1_%E1%84%87%E1%85%A9%E1%86%A8%E1%84%89%E1%85%B3%E1%86%B8%E1%84%80%E1%85%AA%E1%84%8C%E1%85%A6_%E1%84%86%E1%85%AE%E1%86%AB%E1%84%8C%E1%85%A6_%281%29.ipynb#X34sZmlsZQ%3D%3D?line=2'>3</a>\u001b[0m r \u001b[39m=\u001b[39m \u001b[39mlen\u001b[39m(np\u001b[39m.\u001b[39mreshape(y_test,(\u001b[39m-\u001b[39m\u001b[39m1\u001b[39m)))\n\u001b[1;32m      <a href='vscode-notebook-cell:/Users/seungwoo/Downloads/%E1%84%87%E1%85%B5%E1%84%90%E1%85%A1%E1%84%86%E1%85%B5%E1%86%AB_6%E1%84%8C%E1%85%AE%E1%84%8E%E1%85%A1_%E1%84%87%E1%85%A9%E1%86%A8%E1%84%89%E1%85%B3%E1%86%B8%E1%84%80%E1%85%AA%E1%84%8C%E1%85%A6_%E1%84%86%E1%85%AE%E1%86%AB%E1%84%8C%E1%85%A6_%281%29.ipynb#X34sZmlsZQ%3D%3D?line=3'>4</a>\u001b[0m plt\u001b[39m.\u001b[39mplot(\u001b[39mlist\u001b[39m(\u001b[39mrange\u001b[39m(r)),np\u001b[39m.\u001b[39mreshape(y_test,(\u001b[39m-\u001b[39m\u001b[39m1\u001b[39m)), color\u001b[39m=\u001b[39m\u001b[39m'\u001b[39m\u001b[39mblue\u001b[39m\u001b[39m'\u001b[39m, label\u001b[39m=\u001b[39m\u001b[39m'\u001b[39m\u001b[39mtrue value\u001b[39m\u001b[39m'\u001b[39m)\n\u001b[0;32m----> <a href='vscode-notebook-cell:/Users/seungwoo/Downloads/%E1%84%87%E1%85%B5%E1%84%90%E1%85%A1%E1%84%86%E1%85%B5%E1%86%AB_6%E1%84%8C%E1%85%AE%E1%84%8E%E1%85%A1_%E1%84%87%E1%85%A9%E1%86%A8%E1%84%89%E1%85%B3%E1%86%B8%E1%84%80%E1%85%AA%E1%84%8C%E1%85%A6_%E1%84%86%E1%85%AE%E1%86%AB%E1%84%8C%E1%85%A6_%281%29.ipynb#X34sZmlsZQ%3D%3D?line=4'>5</a>\u001b[0m plt\u001b[39m.\u001b[39;49mplot(\u001b[39mlist\u001b[39;49m(\u001b[39mrange\u001b[39;49m(r)),np\u001b[39m.\u001b[39;49mreshape(pred_np,(\u001b[39m-\u001b[39;49m\u001b[39m1\u001b[39;49m)), color\u001b[39m=\u001b[39;49m\u001b[39m'\u001b[39;49m\u001b[39mred\u001b[39;49m\u001b[39m'\u001b[39;49m,alpha\u001b[39m=\u001b[39;49m\u001b[39m0.6\u001b[39;49m, label\u001b[39m=\u001b[39;49m\u001b[39m'\u001b[39;49m\u001b[39mprediction\u001b[39;49m\u001b[39m'\u001b[39;49m)\n\u001b[1;32m      <a href='vscode-notebook-cell:/Users/seungwoo/Downloads/%E1%84%87%E1%85%B5%E1%84%90%E1%85%A1%E1%84%86%E1%85%B5%E1%86%AB_6%E1%84%8C%E1%85%AE%E1%84%8E%E1%85%A1_%E1%84%87%E1%85%A9%E1%86%A8%E1%84%89%E1%85%B3%E1%86%B8%E1%84%80%E1%85%AA%E1%84%8C%E1%85%A6_%E1%84%86%E1%85%AE%E1%86%AB%E1%84%8C%E1%85%A6_%281%29.ipynb#X34sZmlsZQ%3D%3D?line=5'>6</a>\u001b[0m plt\u001b[39m.\u001b[39mlegend()\n\u001b[1;32m      <a href='vscode-notebook-cell:/Users/seungwoo/Downloads/%E1%84%87%E1%85%B5%E1%84%90%E1%85%A1%E1%84%86%E1%85%B5%E1%86%AB_6%E1%84%8C%E1%85%AE%E1%84%8E%E1%85%A1_%E1%84%87%E1%85%A9%E1%86%A8%E1%84%89%E1%85%B3%E1%86%B8%E1%84%80%E1%85%AA%E1%84%8C%E1%85%A6_%E1%84%86%E1%85%AE%E1%86%AB%E1%84%8C%E1%85%A6_%281%29.ipynb#X34sZmlsZQ%3D%3D?line=6'>7</a>\u001b[0m plt\u001b[39m.\u001b[39mshow()\n",
            "File \u001b[0;32m/Library/Frameworks/Python.framework/Versions/3.11/lib/python3.11/site-packages/matplotlib/pyplot.py:2812\u001b[0m, in \u001b[0;36mplot\u001b[0;34m(scalex, scaley, data, *args, **kwargs)\u001b[0m\n\u001b[1;32m   2810\u001b[0m \u001b[39m@_copy_docstring_and_deprecators\u001b[39m(Axes\u001b[39m.\u001b[39mplot)\n\u001b[1;32m   2811\u001b[0m \u001b[39mdef\u001b[39;00m \u001b[39mplot\u001b[39m(\u001b[39m*\u001b[39margs, scalex\u001b[39m=\u001b[39m\u001b[39mTrue\u001b[39;00m, scaley\u001b[39m=\u001b[39m\u001b[39mTrue\u001b[39;00m, data\u001b[39m=\u001b[39m\u001b[39mNone\u001b[39;00m, \u001b[39m*\u001b[39m\u001b[39m*\u001b[39mkwargs):\n\u001b[0;32m-> 2812\u001b[0m     \u001b[39mreturn\u001b[39;00m gca()\u001b[39m.\u001b[39;49mplot(\n\u001b[1;32m   2813\u001b[0m         \u001b[39m*\u001b[39;49margs, scalex\u001b[39m=\u001b[39;49mscalex, scaley\u001b[39m=\u001b[39;49mscaley,\n\u001b[1;32m   2814\u001b[0m         \u001b[39m*\u001b[39;49m\u001b[39m*\u001b[39;49m({\u001b[39m\"\u001b[39;49m\u001b[39mdata\u001b[39;49m\u001b[39m\"\u001b[39;49m: data} \u001b[39mif\u001b[39;49;00m data \u001b[39mis\u001b[39;49;00m \u001b[39mnot\u001b[39;49;00m \u001b[39mNone\u001b[39;49;00m \u001b[39melse\u001b[39;49;00m {}), \u001b[39m*\u001b[39;49m\u001b[39m*\u001b[39;49mkwargs)\n",
            "File \u001b[0;32m/Library/Frameworks/Python.framework/Versions/3.11/lib/python3.11/site-packages/matplotlib/axes/_axes.py:1688\u001b[0m, in \u001b[0;36mAxes.plot\u001b[0;34m(self, scalex, scaley, data, *args, **kwargs)\u001b[0m\n\u001b[1;32m   1445\u001b[0m \u001b[39m\"\"\"\u001b[39;00m\n\u001b[1;32m   1446\u001b[0m \u001b[39mPlot y versus x as lines and/or markers.\u001b[39;00m\n\u001b[1;32m   1447\u001b[0m \n\u001b[0;32m   (...)\u001b[0m\n\u001b[1;32m   1685\u001b[0m \u001b[39m(``'green'``) or hex strings (``'#008000'``).\u001b[39;00m\n\u001b[1;32m   1686\u001b[0m \u001b[39m\"\"\"\u001b[39;00m\n\u001b[1;32m   1687\u001b[0m kwargs \u001b[39m=\u001b[39m cbook\u001b[39m.\u001b[39mnormalize_kwargs(kwargs, mlines\u001b[39m.\u001b[39mLine2D)\n\u001b[0;32m-> 1688\u001b[0m lines \u001b[39m=\u001b[39m [\u001b[39m*\u001b[39m\u001b[39mself\u001b[39m\u001b[39m.\u001b[39m_get_lines(\u001b[39m*\u001b[39margs, data\u001b[39m=\u001b[39mdata, \u001b[39m*\u001b[39m\u001b[39m*\u001b[39mkwargs)]\n\u001b[1;32m   1689\u001b[0m \u001b[39mfor\u001b[39;00m line \u001b[39min\u001b[39;00m lines:\n\u001b[1;32m   1690\u001b[0m     \u001b[39mself\u001b[39m\u001b[39m.\u001b[39madd_line(line)\n",
            "File \u001b[0;32m/Library/Frameworks/Python.framework/Versions/3.11/lib/python3.11/site-packages/matplotlib/axes/_base.py:311\u001b[0m, in \u001b[0;36m_process_plot_var_args.__call__\u001b[0;34m(self, data, *args, **kwargs)\u001b[0m\n\u001b[1;32m    309\u001b[0m     this \u001b[39m+\u001b[39m\u001b[39m=\u001b[39m args[\u001b[39m0\u001b[39m],\n\u001b[1;32m    310\u001b[0m     args \u001b[39m=\u001b[39m args[\u001b[39m1\u001b[39m:]\n\u001b[0;32m--> 311\u001b[0m \u001b[39myield from\u001b[39;00m \u001b[39mself\u001b[39;49m\u001b[39m.\u001b[39;49m_plot_args(\n\u001b[1;32m    312\u001b[0m     this, kwargs, ambiguous_fmt_datakey\u001b[39m=\u001b[39;49mambiguous_fmt_datakey)\n",
            "File \u001b[0;32m/Library/Frameworks/Python.framework/Versions/3.11/lib/python3.11/site-packages/matplotlib/axes/_base.py:504\u001b[0m, in \u001b[0;36m_process_plot_var_args._plot_args\u001b[0;34m(self, tup, kwargs, return_kwargs, ambiguous_fmt_datakey)\u001b[0m\n\u001b[1;32m    501\u001b[0m     \u001b[39mself\u001b[39m\u001b[39m.\u001b[39maxes\u001b[39m.\u001b[39myaxis\u001b[39m.\u001b[39mupdate_units(y)\n\u001b[1;32m    503\u001b[0m \u001b[39mif\u001b[39;00m x\u001b[39m.\u001b[39mshape[\u001b[39m0\u001b[39m] \u001b[39m!=\u001b[39m y\u001b[39m.\u001b[39mshape[\u001b[39m0\u001b[39m]:\n\u001b[0;32m--> 504\u001b[0m     \u001b[39mraise\u001b[39;00m \u001b[39mValueError\u001b[39;00m(\u001b[39mf\u001b[39m\u001b[39m\"\u001b[39m\u001b[39mx and y must have same first dimension, but \u001b[39m\u001b[39m\"\u001b[39m\n\u001b[1;32m    505\u001b[0m                      \u001b[39mf\u001b[39m\u001b[39m\"\u001b[39m\u001b[39mhave shapes \u001b[39m\u001b[39m{\u001b[39;00mx\u001b[39m.\u001b[39mshape\u001b[39m}\u001b[39;00m\u001b[39m and \u001b[39m\u001b[39m{\u001b[39;00my\u001b[39m.\u001b[39mshape\u001b[39m}\u001b[39;00m\u001b[39m\"\u001b[39m)\n\u001b[1;32m    506\u001b[0m \u001b[39mif\u001b[39;00m x\u001b[39m.\u001b[39mndim \u001b[39m>\u001b[39m \u001b[39m2\u001b[39m \u001b[39mor\u001b[39;00m y\u001b[39m.\u001b[39mndim \u001b[39m>\u001b[39m \u001b[39m2\u001b[39m:\n\u001b[1;32m    507\u001b[0m     \u001b[39mraise\u001b[39;00m \u001b[39mValueError\u001b[39;00m(\u001b[39mf\u001b[39m\u001b[39m\"\u001b[39m\u001b[39mx and y can be no greater than 2D, but have \u001b[39m\u001b[39m\"\u001b[39m\n\u001b[1;32m    508\u001b[0m                      \u001b[39mf\u001b[39m\u001b[39m\"\u001b[39m\u001b[39mshapes \u001b[39m\u001b[39m{\u001b[39;00mx\u001b[39m.\u001b[39mshape\u001b[39m}\u001b[39;00m\u001b[39m and \u001b[39m\u001b[39m{\u001b[39;00my\u001b[39m.\u001b[39mshape\u001b[39m}\u001b[39;00m\u001b[39m\"\u001b[39m)\n",
            "\u001b[0;31mValueError\u001b[0m: x and y must have same first dimension, but have shapes (420,) and (84,)"
          ]
        },
        {
          "data": {
            "image/png": "[encoded data removed]",
            "text/plain": [
              "<Figure size 640x480 with 1 Axes>"
            ]
          },
          "metadata": {},
          "output_type": "display_data"
        }
      ],
      "source": [
        "# (바로 실행하면 됩니다.)\n",
        "pred_np = pred.detach().numpy()\n",
        "r = len(np.reshape(y_test,(-1)))\n",
        "plt.plot(list(range(r)),np.reshape(y_test,(-1)), color='blue', label='true value')\n",
        "plt.plot(list(range(r)),np.reshape(pred_np,(-1)), color='red',alpha=0.6, label='prediction')\n",
        "plt.legend()\n",
        "plt.show()"
      ]
    },
    {
      "cell_type": "markdown",
      "id": "abb3b286",
      "metadata": {
        "id": "abb3b286"
      },
      "source": [
        "## 2. Transformer 구현하기(50점)\n",
        "\n",
        "아래 사진은 Transformer 모델의 전체적인 구조입니다.\n",
        "\n",
        "해당 복습과제는 가능한 COLAB에서 '런타임' -> '런타임 유형 변경' -> 'GPU'로 설정 후 해결해주세요."
      ]
    },
    {
      "cell_type": "markdown",
      "id": "67ae29ed",
      "metadata": {
        "id": "67ae29ed"
      },
      "source": [
        "![image1.png](data:image/png;base64,iVBORw0KGgoAAAANSUhEUgAAAdoAAALMCAIAAADM4eTjAAAgAElEQVR4AeydCVxM3f/Hb4s9PD97lqKkQpudSHZFlK2UnRAiQshSlkpZQ0qhLCnRon2fSaFFyRpp37XNksdDNfN/5fjfZ55qxmimujN953VfnnPP+j2fc86785x77rkYE36gACgACoACBFAAI4ANYAIoAAqAAqAAE3AMnQAUAAVAAUIoADgmRDOAEaAAKAAKAI6hD4ACoAAoQAgFAMeEaAYwAhQABUABwDH0AVAAFAAFCKEA4JgQzQBGgAKgACgAOIY+AAqAAqAAIRQAHBOiGcAIUAAUAAUAx9AHQAFQABQghAKAY0I0AxgBCoACoADgGPoAKAAKgAKEUABwTIhmACNAAVAAFAAcQx8ABUABUIAQCgCOCdEMYAQoAAqAAoBj6AOgACgAChBCAcAxIZoBjAAFQAFQAHAMfQAUAAVAAUIoADgmRDOAEaAAKAAKAI6hD4ACoAAoQAgFAMeEaAYwAhQABUABwDH0AVAAFAAFCKEA4JgQzQBGdCgFvn37FhwcfPbs2VOnTjk5OeXn5zMYjA6lAFS2WQUAx83KAp6gQKsowGAwwsPD+/Tpo6+vHxwcnJiYeOXKFUlJSW1t7W/fvnFZ5JkzZ6qqqriMzDnagwcPsrKyOMeB0DZTAHDcZlJDQaAA8+nTpwMGDPj8+TPrdLiuru7YsWPjxo2rq6vjRqOlS5eWlJRwE/O3caysrNLS0n4bDSK0jQKA47bRGUoBBZi1tbUDBgxITU1tqkV9fb26urq7u3vToKY+zeKYwWDQaDQqlVpfX980CTsfwDE7ZdrFH3DcLrJDoR1RgefPnysrK7POi1lVSEtLk5KSYjAYP378GD169I8fP1hDjxw58vTp09TUVE1Nze7duyspKWlqatLp9Ozs7LVr12ZnZy9YsODo0aM2NjZjx44NDg5GpTAYjPHjx1MoFNas7ty54+HhUVhYqKmp2a9fPzk5OU1NzcLCQtY44G4XBQDH7SI7FNoRFThy5Mi1a9fY1fzHjx9dunSh0Wjfv3/v16/f9+/fWWPu2rUrOjoa+bDOjjMzM+Xl5Xfs2FFbW4tCv3//PmXKlPj4eCaTWV9fP2zYsEYLzS4uLtevX0eRYXbMKnK7uwHH7d4EYEBHUcDY2DggIIBdbevr6yUlJUtLS/8Ux506daqsrGTN9uPHj6qqqgwGA3DMKgvx3YBj4rcRWCgkCmzbts3f359dZerr6wcNGlRWVvanOJaWlm60AFJfX9+9e/e///4bcMxObWL6A46J2S5glRAqYG1tbWdnx65iNTU1nTp1qqmp+VMcT5w4sWmegwYNKigoABw3VYbIPoBjIrcO2CZUCqSmpsrKyrLb+RAfH6+kpMRgMJrF8ebNm9mtHcvKyjaSicFgSEhIUCiUZnF8+fJlWDtupBhBbgHHBGkIMEP4Fairqxs5cmRERETTqtbW1o4aNQqtLNfW1vbp0+fvv//GozEYDGVlZXY47tKlC51OxyMzmcyKior+/fvX1dUxGAwZGZnS0lI8lMFg6OnpAY5xQQjlABwTqjnAGCFXICMjo2fPnjExMayrvXQ6XV9fX09PD/ccN27cixcvcC3evHnTu3dvHMfLly/PyMhAoZmZmb169Tpy5AielsFg7N+//9KlSyjCxo0bPT098azKysr+97//4Tg+ffp0s38e8PjgaEsFAMdtqTaUBQowP3z4MHLkSBUVlbNnz969e3f9+vW9evUyNzdnfSXv2bNnQ4cODQ0NLS4u9vHxsbS0vHLlCo5jR0fHqVOn3r179/v375mZmaqqqjdu3DAxMXn37t3nz5937typo6OD55aTk9O/f39vb+/CwsLIyMgtW7b4+vriOA4LC5OTk7tz5w6NRoO2aXcFAMft3gRgQIdToL6+/v3790FBQf7+/rGxsTU1NU0lKC0tDQ0NffLkycePHxkMxj///IO/GMJgMCgUSkVFRX19fWZm5qRJk5hMZnl5eWhoaEBAQKM3sJlMZnV1dUREREBAQHp6OoPBqK2txc/HQO/yVVRU4Phuagn4tJkCgOM2kxoKAgX4rwCOY/5nDTm2uQKA4zaXHAoEBfinAOCYf1q2f06A4/ZvA7AAFGixAhUVFU5OTi1ODgkJpQDgmFDNAcaAAqBAx1UAcNxx2x5qDgqAAoRSAHBMqOYAY0ABUKDjKgA47rhtDzUHBUABQikAOCZUc4AxRFcAnVpZ3+SHvxT3pxWor69vWVpkCYe0eM4oJpPJxB1NjWT8/DX1B5+2VABw3JZqQ1kCr0BdXV3fvn2x//4kJCQ2b9789evXFlTP1NQ0KiqqBQlra2v79u37zz//sEtraWmJDsEICgo6dOgQk8nMzs5WVlZG8evr62NiYvC0J0+efPToEX4LjnZRAHDcLrJDoYKqAMJxeXk5mk6if6urq7du3Tp+/PgWvNvWejh2d3d//vw5k8nEcVxSUmJiYoKk//79e/fu3fHJ9f37958+fSqorSIsdgOOhaUloR5togDCcdMTHtDh8R8/fvxTK1oPx7glOI5xHyaT2QjHrEHgbi8FAMftpTyUK5AKsMMxk8lcu3btkydPGAzGnTt36uvra2pqPD0937x5g75ZFxYWNm/evJkzZ2praz9//hyflpqamkZGRpaWlu7YsUNTU3P27Nne3t6sZyJ/+/btzJkzmpqaGhoac+fOTUhIQGnRYgWdTo+Li9PS0po1a5a+vv6HDx/wnJOSknJzc1lnx1Qq1cfHh8lkRkRE2NjYiIuLOzs7e3l5MRiMly9fZmdnoyZBt1paWqjEqKgoPM/6+noXF5eFCxeiirx48QIPEsjmJJjRgGOCNQiYQ2wF2OEYfekuIyOjrq5OUlIyKCho4MCBp06dysvLq6+v37x5s5WVFTq4h0aj6erq2traIpCZmpquW7du8eLF1dXV6DPSFy5cWLlyJQqtr68fP378o0eP0DIIjUabMWNGbGwsk8lEON6yZcvVq1fR6UJlZWWzZs3CD8zksHb89evX3Nzcrl27UigUdFYy69rxgwcPZsyYgb4/XVNTo6+v7+bmhp4EbtiwwdXVFT0kLCwslJGRSUtLI3aLCZJ1gGNBai2wtd0VQDiuqqpiXTum0WimpqYqKip1P38DBw6cMWMGfiT806dP58yZwzqL/PHjx7Bhw3JycphMpqmp6YABAxodNq+urv7s2TMmk5mTk6OiosKaNjExcevWrQjHEhISpqamrKFfvnzp378/+go1Bxw3XazAcfz169c+ffqwrsagPzBVVVV1dXWdOnXCD5ZjMplhYWHoIWG7t4twGAA4Fo52hFq0kQIIx//dWIH16NHDyMgInZNZV1c3YMCA+Ph43KDFixcnJibit8jh7Ozs4OCAcHz48OFGoWFhYebm5miVA7EVRUArIVOmTEHnZEpISOArDHgOkydP/vTpE5PJbBmOQ0JCjI2N8dyQA8G6vr5+xIgRN2/ebMETy0YZwm2zCgCOm5UFPEGB5hVAOC4qKqpl+aHPIKEEdXV1gwYNwqfGTCZz8ODBX758aZTd69evNTQ0EI7DwsIahebn56uqqqJp7z///BMREWFlZbV8+fJx48ZJSkriOO7Tpw9+cjGew+nTp729vVuMY3d39xkzZtz972/BggXnz59nMpmZmZljxowZNGjQ2rVrAwICqqqq8HLBwbsCgGPeNYQcOpAC7NaOcQkQjllPlB88eHBZWRkeATnS09NxHIeGhjYKzc/PHz9+PIPByM/P79u3r4mJybNnz6qqqn78+JGRkYHj+H//+x/rKgfK5NSpU+h5Xctmx+7u7paWlpVNfnhBDAaDSqXGx8ebmZl17949KCiokfFw22IFAMctlg4SdkQFWoBjPT09tBDMqtfVq1cvXLiAZscHDhxgDUJ7Ifbu3ctkMg8dOnT9+nXW1eGUlBQcxxISEpmZmY3Sjh8/Hu23axmOQ0JCzMzMGuX59efvn3/+YV1TZjKZ79+/79u3L+s+kEYJ4faPFAAc/5FcELmjK9ACHCckJKirq7Mi9fv375KSkgUFBQjH/fv3Z51NMxiMCRMmJCcnM5lMMzMz9CoH0p3BYGzfvh3Hcc+ePY2NjVlzLikpkZSURE/bfovjrl274mnxR3k0Gq1///6sbxgyGIxp06a9f/8+Pz9fVlYWT8JkMv/555+ePXvCUjK/RgXgmF9KQj4dQoEW4JjBYJiYmJibmyPmVlZWzps378KFC4hrpj9/GhoaZWVl6Jt41tbWhoaGKDQiIkJJSam6uprJZNJoNFtbW0tLS0lJyaysrNraWklJye3bt9vZ2aHHfQUFBZMnT0bb4H67dlxbW/vXX3/FxcWh9V8cxwwG48aNG9OmTauoqGAymd++fbOyslq3bh0670JdXf3UqVPozWwqlbp///7Tp0+zArpDdIJWqyTguNWkhYyFUQEGg/H48WPWzV6NaslgMPz8/Gpra1n9GQxGfHy8np6epqbm6tWrU1NTcYS9fPmyoqKivLz8wIEDmpqaOjo6oaGheCiDwQgNDdXR0dHU1NyyZUtOTg6DwQgODiaRSPX19f7+/nV1dYmJibq6upqamlu3bkXvfaCi09PTCwsLmUxmUVHRq1evmEwmnU5nXafOz8/38vIKDg5mMBhv377Nz89HCRkMxqtXr/T19TU1NZcsWYLeakFBtbW1Hh4eixcv1tTU1NfXx99JYa0suFusAOC4xdJBQlAAFAAF+KkA4JifakJeoAAoAAq0WAHAcYulg4SgACgACvBTAcAxP9WEvECBtlGgvr6+BafHtY1tUEqLFQAct1g6SAgKtJsCaWlpy5Ytw5/4tZsdUDBfFQAc81VOyAwUaBMFDAwMxMTEKisr26Q0KKSNFAAct5HQUAwowC8FKBSKuLg4hmFnz57lV56QDxEUABwToRXABlDgDxS4du0aOlJu0KBB8EbcHwhH+KiAY8I3ERgICrAoUFdXJyUlhZ/wCR+4Y9FG4J2AY4FvQqhAh1IgPj4eZzGGYY0Otu9QUghfZQHHwtemUCNhVmDOnDk9evQQFRXFMExCQkJERKTp6Z3CXH+hrhvgWKibFyonXAqUl5dbWFiUlJR06dIFwzAPD4/Y2Fj0VRHhqmgHrQ3guIM2PFRbEBVAJwv/+PED4djPzw99wEkQ6wI2N1UAcNxUE/ABBQitQCMcE9pWMO5PFAAc/4laEBcUIIACgGMCNEKrmAA4bhVZIVNQoPUUABy3nrbtmzPguH31h9JBgT9WAHD8x5IJSALAsYA0FJgJCvy/AoDj/1dC2P4LOBa2FoX6CL0CgGNhbWLAsbC2LNRLaBUAHAtr0wKOhbVloV5CqwDgWFibFnAsrC0L9RJaBQDHwtq0gGNhbVmoF38UoNFo9+7dMzAw0CXMb+HChWJiYhiGKSgoEMaoBkNsbGxev34N3yhpcc8DHLdYOkgo5AowGIywsLBu3bqxnqAG7t8qoK+vX1tbK+Sdo3WqBzhuHV0hV8FXICsrq1OnThiGiYqK9unXV360AlwcFJAaIY1O0sAwbMOGDTBHbsEIABy3QDRI0iEUWLp0KYZhnTp3tnE6m1iQklKSBhdnBQITQ5THqWAYJiIiUlVV1SF6CV8rCTjmq5yQmbAoUFdXJyEhgWHYvMXzk4tTOWMIQnEFXB65odWM6OhoYekLbVcPwHHbaQ0lCZACtbW13bt3xzBsk+kWnDW8O4KSQo6ft9p5xNTO2T40LYLLDKPexnhGeb8QhBl6eFoUesz45MkTAWpugpgKOCZIQ4AZxFKA7zhOLk49ceHkGJWxpkf2WDoc22i6edhwqZOOZ3479fYIvjdKUV5TaxbpY7zjvas3Ht/kEuLtEg1wzEs/Bhzzoh6kFVoF+I7joOSw4TIjot7G4pT0S3gyUHKQD8kX92nWscl084kLJ1GQ6eE9lmePNRuNIJ6AY16GBOCYF/UgrdAqwHccO3m5zF30n2Xo5OLU7eY77FwcEEmTi1NjP8RdvHP5dqDH87yklJK05OLUxMKUJQZLT1+xTSxMSSxM2WlhetjWMrEgJbk4NanoZVLRy2e5ia6+N938b6MkT7OeOz10cQ+6w/rs8UVBskfIvQsel/yfBaLJeEPawpc4wRsK+pkn7tNiB+CYlyEBOOZFPUgrtArwHcdeUT6Dhw4OTglrlnTJRan7ThwYqSC3csOqRSt0FMYqegTffZ6XNEl9skRPiX4D+k2aPnmapvpfff7q06+PlIx0Qs6LY+esNplu0ZiruXLDqjmL5o1RGevi4zpznuZqY8OZ8zUnTJ0Y9zkhpSQtMDFEbeK4RSt0DLasVpmgunK9flLRS1ffWzJyspFvY5AxNk52E9UnP/38rFnb/sgTcMzLkAAc86IepBVaBfiO46TCl1v2bO3bv6/WMu3j563wiSqC3dX7TqoT1GI/xKFbN7/bsqNGkj4+TSlJ0zXUs3E6i/xZFyuOnbMaKS8Xnh7dMI8uSl2wdOFYVSXyp/iUkrSkopezteZe8nBMKUlbqq9ne90eJX+WmzhaabRfwpPk4lSzY/vmLJqXVPTSL/6JjJys37MnKA6P/wKOeRkSgGNe1IO0QqsA33GMFh9CUyOO2h/X0tOWHDpYaoT0UfvjL/KTU0rSNOZpXvW8jqMwuTh1if7SM9dsOeN4zda1eBKzo/s27f53E8jWfSb7rMyTi1Id3M7HfWqYJqeUpCUWpoyfMsH50Y0Gd0HKgqVa28xNxk+ZcPEnuPGseHEAjnkZEoBjXtSDtEKrQGvgmBVzz/OS3Pxuj5SX22998EV+8uBhQ6LfklgjHLU/vt18B2cc7z1ujifZe9z8kM0R/Hab+Y49x8xSStKe5yVduH15ncl6/Q2rV603kBoxHOE4pSQt6m1sn7599Deu/u3uDjzb3zoAx7wMCcAxL+pBWqFVgO84NrHY6R50txHOXHxcx6oqJRamSMtIh6VFsYbutz6486ApZxzvO7EfT9Isjp/nJs2cP8v0yJ6wtCj0sE5jriaOY+vLp1UnqCqMHR3xumHFgy8X4JiXIQE45kU9SCu0CvAdx4ZbjDbtNm6EvKue18dPnfBzhVf3xAVrPDSp6OWMuRqX717lEce+8QFjxyklFf3aRJFYkKKoNAbh2DPSW05hVPirqP3WB2fOn4XWTHADWuwAHPMyJADHvKgHaYVWAb7j+FGcn+SQwXbODk8/P0Mby7yifUaNlrdxskspSfOK9pEZKXsvzDOp6OXzvKQDpyzGTR7/LDexEY7NrQ6s3mQYmhaRXJx67JzVb2fHYa8iJYcMfhznl1ycGpeZYHpot/QIaYeb52Mzno5VVbr2wLlhw1zhy3k6C3YcNOXLkgXgmJchATjmRT1IK7QK8B3HKSVp9yO8fu5IU5IbPUpRafRE9Um218/iU1dX35sTpk0aqSg3RmXsouU6+AKCqeVuJ28XNF0NSg6du3ie6iTVhNwXFz0cba//2nGRUpJm42Tn4HYBn9Uev2B92snmJ7VPjFKUlxs9asLUicfPW110d5w2e/qOg7vMjpvj/I1+Fztbe47/s0A8eYsdgGNehgTgmBf1IK3QKlBbW9ujRw8Mw1ZtNGgxm5omTC5OfZabSM6Mf/r5GQ5iPFpS4UtyZnx89nMclHgQL45neQ0lovdE0AYPXnLjnNYv/omIiAiGYUFBQULbOVqtYoDjVpMWMhZkBRgMxqhRozAMkxwyOOLn3l7OGIJQtP15w86N6ES3jIwMQW7/9rEdcNw+ukOpxFfg5s2biCzDhktt22eyx9IMLs4KzFo4W1RUFMMwaWnp+vp64jcx0SwEHBOtRcAeoihQX19vZGT0228RQYRGCvTo0SMzM5MorShQdgCOBaq5wNi2VaC+vt7Z2XnIkCFdiPfr3Lkz0Yzq3r37qlWrysvL27aVhKc0wLHwtCXUpJUUYDAY//zzzzci/SorKz09PYlkUYMtP378aKUm6CDZAo47SENDNYVKgadPn2pqasLnQYWqUZlMwLGQNShUR/gVYDAYc+fOxTCssLBQ+GvbkWoIOO5IrQ11FQoFioqK0PfoDh06JBQVgkr8UgBwDF0BFBAwBU6cOIE2M0hISHz79k3ArAdz2SsAOGavDYSAAsRT4Pv3771798b3lj1+/Jh4NoJFLVQAcNxC4SAZKNAuCoSEhOAsxjBMVVUVHui1S0O0RqGA49ZQFfIEBVpFAQaDoaamNnToULR2PHjwYFFR0c+fP7dKYZBpmysAOG5zyaFAUKClCpSWlvr6+tbU1HTp0gXDMB8fn/z8/Fu3brU0P0hHLAUAx8RqD7AGFOCgAFqX+PHjB8Kxn58fk8mExQoOiglWEOBYsNoLrAUFmI1wDIoIjQKAY6FpSqhIR1EAcCysLQ04FtaWhXoJrQKAY2FtWsCxsLYs1EtoFQAcC2vTAo6FtWWhXkKrAOBYWJsWcCysLQv1EloFAMfC2rSAY2FtWaiX0CoAOBbWpgUcC2vLQr2EVgHAsbA2LeBYWFsW6sU3Berq6igUSjVhfnl5eb179+7WrZujoyNhjGow5Nu3b/BOCi/dDnDMi3qQVsgVqK2tPXXqlISEBOupPeBmp4CoqKimpmZ+fr6Qd4tWqx7guNWkhYwFXIG6ujptbW126AF/dgpISEjAqUYt6/uA45bpBqmEXwFXV1dEHAXFMUeOnrZzuAoXBwVs7C4vX7FaTEwcw7CBAwfW1dUJfxfhdw0Bx/xWFPITCgUYDIaMjAyGYVJSw5PTsjNzquH6rQIfsyp37j6A/oa9e/dOKDpCm1YCcNymckNhgqJAbW1t9+7dMQzbsGnbbzEEEXAFYsipoqKiGIYFBQUJSlsTx07AMXHaAiwhkAI4jrfvMMNZ0xqOTcY7rznfaZrzhk3bn4TENfUnuE/Ci/foaPwnT54QqDkFxBTAsYA0FJjZtgq0GY6X6K48e+5aU8geOHQiPCqxqT/BfQDHvPRTwDEv6kFaoVWg3XFMcOyyMw9wzMuQABzzoh6kFVoF2h3H23eYBYXGZ+ZUG28z9XsSo7tMf5jU8FGjFC0OW2d8Lkc09PIJnTlrnpT0iLFKKoctTyH/95/Kjhw9rawybpjUcGUVNYcLzp+yqzJzqvfsPeTkcm+X6YHRY5R8fCPY8ZRHf8AxL0MCcMyLepBWaBVodxwv0tF75BeZmVOtpKS6SEcvNOJ5Zk710+fv5BVG3/Z4lJlTHRGdNEpe8ZFf5MesysSXmStWGVkcts7MqT5je2mp7srU13mZOdXRpNRR8oqRscmZOdW7dh/QmDnH6qTDm/fFPDKXQ3LAMS9DAnDMi3qQVmgVIA6Ox4xVvunugxPQ/MCxXbsPZOZUr9uw9cKlG7h/6uvcsUoq6e8Kd++xCA5LwP31lhtccXJHOF6+YvXHrEo8qDUcgGNehgTgmBf1IK3QKkAcHCurqCUkvsfRaX36vMmufR+zKseMVTFau3nHLnN0mezcN2iQZGRsSmZO9ZsPxb4B0dec7+w/eHz4CNmLjm4Ix+cuOOP5tJIDcMzLkAAc86IepBVaBYiDYxXVcc+SMnB6Ihx/yCyXHTnquLX9hcuurFfKqxz7807TZ8w6cuyM2y1v0tP0ZStW4zh2vHoLz6eVHIBjXoYE4JgX9SCt0CpAcBxn5lQfPGS9YqURvvgQEp6gqjb+efLHQYMGv/nwa3X4WdKHocOkAceC0k0Bx4LSUmBnmyrQljiePHX6aqONrJfb7Yf4o7xmZ8eZOdWpr/MmTpq6cpWRk8u9M3aXFRTHeNzz+5hVOX2Gpu4yfSeXe6fOXNCcPX/t+i3z5i96nvxx1+4DMDtu0z7054UBjv9cM0jRARRoMxwHhcbf8njc6IohpwWGPE1Nz83Mqfbxi3z3sRRfW4h79hYtEP9cIy65dMVt4yaTffuPRkQnoTjp7wrt7K+s37j9uNXZ5NSs1++Lbt95nPo6L4r0knXRA8+Qvw5YrOBlcACOeVEP0gqtAnV1dT169MAwTG+ZAX+BJdy5+QZEi4iIYBgWGhoqtJ2j1SoGOG41aSFjAVdg9uzZGIb16CFx3ysIX6IVbpjyWLuXr3I0Z8/HMExERKSoqEjA278dzAcct4PoUKRAKPDq1St0OFmXLl3V1CZozJwNF2cF+g8YiE7XnD9/PnylqQWdHHDcAtEgSYdQgMFguLq6ios3nKcOP+4VmDJlyrdv3zpEF+F3JQHH/FYU8hMiBRgMRn5+vrm5uaqqqgqRfsrKygoKCkSyqMGWpUuXBgcH19bWClEXaNOqAI7bVG4oTEAVYBDsR6PRbt26RTCjGswR0PYliNmAY4I0BJgBCvyBAvfu3Rs8eHB9ff0fpIGohFcAcEz4JgIDQYH/KsBgMKSlpTEMS01N/W8I3Am2AoBjwW4/sL4DKvDu3Tu0t3f58uWwPiBMHQBwLEytCXURfgUYDMaaNWvQPofOnTtXV1cLf507TA0Bxx2mqaGiQqEAnU7v3Lkzvu3M0dFRKKoFlWhQAHAM/QAUECQFLl++jLMYw7BBgwbBxjJBaj+OtgKOOcoDgaAAkRSor68fOHDgxo0bO3XqhGHYggULZGRk4uLiiGQj2NJyBQDHLdcOUoICbaxAaWlpXl7ejx8/unTpgmGYn59fbW1tTExMG5sBxbWSAoDjVhIWsgUFWksBVhy3VhmQb3soADhuD9WhTFCABwUAxzyIR+ikgGNCNw8YBwo0VQBw3FQT4fABHAtHO0ItOpACgGNhbWzAsbC2LNSLJwXq6+srKipev37t7e3tTrDfpUuX0LGfy5YtI5hp/DQnMDAwKyurpqam47x5CDjmadBCYiFTgMFgFBcXnz17dvjw4ehFZNZNvuBuewXExMSUlZVv3rz59etXIetsTasDOG6qCfh0UAVKS0v19fXFxMRw6IiJiUlISPxFsF/v3n8hC7t260Yw0/hpTvfuPVj/Inbr1s3e3v6ff/4R4t4JOBbixoWqcasAg8F48OBB165dEea6deuurb3osuOVhHzdMLgAACAASURBVIRn2dm5paVlhLoyP2d16tTwnrTl0WOEMoyPxpSUlH3K/BweEWltfXLKlCn4H0hpaek3b95w266CFg9wLGgtBvbyW4H6+npzc3M0EevatevmzVvevn1HpdLo9BpiXkXFJZ07N7wGYn3yFDEt5K9VFAo1Kjpm7tx56NOFnTp18vDwEMoFZcAxvwc35CdQCjAYDBMTEzT5GjlSLjaWxF+UtEZuHQ3HSEMKhers7IIWakRERNzc3ASqo3FlLOCYK5kgklAqwGAw7OzsEIs1NGZmfs5qDXryPc+OiWM6vYZGo8fFPR00aBCGYWJiYi9fvhSybgk4FrIGher8gQKpqanowZ2yskpRUTHfudlKGXZYHCM9ExKe9enTF8OwPn36CNl2C8DxH4xeiCpMCtTV1cnKymIY1rdv39TUtFZCZ2tk28FxTKPRb992R39HTUxMhKlPAo6FqTWhLn+gQEhICFqmuHjxEmdolpaWvX37Ljk5hSBXLImMDtjctcuUICYlJ6ekpLzMzc2jUumcxeRLKJVKW758BYZhIiIipaWlf9DqxI4KOCZ2+4B1raMAg8FQUVHBMExWVraiopIdI0pLy/bu3Td48BB0oCW+3QocTRUQERHp/ddfs+fMIZPjaLRWh3JaWrq4eMOhz7a2tq3TR9ohV8BxO4gORba7AoWFhWjXlL29AzsWl5SUztTUbMod8OGsQLdu3fz8A9ipyi9/KpW2aNFiDMP69+9fV1fX7j2KLwYAjvkiI2QiYAo8ePAAwzBx8U6v37xlBwhLy2OIO8NHDDXfv/6IpTFcnBVYrKOJ/shJSUmXlpaxE5Zf/q6ubmi9orCwUMD6HxtzAcdshAFvoVZg9+7dGIbJy8tXVlY1SwcqlSYtPRzDsCFDBmVlP6HVkOH6rQIUGmnv3nXob5iX18NmheWj55s3b9GLlIGBgcLRWwHHwtGOUIs/UIDBYIwbNw7DsCVLdNnRobi4tFu3bhiGGW9d8VsMQQRcgeSU++j9xjM2tuy05Zd/WdmXgQMHYhh26dKlP2h+AkcFHBO4ccC01lGAwWAMHToUw7BNm7ewQwOO47371uOs4eCg0kln7c32H/hN5IAnF65cPdRsPt4+dq5ux5sGUemkGJLr2nWL163XiYm9QaWTmsah1ZBPnd5hZb2dQvtPaGaWv7Hx8ipKTLNJWsPzw0d/tAXt9Bkbdtryy59Go0tLS2MYdubMmdbpKW2dK+C4rRWH8tpdAQaDMWTIkJ8z323s0PCnOC4sDlVSVpCSGvru/SMOmLty1WLb9lXNRrA7u9t8fzM0T331QF5B5rHvOV+/84qKsqmvHjSbfKnubHFx8cd+F1hD0994y8oOr6yOZvVsVTdnHFdTqGHhER8/fmIn+5/6T5kyFcOww4cPt3un4osBgGO+yAiZCJICrYFjF9fje8zW7N237oSVCQfetQDHV64eNt66DOW5x8zoqtORZvNfqjt73fplcnLD8wqC8QgEwTGNRs/Oyb148dLo0WM0NGby8XimadPUAceCNPbAVlCgkQJ8xzGFRpo5c1LCc/eUVE8lZYUvFZE4EPMKgg9abJo8WWmh1oz7nraXHQ/is+Ps3MB95usmThqzaPHMh48cbO1Mm50dJzx3nzhJ+UtFZHlllMbMSfEJt/HMWR1LdWe73rQ23W1ktEanmhqLglhxTKWTwiKu6S2bozZOfrWhNinuJopz2/3kA28774dnF2pN9wu4+CTwUlLKXXuHvdPUVeYvmOYfcLGsPNLi0KZJk8cuWjwzNPwaa6FN3Y1mxxQqlUQir1+/4a+/Gs5oFhMTv33b4/Wbt42ud+/et2wnBuC4Ud+GW1BAwBTgO44TnnvM1JxEpZOqqbHq08cHBjkiTpWUhU+dqnbcyiQzy+/124cbNukuWKiBcFxQFDpu/Bgb2z2fs/1fvfZabag9f8GMZnFMpZO2blu1c5fhylULT1iZsFs7Xqo7++atk8Wl4crKCu4ep1E0Vhzfu2+jqjY6OORKbn6g/5NLCoqy/k8u0WrI9g7my5YvNDRanJLqWVEVtf/Apjlzp1+5ejg7JyAs3GnoUMklS+f6+l3MzQ987HdBSmpIVg6nfSY4jg8dPnL9uvPEiRPRd6Twrcqdm/t16dKld+/eGhozHR2vFBQWcb9kATgWsLEH5oICjRTgO45Ndhg4uxxDCHa8enjlqoXI7XT9qMFqbRygVZSYqVPVEI4dzplv3rIcn11WVscoqyg0i+PSLxG7zdb89VfvfebNrCzjOSAc02rI0TEu0sOHZnzypdWQcRx/qYiSl5d5/uIOHj8swmniRJVqaqy9g/nkySrllVEoaP+BTRs26iKbqXSSwWrtPWZr8CroLZvnH3ARz6SpA8fxtu0me/aYDRokiYOYS8egQYOcXW5QKFRuoAw4btS34RYUEDAF+Ivj/MJgeXnZDx8fl5SFlZSFvX77cNCg/jl5DQu4GzbqeT6wY2XWydO7EI5XrloYEHiZNcji0OamOC4qCVuwcIb9uX1v3z1SUpYnxbl9qYi64XYSX47Ac8BxTKWTDh3evGTprCpKDI7jp/E3J09Rw6lKqyFXVsfIy4/4mBlg72B+/MS/6937D2xycT2BZ7t12yqPu2fwW6M1Ou4e/4bi/rgDxzHaWVFYVOTq6jZl6lS03UJEROSghYWT0/VG14ULF7dt2y4lJY02yYmIim7YsJHDy+s4qQHHAjb2wFxQoJEC/MWxq5uVpGT/MWNk8EtSsp+9w15aDXmh1rTgkKs4qmg1ZHzteMYMNXz1FkWwsW1m7dji0OZDhzajCDGkGyqqo2PJNydOUq2mNt67huOYVkMur4yeNFnlqtMRHMdPAi8tWKjOagmthqyhMSn11UN7B3P7c+Z40P4Dm9zvnMZvt25b9cDbHr/9UxwjbjacU/w0ftu27X369NHVZbvXu6Ki0uWGK9r0gmGYoaFRVVU1Tt5mHYDjRn0bbkEBAVOAjzim0kkzZkwMC3fCgUWrIYdFXFdRVaysjtm2Xf+G23/mkkeObkWz4zVrlzSaOO8xW9t0djx7zuToWFc889vupwYNGrBz12rWeS4KZcUxrYb87IXHsGGDA55cRhvdkl/eU1JWYN2VXFYeOWyYZE5ecBvgGIdyTm7e1avXPmR8bJatyPPDhwzln6c7iYiI2Ns7cD6NCHAsYGMPzAUFGinARxw/TbitrKxQUfWfjb1VlJixY+WjYlwePnLQnDUFD80vDFFQHIlw7O5xSktLA39BIycvaPjwYU1xbLLD4DjLzrnkl/f79eu7Zu2/eydwUjfC8c9ndPvkRo1AOK6ixE6arPLQ5xyKT6WTXG4cmztPnUontRmOOSC4UdCnT5kjRshgGCYhIfHhQ0ajUNZbwHGjvg23oICAKcAvHFPppF2mhlbW/y684nC0Prlj4ya9yuqYVfoLdZbMvu952u3mCY2ZE/eZb0I4Lq+M1lkya8XKBZ4PztxwPaauPs5s74amOE5LfzB8+NC9+9Z6PbS1sdutoCjr639x0WLNc+f3N5ogN8VxFSVm5sxJ+GsgcU9vKiiMPGG1/eEjuyOWxgoKskkp99DOitZerGAFKJduH5/H6NHfvn3mHJIAjgVs7IG5oEAjBfiFYwqNFBruWFgcilMYd+QVBIeGX6HVkKupsd4+Dqa7DaxOmrx555OTG5iU8mt7QxUl9v4Du527Vp06vfPDR9/MLP+XaffxHHBHXkHIhYsHtm1fdtbeLDc/iFZDLiwODQi8gE+6UcynCW4fM/3wVMiRnfskNOwKhfZrG3JWToCt3e5t25dduHigoOiX2W/fP3z7/iGeMDXN89Pnf/NJSrnzOTsAD33+wv3T54Y9G+yu9xl+YmKiGIbx+JI0jUafNHkyhmHS0sPL2R9IDThu1LfhFhQQMAW4wXFZWTk6Qmip7mx26AH/pgqEhl0TEWmY1547d57DrJabIFvbhq/KiouLJ6e8ZBcfcCxgYw/MBQUaKcANjun0munTZ2AY1qmTuMed02XlkRVV0XBxVuDNO5/JUxq+sSIiIpKQ8IwdQ7n0j4yKRusVPj6P2SUBHDfq23ALCgiYAlzi2MfnEXqjTFRUdNgwyeHDh8LFWYGePSUQQLW1F3H5Hgc7ztLpNWlpr1But267s4sGOBawsQfmggKNFOASx1Qqzd7eoWvXhlOP4ce9AhoaM7Ozc9kBlHv/9PTXqFDAcaMODLeggPAowCWOETgSEp7t3mM2e/bsKVOmEuSaOHESentNSkqKICYhM/QNDFxcXLl5m44bKAOOhWfIQU1AAXYK/BGOuQFHG8cpKi7p3LkLhmHWJ0+1cdFtWRzgmF0HBn9QQHgUABy3JVVbXBbgWHiGHNQEFGCnAOC4xYhsy4SAY3YdGPxBAeFRAHDcllRtcVmAY+EZclATUICdAtzjmEqlh4SG6esbTJgwcdy48QS5VFXV+vbt17dvX1nZkQQxCZmhqTnL1taupKS0xQhmTQg4ZteBwR8UEB4FuMQxhUK1sDgkKtrwyi/8uFdARUUlg+OZbazM5eAGHAvPkIOagALsFOASxx537iIWi4mJKSqrjlfXgIuDAmpT1Pv064+orak5q7qawgG13AQBjtl1YPAHBYRHAS5xrDZuHIZh3br3cHwUSi75O670G1ycFQj5WDJRYxYicmwsiRvmcogDOBaeIQc1AQXYKcANjktLv6AjhBauWM2ZQRDKqsCNEDJ6RcXe4RwH1HITBDhm14HBHxQQHgW4wXFxcSnC8TpTc1bcgJuzAv6vskTFxHg/YJNOrwEcC8+Qg5qAAuwUICaOPRPSh8nKNbqWrTfmjD9uQgPSc6bNXRhbSOcmMo9xAMfseh03/hg3kSAOKCBMChATx3dik2XkFaNyq2IKaPgVW8QHhvqmZsrIKwKOid+HAcfEbyOwkM8KEBbHsgqjSfzgb6MZLuCYzx2o1bIDHLeatJAxURUQOBxH5lSu33NQfqzykOEyc5cs80xIR8ANeJ2jY7huxCiFEaMU9NZuDv5QhPzDP38xNNkjN3qsjPxo3bWbbkU8g9kxUTvjf+wCHP9HDrjpCAoIFo7JJX8vW79Ff+uu8M9fYgvp5z39FZVVQzKKY/Ip46ZOtzh3NTqvOiq3er/dpenztGILaKSimvl6q9bu2heRVR5bSL/0MGjarHmAY4Ho2IBjgWgmMJKfChAWx+KdOklKDR8sPQJd0nLywe8L/NOzFZXVonKr0cyXXPL31oPH9ttdOu/pv3C5Pr4hmlz8VVNb50YI+Q4pZbSKWkwBDV+yOGB3GXDMzw7UankBjltNWsiYqAoQFsfNrh3b3PaSG6O0wdwSv+YsXaGtv2a92cEps+fjnhvMLVWmqO+zuWB93cPAeCfO4rjSb57xrwDHRO2M/7ELcPwfOeCmIyggWDg+dtVtnLqG5RU31svRL3yV8c5FButYPS2vuHnEphywv7J213/2SvskZwCOBaJjA44FopnASH4qIFg4vhFCnjprLrn4Kz7hvR2deMknxNz24vrdB3DPuNJv5zwD7salXvYJ1tRegi9ixJV+u/I4FHDMzw7UankBjltNWsiYqAoIFo6jcquHy45yfByGyBudR5kya+6lh0Fez98MkRruk5yB/IPeF8opjn2UkhH6qXSkvOLtqBd4/FnaS0aNUYJ9x0Ttj//aBTj+VwtwdRAFBAvHcaXfrvpFSMmMNNxhtvWI9cQZswy37yb9nCxbnLsmK6+4Yd/hzQeOKqqoWV50Rgi+6BUoK6+41nS/8SGrqbPmHrC7rDZpCuCY+N0bcEz8NgIL+awAMXEcU0D1S89hXWRAbEX/Br7NP+V239z+ikdsEqm4BnmSS/72Sf5w9Irbkcs3vF+8Y40f8Dr35I17x6/d8k37TCr+GvAml13OrKl4d8NL0rx0VsAxL+pBWoFUgJg45h2FRMgBcMzLkAAc86IepBVIBQDHrQduwDEvQwJwzIt6kFYgFQAcA46J2XEBx8RsF7CqFRUAHAOOW7F78ZA14JgH8SCpYCoAOAYcE7PnAo6J2S5gVSsqADgGHLdi9+Iha8AxD+JBUsFUoF1wTCr+evrmA4uLzqzXsWu3ovN+nQ3Ueoj8bc5341Jdw+J/G42bCPAoj5cxATjmRT1IK5AKtAuOYwtow0eOWmW8c4vFCfzaecI2MqeSG8y1apy9Zy6s2bWPL0UAjnkZEoBjXtSDtAKpQDvi+EH8K75Qj7+ZAI4J0o8BxwRpCDCj7RQgII5jCqhn7zzauP/o4QvXn7zJQ7T1Tftsf883IrvC+rqH/d3Ht6IT8TfrIrIrbkUnolel40q/RedT7pBexpV+I5f87RJM2nbk5NbD1s5BsSh+TD71qKNrbAHN8VGIxflrDdGKvzoFRBkftjp03unJmzzAcdt1Po4lAY45ygOBwqgA0XAcklE8bfY87ZWGhy66GFscl5VXdHoSHVf6zTWErLVi9Yx5WuvNDjoHxQ6XlfN7lYVIbX3dvVOnzo9TP6Hbc/d85+gsI5f8bXzAcvo8LYvz1/fbOypPnLLvzPm40m8RWeUT1TVWG+/UMVxv6/6QVFSzYtO2abPnW5y/vueUw/hpM1Zt2QGLFUTo6YBjIrQC2NCmCrQjjvW37jI+bI1fHjHJ5JK/jXbuXbvLHJ/5Xg+MkRs9NiqnyjWE3Lf/AOfAGDTt1Vu3+aTLHcTfxfprF+itPHzhOrrVXbvZ2vmOf3q2/BilmHwK8vR69lpBWRXheKjU8L2nHP6f3X6TZsyKKaCiW//XOUOkpAHHbdoF2RQGOGYjDHgLrwLtiOOtFicOnr+OXw+evSEVf5WWGfno5a95LiLvFM25Vx6HuYaQx6tr4CcdX3oYtHCFAbnk7+g8iuqkqbfCE+brrmxYqcijjFZWe/I2PzK78v7TNLQWEVtIuxFM6j94CMLxcJmR+IdNl63fctLZA7EY/Wu0wwxwTIT+DjgmQiuADW2qQDviuOmjvPDMLwMGD2m03W3drn3W191dQ8jaKw1xbkZklSsqqUbnVbsEk5ZvMCYV1ahOmhr++cvN8ASNhYvJJX+TS/6+5h9lYLxTa6Wh0TbTdab7BwweinCsOmFydN6vWfOkmXNcQ8h4tnGl3/accgAct2kXZFMY4JiNMOAtvAoQCscxBTTJIcPCPpWy8lF7lZHtLa9GOI4r/bbEaONV3/CN+w6f9XgYV/pN33in46PQLfstj11xQ1/9GK+u8TDxPTraOOht/sAhw5rieMEy/SuPQliL23bYCnBMhP4OOCZCK4ANbaoAoXBMLvl72pwFp93u43wMzigaLiv3+OWnpjg+d9/fYOvOKTPnhP7E92WfEMPtu8dPmxH0viCu9Nt6M4vdJ38tEMeVfnP0Cek3aHBTHO85ab9qyw68uIZZ9uRpgOM27YJsCgMcsxEGvIVXAULhOK70240Q8gg5+cs+IaSimscvP6rPXbhx7yG0s4J1sSKu9FtUbtVwWblZi5aiBeWwT2Uj5EZpai9BbLW67j5WbYJvamZsIe3yw+AlBmv7Dhj0MOl9RFY562JF0PvCEXIKRy/fiCmghX4s0TfepTFvIeCYCP0dcEyEVgAb2lSBdsExqahm88FjT97k4tNS3EEu+ds9OnHWYt3B0iPUpqhbXnJBG4p9kj4cdXTFoyHHPttL9ncfIze55G+zM+cv+QSj29hC+q4TtvJKqtIjR63abBL4ruCAvePOE3bReRTTE7axBTQ8K7+0z0vXbJSSlRs3bcbxqzfdoxNtbnvjobw44K08Xroy4JgX9SCtQCrQLjjmhXEClBZwzMuQABzzoh6kFUgFAMetx3fAMS9DAnDMi3qQViAVABwDjonZcQHHxGwXsKoVFfgjHK/l01FnrUdAQuXsm/pJVFQUw7DTZ2zo9BpervT019jP363b7uzymTZNHcOww4cPt2J3acOsAcdtKDYURQwFuMFxeXllr169MAybpDEbf32ZUOAjpjFnPXwQQy9ddmTHUC79AcfEGC5gBSjQmgpwg2M6vUZHZwmGYaKiopv2HfZ7lRX0oQguzgpcfRw2bLgMhmHi4uKvX7/hErvsogGOW3MQQN6gADEU4BLHT5/GS0hIoLke/PtHCmzfbkKl0thxlkt/wDExhgtYAQq0pgJc4phGo/v6+Q8aNOiPSNTBI4uLi2/YsLGs7AuXzOUQDXDcmoMA8gYFiKEAlzhGpMjLL3B2ubFz567NW4yJc63fsFFnyVLi2LN5i/EW461WVtbxCc9oNDoHyHIfBDgmxnABK0CB1lTgj3DMPT7aMmZsLGm1oRG/wNeWlnNfFuC4NQcB5A0KEEMBIcCxkdEaCQmJzMzP3NNN4GICjokxXMAKUKA1FRB0HOfm5kn07Ilh2KlTpwUOstwbDDhuzUEAeYMCxFBA0HFsa2uHHhjKyY2qrKziHnCCFRNwTIzhAlaAAq2pgEDjuKKiSllZGeFYRETEz89fsCDLvbWA49YcBJA3KEAMBQQax4GBQax76bS1F/G+w5d7RLZlzLi4p6imnp5e7MqFl6SJMaTAClCgpQoINI519Zax4rhr125v371nRyuB9r9x4waGYSIiIuS4p+wqAjhu6SCAdKAAMRQQXBx//Jg5evToy45XOnXqjGGYsfG2pbq6R48eY0crwfWn0ejoJfUBAwYUF5ewqwjgmBhDCqwABVqqgODi+O2790VFxUXFJZ07d8EwzPrkKQqVlpSUwo5WguufnJwiLt4Jw7DVqw051AJw3NJBAOlAAWIoILg4RmBixTEHVAluUFnZlxkzZmAYJiYm9vz5Cw4VARwTY0iBFaBASxUAHHMAXLsHlZdXrlqlj9bHN2/ewvnNQ8BxSwcBpCOSAgwGo7Ky8vXr12GC+Xvz5g2VSmUwGC0QFXDc7sxt1gAajZ6UlDxDQwOxeNy48YWFRc3GxD0Bxy3o/5CEQAp8//797t27Q4cOZX1AL4huERERFRWVR48e/fjx44/0FRoc791n/u7deyG4EhOTbt9219PT69atG+qKqqpqGRkfceyycwCO/6jnQ2QCKcBgMMhkcr9+/XD4iomJdRHAX+fOndEXgFBFhg0b9vbtW+5nykKDY3Fx8a5C8RMTE8P7pLi4+OYtW347L0aABhwTiC9gCvcKMBgMGxsbRDEREZEFCxaQSCQajfZNMH8VFRVRUVEaGhoiIiLo8xMhISFcEllocIwjTDgc/fv3NzBYTSKR2c2Fm/oDjrknAMQkkAJOTk6IXEOGDElLS+OSXASqQHOmMBiM58+f9+7dGz2Fj46Obi5WYz+hwfGSJUuvCMXPze1mbCy5sLCI84M7wHHjrgz3gqhAZmamuLg4hmHKysrfvn0TxCpwsLmkpGTAgAEYhnXv3r2yspJDTBQkNDi2PnmqKaE6lA/Mjn/b2yECsRRgMBgzZ87EMKxXr17c0IpY1nNnTXZ2dqdODW8NrFmz5rcTf8Cx0CAbcMzd+IBYhFHg48eP6N3/e/fuEcYo/hty7Ngx9OHnqqoqzrkDjgHHnHtIe4Vi7VUwlNtmCiBOSUhIfP/+vc0KbfuCKisr0QTZy8uLc+l/hOOMj59OnLAyNDIyNCTKtXLlKvRIVlVVjThWGRoaGRtv9fX1a8sT5mB2zLmrQyjhFJg4cSKGYRs3biScZfw2SE1NDcMwHR0dzhlziWMaje7kdF1CQkI49i20WS20Fy0qKChsmwk44JhzV4dQYilQX1/fp08fDMNu3bpFLMtawZoDBw5gGKaqqso5by5xHBoWjqbbGIb17t1LUnIQXJwVwIm/cpV+28yRAcecuzqEEkuBuro6tA/s7t27xLKsFaxBJ+RKS0tzzptLHM+ZMxfDsE6dOl12PPSlIrKyOgYuzgqkpHqOVRqFoJyUlNwGE2TAMeeuDqHEUqBD4fjmzZsYhg0dOpRzG3CD4y9fKnr+/DyolrYGlU6i1ZDh4kYB/yeXEI7PX7gIOObcD5uGdtBHeQwGo75j/L5+/dqrVy8Mw5ydnQlb499uTWvacZv14SOOi4tL0fkJZnvXcYMhWg25uDSsoCiYc+Sy8oji0tBm45R9CS8pC2s2iEIj5RcG5xcGU2hs/zAUFoc0zbmaGpObH9iWf07eZ/ihx4ynz9gAjpvtpRw8OxaOaTRaQEDA9u3bhw0bhh9Wgi94gaNdFOjevbuMjMyePXvCw8P//vtvDp31t0GtgeO9+9Y3i8hGnhRa7Jy5UxUUZKsoMY2CWG+vXLXYtn0Vqw/utju723x/M2VVUWK2m+irqCqqqY3eum1lNbX5/JfqzlZWli8q+Q/Q0994y8oOr6yOxktpbceHj/7oAArA8W+7a9MIHQXH1dXVGzZs6NKl4RsK8COsAj169LCysvr69WvTnsqNTzviOPWV10zNyVOnqgWHXuGAvBbg+JHv+Tlzp36piCqvjNLSmvHI93yz+S/Vnd1/QF+zvWtZ58IExHFVVfWX8gp+TZxh7ZibcUGgOPX19W5ubp07N3xbDL0mMFJObrWhkaWlpaPjFaG/HM6d79q1K4ZhCxdqE7Cyly87WlhYrFy5Slp6ODpSA8MwCQkJPz+/FqxgtCOO95mvv3L1kMuN44ZGi1mBSKshl5VHJjy/lf7Gu5oa2wjHJWUR8c9uvnn3kEIjsZsd33A7sW69DkLwjp0Grm4n2OHY1m7fyJHDQ8Od8AhNcfzhoy/56Y2snCd4nKycgJy8QAqNlP7GO68gCPmXV0Y/T3R/lf4A1aWhCg12+jSqGp4J7uAwO87JyT137vycOXNzcvMAx80iUshnxz9+/Fi1ahUa5507d9Y3MCCRyJWVVfzqDcTPp6S0DK0dWxw6TGRry8srQkLDtLUXiYk1nK0hIiJy8ODBurq6ZnstO8/2wnHplwhlZYXc/OD8whAZWenMrACEJyqd5OV9VllZcbGOhpb2DF3duafP7EKLFVQ6yf3OKSVlBZ0lGgsXTl+xYsGx49uaXazIIco+rQAAIABJREFULwxRUByZ9sorMemu2rgxeQXNL08v1Z1989bJx74XFBRkc/N/xWHFcUlp+LoNS8eNH6Orpzlu3NgdO1d/qYik1ZDtHczt7PfqLZs7Z+7UiKjrJ6x2XL5yeN786bp6s8ZPGGtotDgyymXuPPVly2epqCr+XC2JxeHb1NEUxxQKlUSO27hx41//+x+GYQ7nzvGxH8LsmN1YIJx/bW0tegMC7UUlk+P+9LwoPvab9spKUHCM9KHR6MHBISNGyKD/lTEyMvqjOXJ74djj7pkNG/VoNWQqnbR2nc6FiwcRp16mecrLy6alP0C3QSFXRo4cgXCc8NxDUXHku/ePUJCv33np4cOaxTGthnzb/dSoUSM0Z01OTL7blIDIB+GYSicZb125cdMyNI1lxfHmLSt27jKsrG5Yeq6oil5tuOjAwY1UOsnewVxFZcxj3wsoyf4DmyZPVv2c3TB9rqiKVlGRnzlzUll5A7hLyiLGjh2VlHyPnQ20GjIrjgsKCp2uO0+aPBn//x5RUdGJEyeqN/ktWLDQxGTHnTt38/Ly/2ikAI4Jh91mDWIwGOvXr0ejeulSXS5Ps/6jriAQkQULx0jSz5+z0JcrGz6WbG3NPZHbBcfV1Nh589Ujo50RpIJDr40fPxah7fAR4xPWJqz/g79hox7C8e49axzO7WPl2sqVC5vimEonRUY5T52qtnLVwpX6CyurY6h0UjU1ljVPVhzTasgNs2kFGZ/HDrQaMo7jrJxAWVnpwuJ/H/R9+uw/YoR0WXmUvYO5wWptPMP9BzadsDbBDdu8ZcVZezP81mD1ovuep/Hbpg4cx+vWbxg7VgkNQO7/7dev/+7de/LzC7gcXIDjZulHOM/AwEDUCXR0lpR9+cJl6wpfNEHEMZ1eU1RUPHnKFHSKcWpqKpfdq11w/DLVc8CAftYnt52x2XHGZscJq60SPXvEkt1oNWS9ZXMCnjiyMuv8BXOE4/nzp0XFuLIGnTy1oymOSXFu48ePfZ/xmEKLNTRadNzKpKAoVFdPG01yWZOj2THyCQ27NkJG6nN2AI7jkFDH2XOmsMan0kkTJyq/eu3TsFhxdi8etP/Aplvup/DbrdtWPfC2x2+N1ui4ezS/eI3i4Dg+fcamtPSLm9vNqVOn4S83iomJqatPnz17TqNLRUUFvTuKxuywYcNCQsO4GYyAYy6HRntG+/btW9++fTEMk5KS+tP//eGmEwhQHAHFMZ1ek57+BjWirKxsfX09N/2pXXC8b986QyPt8xfM8Etff8G27auodNKy5XMDnlzGWUarIZ87/wvHCxaoN8Kx9clmcGywWuvuPRuUQ1FJ2MyZk44eM5k1ewqF1ngBlxXHtBryHrN1+gbaaeleaKNbSNiVWbMb43jCBKX0N4/sHcztz5njRu4/sMn9zr/zX15wjIYJhUKNj0/YssW4V6+GrwScO3e+6fChUmn5+QWeng8mTZqMiNyjRw8v74e/XV0EHHMzLto5DnpZVlRU9OFDn6Zt36F8BBfHdHqNo+MVNDgjIiK46VJtj+PSL5GjRsm8fe+D44xWQ/6Y6T9kqGRufrDl0a3Hjm/D1wFoNeS165ag2bHZ3rV2Z/9dBKDVkJctn9d0drxQa3pQyFU883cfHvXs1fOMzW7cB3c0wnFJWbjauNFHj5kgHGfnBsnISBUU/fsGSsYnPympoV8qGhYrWhXH+HArKi65fNlxzpy5uXlsd1ZQKNTzFy6gfVA9e/WKexqPJ2/WATjmZly0Z5z6+vr+/ftjGDZlytTqakqzrdhxPAUaxxUVlcNHjMAwbMKECdysILc9ju/eO6OzZBYrcGk1ZAqNpL1o5g3X46mvHsjISie/vI+g6RdwUVFxFMLxsxd3Ro6Ufv3mIQryenhWTk6mKY4dzpnPmTsFPUmrosRaWe9QUxs9Zqxcdm4gDmLkaIRjWg05Lv5W79698NdAjLeu3LptFXolpLwyesXK+fsP/HqU1zY4RoOuqory5Us5hwFIo9GdXW6gj9eoqKhWVVVziAw4bk/UclN2dnY2mlLduOHKoSFbKYhKpZWUlhWXlBLkyvychc5e2LvPnCAmITMquNtuePz4CfRl0urq6t+2fhvjmEIjGRotevio4aFZo8vbx37lqgVUOunR43PKKorz5k+dN3/aipULvLwdLA5tQnsw7nnaKCkrzp8/de7caQarte/esz15akejfCqqonfsWq2gKLtgwdRJk1Q2b1lWUhbhdP3o2nU6jZaPN23We+B1tlHyMzam6tPHIwSXlUds3rJcRUVRS2uaiupos73rKqoa3tZzun7UyfkonvDUaVNvn39rdPDQJv8nl/BQ092G3j6/Fk9wT1YH69pxi4cYjUbft88cjeKbN29zyAdw/NtB0c4RHj9+jDau5uTkcmhIvgdVV1OcXVymTp0mKTl44KBBRLkGDkTbjCQkJIhi0k9xZGRkN2/e8uFDBueGePbsBRqWiYmJv+1YrYFjkx36rLhpgbusPDIl9W7GR9+mJ06UfolMfnnnY6Zfo/k1aylUOik3Pygx2T0r+9d2ZkTzprmxpmLnzswKSEx2z8n79boHu2gt9k9L90ZnVpw5Y8u5ZTmHFheX9OvX8P+46urqHM7qBBz/dlC0c4SNGzdiGDZSTo5ze/M3tKqq2mjNWgQO+Jd7BfoPGBAfn8ChLYqLf32W1MHB4bcdi484plCoQ4YMxTBMRkYqvzCkxXjqUAkpNNIRS2PU+vc9H3Bo1t8G0Wj0Xaa70SuanzI/s4sPOP7toGjnCFpaWhiGzZihwa4JW8P/6jUn1At79pTQ1Zu3afNyuDgosH6DrpKyPFJs7FglDouJVVXVcqMajtC1sLD4bcfiI47p9Jq9e/ciC1XVFB3OmbvdsoaLgwLXXY6v37AUrfkOGDCwoKCIx4H2+LEv0j84OJRdVoDj3w6Kdo6gqamJYZiWlha7JuS7P41GV1ZWQd+MeJ54h8P/eHaouRLnypZXRhut0UHjzc/Pn0OjIG137979247FXxzn5xegopGR8C+XCnTt2vXevfu/3aPGocVRUFJSMirR3eMOu8iA498OinaO0PY4zi8o7PnzTGGD1dqcGQShrAokPHNHhzFaW59kN97o9Jr2wjGdXpOTk7tx0yb0LJRLGHXkaKKioqpqagEBTzi0JvdB6emvkZi3bruzSwU4bmfa/rb4tsdxdk6uhERPDMO2befqsQ+VTrrubGlxaCMrm5q6I6Odrly1aOpPqyEHhVy+4Xqs2aCklHsmO1Zt3bac/PQmu3n6xcv7T53e0Si0oCjEZMcq9LS92Zz57pn++mHnzp0wDLO0PMpuvLUvjun0GhqNnl9Q+Px5Ynz8M4Jc4RGR4uINupns2EkQk5AZb9+957wvjUMrNw0CHP+WdQIQofVwzG5v1p/i+EtFpLKywpAhkm/e/ef1gUa8u3nrxLr1Sxp5otvLVw42+8Q/45Ov3KgRtz1OPvC2HT16ZFJK8yfOGKzWFhcXa7RDKzPLf9iwwWiLa7OF8t1TIHDcFBPt7lNUXNK5c8PJ3dYnT7W7Ma1nAOBYAGj7WxNbD8c3brgaG299/vwFhUJl7YV/iuMH3mc3blp20GLT4SPGHBjXAhzfvGVttObXgsmhw5scWF5+ZS3IYLX2Kv1FI+WGs254AhyztimR3YBjvHVgseK3PGznCK2H48rKqtGjx4iIiEyfMePGDdfi4hLULf4Ix1Q6SUtLIzLa5c1bHwXFkWXlETgoi0vDTp8xnT1nkp7eHO+H9q5ux/HZcWFx6Akrk1mzJixfMc/X/8IlxwPNzo6TUu6pjRtTVt7w2WMtrRmh4dfwzFkdBqu1Ha8e3rN3rcFq7Wrqr9MPWHFMpZOeJtxat15HfbrKho26TxNuoeQ+j87d87QJDr2ycuV8n8fno6Kdk5LvOrscmz9/6pKls54EXSqvjLKx3T179sTlK+aFR/x7Djpr6bhbgGbHX76UlxHm+pyV3alTw+cUjh47Thyryr6U83Gl4uehJbB23M4s5UPxLcAxjUbPzsm9fdt97959K1asXLZsObuL9czAoUOH7t6959Wr9KzsHO7XjtPSvSZNUqHQSFQ6aabmZF+/CwhP5ZVR8+arm+5ek5b+ICnl7vr1S3WWzEE4LvsSMWPGhIMWm9NfP3iR6KFvoLVYZ3azOKbVkLdv1zfdbbRx07I9e9fiqMUJiBwGq7WvXDtSUhahoqp42/0UWkRmxXFgsOOYMXKeXnbvM3wePnJQUJD1C7hIqyFfvWa5Sn/RUt05sSTXkrLw4ydM5s2fceq06Zt33oFBl4cNG7xyldbN2yffZ/h4PbSXlh6S8cmvUdGst8THMYVKvXPnrvr06f37D+hPmF+/fv3QM64ePXoQxqgGQ4YMGWpkZPQq/TXv2yoAx3xAIRGy+CMc02j0ly9TjYzWoC8YteCxuKio6Jo1a7t1687lo7yDFpsczv86QMvlxvGlunMQDe/es1msMwsHaBUlVkNjIsKxs8uxVfoL8SdvldUx4yeMbRbHFVXRx0+Y9OzVc/t2A1bwNXIjHNNqyLFk1+HDh7370HAIOo7jyupoJWX56NgbeKqoGJfx45UqqqKvXrMcO1YeX18+fsJkxYr5uGEbNupu3vLr4HNaDdnQcLGXd+PXdvE8G07jJfajPAqFamKyAz86vQV9o2Mm+d///hfK3fGY+JpDsw5YOyYCTnm1gXscUyjUCxcvsW5j6tq1q5zcKMXRY9hdgwcPwceYqKjowoVaXt7eb9994HJ2XPolYsxY+YxPDS/FUumknLzAwYMHZuU0HAezy9Twxn8/g2Z/zhzheONGvfsP7FhBdsJqR1Mcf6mIXL5iwRFL47R0L2VlBVKcW2V1zN17do0ON6DVkHEcU+mkw0e2LF48s5oai+P4Zep9JWVFHLK0GnIVJUZJWT79zcOr1yz3sXzt+PgJk4uX/t37scds3XWW0w+2GK90cj7EanYjN8FxfO+eJ3rft0uXzrpaM7eu1YOLswJqSr9e7ZGSki76/6W8ZlHLjSfgmFcUEiE9lziurqbs3r0HsVVcXFxv2bLAwKByjt+4pVCo09TVMQwbNkxq3z7zd+/eo17F/dqxl7d9nz69R4wYjF/9+v3v1OldDUeV683yefyfjwS73vy1djxv/pSQsP+sw1663Mza8RkbU5Md+gijJLKbiuroZy/ujBvXMKttxEEcx7Qacnll1NRpao5XDn36/GtnRWS0s8bMCY2SLFiokfDsztVrltYnd+JBx0+YODn/u99uj9m6W7f/Pblc0HE88+f7RN27dUsOucHMj4TrtwrU5YTvMdZHY8rN7SY3zOUQB3BMBJzyagOXOD537jz6/9DBQ4b4+Qdws9p15+69mTM1b992LykpZe1G3ONYS0vj0X+ZGx3rOmaMXEVV9B6ztVevHcZJR6sh29iZodnxFuMVt91PsgZZHt3WdHa8WEcjMPjfs3Fve5waJjVk7bolrPNclAkrjmk15BdJd6SkhoSFX0cb3dLfeCkojmQ9oaaiKnrUqBFv3z/qUDj+3//6YBi2YNaU32IIIuAK5Cc9RP9LcYjnT+UCjnlFIRHSc4PjZ89fdOvWDcOwIUOGvHqVzspWDu78/MJmD5fiEscpqZ7y8jJfKqJYwUqhkVRUR4eGXfMPuKihMam88ldoSVn4uHFjEY7ve9rOnz+9itLw0UlaDbmwOExRcWRTHJvtXXvk6FYcvm/e+UgOHmhouAhPiJfbCMdUOunc+f2jx8ghHFdTY6dOVfN6+O8neby8z06bNq6KEtuhcNyjhwSGYauXzsJZA47fKkB5HyQuLvbzjJFDHIYSN0GAYyLglFcbfotjKpWms2QphmGdO3cOCWF7Ogk3PQbF4RLHh49saXq+OK2GbGu3x2jN4srqGH0DLV29ub5+57we2i1YOGP3ng0IxxVV0UuWztY30PbzP+f5wGbOnKm7TNc1xfGr117DRwy1OLTpSeCFq9cOjxk7yv3O6cU6s+wd/vOJTNa1YxzQVZSYOXOm4K+BxD+7raAw8rSNaVDIJTt7s1GjZEhxDR9/Axxz5lF9XkTik6tpYc5No9XlhCf4Xf4U59E0CPf5+jE4NcwFv8Ud72NuV77xw29xx9dPwc8DrtTnhuM+yJERe7sw2buRZ8tuc5/fz3l2j/u0gGNe+IXxkpiYaX+L47dv36Gvv6xebdjsbJd7EHOPYyqdFBh0MSun4Xvpja78gmBfv3MUGqnhydt9my3GevsPrH+RdCcnL5D89NfXLSuro2+5n9y0eanFoY0pqfczs/wTnv/aC8yaW3ZuoK3dnrXrtI8e2/o+4xGVTiooDPF6aNtoSh5LvvHmnTdrQloN+XN2wCNfe7S1g0onfcz0s7LevnadtvXJHZ8++6PIb949fJn669sWtBpyyst7b9//+p4FrYb8PNH9fcavL9XTashPE26+fd+4FNZCCf4orwWz49qccMVRsv379fn6KbgRwpJDXMRERc2M9Rv5s95mxN3TnDEZ+dgcMv6c4Inc6/UXRzy4yBoTuT89vS87Quqfz6GNgoyNdK7Z7m/k2bLbM4e2WO/fzH1awDEvVOyIOL506TKGYaKiolFRMX9K3mbjFxYW9+rd8FnGVfparLgBN2cFnsbfFhMTxTDs5KnTzQqLPNvrCKEW41heTtbH5WQjhO3YsEx5rCL3OF48b3pKmBvKJCXUtTT1caMMmfmRgGN4K48X+rdF2t/OjteubTgnvk/fvvx6iYhGo6uNG/fzqOweUTEu+OotZxh18NCSsnBdvbnoKXxgYJAw4fiM5a7F86Yz8iJwgFI/BI6UkTp9eAfC8fesUNr7J3goMz+y6rVvfW4Emh3X5YaXv3o0f+bkKO+LVT/XKLKfPah+95/4KC03OGbkRWQ/8/S8ahnkYUthyeR7VmiC/1WPiwfDPR2+fgzCjanPi8iMv3/P8XDMw4t/fwqG2XFbMOv/y+iIs+PZs+f8/BrmRA4I+NMgt5u3EFm6deumOWvykqVz4eKsgPTwXzu4x40bz3l/ocDNjp/6OymPkc9+9mupgZkf6XHJcpPhEhd7C4TjmIeXDJdr4QRk5keOkhla9soP4bg0zVd9otJfvSTGyI8w1J3NzI9s8WJFfW6E7eFtE8cpHd5luGO9npqyYmqYKzM/kvr+ycLZ0wyXLThhttZw2fwpE5S/vPJl5kfW50YcNdswebyS5W6jnRuWzdOcsnebASxW/D8tW/2/HRHH09SnYximqTnrT5nLIX51NWXHjp1oiw/iMvzLjQJSUtJJySkchG3HAzZbvFiRGOxifWCLneUOBNy6nHBN9Qlxvle4xDFKxbpYwQHHA/r39bho4XnlCOs1S30cWjt+/sRp2kQVyvsAZn4kIy8i3v/a5PFKdTnhl07uPrhrLZq/M/Iithgtdb94mJkfGXrPYfoUNdqHQGTDy1AXyUEDAcetjuH/LwBwXMOZBdyHUqk0Ly/v+fPny8mNGiknR5BLVlYW/ZHo06cPQUxCZqioqOzbZ57NxedlBW52nBjs8oHkoaqsWJ/bsF7xJvr2RLWxP7LDWgPHf/XuZWFicGSXIeulOkYO4djMWP/elWOs0/AFs6a9ib79Iuh6zvMHuP/OTSttDm76OQ1f5OVshfsz8v6PvTMBi3F7A/hn57quv3svLtG+72kv7aHSSipJkSVkqxCtQqRQ1kJapE3Rvs2kJvuWJWnfZiqSVDMTrkvN/xknnzFlzLRoypnnPDnLe8535nzv+c3xng2zcpkBxPEXWg76vxDHA4ZjAG4Sidza2vaGbRz1ppIp1KPxd+zcxT61etPaRndIKYOfveGI4091GK35cnfSgikE7I6NK456b6EQsP3HsY25Hi/nLF7OWdJiAu0laT+0HS/QUJg18y+QBfz9839T0iIOfqrNSQk/tGOD1cplizfYmWuqygMcz1eQfIINQ3FMIWB9dthDHA86hr88AOJ4gHHMACtDkvSy6dUfny+Ocu33Lqkhqf8wNVZQ7cXH3R1szd5WZgoL8NZ/XgX8PRz/V5PNwzkLtR0DGjJprGC80M1k0XxM7FFavAL/ljWWW+zNa+7EAnuFz851AMeLtJTvf7sj3G2rLcTxF1oO+r8QxwOMYxKJTCKRiWzjXrxsAqPjXa672adWxM+txCTfh+PomELAtpekCQnwhgW6W5ktBNRDcXwj6dRimqUXNbdjfp88uSeOH2RRp936M5Xns3ONp9NqdI3HfzXZBrqqz/Mvzpk9A12t3IXH2FkuBjje5Wjj574RxXdnXY66iizE8aBj+MsDII4HDMdEIgmLzbWyWi4rJy8rK8cmTkZm3ujR1E2rs2bPZpMqgWpoaGr6+h5saPjx9e/DFMddeMwaa+OpU//IjQ8CgENx/OrJVY7Z/9xLD+mswxBLUtfZmHFxfl1ZAYTNjXROHNhecyuqPziuuxvHNXd2asShj7U57yoz/dw3mhvrfqzNkZEQunTK62NtTkd5xvkjrvIyEs7rln2ozqq8eYmXe05+QtCnOmrSvp1rFWSlII6/0HLQ/4U4HhgcE4kkD0+vceOoF0rCD/MtICYm/ryklPEweRjh+FNtznob47KCiwCp99JDrM0WfKju3jWXGeV/9rALWOQQc9pLXESQZ+4/uhqKmNij9ivMWopS6h9cdt28EuS9k3pmmaHWJltjCgF71Nux8MtIGaSCvw0PEuytFv9XnU0bSSFgj/tsTov06y4n7cxCLRU+bg4RQZ7VVoavn1IXtN1JOT1fUYZ77ixZKVGfnWtLcJFL9NXvpJykELC3kk8t0FDi4+JQkpP0c9+IiTkSfdKDrnwGQbgrrz/MhjgeGBzHxMYBBo0bP15YUlpOVR06xi0w7e/poMVUVFRaWt4wIPIwwjEDTvVM6sJjgAOARk0KPSX7GYM+iPYRdJEMklh6OsQxxPE3LfDDXXmDse5YSUkJQZAJEycei03BvXh7vek9dIxbIKO0QVl7ASByTg7mF8QxS5gbLsIQx9/AiMUAHB0PwOi48cXLqVP/hyDIAtNljBkEU2lbIDT7BlgTfeCAL8TxcAEu43pCHLNI4G/EIY4HAMfoAZuWazfR4gb6GbfA5XvPx42n3ojs7u4BccwYc8MlFeL4G76yGIA4HpY4Timq0zA0o3Nrd3oyxh8zqTlVzUtWO+TXk5gR7qcMxPFwgSzz9YQ4ZpHA34hDHA9LHMffff7P7DlnMwtCsXdQF3vnWT/5eL3pfUZp4xxunjxCe/+L+mEJEMfMY264SEIcf8NXFgMQx8MVx5w8fIMBTYhj1GzShyOEhgs0B6+eEMcsEvgbcYjjkYbjnKrXmzwOyCiryatr7/I/mffF7HAN3759f4CcmtY8VfWte/2u4bvHv7jGDu/TYSo6i2SU1TZ7+V4prICjY0DkAccx4X68qrx4btw3u5a78Jgi7PmPtd0XLNXevtT6LLnPuCy+dgFd5rx1rUXFzeg+F9W3jBDH3/CVxQDE8YjCMa6xQ33RYtstOxILK+LvPTe2XmW53rHgxVvci7eGViuXrlp3+X5JwsPyFRu36ZsvxzV2FLx8t26np6quXvTNJ8lPa3cFnNQzs4A4HiQcB3g6qinLmulrdtKcTN+Fx4gKC7aVdJ9pucHWLDn8UN9QSCFgFeaJ1z9MBNm3rV9RDnHMIhCHVhzieLjiePyEieJyihIKyl+cSvrz+qD4dE0D44IvC5/zCO0yiiqX75VcyLklq6KGa+wA9tyCl+/m6+qFZt1IelzFwy+YVf4StfM6eh6AOB4MHP9blakkJ1VaECUkwIu/9/Ve0cHDcZ+Z3p+McHTcH6BDHA9XHHPM5Up4UHb1aQ3qcI0dNptdzOzW7Q+NQZ2yziKfkItb9votMLNAI/eHxuiaLtt+4EhgXKqBhXXBy3cojuPvFkMcDwaOMbFHzQ21O/EYZ4flAZ6OAHmPc0LtLfX+N/UPmyULQg45bV9rLszPpasmt2W1Kdiqd/3KCcOFarycs9SUZK5eOAD2zmVFHc6M8g/02SojLijEx7nOxqS1OKX+QYK9pd7ff02zNNY+6ulAIWBdt6yq/Hz5aWddTnzw3vmK0rycs/S0lLOjA0A5qeG+OTFHArwcpcQEhPm5Nq5aQnt7U9+gDHEMcfxNC/z8XXk/f91x/N3nvU7lGS63VV1gYLXJidadSb1ms8VFdr4mbaTVJqejsam7A0Msvl0rnf68HuJ4MHBsvUQv61IAhYB9mHVOQlTwvxrqQROvn169FufPNXdOarhvcW7ozatBRgvn79+19kYi9d7oB5nnxIX5b6WcphCwZdejtNUULof4UAhYf49N8rJSpw46v6vMJJWmr1lutN7GlFyWnhcXICzAHR+y90l2CIWAXaSt+vRaBIWAPenrrKkqV4KLpBCwhdnnpcQEr4YeoBCw+3atVZSTOeu/631VFrEkzWap3pY1y/pGYTQXxPE3MGIxAEfHw3V03CuO7V3cnH2PokPd603vw3LvJj2pcTkUuHq7K2181PXHl++XnrqSrW1oSjs6vlRQCHE84Dh++ShRQlTwfSX1LKGPtTkK88TzE48DhDEwVliZLkyN+GpHfp4foa4s11mX4++xaeliLdQAXXkzWpifG/Cd1nYMcEwuS+flnltNc3Hf3bRgWSmxzjrMvl1rrZcsQk+rKL4WLinKj04qooRlyQNxzCKBvxGHOB5ROA5OzRMSl8qpagbkza58JSIpk/CgNKqgkItPIKO0EcTn1ZNkFFXCMLczyl7wCgjF330O4nEv3i5bs4GTd1CW0NH+GAD/r7Pu+JDbhnU2xmX5YcDt2mRtY64HOPg9HH+szeGaM+vArjWBXhuA83dfP/3vPzvKM/w9Nh35fL0IACXxeTI/D+eHz+e69cTxjasndNQVaZH6sTZHRJC3/mHivl1rTx50RpOaHyeICvH+V9O9xgONZ8kDcfwNX1kMQByPKBxgrhpZAAAgAElEQVQXvHxrutJeXk3rwIXYAxdilTR11rt6Fbx8V/Dy3Wqn3eLz5H3ORh0Mj9c0MLFa5wiOOvI4cV5AVNzz1AW/i4mmNvbWDlslZOQGY0XzL4vj91VZslKiC9Vl9TTlgVukIccxe2bT4yvAQNzryoqOisyZ0/8M8NhwwseR1r2ryPT32BTosw2lJGMcZ1z0M16khgoDj6rivKrbcft2rT3jtwNNgjhmEZ4DLw5xPCxxjKl5c+JKDu5F90oJWtLhGjuC4tOsNmxbvsnpeGIWaogoePn2dBJmxWZnC4ctAZeu0sS/i7h2397FzdrR6XQSJr+BfCY1r9eSaZ8yIP5fZHSMjTumq67wqe7rqLMLj7FZuujkAScGOO7CY6QlhCtpVqq9r8qMOuH26bOxgnkclxVESogKfvxsqgbkbXueyjFrRntJGsTxwAO1fyVCHA9LHA8IDYe8kF8ExxbGupHH3dFBKPBgYo8qzJPo/HzksbCQQMuXrR8b7ZZcPrcfyOzYuHzzanNwHTWFgE08v99YT6MTj2E4OpaovhMHsgPb8ae6HHXleXHB3fdDd+ExAZ6OFsa6YCoPjo77x88Bzg1xDHE8ZEcz/wo4bnyYwM05p/V5Ch2O31dliQjw3E0L6cJjFi9Qm68gecaXetv0uYBdQvzcK8x0KARsa3GKmpKMpcmCs4e279myUlJMENwzwgDHG+2WykmJeDtRrxRBV1aU4iKlJUQ2r1569tB2++VGyvJSjQ8vQxwPMEoHojiIY4hjiOPedWBANkm3P0+pukm9766nq70d3VJEvSrpXUVmcW5ow/1YCgHbWYepuhlVnBsK5N9WZKRfPOy3e01kkBsQphCwzY8TXz+h2p2B+1SbU5YfDhZafKjOLskLq7lJvR2q5tald5WZQKb9eUrsGS+/3WtSIw69rcgAkU2PEtAyqUs+arLLceHoQgu0fJY8cCqvP1iGOO69K4KlTkz+/fnrjofczjAgFfgVRscssWwECEMcQxx/0wK/wjaQAaHhkBcCcTwC+Ev3FSCOv4ERiwE4OoajY2is6F0HgLHC3FCDjjgwyKAF3hSnjhkzBkEQV9fdTP7n8ntiT58WgasUw8IjviejoqKKIMiePXtY5B6bikMc994Vv/f6e40fcGNFwYu3O/xPrt7pQesc3Peh+zuGcGDrc+7SgJxzf73pPZuPjgUEhRAE4eWegxpbGWAIJoEWyIk5ChjK+P7DXvsRXeRg4Pj9+/c4HO7ff//tyWMikfj48eOe8T8zBuKYHXGMa+wQFJNcu9PD7fh51HmdCcfWvhlCEINHay42PRqTPCDVYHMcb926DZBliYHmzeTTRdcioWPcAlEnPOdy/IMgyJixY+/ff0CHV1aDg4Hj2tpaBEHWr1/f1dVFx9m7d+/Onz+fLvInByGO2RfH4djbA0K9gS3k18FxdXUNJxcXIDL8y1ILbNrkSCKRWeUvnfwg4XjKlCkzZszIyMigQy3EMV2DDExwBEzlgdHx93CMrXnjeuT0YutVq533XLrxGOyvS3pctTswJLP8xZa9fnuOnfGPTkZ31mVXvjocdRW9FgRb1xp0OaPg5Tvci7d+kQlL7DcY267Zfy4qv4F8vel9fgN5k+eB3LrWvWfC17i4Fbx8l1XR5OR7dLH1KqcDRzLLXvw6OCaTOwoLH6uoqI4aNYolGP3KwpMmTXJ2dnn9uoWOrX0IDhKOOTg4CgsL//e//7W3t9MSB+KYtjUGzD+ycZxWTJBWUF6xafux+HSvUxcERMV9QiKvN72Pyn+goW+oqr3Q+VBg9M0nQhJSMbeegnHxvrMXx40bdxH3AAQDLiVpG5rhXry13rBVf5n1kdiUgOgkzcUmNo5O15ve5xGI8xSVTVesstu680xqXtKTagFRCYfd3oEJmbuPnVHU0JZX0/pFjBWAIO3txPx8XMjZc8EhZ7/nnJxdgoKOfy91UOKDz+5y3T0oJX//a25y3Bwc/N1GCA45Gx4eWV5e0Qfy9ppl8HDc1dW1d+/exYsX05osaHHc2dn59u1bOiS9ffu2s7OTLnJgg9BYwb7GCi1DMxO7dag7lYS53vR+ucMW+8+DVsDWmFtPufgEsiuaovIf/G/anxdyboJ4u207d/gFAb/Rcltzu7WbvQ5eb3pf8PLd0lXr956JSHmGF5GQysW3AZnkJ9W8AsIAxxxzuXYdPgHize0dtngfRA+4CM2+MWnSb78UjnslBW0kiUQ2MTGNjYunjRxsf0VllZqaemtr22A/CC2/ra1dQkLyadEzNGawPYOK40+fPomKikZFRaE8pcVxY2OjqKgokUhEU0kkkqSk5MuXL9GYwfBAHLMvjl0OBR6JS0VdYmFFwYu33HwCVworACvB34VmFofC4qLyH8goqaLcDMfemb9AH/fibW5dq7SCcvzd4vm6ep9tESRhccnUYkJ+Ayn9OaHg5bv8BlJm2Qv/i4n/++tvgGN+IeG05wRQuLCYxNVHlbSPk1ZUgTimJVFx8fOJEyfp6i7ov7WUtljG/gO+BxEEyc7OYSw2gKkJCYmfl5S5DWCZjIsaVBxTKJSGhoY//vijsbERgJUWxxQKpaqqSlRUFBg0iESipKRkTU3NYCCYtkyIY/bFcU/bMabm9YxZHLl1rbR8XLfLc8+xM1H5D7QNTdH4a4R2SVmFjNLGcxkFS+zWFrx8K6eqnlHaSMX0QgPqkZsv3h6OTNBbYqFvsWKNyx7nA0f+mvkPwLHkPHlsTQsoavrMf3IqX6HFXm96r2FgAnFMyxE3N3cEQcaPH19Y+Ig2fvD8be1EISHqIjwrq+WD9xTakolEkr6+AYIgXNzcA2IXpi38e/7BxnFXV1dwcLC8vDwwQdDhmEKhlJeXi4qKFhUVSUpKVlVV0XJzkPwQx8MJx7jGjrncPKnP6mj5aGhluy/kIh2Orze9t926wzc0xt7FzS/i8vWm92t3evqGRq/d4e59Oux60/vA+DQFde3syldgQJ1Z2jj9n9k9cSwsJp5S9M3j5FTVIY5Rgrx+3cLJyQnm7rZt247GD6rnalIymF38/fffB9BWy6DOhY8eT5g4EXzNuPjLDCQHMGmwcUyhUDo7OzU1NQMCArq6unrimEKhZGZmjho1KicnZ5D4S1csxPFwwvH1pvf65stdvhiFrze9Ty3Gc/LwJT2p7onjkPR8Q6uVqjoL00sarje9D8feMVq+UlZ5fmYZ9U4QBzefda7eKNYD41KnTPuzJ44Xmi7zOhWKil2+X/Lb5N8hjlHoxMTEousoZs/maGx8gSYNkodIJJmYmKIP3bdv/yA9iLZYZxcX9ImLFunRJg2e/yfgmEKhtLW1TZkypaysrCeO29vbRUVFL126JCYmRrcMgw6jAxWEOB5mOL58r4RfRMw14FTCw7JzmdfnKc/f7OULVlbQGiuoZuJ6kqComKa+UcGLt9eb3l8jEHn4BTUNjAFbgxIyufgEzqTkXn5Q5n06zMxm9czZHMGp1/IIRFpjRVRB4VwevgPnohIfVZ5OxsqraWouMoA4Bgxqbydq6+ignEIQ5HzohcHDEyj52bPnkydPRh8qJCQ82NaD5ubX06fPQJ84YcKEwkePB/trkskdPwfHFAolPT2dk5MzMjKSdhtIW1ubiIgIsBfT2pEHiry9lgNxzI44LnjxdndgCJ2VAB2iXn1Uab1pu5SSqq6Juf/FRHDHUloxwTcsDpUBnoMRl49fyQb+gpfvfMPizqTlgSDuxdsD56PV9Y1k1TQ37NmbVf7SP+qKa2AIrrHD40RoXj0RLSrm1tOlqx2klFQt1zpG33wSlJAZf6/7bj1Upm8eNt+V90PiFBY+mjBhwrhx4xAEGTVq1NixY1VVVQd7Qg+YqlE4Ighy5crVH1a1PwIXwsIQBBk7diyCIKNHj0YQZPeenzGh99Nw3NXVZWlpOWnSJBTHbW1toqKitHN3lZWVP2GMDHHMjjjuG92GXa4Bx3HYZ3BMnz6ddj1pz2FIV1cXBwcHgiDr1jv0h1Nubu47du7avt0ZQZDffvstIzNr4aJFt+/c7U+ZjPO+edMqKyvn7x/w9/TpCIKYmpo5bt5iYWHJOFd/UtvbiaZmSwKDjktISCIIoqamFhl5UV1do6npVX+KZSbvT8MxhUIhk8kzZsxAcfzvv/82NDTQaU59ff2HDx/oIgc2CHEMcTxyTnTDYrFgkQOZTGbQTwYKx7V1eDK5w9x8GYIgHBwc7e3E9nYigdDADGv6JlNf31BRWVVZWQXGqnt9fMjkjsdPnra1tfetwB/mam1tq29oLCsrB+fbbdmylUzuaGhofPHi5Q/z9lNgMHDc6/4OoCofPnx4//49A7X5CUkQxxDHIwfHzc3NYMlBVlYWg84zUDgmkzuaml6hA9V+0of57GeCg4GxIjMzi/lc/ZH08dkPDDI/7YmDZDtmoBXskARxDHE8cnDc1dUlKiqKIIiMjAyD/awDiOPjx08AMoaFhfeHd8znbX7dIiMzjzoenzPn1atm5jP2WbKkpGzatD8RBBGXkGhpae1zOaxmHIzRMTswl0EdII4HAMfNzS1//vUXgiCyKmrovrhhZ8n9+RUOjE0Fg9kjR44y6KuSklIIgmzdupWBHqNJWVlZoMzY2Fg0ks4zUDguLn4Olhxwc/O8fNnE4CsMVBKJRN5/wBf8ALi5uQ/2tCGZ3NHY+EJVdT4YGsfExg3UF2GmHIhjOr0dlsGff4QQmdyBLgVdtd016XFVZmkjdAxaIKOk4VQShoOLB0zZP3xYyKB/soTjzs5OVVXqDRFjx47Nz8/vVYMHBMdVVdUSktTZrdGjR4d//7oKBt+L1SQSiRwRETl+/HgEQfgFBOrrB9FIDer29GmRvLwCoL+NzUoikcRqnfsjD3Hcq/YOs8ghwfHt23fQ1aCTfps85Y+p0DFugdGfr/BBEGT1anvG/ZwlHFMolObm5ilTpoA5veDg4J5Wi37imEQiZ2Vlg23KCILY29u3txP7wx1m8jY3v97lunvChAkIgkyePDknB8NMrj7IkEjktrb2p0+fbd/uNPV//wMs1tVd8BPm7uhqC3E8zMjba3WHBMdkckdycgpYPgU0GP79YQuMHTvW1taupeUNXT+kC7KKYwqFUldX99dn8xH1diVe3piYmNevX//3338fP3/ev38/a9YsBEFs7VYRCA20rqamtqKyqldXXlFZWPgoPCJy0SI9sPwWQRADg8VVVTW0JQysv7q6Jj8f5+nlxc3NDdrzj6lT43vbpvzmTeu1vHx3D8/ly63V1TX67FRUVHh4eYHBh3qvx5gxq1bbNze/pnspPyEIcdwr34ZZ5FDhmEzuqKvDh4ScdXbZ4eTswkbOycXa2oaN6vO5cby9916/foPxuBj0+T7gmEKhvH79ev78+ShWRo0aNXny5P99+QCeTpgwYdq0P2ndH3/8Mfn333t3kyeDSzlpf2b+mDqVNvuA+6dM+YP2cSKioriC63QobG8nhoVHSEhKoj8StFn645eTk09KSmbmHdFVaUCCEMfDjLy9VncIcTwgWjjgheDx9To6uj/zbNyB/Qp9wzGFQunq6sLhcBoaGmDjXH/ANLR5x40bJyUlffz4iZ77oWtq6xYvNkSrN3HiRG5uHjU1dXUNjb45LS1tc/NlPj77bt++M1QgBvoDcdwr34ZZJMQxHQ1PnDg1evTo3NxrdPHDJdhnHAPF7erqIpFIpaWlWVlZFz9/zp8//8cf1FGnrJycm7s7rfu8y85p+/benJPznj1utMI/wb93r09ERGRh4aNef02rq2ukpKQBi6dPn+7js+/J06JeJYfLu6atJ8TxMCNvr9WFOKbV6fZ2opQUdaGY9Qob2vhh5O8njnsqST+n8tik6V6/blGdrwZYbGRkVF1TyyYVG6hqPHjwEHy78IjI75WpokJdRbNnz56eb3k4xsB1xwOw7vh7usIO8RhsLrB4Tp48uba2jh2qxGodII57bbF9+6k75RAEsbCw/OF0aK8lsHlkSmoa+IJpaRnfqyrEMbv/6sDRMaq7JBJ5+XJroNMIgvj6HkSThpEH4rjny6qurgE75YRFRH7CIcs9KzDYMSQSeft2J3A2U2lp+fceB3EMcTxsBtQVlVVgBS4gsri4xHAcRkEc94RRYGAQ2CkXHR3TM3UExLx61QwWI8rJyTOYUYQ4hjgeNjg+dMgPHRoDT3JK6rDrqxDHPV+Zru4C6s11XFzD8fe159ehiyGRyB4enkBjQ0LO0qXSBiGOIY6HB45b29pl5snu2uUqICCIIIiysoqtrd2yZRa02jws/BDHPV/TzJkzEQSxtLTqmTTcY0gkckJi4qRJkxAEERYRYfx7A3E8QnCspqY+3BWXcf0JhPpnz4pJJDLAmbGxCZFIunHj1uCdjcu4Pn1OhTima7rGFy/Hj6fulvb08qJLGu5B6paWsAhwtvJvv/2WnZ3D+BtBHA97HOt9vqJcTEyc8ZseMakojofpN4I4pntxKI59fsq9pXRPH6RgS8ubrKycRYsWgb2F48ePD2Xi4kGI42GP423btiMIMnHSpIbBv/d3kHSXpWIhjulUdrivO0ZxLCIiamhoNAKcjo7ubA4OdA/69OnTY2LimDk+FOKYTrfZLvjDhW6xcfFgliD0wqDf+8sSNwdJGOKYTkdHDI7p5mlHQHDy5MkrV9qWlJQy2Rcgjul0m+2CP8RxQ0MjODVcWlq65yEATOrBMBKDOKbT0RGD49mzOaSkpEeAk1dQsLS0CgwKKiktY2ZQjPY+iGM63Wa74A9xTCZ3uLt7gKGEh4cn+mpHqgfimE5HRwyOR5LtuG+9D+KYTrfZLsgMjuvrGwQFqcu/xo4dd/p0MEs/yH3TmyHMBXFMp6MQx0OojQP7aIhjOt1muyAzOCaTO27cvDVt2jRwuY6tnV15ReXAKgr7lAZxTKejEMfso5z9rAnEMZ1us12QSRyDK3b++utvYLWY9uefK2xszp07fy0v//79hyPJgW0gxsYm/VT9ocoOfk6YvLqUGXWEOB6qVzngz4U4Zkbhh1KGSRwDzSh6Vqyjoztq1GjaWelRI+sDvhrEMaqUEMcDjsWhKhDiGNVqNvWwhGMyuaOtrf3K1SRDI2Pa03Zo6Twy/BDHqL72AcfNzS2NjS/ZxJWVV44bR71P2s3dg02qBKrB4KyfQeI1xDGq1WzqYRXHQFFIJHJT06t79x8kJl65dCl6JDkuLi4EQSCOUX1lHsevW1qOHDkqLi4xYcKE8WzzASwG94qyTaWoFZk+fbq19YqiomeDBN+exUIco1rNpp6+4bjnmx4xMXAqj05TmcRxS8ubJUuWjIz/G/3MbzF9+vS8vPyf030gjul0m+2CEMd0PQHimE5HmcRxQMARQLHp0/9aaq6z3HoRdIxbQGaeKLi6W0RUtLn5NZ0eDkYQ4phOt9kuCHFMp/cQx3Q6ygyOSSSykJAwgiB///3n46dxpI4C6H7YAm/a8latNgO/YT/nZG2IYzrdZrsgxDHEMWOlZAbHL140gSN37VaZ/hBDUABtgdt3IsEA+dChw3R6OBhBiGPGqj70qRDHdHoPR8d0SskSjp2c7VDWMPYkXAk4f8GTscyNWxeuJh/tVSYPF5KecbzXpMrqlCNHnY8ec6moSu5VgNRRcPHS/pi4g3Sp+PqMo8ec24j5dPGDFywtTwYHsx34KRczQhzT6TbbBSGOIY4ZK+Vg4Li5JVdKWoSDYxa+PoMB7E6ecnXYYNGrgN/hrS47ekF/TV2aqCi/l7eD914HMTGB6trUXrObmGpPmTL59p0I2tSnz+L5+LjftF2jjRxUP8QxY91jnIowTh6OqRDHEMeM9XYwcHw58chKW2O7VaZBx3cx4F0fcHz6jJv9mm6DySZHq+AQj17LNzHV1tZRVVCQfP3mK3whjhlrArulQhwPj4vv6AjLUhAaK+h63YDjmEjGmS1ZkJl1KjfvnJKy9Ju2PJSYbcT86JhD6x2W7N5jX/go5sTJXejouLU9L/LigbXrzNzc1z59Fn/Ib0uvo+P0zJPaOkptxPx2Ur6RsVZaxgm0cFqPian22XPeRsba7h4ORDIOJNHimEjGlVde3euzcdVqI7/D2+sI3aP4tPQTmNwzj57Euu62zy84f/9hVGV1cmbWqY2blu3cterps3giGRcT57du/RI3j3UlZYm0D+3p/+HomEQiD+CJXdBYQafbbBeEo2M6WEMc0+nogOP42fMEWVnx1vb8N2150tKiN26GAU69abtmYam/1Hxh4hX/qEsHtHWUbO1MAY5fv8k1MtayXrH4ylX/yIv7NDTkV6w07hXH7aT8xYZax0/sdnNft8LG6HuGYBNT7Qth+6pqUrm552ByQ3riOL/gvKiogO+hLSlpR332OQoJ8d57cJHUUeAf4LJh43JNTcULYXsrq5N37LS3Wm60YaPl1eQjh/2duLnnbN5i4713Y0raUe+9GwUFeRpfZvekMBrDAMckEvnJk6fe3nvLysrpVLTPQYhjOt1muyDEMZ1yQxzT6eiA49jD0+GA7xaAJJ99jhs2WgJ//GV/HR0V1HTb8CJLWIQP4DgsYp+hoRbKVkJDBhf3nF5xTCTjgo67jhs3bsNGS7QoFH+oB+CYSMZdjPKVkBBqasaQOgrQ0XEbMV9BQfJKUiCQJ5JxF8L2Llw4n0jG+Qe4iEsI1xHSQdKOnfYmJtqgYkQyzshYy9bWBAy3iWScnp5ads4Z9KE9Pb3iuK2dmJSUYmRkPGnSpJUrben0sz9BiGM63Wa7IMQxnX5DHNPp6MDiuKkZIyUlWl7ZveahqDhh7tzZL19RabjewSI0bC8tszy8NgAcr1hhFBd/mDbJydmuJ47ftF3buGn5Slvj9MxT4hJCxSWJb9ry8gvC2knd5gi0BIBjUkdBOyl/hc3iTY6WRDIOxfH9h1FSUiK0uZpbcnl45tbUpfsHuOzctRotZ8dO+9Nn3NHgegeL8xe80eAKG6OIyK9BNB710OG4tLRs//4D3Dw8YDHy6NGjXVx2BPT4nD59Jis7p64Oz6odA+KYTrfZLghxDHHMWCkHFsdXrh4dN24sH98cfv65/Pxz+fjmjBkzJix8H6mjQE9fJSPzFIoqUkfB8RPdtmM1NRnc9Qu0SQcP9WI7DgzaaW29uI2YTyTjwiP3aWgqlpRdlZeXaW3/ap4GhaA4JnUU1OLT+Pi5UtKOozhOTQtapKdK+zhSR4G6usKjJ5f9A1z8j7igSTt22kdcPIAG1ztYxMb7o0Hmcbxqtb2FpSVLx3JNm/anqZkZFptLp8AMghDHjFV96FMhjunUF46O6ZRyYHFsaKgVF3+4tf0a6mLjD6upy7UR8+3XLLkUcwhlGamjwGf/ZjA6trDUT04Jok3a5bqm5+h4wUJlbO5ZIEYk47y8N0pICFuvWIxO1qEl0OKY1FGQlBwoJMSLKwgFC91u3g5TUJCmzfWm7ZqAAFdFVeog4Xivz77klFQjI+PffvsNPTFj1KhRv03u5TN23DhamRU2K/F4Ap0a9xqEOKbTbbYLQhzTKS7EMZ2ODiCOnxUnCAryAtMESsZXr7HcPJwPCqODQzwsLPRQE0Fre56CoiTA8ZGjLqtWm6FZ3rTliYsL9MTxChuj4LNfV7bV1KVP/d9Ulx12tGAFhdDhuJ2E27jJSkNDAeC4uSVXUIj35u2vq5Izs07NmyfeTsofJByDbSAkErmo6Jmbm/vcuXM/37wzJvTChfKKSjr3+PGT2Ng4K6vlv/02GXBZTFz8+fMSOk3uGYQ4ptNtpoK1tbV//vlnYWFhT+n79++bmJj0jO9zDMQxndZCHNPp0gDi2MPTYbvTSpSqwEMk47Y7rXTZYdfUjFFSktq9Z21xyeUHhZdW2BhaWRkDHDe8yJaZJ+rts+l5acK9BxfNly20tDTqiePca2c5OWdHXNxfVp6YmXVKXl7C9+A2OTmJxCv0W/vocEzqKHj5CiMszItuA4mLPywhKXw16WhF5ZX4hAAhId7UNOomwEHFMVBFEonc3Pw6JjZOV3eBgoJia2sbnYqiYk+ePNVdsAAQWUJCEk+o71USjYQ4ptNtpoLV1dUIgsyaNevt27d0GW7fvq2jo0MX2Z8gxDGqrMADcUynTgOF43YSLjhkz7Pnl+lwTOooePb88snTrqSOAkJDppv7ejX1eWZLdBOuHHlaFJeU0k3SWnzart328+fLmC9bmJwa9PBRdEZmL2uKcddD7VaZKCmJW1sbXMs/ByboAoNcaLd7kDoKLkUfuHefunCN1t2+G3EsyAVdJoG9FmK1XF9JSdxulcnN2+FAEldwHnf9PJorI+vk/YdRaDAp+eijJzFoMD7h8P2HkWiwp4duKo9OFUkk8sOHhdXVNXTxtMGWltYVK2wAkW1t7RhP7kEc0+k2U8Hq6moODg57e3tLS8uuri7aPCMGxyQS+enTZ7v37DEwWKyru4B9HJhOmT5jBvtUSVd3ga2tXUxM7Js3rbRdsVc/+Dn5yXflvXz5ChwhZGGxqCd0YMz3WuBa3jlwhNBh/4Be3yYzka9ft2hpayMIMmrUqBs3bjLIAnFMy1Jm/dXV1XPmzHn//j0/P392djZttpGBYxKJHHT8xO+//47OSEAPMy2gpaVdU1PLoL+RyR1DgmMyuWPePFkEQSZP/i0982RPW+33ePQrxxMaMhcuVAHvPTc3j/FrZZz66NHjcZ/n9ywsLRlIQhzTspRZP8BxV1fXs2fPpk2bRiQS0Zy0OE5ISKiurkaTKBTKp0+fvL29P336RBvJ2D8kxors7BygPaNGjfr999/++GMydIxbYPx46m1vCIKYmpq1txMZdLmhwnF4eAQY6I0fP05OXlJ1vhx0jFtg1qwZ4J2qqKh+z0DM4EXTJpFIZBMTUwRBpk+f3tj4gjaJ1g9xzBiGvaeiOKZQKAcPHtTU1Ozs7ASitDhua2sTFRWtqakBSZ8+fVq6dA2HkBcAACAASURBVOnVq1fp7Bu9P+NL7JDgWEeXOv8wbty4M8EeLa1fz3D5lcdKjL/7k6fx8gqSn2fbR9+4eYu2j9H5hwrH7e3EnTt3jRr9zS3jADfwL4MWEBUVe/asmO4l9iF4/nwosFfgCq5/LzvE8RfssfIvLY4/fvw4b968iIgIUAAtjikUSnt7u4iISHV19adPn8zNzVllMYVC+fk4bmpqnjbtTwRB9PTU4P9qGVOYNjUj6yQYfvr5Hf5efxtCYwWZ3EEkkpKSU0xNzcTExAUEBNnE8fHxg3b7++/pbFIlUA0VFdV9+/bX1zcweJvMJ924cRNAPzom9nu5II5ZwfAXWVocUygUPB7/xx9/NDY2UigUOhxTKBQwRtbU1OwDi4cExzW1db//PgVBEIcN3YcV0EKnV39ldVJR8Q+u/KlvzCir6P0ALXx9WkXl1V5LbiflFxXHPy2KRc9D6ClWWp5YWk5f8pu2vIePotpJP++o8qdFl8ePp67/d3f3+F5/G1ocM6jVECY1vng5fvwEBEF89u0fwmoM9qOfPi0COA4Lj/jesyCOvyCWlX/pcEyhUCIiIpSUlD59+tQTxx8/ftTQ0Pjrr78qKipYeUi37M8fHbOK43YSbsECldmz/6Fbq0THzQth3rZ2xnSRIHj85K6Nm3pBfxsx32alkbKytLqGnJGx1qvX2F6zWy034OLmqK5NoU2trE6eO3f297LQSg6UH+L4e5RhHA9xjLYPxHEfCEnpiePOzs4FCxbs37+/oKCAdt3xx48f9fT0kpKSwBi5qqqK1ecNHo6/tyqLVRw/fhqnpiavb6Ae/e0OWjrM9QHHV5OP6eoqfz4bF2ez0ij0wjfn16DlWy034OTksFpuQDsWhjhGOzmbeyCO0RcEccwqHqnyPXFMoVBaWlqmTp1qZmaG4vjjx4+GhoaojaKtrU1ERASd2WPywYOH4/OhoVu3bX/06And0nRWcbxj5+qgE66XE48YGGjQ2pqJZNyLppzU9MCC66Gt7Xm0OCaScQ0vslNSj928Fd5GzP/e6Dgu/rCpmQ6RjPu8Mczm9Bk3FMG0HqvlBgcPOUlKCV+K/nqiAh2OiWTcoyexiVcOPy26jFaypCyxuORyOwl3605ESdkV8KDmltzM7JN5uHMA7i+aMKlpgTdvhdOynvbpqH9YjI5JJPK9e/fDwsIvsI07dfrMmDFjEQQxN1/GPrW6EBYeExuHJ9TT9Q4Unax6oLGCSeKxLNYrjikUSnJyMoIgKI6DgoKSkpJoSycSiWpqah8/fqSNZOwfPBy3tLwRFBQcPXq0to7upUvRTU2vgIaxhOOXr3IkJEUaXmS3tF7j4+N+8uXSeCIZFxq2V0SE326VkbW1vpaWks8+R2CsIJJxp8+4CYvwr1ptbGmlp6Or4u65vldjxes31ySlRK7lncvDnZeTl8DXZ6Lso/VYLTc4edrt+o0wTi6OkrIrIIkWx/WNmaZmusoq0usdzNTUZE1MdQkN1MsjTp129/TaqKenZmKqjb121st7o7vHBh1dlTVrTHQXKGtoyF9JOrZg4fz1Dmbq6nIGizVev8mlfS6dn/1xXFT0TENDk8EqAphE1wITJ01yd/f43v8jWSIyxDFj0PU99c2bNwcPHuy5Xq2rqyskJOTcuXOg6K7PH7rH9MxFJ0AX7BuOGxpexMbG7dmzZ+VKWxubld9zMjLzUP3j4uJ2dd1dUlLKEo4vRvmu/GwRJpJxW7au8PTaACD16EmsiAj/s+LuHbd37kYKCvEBHN++EykqJlhemQQkC66H8vBy9opjUkfB1aTAWbNn6i5Qffrsu1OFAMekjgI3j/WGRt2HoNPi2H7NUmcXO3CKYxsx38nZdrW9KZGMO3XaXUiYPzPrFBgve3lvlJOTrMNTTy5vI+ara8ipq8sD63NL6zUV1Xm5187RIZg2yOY4rqvDCwgIoq8bephsgVGjRjk5Ofd/jAxxTEe2YRlkCcfgxKk1a9ZNntzHDXXjxo1budJ20iTqKYI/XFnRTspfpKeGzQ0GVLp9J1JAkAdc8eDh6eDlvQE1C5A6Cpyc7QCOnZxtD/s70Satd7DoiWMiGZecGqSgKL15i7WursrLVxgiGdfUjKXNCJ6L4ri5BausLH3y1B5SRwGK45q6VB6eueA6CSDf8CKLj4+rFp9+6rS7haUeWqCX90YPTweUsFu22hzw3YwG7deYnz3/9SBzNB71sDmOt293AgBarDsfE3v0YXYodIxb4HzArn9m/A0W4D94WMjSWLinMMTxsOQvXaWZxzGRSAoODpk2bRr6sz9hwgRubh4+Pv7vuRkzZqLCo0eP1tLSDguPeFb8nMmFbk+K4v/3v6mbHJdt27582/blm7dYTJnyW0oq9WCt5cv14y4HoKgidRSEnPUAODYy1kzP+OYU8yPHXHriODcvRF5esrI6mUjGOTnbOmyweNGUs3CRVnML/foKFMekjoLbdyPmzp39tCgexXFe/jkVVRnamhDJOC1tpTt3o06ddvfeuwlN8vLeeDr46/GP27bbhoXvR1PXrlt2JmQ3GuzpYXMcCwkJIwjCwzWHXJZOIWChY6YF0iIPj/rcQ3x9D/UkLEsxEMd0ZBuWQSZx3N5O3L17z+jPe67GjBmjp6cfH3+5vr6htbWtra29V/fmTau6ugaCIDNnzty0yfHhw0IikUQmdzBvrNjuvHLtuqUXL/mgbus266XmC4lknN0qk+jYb27rOXV6D8CxufnC5NRvzvry89/eE8c2NoboPQ4trdeWLF2wYeNydXX5nlNqtDgmdRQc9nfS0lYqLkkEC91u3LygoChFS892Ek5FRebeg+hTp9199jmiSV7eG8+EeKLBEYZj8B8m88UazGAIyoAWaC1OHTOGuo/R1XU3S/DtKQxxPCz5S1dpJnEcFHQcbG2aOfOfy5cTmDF1xcTEKquonD4TTLeJnkkcv3yFERLiKy75Zv8FoSGLg2NWaflV/wCnzVusUTsAqaPAbpUpwLH33g2uu9fQJpkvW9QTxxaWi6Jj/VA41tSlTZ/xl7vHV2MCmkSH45bWXB1dle1OdgDHjS+zeXjmVlZ/XZVcXpnEzcPZ+DL7F8TxchOtAUTt+YCdR702fqzNoSuzE48J8NgQc8qDLv6HwTfPUkKPuP5QjIFAaX549El3BgIsJbWXpI8dOwbimA5KTAYRJuWGkRgzOL7/4OHkydR7B2bO/OfevQc9f5l7jamsqm5ra++ZxCSOoy75Ghpp0VIV8NFmpdEhv+2V1cn8/NxpGSfbSfmt7XlRl3znyUoCHBeXJPDwcubmnW0n4Vrb886HektJi/XEcXjEPpl5YuWVSUQy7uUrjLOLnaamopAQ7+Mvize+h2Nw5fD0GX+h20C8vDeYmOrUEdKJZByhIdPQSNPdfT2YyvvVRscDi2PN+fLjxo0ryg2jY1xh1vkxY8aYG+nQxf8wWHMnTltd+YdiDATSIg4uXTxgPzkQx/1B5a+IYyKRZGpmBiYcUlJSe+KV1RhmcEwk47Zus068egRlIurBXguxWWnYRszPx51XU5eXlRVVUZ1nv2ZpVk6wp9d6IJaDDVZRlZWVFVVVlXXYYJGadsL3UPdN8mg5bcR830NbxSWEZGSEZOUkwG0UiVeOrlptSrf9b/eeNTFxX8fRoIQLYXv1DdSaW6hL01rb87y8N0hICsvKCsvIiHl6b3jTRr0rMzbucMjZr9aJM8Hu8Qlf7d3+Ac5JyV/vf/PZ7xif8HVdM1pP1MPmtmNgrBhwHKurKu7cZE3Hx8325osXakEc03Y9aKzoD9nZJe8PR8clJaUTJ04Eq+iB8ZdWCfrgxxPqp0z5A0EQ+zVLUNb0zdPanldHSGt8mdVzEA2SXrzM7plE+6zmFmxtXcrLVzloJNisgQaZ9zQ1Y2rrUpqaqSs0mM/FvGTho5hx46jbGby8vBk0+1Cd6DZIOD7u6yIqxPe+KgslcmtxCj8vV9SpvSiOXxYmHNqzfuUSXef1lvfSzwDJLjzmWW6Y+za7lUt0A322tj1PoRCwdKPjtuKUEwecXzy6QiFg31VmRgS521vqOa2zuJcR0oXHgHI+1mQnXfBdv8Jw29plt1NOp4b7wtExm8DrVxwdnzh58vPBfaNzMFgGFGA+qb2dyMfHjyAIx5x/aj8vwmUeSb+sJJGMc3NfB5apXLwYxaC1RxiOr4T6WpgsSIv0Q3EcEeS2ynJx+kV/gOOGB5dlJEWD/VxuXAm8dNJDWIDnXkYIhYC9mXRSXETgcohPQcIxj+2rdTWU3ldl0uIYfy9OU1UuNnhvFx7zvjLTcKHaRrslefFHEs/tU5SViD3jTSFgO+tyNtotMdFTx8T4Z0f7mxtpr15uDHEMcTxYLfDD0bGdnR2CINOmTRuQvUOAI3v2uAGyCAnxeHpvOOS3HTrGLWBppT92LHVoPGvWLMY3VI48HGdE+S811AbD1S48RkddEZd4PCMqAOD4xIFte3esRWHt7+no47KaQsC6b7M7tGcdiO+swxgvUi/MDkVx/DgnVElOKifmCBCIOe1lvWThp7ruOUPC/XhpceG3FZm3U04rykp2lHcv3XtfmamlKgdxPFgwYrHcX3F0rK2jiyCIrJwcgxEZq0kvXzYpKSmjS5Khh8kWmDhxUkzsd0+zBW9h5OH4bUWGmLBA/f14CgFbirsoIyH8oTobxXF7SRq5PINCwJLK0mvvxNguM3BZZ04hYNMj/SREBfIuB5JKv66DrrkTp6WmlBsfOP2vP5PDD6EQt1m6KOTwjmfY86hTU5J5mBmyf9e6I96bUTEKARt6dDfEMYvYHCzxXxHHKqrzEQTR1NRilbmM5Qn1DRs3Ok6dOnXUqNGj2OmDkpGdKjVqzJgx8vIK6ekZP1xiOPJw3IXH7Npkc9LXmULA7nRcEeC5iULAojhue57i6miz1GiBg42Jn/umjavMAY478ZjrV46vszFRV5ZdpKUcEbTnUx2m5k7cPzNnaM1X8PfcrDhPvOPLjhV1ZRk1RUmjBcq07n568NrlBpdOedHiOAXajgeLriyXC3HcwRiyrKY2N79+8qTowYOH7OPAwQtaWtrsU6UHDx5WV//gxlK05UcejikE7GMM1bbQXpIqJMDb/DQJxXEXHrPMWPdcwK7OLzNvJ3ydXdaZd+ExtbcvfajKBCStvRuno64Qe2ZvzZ04aQlRcnl6Z13OKktDZ4fuNRvmhlpZ0d2GC5CFcC/2XUXG3h1rj+/fTovj8CA3ODpmGZyDkwHieIBxjEKEfTwAZ8bGJuxTJZZqMiJx/LE2R1leystlrYXxAgBHMDr+UJ0twMfZ+PAyiOyswywz1gE4XqipeO1yIErSsGNuuxxtUNsxhYB98yxZUkww+zOFT+zfvsrKEF1N0V6SKi4i8OrJVUzsUU1Vuf9qskE5n2pzDBfMhzgeHLqyXCrEMcQxu7fAiMQxhYA9F7Br7Nix2LhjtDjuwmNszfVszPWLr10ozDq7abX5KitjXTW5+gfxKeGHpMWFMy76Vd+8mBbpJyrEl58QRItjCgH7MOscPw8n4V5sW3HKPEmR3VtsS/PDH2aeNVqodmC3A4WA/VSbY2agab/c6Nm1C0XYUIeVpquWm5obaqOU76cHbgNhmcE0GSCOBxJGLS1v4uMv79y5azM7ff7+m3rIFi8vHztVarObm3tWVg4z675HEo7jQ7wrrl8EyGt7nnrGd9v7ym77Q82t6NRwXwoB21qcvN91/UJ1ueWmC9Iv+pHLM07u3/o4O6QTj8ElBK0019OZL+Ow0vRW8qkuPKb9eerlEB+UoV14THrkodsppygE7KsnV/e7rl+kIb/EQOPSSY+Ptd0j4o7y9JMHnAx1VSxNdJLDfF8+Skj7/Fy0kP54II5p6MqyF+J4wHB8585dUVExdN4Men7YAqNGjdLW0amqqmZsuxhJOO4P6YZFXohjlhlMkwHieGBwXFeH5+Tk+iGAoEDPFtDQ0GC8ABzieFiAGFQS4piGrix7IY4HBseurrsBaKyXLKy6Gd1RlgYd4xZ4lBOqJCsOGi0uLp7BABniGOL4e+oBry5lGfk/OcMPd+UNxrpjoBazZs54V0FdwA8dMy1Qdj1q/PhxCIKsXbvue/2NTO6AOGamMdlEBo6O+4M7ODoemNExuENPXXkem/SKYVGNLjzmjynUS62WLFkCcTwsXtkPKwlxDHH8TQsMyegY4FhDRfaH+korkBt3ZK+TLZFmzytI7cJjEs7uPebtSCvc0x96ZFd7SSpdfHrkoVJcJF0k9ewYPCbEzxlszKVNrbpxMSJoD21Mn/13Uk5iYwNYyj71D+qp0xDHLDUaOwtDHH8DIxYDcHQ8kKNjVnG8e6vtqFGjIoLo72Iglab9M3P6HI7ZjDuekrwM/j51v0DMae/9ruuB8Ja1FqkRh3tm/FSHkZEQvpNGPRuM1uVE+2upKdDG9NkftHezq+MKlrKPMBx34THkstSO8rSejdCFx5BKU99XMrJlfarL6TXvu4qMj182btCW3FmXQy5NRfd6oEnvKjI+VH89wBON74Pn36rMf79sBWQmO8QxiwT+RhzieIhxrKokpzVfrrOu+yxaoPExp73UVRQE+fkYdwAUx+GBbnu22gHhtuep7yq6l7LSZoc4RhW/q6uLg4MDQZB16x0YGEn6cN7xx9ocEUE+Xq45Pa9fqrhxaeLECdvXWdK+FDp/2fVLmmqKIDI+2OvFo0Tgt7M0xMR+3Y+H5qq4Ec3Hw/kvzdHJIGndCqPTh3agYv3x+O5e67NjDfMlQByjatYHD8TxEOPYeeMKaXFhWvNCFx6zUFMp4riXkAA/dedrUdLtlJO0/SE31h8ckAhwjEsIdFy1ZImBZuJZL3JpKjY+sOJGNK088DOD4/+qsxPP799oa7xjg9W99GB02PVvVealU57rlhtsWW2WHumHHqfwoTo75oy3g42hp9Oq8oKLgd6Ov/joGOB45ozp1+Lp6entvHruHA7mcWy4YP7D7FDw7hLP+1bcuNTznUIcw5UVfYD+T80yjGzHu7fa7nS0CfBy9HK2Rztb8bVwaQmhmjtxAMd300JMDb65ykxajK/2bhyFgAU4PnPQSU9LUXGe2A6HZc1PEjeuWpoc/vVoc7TYH+L4v5psm6V61ksWZV48lHDWR1lOMuzY7i48hrqtdrH21rUW2JjDyRcOqClJnzpIPYrs36osUz0NO8vF2Zf8Es766Kgp2FoYQhyLCPK5ONrZWRigLQ/aSliQ13Xr6r7hmFyW/qG6e08dbbFM4vhtRWZpfljt7ehP316Z+urxleLc84R7cejvLii8ozzj+bULDQ8ud9Zh4Oj4Z8ILjo6HeHS809Gm9k6slLgIsNB14TFu2+z83DYQ7l9mEscUApbWWMEYx2b66htsDGndYh0lYDvOuhRgoKOCdvsXhYniIgLksvQnmFCt+fLoQeb3Ms5qqVJnLKNPe5noa6I9vLU4hZd7LsSxiCDftYQT1HPanlxF0Zl1KcBYTyPk8C6A41vJp7estUBTKQSsprLU66JkYKxoLLwizM/126SJHP/8baBFNetvXL0s7/IJWnng/yGOu/CY1PBDMpKi+lqKGiqy+joqLz8bQP6ryd6+3kpZXtpQV0lOWmzFUj2wV7sLj4kL3istIaKvrairobjaytDLeRU0Vvw0IkMcDz2OO/EYwwXzc2KPUghYclk6OJi8/zhueBBXjgsvx4VXFER8rM0Bo+Mgn63ZUYdo3UHXtQDHm1cvPbZ3C8gC/urrqOASj7+rzHxdRL2W7d+qrFdProYc3jlPXIBCwNpZGiaFUc9YQJ3rlpUQxyKCfPcyzm5da3E+wBW0TCceY6qvkRx+8Ky/K8Bx3uUg66X6aLtRCFhB3jmvniTR2o5pjRUMbMdz58x6hj1P+9bKceEWRlrAdlx+/aK4MH/1LarxqguPiTrpaaCr2oXHXDzhYWOuDwzcn+pylhhoxX8++OJh1jkxYf7aO7GgbvEhPlyccyCOIY773gLDzlhBIWAvn91na7GYQsAmhx00M9DsxGP6j2NvZ3s9DTk9DTnjhSptJWk/NFYYL1KTlxICWdC/efHHPtXlnA/YZW68wM5C39N57WFPR4BjTWXpu+nfrNM4Bm3Hn6fy7mWcvZcWrDlfHkCt7m6ciBDf24qMwcDxpEkTF6rLou8LeObMmg5w7O1if/KAE8r9T3U585Xm1d6JuxJ64EHmOTTeffuqQ67U+brN9ubBfi5ofBceY7RIHeK47zBiMSccHQ/96JhCwL6tyBAW4G16fMV4kXrWJeqp4bQ4NtHXRHsI9TxcXk5a2zFLxgoGC93WLF8cR3M2GIWAbXqU8K4iI+TwjpXmeu8qM4GF8Vl+JMCxjbl+5qVvVhl7OK2Co2MwOv5Qkz1PUqT8ehSFgPVz3+ixfVUXHtN/HLttXblYW3GxtqKFkSa5LP2Hxgp9bSVFGVGQBfz9Z8ZfqREHu/CYypuXLgbt8dm5bsdGa2kJkYO7qLMXWqqyj3IuoMpGIWA9obGCRaT2RxzimC1wTCFgN61a6u5kLy4iAK58R3FcdC1CTloUNd0W54VPmDChJ45dt9iCXsTYdswAx+GBbsuMdNAHva3IkBIXqrsXv9pqcfTJryujz/jtADg+ddDJ3toY7bofarIlRAQgjgGOKQTsES9Ht212H2tzpMWFn+dHUAjY7+H4U10OH/dsZowVdXeiS65dKLl2oQwX/qk254c41tNSDD+2G2RB/xJLUk8ddDHQUU0JP1RxPZJclu6zcx3AsabKvEeYb3Ds5bwajo77Q1iW8kIcswuOC7PPjR8/ft/O7iuEURz/W50lLMAT6LOt7k70w8yzS410FeZJ0uE4LfKwlLjQWb/t7cXJfcZxR3m6spyEs4NV5Y2Lz/PCrZcscnJY3oXHnPPfqThP/EFmSOWNi8f3b1+/cgn33FlF2DBSaZq8tOi+Xeuqb116igm1MNa1WWYEcYzi+MWjK6LC/BmXAhZqKYGlgSiOcYknliz+euJ70+Or0/43lRkcoz9+wPNDHO9ytAn02Ybm6sRjdm+2qbgZzc05m/TlVj0KAbt1rSXA8cZVS84F7ELlu6hWb02IY5aQ2h9hiOOhxHF+QmDe5e7LIP6ryT7tu63xYQLoDMSStLOHu1fyl+ZHrLE2UleU2GhrVn0r+rTfztdFyRQCNvK4W3sJdQPYh+qs2DPeh3aveVN0NTvav+Lz/5HRTgU8nXhM2NFdDV9u/UFTa25dijnlAYKvi5IOuK7XUZ1noK0U4ucC9hd8rM0J9nPR11JcpKlwfN+2txUZUSfcr57bSyFgW4qSvJ3ttVVlrJcsxMYeLcNF5n/5Omj5jD0jbFceWHd8L+MsmDozM9AW4OWKD9kHGgHFcd3dOM45s5oeXwFi3jvW/vnnNDocm+prpkf5g4wMpvIYbwMpzDrHyzWnvKB703xahJ+qgsy7ykx+nrn3P1eSQsDeSQsW5Of1cV4F/GJCfITPV1xTCNik0AO8PNwQx/0hLEt5IY6HEseMUfUrpI48HM9XkC7M6d6+kRpxSJifu6O8e2P0xeOeHtupmyc76zDu21YJC/Iu0VfT11E96etsuEjj1ZOkypsxZl9GzXHBe4UFuMFCty1rluESe1noVn0rRmGeeM9dec4OFmGBbuhqCnERQdNF8/W1lZVkJcGGo5hTnvy8XMYLVfW1VSxNFuTGB4kJ8RYkBnXhMWHH9kiKCZnpqxnoqq5Yqhce5H7k80XXTGoj3JXHEn/phCGOIY6/rlRjsssNoNgIwzFLLVN/P/5h+umWIuo10q3PUz99u1GepaIYC5PK0h9nhTzPC0NvLP18BVRKYcaZmlvRYIM+7U4QUmn6o8xgfI/tIYyfAlIhjukIy1IQ4hjiGOK4dx3ow5kVzABrZMtAHLPEXzphiOPeuyKDk2V6TerbAZsju2cy8+1+5dExM+0z7GQgjukIy1IQ4hjiGI6Oe9cBODruw48BxDFL/KUThjjuvSv2OgRmEAlHx33ouhQCFo6O+9ZubJsL4piOsCwFIY7ZFMddeMz7ygz0gJ7B7n4fqrM663IG+yk9y4c47tkmwzoG4pgl/tIJQxyzKY5L8iMnTphw8sB2us4ZHrj77ZfT5evuxmZEHqITYD4Ye9qjtZh6NhCFgDVbrH0nnbpa9ic7iOOf3OCD/TiIYzrCshSEOGZHHHfhMd7O9g525rJSIrSLkygErISYMDhfjULA5sYH2ph/c64uS51NXXlexc0YkCXyhCfY6cdSCf0X/gVx/KkOY6CjstnenHZtGYWAzb98DD3d9NXjxMfZX4/4YbWdb1w9/vbLjeZrrI2LroWzWkKf5SGOWeIvnTDEMTviuKM8Q0ZStOnRFWV56TtpwbR9gzGOSaVp5QXhTY8T6bp6Zx2m/l5s1Y2L4EAMUCAtjsnlGbTcf/30anlBeOuz5J7lEO7FVt+82HPrAW0lmff/gjh+mHlOTVmWl5vzRWH3DkzQXGIiQm+Kuy+izYoOWG1lxHwz0kkqy0vV3qVeokghYPfv3lhxs5fbYeiyDFQQ4piOsCwFIY7ZEcdXQw/YLzfqwmNO+jo5rDQFXeVmyhl+7tnjx4/j4Zy1Y/0yZ4fls//5e8rvv/Fzz76dfJwqfMBJSkJkobqcrLTYljXLADGjTrj7e25ZucxggYaCmqK0uIjAU+yFunvx/NyzJ06cwDVnpqUR9bg4Oyuj+1nnwaHGzg5WkmKCizTkZCREdm+xBZdghh5xPeazbcVSvQUaCvMVpaXEBIvzBmDM9QvieLO9eVywj8NK0zPfXmc3SDgeKM4yWQ7EMUv8pROGOGY7HHdRT6NXu5F0ikLA1j+I5+LkAAdTgHuSxEWFmp4kddbldNblYGKPrliq/6k2pwuPybwUMF9RuqUoqQuP+a8m22WDtfs2uy485pSvEx8v162UM114TBceE3rUVXu+HChKTUmmpuRB+gAAIABJREFU7PolMIOH2o5dNlqvsTYGd0O8r8qyNNH1crbvwmOOeG0WFOC9l3EWlHP6oIu+jgrd2JnJHksr9qvhuOVZkqSYELEk9U5asMI8SbAj7mHWucU6ir//Pnmhhlyg90Y/tw0KMiJzZs9YrKNYnHu+C49JCT+oriLHyzlLWkLk9CFnMMGbfOFA9CkvT6fVkqICvFwchgvV6h9cJjxIWKyj+L+pU7RV5+1xtKIQsI5rrJ7lUc+s+FiTfeags7SEMC/nLCU5qYggN3B6X/WtaC/n1dGnvVQUpLnn/KMkJ4VLPE77jljyQxzTEZalIMQx2+G4/HqUrLQo6HJdeIy5kU544G60S3zPWGGspwEIDiRfP02Sk5H4tyrzlK/TKkvqwfbAtRanzp09810l9dZ3WmMFwPGbZym8PJxvnlHPJwKu4WECHw9XR3n6Ea/NDrZmaPzLR4m8XHP6b7L41XAcHuTu5ECl5H812VLiguAcH3JZ2vNroXy83LdTTjU+iKu/H3vWf4eZvubza6Fvy9Nup56RFhcsyg2jELAvChOWGmqf9d9JIWADfbaKiwlHn/L6tzrrfWXm7i0rLU0X/FuV9fxaqJS4ECb2WN1t6m2nRos0wBWo/p6OBrqq+HvUWxZrbseoKkhdOErVq8eYUG7OuXu22rWXpH2qzUkO8xXg4yaXUY+m6oODOGaJv3TCEMdsh2O3bXYGOirn/JyAs7PQU1WURi+K7xXHH2qy58yasVhHyXSRKnAmC1V+n/zbi8KEU75OB1wd0H71sSabAY5vJZ1UV6Heg4e6TjxGRV6ytODSEa/NAV6b0fiOsjSIY7Q1mPR01mHUlOY9xnQfMOTv6bjB7usv3PeMFcuMdHJiqBd3AVd3N05RTvJjTXagz1Yr0wXof1AaHibwcnH8W039oaW1HQMcE0vS+LjnNjzoNihTCNhS3EVhQb4PNdmPMaG8XHPQc47+q8kWF+YrLbiIPpElD8QxHWFZCkIcsxeOyWXp4iICe51tD7rad7td9rzcc55iuw8F7x3H1dlzZk2/fvXEk+wQWvehOuuUr5Pv7g1oj2KM4xtXj2uqyqHC4EgwNUWZElzUEa/NR7y3oEkQx2hTMO+5n3FWiJ8bd/loQcKxgoRjsWe8Zkz/CxwhRCFge8Xxx5ocrjn/bF2zdPcmK+B2bLD4a9rUN8+SA322HnLbhD79XUU6N+dsMFXbE8e3kk/SvdlPdTlSYoI1d+MfY0IXaaui5VAIWBVZ0ef53Wdy0sYz44c4Zom/dMIQx+yF46sXfI0XqYPTyoH2d+ExXs72TustwTioVxxTCFgdNYUbyafRDkMuS3dab/W+kmqsYB7HTY+v8nLPJX4+QxkU9erJVa65HMTSNIhjtG375unCYxxXmy/SVLAzX4g6MSGeyOPdN630iuP3lVmzZv4dHugaf9qD1r2tyAj02XrYwxGtDGMc58Yd1dNWQoW7f2iV5pXfiHmMCdXXnU+bBHFMR8mfFoQ4Zi8cG+iqJocdpO0bFAK2BBfJzTkHrCQVExGquNG9bik/8YSetiqYkAk7tnu+ojS6reOwhyNYm8EAx1rz5W+mnAHPQqfyHGzNnNZbgUVv/9Vkr1thsnWtBZjKg6NjuvfCUrClKJmfl+vVk6u0uVLCD6opzQMxveKYQsAqykoU5X5dxPK+MvP4vq0fPhsrmMdx7Z1YIQEeWlt/a3HKnNn/tJekQRz/NNr+8EEQx2yE46qb0dLigqgVD+23nXWYxToqqRHUDXh7d6zl5ZrtvG4p9TKOZ8kaKrI8c/+5lXT8U22O6+aVkmLC1qbaOuoKBrqqzZ97/vmAnUdpjAwfa7LFhXjAVN45/138PHMsDDUoBKzNMgOw0I1Umma7zEBBRszaVFtxnsQ6G1Py51t8Th5wOunrjFapoyxNWkyQtnujSSx5fp2pvNAjrivN9VFTL2glclk6Pw8nsAyICAu+KEwE8TkxRy1Muu3CB3evtzTRBUbhz1fAeJgb6XTWYRiMjlUVpIvzu42/wHbchccY66mfOLAd/Mersy7Hy9ke1Afi+IeU/GkCEMdshGOWQNar8KsnV28nHS/DRdJ1+16FGUTW3Y29nXS84UFCP8th8AiQ9Ivg+FNdjrK8VG5c90VctM2yy3GFywZr6tJvy8ViQrwHdlIvScLfixPk41aQFn6cFfy2IsNssZa2msI+F7u1K4zkZcRrblP3UjLAsYfTaiE+Lkdb6sWy6MqK+vvx6sqy5oZa+1zsTPU1Fmkpgx9siOOfRtsfPgjieEThmLafDwv/L4LjTjym+XFirwdCvavIaH1GvRDkv5rs5seJxOfdqwzJZWlNjy6DPTj/1WQ/zDoXfnRHVtThjvJ08Gbflqd3lH9djtaFx7x+0r0b81NdzusnV1qfUQ0jbcXJ6H7Lf6sy8xOCwo/uuJN6Bo38rya7rZhaAdS9Kbr6sSYbDbLkgVN5P2QuAwGIY4jjr/2QpY43IMK/CI4HpK2GRSEQxwxo+8MkiGOIY4jj3nUAHD9vZUzdRA4dky0AcfxD5jIQgDjuvSsyOGm+1yRZOXkEQUSE+GjXqDGpwb+sWEtR8m+TJiIIYmNj02urgkhJSSkEQbZu3cpAj1lK6urq4uDgQBBk3XoHBs+dPn0GgiCaqrKDbUAfSQpQeStm9OjRCILscXNn0LbMJD19WoR8/oSFR3xPXkVFlfqsPXtYUgC2FYY4Hhgcr1q1GkGQUaNGnfV3/VRHPUQCOsYt8KE6a+taC9DfAgODvtffyOSOocKxgcFiBEHGjx+feP5AJ3yhTLTA2/KM5WYLwTuNiYll8E6ZSYI4ZtufDRYqpqmpiSCIvr7+9165iup86qhHU+t7An2Iv3Pn3sSJ1IEegiDCAryKshLQMW6BuXNmg+aaO5cTj69n0OZDheP0jMyxY8eCX1lxEQHGXwemKspKzJwxHbxTMTGx169bGLxTZpIgjlmgHtuKDgmOSSRyyNlzKJGBUsK/P2yBv/76C4vNZdw5hwrHRCLp4CG/0WPG/PBbQAHaFuDk5Lx37z7jd8pMKsQx2zKWhYoNCY7J5A4Sifzg4cN169YrKSnP/f5n9ufP99MHJWXGjJmDUu73C50xY8b3E+dycXGpqam7uOyorKz6Yc8cKhyDd4oruG5js1JWVo7B15k5c+acOXMYCAx40pw5c/7+++8BL5ZxgTNnMtIiXl4+TU0tT0+v+vqGH75TZgQgjlmgHtuKDhWOmdEwMrkjISExKuoSk8IDItb8+vXGTY5EImlASmOyEDd3j6dFz5gUZiw2hDhmXDE0dd++/Q8fFqLBn+C5efP2qtX2JBL5JzwLfcSGDZtevWpGg4PtgThmW8ayUDF2xjGRSDIyMlZRUfmZHSk+/vL48RMePXoy2P0HLb+x8cXMmTPd+j23Dgpkcxy/ft0iJCTk4LAB/fo/wbN6tf3UqVNraut+wrPAI+7duz/m/+ydB1jUyBfAs7sIUpRib1gAQSxYUREEpQgKdmx33uGdd1bsWEBRwHIqevau2LAXqhUULFhARKS3XVRUem9bJv9P5i6X/wJLtgABJt9+Osm8eXl5b+bHZDKZsFhXr15rsDMiHItBPdqK0hnHSUnJSkpKDAYjNPR5g1VrqwkTMAxbu3Zdg53x6NFjGIbp6OhI/zynEWdWUHSXv38AhmHq6urpn0Q9kKSojYrY589fVFXVMAzbvWcPFXmZyCxeshTDMFtb2wa7zUI4pi1jxTCMzjh29/CADz1+/nl+w3SQIyIiFRQUMAzr1KlzVla2TFqmaCW5uXlDhw6Fl3nn7l3RwlRyad47trf/Z7renj17qVyO9DL79/8N3auv3z8/v0B6hXVqSE1N09DQwDBMQUEhPj6hTnmZCCAci0E92orSFsd5efm6enqwIbVp06ZhqvWatevgGTEMO3fOSybtRLSS+/cfMBgMeNIZM2aKFqaSS2ccp6amwZf3fkxw1OuXk5NL5YqkkcnNzR88ZAh0L5PJ9A8IlEYbxbJ793oStWjrNjeKpaQUQzimLWPFMIy2OL5//wGLNGtq69ZtUtbXOot//fqta9d/pvdiGGZqalZQUFhnKSkFpkydSjTd1oqKKSmpUiqkM45379lDXCyGYbdu3ZbyYuss/vDhI+KvHYZh06ZPr+/Rg4KCwj5aWsRl6urq5ebm1Wmn9AIIx2JQj7ai9MRxUVHxvJ9+Juo0hmHdunWr786Ul9d5DMPk5FphGNaqVSs5ObmwsFfStxMRGqI/xsCxEeJKd+7cJUKeShZtcZyblz/k32EZeL0WFpZUrkgaGftZs9p36ACJ3LFTJxUVlfiERGkU1ln29u07RDQxDGMymQGB9+osJb0AwjFtGSuGYfTEMZud3qFDh9lz5srL/xjJ1e/fv1u37hcuXJS+1tamoaioeO7ceafPnBk5chSGYQ4OC7Zuc9u4ybk2eZkcX7t2nX7//j169Kj6e9N9wgTrwYOHSNmZoi2Onzx52rZt2zlz50FaGZuM7dChw5u34TLxZI1KPn36vGr1mqSkFPjC0Z69e728zp89e65GYZkcLCwssrS0GjPGWFlFBcOwESMMBw0aNHfevAZ48oFwLAb1aCtKTxw/eRISFBScn184bNhwOM6Yxubcvn1HJm2mRiUFBYXfvn0vLi4ZU/VS+NKly4qLSzIyvtYoLJODeXn5V69ei4mJa9OmDYZhC377vbCw6MqVq7GxcdLopy2Or1+/ERX14fPnL/Ax19Sp0+Li4h8+fCTNxYouW1hYBDkIcfz3gR9rfRT+OCSbpVeq6/n06bOPj29g4D24MNC+/X9nZ+ecOHmqASYgIxzTlrFiGEZPHBMVfefOXXAZhHPnal2nihCWSYKMY5koFKGkqKh4zZq18JbWz89fhCT1LNriGF7Cj2GoeT9hGKaoqPjq9Rvq1yWNJBnH0uihUraoqNjK6sdcSSUl5ZgYqf6yUjkdIYNwLAb1aCtKcxynp3/q0uXH47WOnTol1POoH6zZDYnjhw8ftW6tiGGY4chRspqDRXMcFxeXPHv2XF5e/sdVG478/j2TAEr9JRoMx0VFxYcOH4GjMQt++73+rqi6ZoRj2jJWDMNojuPi4pKjx47D+m1gMDghMam+h+EaBsdFRcVPn4bCiRwKCgqPg4KrNzDJjtAfx0VFxYsWL4ExnTFjxteqMSLJLpZiqYbBcVFR8YWLF5WUlDAM69y5C5UFRijaT0UM4VgM6tFWlP44Liws+v33hbD1dunS5eLFSzk59ThzqAFw/PXrtz179sJ2y2AwPT33yfBvDP1xXFxckpmZNWbMj6XQMQzr37//w4eP6nVOYX3juKioODU1benSZXDIWFlZRVZDT1RADGUQjmnLWDEMoz+Oi4tLsrKyf/vtd9h6GQzGgAEDN21y9r5y1cfHV+Y/ff3+GIbZ2dnJXLOPj+/5CxeXL3fs2bMnvJZWrVq5ubnLlkRNAsfFxSVsNsfEZCz0g5yc3OjRRh7bt9+4cbM+3N6q1Y/Ji4sWL5a58rt3fU6ePD1//i/t2reH16KsonLj5k3qGJWVJMKxGNSjrWiTwDFcvPHIkaOdO3eBlb4Z/Kurq+fr6yfDfjFs2E0Fx8XFJdnZues3bIQTS5pBQBkMhrGJyZs3b2UeUyrIRjimLWPFMKyp4BjWyLQ09vbtOwYPHkJ+Ya9ptWR5eYWxY02PHDkK59VRaWliyTQhHMPr+hD9cdWq1Tp9+zatOJKtVVVVtZk46fr1G3l5+WIFS4bCCMdiUI+2ok0Lx7D6FhQUcjjpL16GhYSEyvynpaWNYZiJyViZaw4JCX31+s2XjK/1+p5uk8MxjGl+fkFiUvKzZ89l7vbAe/fhm5Z/Llosc+UhIaER7yIzs7IbpUdMpjnCMW0ZK4ZhTRHH5Foo8zTE2eTJU2SuuWEUNlEc159zMr5+g+92url71N9ZGl0zwrEY1KOtKMKxUENCOBaqqwCAbt26YRj2x5+LhHzVJHYRjokwGRn9mM2yadMmoRA30V2sidotwuw6cTx2rCmGYaONxhBBbd4JhGOh2oJw3CQqPOodC9XbJrlbJ46nTZuOYVgPTc1GHx1rmFaBcCxUjxGOG6biSXmWsLBX8Oni5cvetalCvWOhuk273TpxvM3NHcMwFksu6kN0bWFuTscRjoXqKMJxk6jeFy5egjgOqv0NT4RjobpNu906cRwa+gyG2dnZpSV0kBGOheoowjH9cQyXh63zI4QIx0J1m3a7deI4799VwzU02km59iP9qzXx6U80s4KoqQjH9K+3sXHx8EXwqVOnibAW4Zio1TRN1Inj4uKSy97e8GX8cePGZ2XniIh3M8hCvWOhmopwTPNanZdXMHXqNHgL+0Dk+tGjRo3GMMzZ2VkoxE10tyXOrCguLikoKJw1658PAFtaWqWlsWleQaUxD+FYqHECAOD3Shp4xUhpgkgu27wnuuXnFzg6rsCwH1+/nT59hug3jDQ1NTEM27lzp1CIm+huM8TxuHHjMAyzsrIi1+Dq6S9fMuCfVgzDNDV7Hjt2PDMzq1kOJTdpHBcWFvXvPwDDsJUrV8qqjQEARo368cGqJjqA01xxXFRUzOakz54zF34JsFevXklJydVbLnHk+/esjp06YRh24MABWdWNxtXTDHE8Y8YMDMOGDx9BhK22xOfPX6ZMmUp8l1dVVdXKasKyZctXrFzVnH4dOnRsuujJzs7p2asXhmGurq4ybCqrV6/GMExLS1vK7/jVVrXq9TiBY2eXzRkZX5vBj83mBAU9WbV6tZqaGhyj6Nmz17t3kaLdGBX1AX4n98GDBzKsG42oqhni+K+//sIwTKNdu3wKH7HPy8s/fPhIjx4/bnma99ZEe4KpqWlKSsoYht28eVOG7eT27dtV39iW+9AEJzsSOFZRUenQoWMz+KmqqpJbn5WVVVxcgmgWFxeXnDx5Cpb69OmTDOtGI6pqhjh++vQpDNJLyh+xz8zKvnDh4pw5c/X19Ts2u01OTq7p9o6vX78JPy2YkJAgw3by7ds3uISeh8f2Ops93QQIHJMR1gzSCgoKRkZjrl67TmW97MLCIvgFv27dugkEAhnWjUZU1QxxXFJSAmdNrF6zRtyGVFRUnJWVk5mV3Zx+AwYMbLo4njVrNoZhampqPB5Phu0EAGBgYIBhWK9evbOb2tQaAsdjx5quXefUDH7Ozi4XLlyMivog+sEduTm/DY+A/Qx3d3cZVozGVdUMcQwAsLa2xjCsU6dOaWwOOYQtM910H+VFfYiGk09XrFgh83by7Nk/bwNt37GjaT3CJXDcvFd0E9FaCwoK7ewmV71by8rNzZV53Wgshc0QxziOh4WFwQd0K1etblotTUQVlDirieK4oKBwpv2PyYgMBuPLly8ybyECgWDgwB/3DWpq6q9ev5HYvQ1fEOH4xMlT8A5YhvNtZF7BJFDYPHFMdJDl5OT8/QMavsHQ6oxNFMenTp2GTW7ZsmUAAAkqd51FEhIS4Efn+vfvz+Gk0ypqIoxp4Th+9DhIRaVN1cetO5eXl9cZ5SYk0DxxjON4VlYWvM9t3759SOgzEZW72Wc1RRz7+PopKirCJldSUlJ/Ler48ePwIdiIEYYJCYlNojK0ZBzff/BQXUMDzoqJioqqv4rRKJqbLY5xHA8KCoJPz9XV1W/fvkP9KUGTaJPUjWxaOC4oKDxx4qSy8o/Jba1atYqJianXhgEAWLBgARza6t69x7179+lfT1omjnPz8vbt26+iooJhGJPJvHPnTr1WjEZR3pxxDAC4ceMGvOFlsVi//74wLi6eOsWajWRTwXFRUfG7d5Ez7e1hd7V169bPnj1rgFYhEAjWr18PT8pisebMnddY306mWOVaGo7z8wt8ff3gakEYhsnLy/v7+9fT+FUD1DcRp2jOOMZxHAAQEhIC/6JiGNamTdv583+5des2h5Oel5efn1/QEn4DBw7CMMzW1o6eF5uXl5+Sknr5svfMmfZwfAnDsPbt28fGxoqouLLNAgD4+fkpKSlBKMsrKBgbm+zc9Vdw8JOkpJTMzCxa/VJS01q1kscwbPMWV1oZJkNjvn/PjI2N8/X1W79+g75+fyaTBR/qampqstls2UafPtqaOY6ho4uKiuzt7eHABWxvcnJyPTQ1tbS1W8IPvkiqrKxMz4vt3r0H8Z46HBNcvnx5ozyiKSoqmj9/Pny4B+sJ+pc+Hmjbtu3Ro0dlO/2cPiCGlrQIHMNuMofD+eWXXxQUFMiNnz61rYVbwmAwFBUVV65cmZmZ2Yj3oQCAnJycI0eO9OjRAw5ztfC4NO7lMxgMOTm5QYMGBQYGlpWV0Y2eMrenpeCYcByXy01KSrp//76rq6tTy9jgsiz9+vWj5+Xu2LHj0aNHbDabz+cTYWr0BACgpKQkJiYmJCTkIc02b29v+EKag4MDzUyTpTkvXrz49OlTRUVFo1eGBjOgxeG4wTxLnxMZGhpiGLZnzx76mIQskcYDXC4XDkDdvXtXGj2oLN08gHBMt4jI3h6EY9n7tFE1Ihw3qvvr8eQIx/XoXJqoRjimSSBkZQbCsaw8STc9CMd0i4js7UE4lr1PG1UjwnGjur8eT45wXI/OpYlqhGOaBEJWZiAcy8qTdNODcEy3iMjeHoRj2fu0UTUiHDeq++vx5AjH9ehcmqhGOKZJIGRlBsKxrDxJNz0Ix3SLiOztQTiWvU8bVSPCcaO6vx5PjnBcj86liWqEY5oEQlZmIBzLypN004NwTLeIyN4ehGPZ+7RRNSIcN6r76/HkMsDx1atXl/z/5ujoePXqVS6XK43hpaWlGzZsgMsXAADKysqIpQxev34dHBwsjXLRZaOjo319fUXLNKFchOMmFCwqpiIcU/FSU5SRAY6XLFni4uKSQNpCQ0MnTZo0YMCAyspKiZ2Sl5fXo0cPAscKCgrEmgaXL18+ePCgxJrrLOjv7+/s7FynWJ0CAAA+n5+dnf369et7/26hoaHfvn3j8XjEX5c69UgpgHAspQPpVhzhmG4RkZU9ssFxYGCgkEEAgIkTJ547d07oOPVdAEB5eXmNOObz+fW6zp70OObxeEFBQba2tvALQ9WXxWrVqtX48eP9/PxKS0up+0QySYRjyfxG21IIx7QNjZSG1ReOcRz39/e3s7Mj7MvMzLx79+6VK1devnxJ9HNhbk5Ojp+f35UrV+7fv08soycQCOBai0VFRenp6a1atUpJSYFHysrKyN9P43K5jx49unLlSkBAQFFREXFG2DMFAKSlpd2o2hISEsh9Uh6P9/z58ytXrly7du3jx49EljQ45vP5p06d6ty5M4PB6Ny5865duyIiIr59+1ZeXs7j8bhcbmZmZlRU1P79+/v06cNgMFRUVHbt2kVcNWG8DBMIxzJ0Jh1UNRaO4d1eRdUGqjYZeuPjx49X/n+7du3a+/fviVYp2bl4PN6tW7cIJUQCx/GMjIz3799LppZKqaysrNevX1ORJGTqEcfnzp37448/4FrDf/31l7m5eUxMTEZGxpkzZwYPHpydnQ2NCA4ONjExiYuLy87OPnv2bIcOHbKysnAcz83N7dy5MwAgJibm6tWrcnJyFy5cuHfvHgDgwoULf//9NyweGxuro6Nz9+7dnJyc0NDQfv36EV31T58+6erqHjhw4MiRI1++fImPjx81apS7uzsMSVFRkaam5rlz5zIyMpKTk1euXGlnZwezJMMxNLVz585MJnPu3LlC6Cc8TiQAABkZGUuWLGnVqlXbtm2Dg4PJdYUQkz6BcCy9D2mloSFxLBAIMjIyTpw4MWPGjHbt2hH3eUwms3v37n/++ee9e/dyc3Olr7pubm5Tp069Q9oOHjyor69vbW0tza1waWmphoYG0f9r3bo1sWJnQEDAxo0b6y+yL168+O2338TSX184Lioq6tmzJ3zgFhwcbGpqKhAICMuePXtmaGgoEAgAABoaGnl5eUTWxYsXHR0dyTiGQCePHRM4Likp6dChQ2ZmJlG8uLi4V69e3759w3H806dPioqK5IdyhYWFSkpKMB7btm3z8vIiCgoEAn19/ZycHNivF3fsGABw7NgxOTk5PT29+Ph46rUTAPDt2zdDQ0Mmk7l8+XKylwjbpEwgHEvpQLoVbxgcCwQCf3//fv36MRgMJpOpra3t7u5+6tSpS1XbkSNHfv/9944dO8IPuNjY2ERGRlKv9tVd6ubmdvHiRaHjPB7P1NT0zJkzQsep7wIAPn36RBhGxnFZWRmZPNR1UpRsNBybmppuJW2zZ89WUFBwc3ODdzSjR49OSkoiXwMAYOjQodHR0QCAtm3bkj/QzeVy8/PzKeLY29vb1dWVrBnH8QsXLqxevRriuHXr1mTAAQB69eoF8R0dHU0e2QAAmJqavnnzRgIcAwBWrFjBYDCWLVsm2V9yAMDu3btZLNbs2bOJv+RC1yXxLsKxxK6jZ8H6xjEA4OXLlx07dmQwGGPGjHn48GFt38oCAOTl5V26dElLS4vBYBgaGn79+lUyp9WIYxzHHz9+bGlpSfAUfj4iOjr6y5cvxEF4RgDA169fo6Oj4+PjidE/AAB8bC4QCKDfcnNziSPktgYAyM/P//jxY2xsbHFxMaGc0FBWVhYXFxcTE5Ofn0/kws5iZmZmdHT0x48fyTcKjYbjVatWhZO2yMjInJwcaDGXy1VRUak+xeLo0aNHjhzBcfz8+fNKSkrr1q17+fJlUVERcZ3EYIWI3vGCBQuePn0qFP6MjIx+/frBv4p9+vQhFEI9urq6379/J+JXUFAQHh7+8OHDDRs2yMnJwbEesQYrAAA7duxgMpnEMIiQPRR3AQCBgYEsFuvXX38l/wmhWFyEGMKxCOc0xax6xbFAIFi6dCmTyTQwMKA+dMvn8+/du6empqagoODt7U1udBQ9XBuOg4ODzc3NocI3b97o6emdP3/+xYsXjo6OdnZ2xcXFUD+Px5syZYqzs3N4ePh5WltfAAAgAElEQVT58+e7desWFhaG4zgxWPHs2TMnJycmk7lw4cItW7YIBALyYAX8mriVlVVwcLCPj8+oUaNOnjwJT5qTk6OpqfnkyZNffvklKCjI19dXW1v7/Pnz8Lx8Pn/q1Knz589/8uRJYGCgtbU1MT230XBMDNdWd31lZaWCgkL18Fy5csXd3R3KFxYW3rlzZ968eZ07d9bW1oZ/YKngePbs2QkJCUInzc3N7datm0AggGPH5FMDAAgcR0VFde/efejQoa6urj4+PqmpqRYWFhLgODAwkMFgEDEQMkbc3Vu3bjEYDE9PT3ELipBHOBbhnKaYVX84LikpGTZsmJyc3LFjxyToE5SVlc2dO5fBYGzdulXc4jXimM/nW1hYnDx5EsdxNpvdu3dvYiYSAODOnTtmZmawgZ88eXL37t1ENNPS0rp27crn8wkcwyzyYAUZxy4uLlu2bCFYwefzbWxs/Pz8cBzPyclRUVFxdXUlcvPy8pSVlWEH/Nq1a2vXriWyBAKBrq4uJBgdcczj8TQ0NMgTIaBf1q1bd+vWLcJ9MMHj8c6dO9enTx+BQEAFx46Ojvfu3RNSEhMTM27cONg71tXVJTxF7h3zeLyOHTsGBQWRc6dPny4ujgsKCtTU1IyNjYnKR9zaCFlFcRcAsHr1ajiNhGKROsUQjut0UdMSqCccl5eXDxw4sHXr1qGhoeR2IZZzAACenp4MBmP9+vViKXFzc5s1a9Z90nb69OnBgwePHz8evlC2YMECocYOABg1atSHDx9wHN+9ezfxeB+29PDwcIo4Li0tbdeuHfGID15vRkaGpqamQCDIyclhsVhkggEAtLW1ORwOjuMPHz6ECcJLDg4O8JadjjjGcXzBggU3b94kzMVxnMfjde3a9fv37+np6RMmTCCHTSAQwKdtVHD8+vVr4kYG6gcArFmzBo79i+gdl5aWdujQgXxeHo/Xvn17sXAMAPjtt98UFRVzc3MLCgqOHTs2cuRINTU1RUXFjh07jhs3ztfXt/ooDdkPNaYrKys1NTUNDQ3J5tUoWedBOFlQS0sLw7Dff/+dmMddZ0EkQGcP1AeOBQLBtGnT5OXl3759K+W1AwAOHz7MZDIPHz5MvQ67ublZWVmdIW3nzp17/fo17OgIBIL27dsXFBQI2XbmzBn4Ecj4+HhlZeVt27YlJydXVlYS56XSO46OjjY1NRXSDADo2LFjVlZWTk5Oly5dCIWQ9cOGDUtNTYVFAAACgSAvLy89Pf3evXvKysr379/HcZymOM7MzOzevfuXL1+g9QKBYNmyZRs3boQdyc6dO8MHaDA3MjJyxIgRAAAhHLdp04aYQUHMrBAIBCYmJsS8QgBAUFBQnz594J9TETjm8XidO3dOSUkhTPLw8Ojbt29AQAAAgOLY8bdv31gs1pIlS7Zu3dqqVSs5OTlTU1N3d/cDBw64uLjo6+szGAwNDQ2hPjg8o+h/Hz9+jGGYNA2Dx+NdunSpS5cuGIZ16NCxRw9NBQUFeXn52bNnZ2RkiD47yqW5B+oDxydPnmQymULdT4n9AABwdHRksVhCz/BFKKxxsIKQ5/P5CgoK1Z+TP3jwYOnSpVAsJyfn2LFj48ePV1JSGj9+POw1U8Hx69ev165dS5yLSOjr6ycnJ8Ox49pwnJ+fP3/+fA0NDRMTEycnJx8fnwkTJjQmjl1dXas/TyMuCSY+ffpkZmb2559/7tixY9iwYTt37iTu7j9//mxsbDx16tTDhw9bWVlNnz4d/g0sKCgYOXIk9AIA4OLFiyNGjJgxY4ZAILhz5w7xvl9lZeXq1avHjh17+PBhGxubadOmEZNXMjIyLCwsyJYAACwsLOCU57CwMG1t7XXr1m3atMnU1DQxMfHJkyf6+vopKSnBwcFURm9XrFiBYZiampqcnNyGDRvIzyHhn9C0tDQLCwsmk7l7925yOMkm1ZgWCAQ9e/YcOXJkjbl1HszPz9fV1W3fvv22bW5xcfElJaXl5eVZ2dl37tw1t7Bo1arV6dOnxbKnzjMigYb0QGVlpZKSEovFErrplNiG3NxcBQWFP/74A/aQoqOjvb29jx075uXlFRQUJFSxKZ6Fy+X27t1bT0+PPHtBRFnROBYIBB06dIBzrshKTp06JdRUAQBcLtff379t27Zfv36lguOPHz+OHTuWrBa2X/gOhAgcwxli7u7u5P64o6NjY+JY6DJq2wUAlJaWFhUVVV9aiMiS+G66oqKiqKiIvMxQbWaQj/P5/OLi4pKSEgnYxOPx2rRpg2FY27ZtRTyAFggE27dvxzBM3LmTt27dYrFY1esf2f4a0wUFBd27dx8/fvznz5+hwP37D5Yvd4Ru5/P5R44eVVRURESu0Xs0P5ifn3/69OkRI0YoKSkpKCh07dp1xYoVcMKoNJZPnTpVWVk5JSXFw8NDWVkZwzB5efn27dvDNJPJnDx5stAIKZXTvX//nslk3rlzh4qwaBzDMU/4bI3QBgAwNDSEl+/o6Ege3sVxfNmyZSEhIVRwXFpaqq6uLjSZ78uXLz179oRjx5qammREAADgYAWXy23VqpVQ1uDBg5sAjgknNo9ETEwMg8FgsVgRERGirwgOMbdu3ZoYbBEtD3Pz8/NZLNbjx4+pCBMysKKMGjW6sLCQOHjs2PG+ffsSo9gAAC+v8ywWKzo6mpBBCZp7AA7Iqqio6OjorF237tSpU+fPn/9r925LKysFBQVLS8vc3FzJLiE7O5vFYunr63fp0qVVq1ZLly5NSUnhcrmCqi07O9vLy0tDQ0NeXv7atWtk9NR5OgCAkZFRz549qXSQ68Qxh8Pp2bMnMbMNAHD16lULCwto0s8//3z8+HHCPIFAMGLEiJSUFCEct2nThngfmDyzYvPmzeTJUTwez8LCAk4YE9E75vP5GhoaxFRrAMDDhw+7devm6+sLAGicseM6o9IsBby8vDAMI09/EXGZZWVlbdq0Wb58uQgZoSz49HbRokVCx0XvhoWFKSoqRkd/JIsJ4RhmzZxpD8foyZIoTU8PCASCBQsWqKqqHTlyFE4ASEpOefLkKRzxe/8+yshojKqqKsEFsa5iz5498NXnwYMHf/r0qcayFRUV8+bNYzKZN27cqFGgtoORkZEYhsFh3Npk4PE6cYzjeHh4eP/+/U+cOBEcHPzHH39YW1sTdC4qKjI1NV2wYEFQUJC3t7ehoeHRo0fhbTf5JWkPDw8DA4O1a9fy+XwyjgUCwebNm8eNG3fv3r3r16+PGDHi0KFDEO4icIzjuJ+fX69eva5fvx4QEDBv3rwrV67cvXu3Xbt2sbGxCMeiIy7L3EWLFsnLy1MfTNi6dWubNm2qP4sQYdPMmTOHDRtG/MEXIUlkTZkyZfbsOUJFasTx27dvWSyWZA2YOB1KNIwHdu7c2aZNW/L8M0/PfQMHDSKqU1FR0cRJk7p37y40W6tO8wQCAZx4M3ToUOL+qcZSAoFg9uzZcnJyxCBYjWJCB+GY3qpVq4SOV9+FSyZUPy50hMfjsdnshISE79+/C9VzuN5AQkIC7BTDgnDZI0IS7vL5fPjCMPEECw4WFxcXJyYmJicnl5aWChURMgNqgAeLi4uTqjY4J5o4I5xxIVRQ9K4M1qwQfYJmmQvfqB44cCARszovMyIiAsMwsfB36NAhNTW1qKioZGpbZGSkqqoq8b4QYVKNOC4vL+/Zs6esnqQT50IJmXvgy5cvLBbr0qVLZM1COMZxPD8/X0tLe/369WSxOtP5+flMJlNRUREu8yJavry8vHv37nBSv2hJcu5vv/3Wq1cv6i2FXLalpRGOJYm4QCDo3r07efnQOrV8//4dwzBial2d8jiO37hxg1hAi3rizdu3d+742EycRPwGDBiorKxsbW1DHPnp5/kCgWDc+PFCjZyKVUimgT2wZcuWESNGVFT835ccquMYx/EzZ8/Ky8uL1UGOj4/HMGzDhg0UL+r69etycnJwzUWKRe7evSsvL08sIkGxVMsUQziWJO4AAC0trZ9//pl64ZycHAzD6nzuR1Z45swZ6hQmJF+9fh0SErKCtI0bN05NTW358uXEMVdXV4FAYGpm5u3tTT4jStPNA3DK4/79/ywnS5hXI46zs3PU1NWfPHkCn8JR+ff06dMYhtU2ZEycjkgUFBTIyckJzXAgcmtMfPjwgcFgSPyksUadzfUgwrGEkbWzs7OxsaFemMvlysnJidUbtbe3V1NTS0lJ+UZtS01N1dDQqD6jrsbBitLS0h49ejx48ID6JSDJhvdAZWWloqLikydPU1NTSe8P31+48I9evXsHBAQQB+HI8uDBQ1RVVbtT3lRUVDAMozLzAV47AEBdXd3Dw4O6K1JSUjAMi4mJoV6kxUrKAMd8Pp9by9bAA0ZwEB2OyhNPOeoptEuXLtXR0aF+gQAAAwOD4cOHUyxSUVHRpk0bcV+Vnj9/vp2dHfkBBY7jNeL4aUgog8EgXpmpJy8htVJ6oLy8XE5O7uPHj/v3/62h0Y74wddANH5s/xwcNmw4juNjxhgT90kUEywWi2KdhNfSo0ePTZs2Ub+uhIQEDMPq9bsb1I2huaQMcLxkyZLaAk/9r65M3MThcH799Ve40rGWlpZMdNam5PLly+TVoWoTIx/38fFhMpmJiYnkg7Wl4UiFWHPjcByPjIxUUFAIe/WKrLY6jgUCgbW1jampqVjtkKwTpRvGA5WVlcrKyn5+/qVlZbm5ecTP3X27fv/+mVlZxJH8/Hw+n6+rq2tnZ/c35c3ExATDMKG/36IvbciQIT/99JNoGXIunOv28eP/Tb4kC6A04QHZ4BhOe4ZzR8j/EqdpmASB45ycHHFBJq6FaWlpDAbj3bt31Avy+fw+ffpQ+cA2/DYghmEhISHU9cPbgmnTpunr9ye/ciKEY4FAsHevp7y8fHp6uljKkXDDewC+17O+2qO2GseOk5KSWrduLdbj4jt37mAYRszepXKBq1evVlNTo3736e7uzmQyq6/+Q+VcLU1GNjgWsd5xQzqUwHEDnJTP56upqS1atEisDmZiYqKcnNzYsWNFPP7+8OGDhoYG/OYN+XslFC+qpKSkb9++gwcPIUbrQkJCt7huhe2nvKLCdetWOTk5cefzUzw7EpO5B06cONGjRw+hYaXqOAYAODu7aGhoiNXVTUtLwzCs+qLhIq4iKioKw7Dw8HARMkRWZWWlmppa69atRU9qJuRbeKLecVxYWHj+/PmKigoXF5exY8eOGDFi5cqVxBrSOI5XVFR4enoaGxuPHj165syZMTExBODg17qMjY1NqzahpdEAAFeuXBk9erSZmdmUKVMSExPZbDYcrCgqKiLWGLp06VJubm5oaKilpaWJiYmxsXFYWBj5FD4+PmPGjDEzM5s/f35WVlZ4eDjF2rljxw55eXmxehY4jt+7d09JSalLly7379+HH4mBVRAAkJWVtXz5chaL1bFjRxaLZW9vL1ntLCkpMTExUVFR+fPPRU+ePM3IyMjNzY2Ljz9y9OigQYPatGkD72YkU45KNbAHKioqVFVVV6xYSeZsdRxHRr5XVlb29/cXy7zy8nIFBQW4vjvFgnw+v2/fvtra2nV2kAEA69atwzDMwMCgTuX79u3rXMsmou9Sp1oJBHJycmbPno3jeF5e3qBBgwhWSKBK3CL1jmM2m92nT5958+bBt2gEAoGnp6eRkRG8yLKysoEDBwYEBMB3cr5//66lpQUXHRYIBA4ODjt27IDBKC0tnTdvHrFiPwDAyclp9erVcGWc8vJyR0dHZ2fn6mPHgwcPnjFjhre3N3yR5vPnz506dYI3dACAZcuWLVmyBK4eUlpa+tNPP1lZWV29epWKH7Ozs1u1arV161YqwmSZ9PT00aNHw+WH7Ozs1q9fv2LFiqFDh7JYrFatWm3fvn3Lli0YhpE/IUguTiUtEAgePHgwevRoJpPJYDCUlJQwDFNVVXVxcaH+JiGVEyGZBvDAy5cv5eTkdu7aRRBQCMdRHz5oaWnPnj2bjGwqhsEXmsR9+TMuLk5OTm7BggUiTgcA8Pb2ZjKZGIYdPXq0TmPc3Nz++uuvkpq2hgQijuNZWVmWlpbwzRrqz97rvEAqArLBsa2t7ZFq26uqB0psNpvJZBKLHeM4zuVy27RpA9e42bBhA/xiHmHry5cvp0yZguP48+fPifVBYC4ce4WPwlJSUgYMGECuDQKBwMDAoEYcL126lBzRAwcO7NixA8fx5ORkXV1dspLy8vK2bdtSxDEAYNWqVfLy8uSrIy5EdAIAkJKS4u7uPmbMmD59+vTv33/atGm3bt0qKSkpLi5WV1cXWpVftLbacuE7+xkZGXv27MnJySFfaW1F0HEaegAA8OjRIzk5OTu7ye/eRXK53PLy8oKCAoFAkJ2dvXevp6qq6tSpUyXrRd65c4fFYolbh2EpIyOjrKwscuOC3isvL1+8eDGTyWSxWAwGg/g6pQjfUlmzQkRxGWYROIaPwWSouU5VssHxn3/+GVxtS05Ohl+4ateuHdkO+A5FVlYWn8/v3Lkzee0x+DAKDjNNnToVAp1c1svLa/v27TiO79ixo/pnwM+fP18jjoXGuR48eLBmzRocx/fu3Xv69GmyfriOH0Uc4zheXl7esWPHIUOGVF81VEgtxV0AgL29vYKCApUaTFFnUVGRjo4OYjFFd9FWLDU11czMjMlk6vXrN2/ePAeHBePGjVdVVVVTU7ty5YrE8S0vL1dWVv7ll1+qU1WEKwAAoaGhGhoacnJyP//889OnT5OSkpKTk8PDw9euXaukpCQvL79w4ULqHQvROOZyuW/evBEIBPfv31+2bNnixYsvXbpE3CtAbrx69WrVqlULFy7cs2cPsWwbzEpPT9+4cePChQudnZ2FVsQHACQmJsJcDw+PnJwcAsdcLvfVq1fQLR8/fiwuLs7MzHR1dV24cKGLiwubzSb7h81mu7i4LFy4cN++faWlpd++fZPgOw+ywbGIR3lsNrtfv35kuwEAOjo6WVlZZWVl7dq1q60S9O7duzqS4uLi4KLsDg4OoaGhZLVwwacacSz0rPnhw4dwTZMNGzZUX8Fy+/bt1HEMT8pkMuHS3UL2iLsLAHB3d2cwGGIZUOdZTp06RXFVrTpVIYHG9QAA4MuXL97e3uvXr580adLx48ffvn0rfVdg7969TCZTghWNS0tLd+zY0alTJxaLBWe7MplMdXX1DRs2ZGVlnT17lsViUXwSIxrHWVlZPXv2XLFiRWhoaGVlZWlp6cqVK21tbSE9BALBzz//vG7duqKiIh6PFxUV1bVrV/goGwBw7ty5iRMnfv78WSAQfP782czMjLwUp7+//5gxY758+QK/ZGZvb+/l5QUHK8ifZbK1tV27dq2joyOcUPjmzRt1dXVibtK1a9cMDQ05HA6fz//69eu0adMWL158+PBhcWtLI+NYXV29tr/qWlpa1RfciYmJgThesGBB9UlgYWFhYuHY3d392rVrQi7bsGGDWDQEAFy7do3JZDo6OtZ2LUKnqHEXAODh4cFkMleuXFnbn6gaC4o+yOfzu3XrhmHYpEmTREui3Cbkgfz8fPKXOqW0vKKiomfPngMHDpTsRQGBQFBQUBAXFxcbG5ufnw9bQVZWlpKS0owZMyhWZjc3NwcHh7BqG7zJzsrKYjKZL168IK6Ux+OpqKjACSfe3t4ODg7kE4WGhhoZGcG7c+JrbbAsl8vV1NRMS0uDo8MdO3Ykzyzg8/kjRoyoEcfm5ubkBn7kyJHNmzdDJR06dCArKS0tVVFRaWI4FggE3bp1E5rBw+Vyb968CQCYN29edeAeO3Zs7969OI57enqeOnWKiA1MnDhxQiwcBwUFCU1oh19bEQvH8G7o8uXLDAZjzpw5ki2VwuPxVq5cyWQyly5dSg650AVKsPvmzRsGgwGnzaF1AyRwID2LHDx4UF1dXTJ61nhFERERLBbrzz//JEOtRkkqBysrKwcNGqSqqkp93pGbm5uxsfGualtAQAB8vKakpES+XgDAgAEDOBwOfN9VaNkNgUAA7603b95cvcvl5eXl6uqK4/i1a9cgUskX5e3tXSOOfXx8yGJhYWHz5s2DS305OzuTs3AcX7RoURPDMY7j7u7ubm5u5Bpw48YNuOb627dvDQ0NyWyqrKzs0qUL9Pvnz5+1tLTIg0fwlSSxcFxRUdGtWzdiGVkAwMmTJ7W0tMTFMSSyv79/69at1dXVhSbkCcVJaBcAEBsbq6urKycnR76HEhKTbBcAMHXqVOKdSaGvikmmE5VqdA/AD8dhGPbs2TMZGrN//34Mw/bt20dujxLor6ioMDExkZeXp7LqPKG/zsGK6l9IGjJkCJvN5vF4ioqKZBQQOnEcNzMzi4+PJx/BcZzD4cDVcZ2dnW/fvi2UGx0dXSOOIyMjyZJv3ryB8+H+/vvv6mvRHD9+vNFwPHv27Ks1beXl5SLGjnEcr6ysHD169KlTp+AM3FevXvXo0QN24gAAa9asWbZsGfxyYnZ2toWFxd9//w3rCgDgr7/+mjdvXnFxMQCgoKBg9uzZBw4cEAvHOI5///599OjRs2bNunDhwuTJk69fv+7h4SEBjmGcvn79OmrUKAaDMXz48BcvXpD/mJMDCdMAgKioqJkzZzKZzK5du8bGxkrZDKqfIi8vjxjUwzCsc+fOtdXa6mXREdp64NmzZ/COR9ylh0VfEQBg8+bNDAZj27Zt5G6Q6FJCuWVlZaNGjWIymbBXK5QrYrdOHAstmgwAgDjmcrny8vK1GWxiYlJ9TPzTp096enoAgI0bN/r6+gpZlZycXCOOhZbdIHB8+PBh4i0HQtXhqo3YpZiQwdhxZGTk7Vq28vLykpKSR48eka2BX5QiJuXw+fwbN25MnjzZ3Nzc2dmZPCsWABAeHj5nzhxzc/Nff/01KiqKDCwAQEhIyKxZs8zNzbdu3ZqZmVleXg4nUZSWlsKvB+I4HhQUJHTH9P37d/KUXkjzrKwsaJKzs/OtW7fIBouVFggEwcHB/fr1YzAYrVu3dnBw8PPzS0pKysjIgOuypaSk3Lt3b8mSJaqqqhiGaWpq3rlzp7bKJNapqwvv3LlTvmrDMExRUZHJZIaFhVUXQ0eakAcAANbW1vCOh8ViifVtjjovEwCwa9cuJpNpampKfs++zoLE3IZ27dq1adPmyZMnVIqQZSTGsUAgIPpwhEKBQAA/afrbb78FBQURx2Hi/v378Bb88OHDQhNtcRx/+PChWDgOCQn5+eefhdBkb2/fOL1joUttQrslJSVCn+8EAJiZmQlNjJPgigQCQUJCwtq1azt27EiMFZATqqqqixcvjoyMFN2DluDURBE+n+/g4PDly5ehQ4diGLZt27bY2FgHBwdCACWaogeysrLIdzwuLi6yvQoAwPPnz1VUVFq3bu3m5kbxNf0vX77Mnz+fwWAMHjy4+hN4KhZKjGMcx7dt27Zv3z7yWaKjo+EbHG/evDEzMxNipbGxMRznSU9P19LSIneGAACTJk0SC8fl5eXt2rUjTyD58OFDp06dEI7JEak7nZ+fr66uTn7AFRER0b17d+lnDhHnhi9iZGZmvnnz5lXV9vnzZzj8QsjUU4KYxG5oaIhh2J49e2AXhlw16+nUSG39eWDz5s3kv+sqKir1sRwEnEkmLy8vJyc3Y8aMZ8+elZSUkD9nBxezzczM9PHxGTFiBIPBUFNTO3v2LBltYjnBzc1tyZIlH2vaKisrs7KyahuswHG8rKxMV1f38ePHsM7n5uYOHjwYjlwDAGbPnr179244TMfj8TZv3jxr1izYCgAAa9eudXJygrnwneFly5aJhWMcxxMTE3V0dDw9Pd+/f793715HR8d9+/YhHItVAX4Ih4aG9unTZ+vWrX5+fqtXr9bV1YUTa8RWROMCZBzT2ExkWt0egG9OwTEoDMMcHR3HjBlDjMvVXV4cCQBAbm6uh4dHu3btMAyDS6kYGRnNmTPH3t5+yJAh6urqcAi7d+/ePj4+ks0pIix69OjRmlq2nJyc4uLi7du3k3sSAIB9+/YRfamysrItW7aMHDly/PjxhoaGERERhDCfz79y5YqBgYGdnR38EDX5CQoA4MSJE/3797er2kJCQkpLS0+cOIHjeGlp6bZt26CeM2fOCL24mJ6eTn6Cx+PxYmNj3759m56eDgA4cuTIsWPHiKujmJDB2DHFM9FWDL5p+uXLl5ycHCKEtLVWAsMQjiVwGj2L5OfnV1RUcLlcBQUFDMPu3r0LAIBTaOvPYIFA8O3bt4CAAGdnZ3t7ewsLC2tr6zlz5uzevTs4ODg/P58+rYZY3be6N0RkEXeNkl0In88nvwQIT71w4UKhiXHVTap+BOG4uk+a2xGE42YWUTKOm9mlNcXLyc/P19DQIL8GkpeXp6qqSp6VQPG6EI4pOqoJiyEcN+Hg1WQ6wnFNXmm0YwCA8+fPDxgwwNfXNzk52dfXV09Pr/p0Zir2IRxT8VLTlkE4btrxq2Y9wnE1lzT+gaKiooiIiNDQ0Ldv31KcjlLdaITj6j5pbkcQjptZRBGOm1lAictBOCZcIZsEAKCioqKcTtvQoUMVFBQ2btxIJ6PKKyoqJHtyIps4iaOFbjHNysqCj/JOnDhBq5jKcIaoOPFpPrIIxzKLJQDAx8dHT09PQUEBvgtHk3/l5ORYLJacnBxN7IFmKCoqDhs27MOHD3SGMlyuT09PT1FRkVbegzPMWCwWraxq06aNtbW1BOv8yqwRNnFFCMeyCSAAwMXFhTw/H6WpeECCxQ1kEzAKWuDXXqhcBZIhe6B169bkRQgoeBqJ/OMBhGPZVIWYmBjYYenQvv26pUt3ubign2gPLPzp59atW8PFNIQWFZFNSKTW8vLlSxjTjh06rlj4x6YVK9FPtAdm2tnJycnBxarQwIUEFRDhWAKn1VBk0aJFGIYpKCh8eBzE56SjHxUPeB89BnlXfUXaGlzc4IeMjY0xDFNXU3enPYgAACAASURBVEsIfU7lcpAMj83Z5fLPO9zVv6zW4AFseidEOJZNzGDTNRw2DLVJ6h4oTkxSUVHBMOzAgQOyCYNMtXTt2hXDMDurCdSvCElmRL6HKxzR80+sTCuI7JUhHMvGp2PGjMEwbKyREWqQYnlAtW1bDMNk+J0h2YSzSkvnzp0xDJszeYpYV9TChXNj4+B4hcSLhsswgk1OFcKxbELWwDguSUzascm5LDmlqTf+loxjHpvzOiDwt7nzBujp6fTu/Yv9rOAbN3lsTpOOKcKxNEBBOJbGe/+VbWAc58XE6vfTL0pIlG3TTXz23HSMsWx1itbWYnHMY3M8XbcNHWTgf+FiYXxCSVJy8I1bo4YN37x6LTeNLdppuzdv2e/mLlpGdO7IYcM5byNEy0iWi3D8HxTETyEci++zmko0GxybjG7Q8ZYWi+OQW7f1dfW+RESSqZf7MXbooEG3z5wjH6ye/stl875tbtWPUz8yYshQhOOa2nEjH0M4lk0AGhHHt0+fyYyKPrXXc5q19aL588N8/eAN7/3L3jkfY26eOv3LTPufZ8y4fuJkZWoabLF3z57Nj4snWm/805AXd33CA+9tX79Bp4/Wyb92xwQFE7n1mmiZOOayOVOsbc79faC6b33PXxhjOLIyNS33Y4yf13myQOCFC18j318/cWLGpEmzJk8++dfusqTkuKchUY8eRz54uOL3hdNtJu7Z4pod/RGW8vM6nxsTS2hIDH327PadrA/RJ//a3auH5l8umwPPXyByZZVAvWNpgIJwLI33/ivbiDgeOsjglzlz/3b3iAi8d+HQ4W5dukZVTbaztZrw568OTkuXv/TxDb5x09bSymnZcm7V0OSo4cNTX70hWuA5z30rFv4Rcuv26j/+7NlD08PJKTwgkMit10TLxHFxQqJmjx7pr99W923Ox5iuXbp+f/8hPiRUaODIytT0pZ//sV1/TTAzszE393ByKklMOr1v/7wZMydPsH5w5eprP//Nq1aPMRwJiWw62ij+2X9T9C4fOrz4l1+/Rr73cHLq1qWr05Kl3ocOVzdAyiMIx/9BQfwUwrH4PqupRCPieFD//gc9thOPgNYuXrJj40Y+J93WasJShwXE8YK4eH1dvQ9V3d4accznpCc+e44GK4jw1t/Mis/hEd26dCkg3aAQECxLTu2rrf0h6EltOOZz0smDFaf37dfpo0Wo4rE5i3/5dffmLXxOeo04hidCgxVElGmVQDiWTTgaEcdDBxmkhL0i2vMhN/eNjisgjoOu3SCO8znpaxYtPuD+4xEQwjGVqNcfjr++i+zSuTN5vIgIU2lSilbv3h+fhFDH8fLffieK8znpz+7cHTfGmMfmIBxTiTKtZBCOZROORsTxMIPBnyLeEQ3yiMd2AsdR/z8EvGvjxs2r11TH8dm9nisW/oF6x0JVof5wXJqU3LtXr6TnL4ioEYnv76O6duma8zFGCMc8Nsdy7NiXfv7Ve8duThuI4nxOetyTp4P6D6iO40sHDy3+5VcoiXrHQrGmyS7CsWwCQU8cB172JjfUtYuX/F01QWrU8OEpYa+JLM+t2xCOq9eD+sMxj82Zbz/L03UbEQIicf7g4QnjxnHT2PEhoWONxhDHeWzOiCFDa8Txn/N/IcR+9I7v+pj92zuOC31GZB3evgPhuHqUaXUE4Vg24aAnjudOmw6f3fE56YXxCf119eBTPgtTs0fXrsOGymVzrMzGETgeM3IU0YAbINEyH+XxOelRj4N6aWpGBz0hOznt1WvtPn1Cbt/lc9LZr9/qaGkTb/qwX79RUlQicLzXdSsseHrf/q6du2R9iIa7PDZnqcOCXS6b+Zz0SZZWARcvweNcNsfWagIJx0PSanqQSDZGsjR6lCcNUBCOpfHef2XpieM/HX5z/H1hmK9/yK3bdhOsV/7xJ3zF4MjOXSOHDgu6dj08MNBp6bJf58yDOP4WGdWjW/eta9ZGBN6TrDWKW6rF4pjPSb91+kx/vX77trm99vOPCLx3ZOcufV09rwMHoQ8r09hmY4xX/bnoTUBg8PUb0ybZWptbQBxfOHR4mIHBzg0bS6tmVthPmWZnNeH+5Svhgfe2rl1nOHRoZtQPOp/a6zl88ODHV6+FB97b6LjCYd5PBI7tJlg7zJp99chRceNVpzzC8X9QED+FcCy+z2oq0cA4LktOuXrseHlKKp+TfvPkqcL4BKKdRD96/MrXDz7Ki3z0+MbJUz9Nmz536rQrR49XVMnzOekVqWnn9h+YOcn2F3t7//MX4kOf+Z2/CDW8e/Dw2M6dHxtqXbqWjGMem5P+5u2eLa72tnaTLS13bnJOfP6CmAnD56RnvIt0WblqsqXlmkWLk56/uHn6DPv1j+mJ5Smpd86eO7ZzZ2lS8ul9+92cNkQ+eLjMYcGUCRN2ObtkRn2AoaxMTbtw8JC9rd38GTN9znklPn9595wXzMqIeOe1b7///89rJqqQNAmE45rwQPUYwjFVT4mWa2AcU2kwtlYTPgT/370wlVINLNOScSwTV5/et999/Y95jTT5IRyLBoXoXIRj0f6hmotwLBkOEI4l8xtRCuGYahNtCnIIx7KJEg1x/MY/ID82jmi39EwgHEsZF87rN4mk6RNSapO+OOodSwMUhGNpvPdfWRriWPqm1QAaEI4bwMkNeQqE4/+gIH4K4Vh8n9VUAuFYsjaPcCyZ32hbCuG4JjxQPYZwTNVTouUQjiUDBMKxZH6jbSmEY9GgEJ2LcCzaP1RzxcVxfkzs57fhQr+M8AjirY0621v2h2g40a1OydoEeGxORsS7Gs/ITWN/jXjHY3NKEpNyP8bUpkH6480Jx3k1xjQigjx3TbTHsqI+EJMRRUvWlstlc2DgqgsUxSfAUBYnJOaRFt6sLinNEYRjqsioSQ7huCaviH9MXBw7r1jZvUsXo2HDyT8rM7Niyh/4mGFrF37/oTQtpyQpuWvnLoXxNXxSJC82rke3biWJyT5e5xf9u9CBNOeqrWxzwvGqPxZpdutODqjRsOE248dTJ6yNuUVsyH+vNdfmNBHHC+ISunXpWpyYVF3mzF5P+BrIlWPHVy9aXF1AJkcQjsWHx38lEI7/84U0KQlw7LxylTQNoGFwHBfyTGjhC2lsrl62meF4+4ZN1a+R+pGGwXF00BPiFXnqtlGURDiWBiMIx9J477+yMsdxeUrqh8dBHx49rqj6hEdZcsq7+w9igp8QX/SAOC5PTv3xMYj7D0qSkskNhsvmpIa9euXr++191P8dT2PHPQ15GxBYlJAo1DuuTGPHPHkaEXivOCGJ6B0XJyblkmbLVaamRT8OCg/8UZysNi827o1/QMrLMPJBKukWhePylB/Bin4cBINYkpQcce9+7JOnxMfxII7LklPeP3z0/uHD0v//NG1ZckrUo8cR9+4LdX4r09ixVYErSkgS6h0XxSe+DQiMDwmtTGUTveOq+P73LZiK1LQfagPvCanNjYl97eef9uq/paaoBBTh+D8oiJ9COBbfZzWVkCGOLx0+4r5h4xSbiTNtbc3GjDE1GhPx4OFES6u5U6Yajxxpa2kFUTjD1u7G6bPmY8dOmzjR1tJy8MBBb/5daCI/Nm7O1GnGI0fZ29oOGWSwy9kFNvj0N2+tzMZZmprNsrMzMTK6ffZcl86d4WBFyouwccbGE8zG2dvajR1t5ON1Hg5W+F246Fi19ubh7Tu2Oa2fNsl2ms3ESRYWOlpar/1/fDGEx+ac9tw3aMDAGZMmTRg33mnZsp+nz3hy4xaVpsvnpLcQHJ/a67nLZbPdBOsq946eYDbuTcA9G3PLuVOmjh4+YoatbUnV8IKNucVdrwvjjE2mT5w0ycJi2ODBkQ8fQU++e/Bw+ODBtpaWUyZYDx1k8OzOj2WG+Jz0lJdh441NrKoCZ/IjcBfgYAWPzbl9+qzBgAHTbSZOnmA9xdpmt8tmOFhx/eSp9csd+Zz0PZu3bN/kMsXaZvrESTbm5no6Ou8e/Bj+4rE5h3fsNBg4cOYkW0uzcS6rVtvb2oZVre1ZZ1gRjmvCA9VjCMdUPSVaTgIc/zZ3XnhAIPmXVrWK/Jl9+7V794mvmttfmcaeajNxoH7/L1UrGlempk20sLx1+iyfkz7D1m7k8BGJ/66Z+/yub18tbbiy14qFf2xyXAG71QXxCRPNLW6fOVuZxra1mvC3uwdsUdnRH+2nTO3YvkNhfGJ5Sqr5WNNTnvtg1vf3UVNsJgmNHe/d4qqjrQMXhONz0s/s+9tirCmPzXnh40uYx2VzDm3foaGu8fDKtTrbLRRoZjhe6rCAHNDwgEBO1SoTh3bs7Kerl/ziJZ+TXpmaNmHc+KEGBnBxiYrUtHHGxvcuX+Fz0m3MLUxGG6X++zGBR9eu6+vp5cXE5sfGGQwYGHL7DnRadFDwQP3+me8/lKekWpqandyz99/AfZg2yRbiOC4kVK9v37iQUJj19OZtHS1tobFjt3VO/fv1i30aAmUO7dg5ecIEHpsTdP3GMIPB3yJ/3Fdx09h7Nruqq6k/u+sDxUT/i3AsGhSicxGORfuHaq4EONbV1p5uY0P+Hdv1VxXp9i+YM5eo9Htcty5zWEDsbl3r9NcmZ4hjz39XWYQ9mnnTZ3gfOZYXEzuw/wDiaz18TvoLX7/pk2xTXoYN7KdfShrTeO7j26F9+8L4xKjHQSOGDCXP03h09Xp1HC9b8N9XJ75Gvu/Ts1dpcsrCn34mf4KzIjWtT69eLRbH/fvqkgM63cbm7L79fE76oR07ly34jQjiNqf1TkuWErtOy5YfqvpKi425BawDMIvH5kyzmXj37Dn/Cxfn288i5Pmc9NWLFnsfORYd/GT44CHkwD2+fgPieOs6J3en9eRJHYt++bU6jp2WLiPUprwM69dXtzwl9acZM66dOEkcL09J7dKpM8IxVRZIIYdwLIXzSEUlwHFtj/LO7Nu/zWk90Rj2bXPbvcWV2HVz2uCxzgniGC63SGTtdnZxXrHyY9ATFWXlsSNHmo4aBX+jhg7V09bx8zo/a8pUQpjPSc+NjevS6cdgxY0TJ3+bO4+c9S3qQ3Uc7yHRvzAuvk/PXiVJyaOGDScGSaCGiebmLRbHtT3KO7RjJ9l7Hhs2Hd65i3D4RscV+7b8+LqdjbnF+/9fS2/rmjXbN2zctnZdrx49iICajhql1bPXhqXLbp065UD6y83npGd++AhxPHvKlMBLl4lT8DnpR3fuqo7jI1U9ACj27V1kv766JUnJg/sP+PjkKbmsmZERwjGpuddXEuFYNp6VLY7d1v/3uR0ROH7h82MhTeL3l7OL88pVMcFP++vppb54mRYWRvw+vw2/f/my/eQphDCfk54T8w+Ob548teD/cfz1fRRFHI8zGvPcx5es1mLsWIRjskNg73jv1v++/SECx5EPH5PLuq5es33jJvd1TmsWLSaiCRM50R9vnz7z6+w5ZPnvUdEQx3OnTg24+H84PrJjJxUclyanjBo27N2/Y9ZQudEIQ4Rj2ZBCpBaEY5HuoZzZKDjeufHHqAX88dgc+8lTrp84mfsxtq+2DvF5CD4nPfLhI+cVK9Nevdbvq0t+ev7k1u0O7X4MVnwMfjp0kAHx4Qk+Jz3w0mUqOC5NTtm0YuWWNWuIm+Lv76PUVFURjom4wMShHTsp4viA2z+D+z/GbdkcW0sr/wsXfb3OT5s4iazzkMf2e5e8Y5+GDBk4iBy4e5evQBx7bNi4ZfV/ceFz0n+b+8/y88S8Y7d1TtV7x+UpqSv/+HOXswtxuoyISMXWigjHlGEguSDCseS+I5dsFByPGj7iY/A/N5WPrt3Q1dHJ+RjDY3MW/fLLgjlz4ZBicWKSjbmF99Fj3DS23QTrHVXjznxO+vf3UTbmln169YaP8izGmh7w2A5b4Ofwd5amZno6fcmvgezd4kq+3YaDFaXJKckvXvbu2fPK8RPlKans129mTZ06sJ8+wjHBMpigjuOxo43gU1w+J93v/MUB+vr5cfF5MbG62to3T52G2mKfhPTT1fscHlGRkmZpNg5+/5DPSf8S8c7SbJyutk5xYlLisxd9evUmHr3eu+zdv58+ld5xeUpq3NPQXpo9b54+U5GalvIybPok2wF6egjH5PZeT2mEY9k4Vlwc793i2ltTs/rv27v3106cPLh9B9GeT3vuO/Hvo3M+J/2gx47DVbMjlvzq8PDaDXOTsZamZqZGRiOHDX//6J/73KKExPn2s4YaDJ5gajZowAA3p/WVaWw+J/1r5PvJ1tZjDEfajB9vOsY46PqNSRaWRQk/3uD69DbcxtzceOQom3HjxxmbhNy+Y2tpVZqY/OjqNTjGfWrP3pN7PQmriuITTEeNhhNjY548/WnGTJ3evceONnp89foUqwmPWuTMCnenDdUD2ltTMz827vzBQ6dI3ju8Y+eFQ4cJZ+7evOX0nj18TrrD7DlBN2+NG2NsZWpmOtrIyNAw5t8x3A+Pgw2HDTM1MjI3MTEYMDDo+g1Y/NPbCBtzCxg4s6rATbKwLElM4rE59y57Dxk4yHLsjxoye+o0v/MXXarePPL1Ou+x4ceK9QfdPchmZL6PshxrCv+Kv3/4eM7Uadq9eo0zNg65fcdy7NjnaGaFbFAhSgvCsSjvUM8TF8dEU5Qy8aP/8uJl0rPnZck/PtRE/HhszpeIdzHBT8ijFnDeEuf1m4TQUKFXDH5MwEpjs1+9Tgx9Rr75JRTWloi4/yDi/gMil8vmjBw2nIAIcby2RHOa6FbbNYp7vDwlNfn5i+TnL8hTJuA3mZKfv4h/GiL0yo+IwJUkJiWEhH56E17jyiS1GfY6IPD9oyAil5vGNhg4CM7SIw7WlkAT3ahDo7okwnF1n0hypLFwXFuraLDjz+74DBs8OOVFGDeNXZqccmrvvtEjRsApz1RsQDim4qUGlnl09dro4SPSXr3msjmlScmHd+wcN8aYYkwRjiXBx79lEI7/9YR0/7dYHPPYnOsnTo4cNnyAnt6g/gMmW9sk/ftmChWIIBxT8VIDy3DZnIuHDhsOHTZAV89gwIBpEyexKb8qjXAsDUgQjqXx3n9lIY5HjRjRwC2HJqerSE0rik8oTkgU66a4LDmljYoKhmEHDhz4z5W0SXXp0gXDsOk2E2ni5AY2A8a0JDFJrJhmfohmsVgYhl29epU2kWwyhiAcyyZUM2fOxDCsjYpKyr9vuDZw42mKpwu4dJnJZGIYdvnyZdmEQaZahg4dimFY967d4NvMTdHDDW/zxUOHsartwYMHMo1Gi1CGcCybML99+5bBYGAYptW79/6t287v/xv9RHvAbZ1TOw0NDMNatWqVnZ0tmzDIVMuNGzcgWYYZGJze6xl04yb6ifBAwMVLW9eug7c7ioqKZWVlMo1Gi1CGcCybMAMAlixZAlsv+pe6BxgMxoEDBwAAsgmDTLXw+Xw4BkX9cpAkhmFMJvPmzZsyDUVLUYZwLLNICwSC48ePq6qqwm4yapmiPcBkMnv06OHv709PFsNqweVy16xZo6CggGIqOpowF8b0yZMndI6pzBp8PShCOJaxU3k8XiHNtry8vL///ptmRhUWFRUJBAIZe79+1JWXlycnJ8fRaYuKilq3bh2dLPphS05OTlOJaf3UFGm1IhxL60H6ly8oKOjRowefz6e/qchCih4oKCjo1asXYh9FdzUVMYTjphIpye3cv38/hmHh4eGSq0AlaeaBQ4cOYRgWFRVFM7uQOVJ5AOFYKvfRvzCfz+/evTuGYePHj6e/tchCKh7g8/nt2rXDMMzGxgaN0lLxWFORQThuKpGS0M7Xr1/DxywsFiszM1NCLagYnTwQGhoKHy22atUqNzeXTqYhW6TyAMKxVO6jeWEAgI2NDfFMnJ4vv9Hch3QzDwBgYWFBxNTT05NuFiJ7JPYAwrHErmsCBXNzc+Frb7D1qqurV1ZWNgG7kYm1eyAzM5McUw0NDS6XW7s4ymlKHkA4bkrREtdWV1dXeXn51q1bYximrKzMZDJDQ0PFVYLkaeUBDw8P+aqNiOmrV69oZSEyRmIPIBxL7Dq6F+TxeAsXLiwoKBgxYgSGYTt37mSz2YsWLUIPf+geudrt4/F4v//+e2FhoZaWFoZhBw8eTE1NdXR0RDGt3WdNKQfhuClFSyxbQdWG47ihoSGGYXv27MFxnDgoliokTBMPEOHT1tbGMOz48eMopjQJjUzMQDiWiRtprYSMY1obioyj7AEyjikXQoJ09wDCMd0jJL19CMfS+5BuGhCO6RYRmdiDcCwTN9JaCcIxrcMjkXEIxxK5je6FEI7pHiHp7UM4lt6HdNOAcEy3iMjEHoRjmbiR1koQjmkdHomMQziWyG10L4RwTPcISW8fwrH0PqSbBoRjukVEJvYgHMvEjbRWgnBM6/BIZBzCsURuo3shhGO6R0h6+xCOpfch3TQgHNMtIjKxB+FYJm6ktRKEY1qHRyLjEI4lchvdCyEc0z1C0tuHcCy9D+mmAeGYbhGRiT0IxzJxI62VIBzTOjwSGYdwLJHb6F4I4ZjuEZLePoRj6X1INw0Ix3SLiEzsQTiWiRtprQThmNbhkcg4hGOJ3Eb3QgjHdI+Q9PYhHEvvQ7ppQDimW0RkYg/CsUzcSGslCMe0Do9ExiEcS+Q2uhdCOKZ7hKS3D+FYeh/STQPCMd0iIhN7EI5l4kZaK0E4pnV4JDIO4Vgit9G9EMIx3SMkvX0Ix9L7kG4aEI7pFhGZ2INwLBM30loJwjGtwyORcQjHErmN7oUQjukeIentQziW3od004BwTLeIyMQehGOZuJHWSs6cOePm5vby5UtaW4mME8cDhw8fdnNzi4iIEKcQkqW7BxCO6R4hZB/yAPJAC/EAwnELCTS6TOQB5AG6ewDhmO4RQvYhDyAPtBAPIBy3kECjy0QeQB6guwcQjukeIWQf8gDyQAvxAMJxCwk0ukzkAeQBunsA4ZjuEUL2IQ8gD7QQDyAct5BAo8tEHkAeoLsHEI7pHiGBQPDgwQOBQEB3Q5F9tXsAABATE+Pk5DRr1qzZs2d7enpyOBwAQO0lUE5L9ADCMd2jXlFRgWFYZWVlvRpaXFxsbGxcr6doscorKiomTZqko6Nz8eJFNpudlJR09OjRLl26LF68mOJf2crKSm1tbZk4EACgqanJ5/Nlog0pka0HEI5l60/Za2sYHBcVFenq6sre+havEQBgaWm5dOlSIQJWVFRYWVlt2LCBSh+5oqJCRUVFJr4EAMjLy/N4PJloQ0pk6wGEY9n6U/bayDgGVRuO4+Xl5RwO59OnT1wulzglzAUA5OXlsdnsb9++kZs6Uba6PAAgJydHR0dHIBAQRQAAWVlZaWlpX79+pdiJIzSjBOGBsLAwbW1tIRbD3KKiIhUVlc+fP+M4Xj06xEEAQHFxsYqKChEdItClpaVsNvvLly9k/aJV8fl8eXn58vJycqDLy8vT09PZbHZpaSlxnLgElGgwDyAcN5irJTwRGcfh4eGTJ08OCAhwcHDw8/Pbt29f586do6Ojoerhw4e/f/9+wYIFq1evfvTokZOTk4mJSU5ODsx99OjRqlWryEZwuVx1dfXKysotW7ZYW1srKCj89NNPHh4eOI6XlpaamJh4eHgEBQWtWrVKV1eX0EPWgNKiPQAAmDZt2vXr12sTc3Z23r59O47jr1+/njdvHlmMz+d36NChrKzM09PTzs6OxWL99NNP69evx3F88+bNd+/e3blzp4ODg7+///79+wcMGBAXFweLf/r0qW/fvmSqAgD09PS+fft2+/btOXPmMJnM6dOnL126FPL9woUL5ubmvr6+3t7e/fv3P3jwILks2SSUrm8PIBzXt4el1S+E4w4dOpw6dYpoMC9evOjTpw/cHT58uIGBQWZmJnHKqKgoHR0d2HUSgWMcx4UGK+bPnx8YGAj1AACuXbs2efJk4qSEfpQQ7QE+n9++ffusrKzaxN6/f6+vry8axziOCw1WbN68WV9f/+3bt0REsrOzO3XqVFhYiOO4CBzDHjd5sOLz58+6urrE3U95eXnPnj0zMjJqMxgdr1cPIBzXq3tloFwIx506dSLfmXK5XA0NjfLychzHhw8fvnXrVvIpAQBTpkx58eIFjuNi4Xjs2LHkxRsrKyuDgoKIxk8+BUqL8ACPx1NQUCgpKalNJi0tTVVVVQIcjx8/Xigce/fu3b9/v7g4jouLMzY2Jqt6//59fn5+bQaj4/XqAYTjenWvDJQL4XjixIlkpXw+v1OnTrDBw8EKci6O47dv3965c6e4OPby8urQocONGzfy8vLIbVVIOdoV7QEej6ekpFRcXFybWEpKSseOHSXAsZeXl5DOxMREa2trAIBYveOysrL27dsvXrw4MTGxsrISxVrIqw28i3DcwA4X+3RCOJ4+fTpZhRCOU1JSyLmwncMiYvWOAQCxsbHLli3T0tJSVVVdsmQJ6jEJOZbKrkAg6N27d3Jycm3Ct2/fHjdunAQ49vHxEdKZnZ3du3dvcXGM43hJSYmXl5e5ubmysvLQoUMDAwMRlIV822C7CMcN5moJTyQWjt++fSt0moCAAFdX1xp7x+Xl5WpqanBGs9DYMaFEIBAUFBRs2rSpR48e5FkchABKiPaAo6Pjtm3bapQBANja2t66datGHMNhqLKyshrHjo8fPy6kMy0tzczMrDYc9+zZ89u3b9XHjgklAAAul/vq1atu3br5+fkRx1GiIT2AcNyQ3pbkXGLheO3ateRzAADmzZv34MEDHMdDQkJ++ukncm5iYqKKikp1HFdUVLi7u5O7SAAAAwMD2J7JGlC6Tg98//5dWVmZ/HyVKPLmzZv27duXlpbiOP7u3TsrKysiC8fxz58/t27dujYcGxkZkQOE4/jRo0fhk4OvX7926NCBnFtSUiInJ1cjjgMDAxMTE8nnff78+cKFC8lH/tfemcc1cbRxnE0IeENREQRBUdRWtHK0WhUUpGIRpVbFYpVDT3HcEwAAHzxJREFUaT2rtXiVIgrWu9SzVShatbUqiqLWC8UDReSoHCJIuXmRW8AQTEL2eD+bhWVJNksSII3N5A/d3cw88zzfZ+e3k5ndBWyrjACQY5WhVrIhheTYzMysqKiIbKm4uNjY2JgQ3OrqagMDA/LpPhRF/fz8evfuTRzh8XhGRkZEH0YQxNLS8tmzZ6SdpqYmQ0NDhiUpsiTYkCbw888/Dx48+MWLF6REoij66NEjPT29Bw8eEOW5XK6enh4hzcQYds2aNT179iTluFu3buT9D4GBgQMHDoyJiSHbamxsNDY2JkRfJBLp6+tTLwChoaF9+vQh5Zi6unjt2jV3d3fSMQzDwsLC9uzZQ1oGG6okAORYlbSVaUshOb5+/bqrq+u+ffsyMjJ+/vnnUaNGFRYWEq2iKOrv7+/g4HDnzp0nT54sXLiwoKDAyMiIkGMEQSZNmjRv3ryTJ09iGJaVlTVkyJA9e/Y8e/bs/Pnzo0ePjoqKUsZ7UEf8iEdMTIyZmZm5uXlQUJC/v7+xsfGoUaPS09OpeIKDg8eNG3fjxo2kpCRfX9+srCwrKytCjlEUdXV1dXd3J+YoAgMDjxw5snLlyoCAgJSUlKioqBEjRty9e5e0du7cOUtLy4sXL6alpa1evTo2NtbLy4uU42XLlk2ZMiU0NBRFURiGfX19XV1d7969m5CQsGLFChcXF4FAQJoCG6okAORYlbSVaQtFUfIZKgRBJCZwURQVCATE6MbOzi4vLw9F0aKioqSkpMzMTOotccSY63//+19iYmJ6ejrR5ci6GIYhCMLn88nhc1NTU1ZWVmJiYkZGBiEKyngP6rQQgGE4Ly8vKSkpOTmZ9kFHFEXLysqSkpLS0tII4NRbHYhEE9kJDAyMjo5GUbSioiI5OTk9PZ2407GlKfz/6urqlJSUp0+fcrlcDMOamprIITBhikw9iqKVlZUpKSnJycmlpaVkMao1sK0aAkCOVcNZFa0QcqyKlkAb/yoBQo7/VRdA411CAMhxl2D9V4wCOf5XsKu+USDHqmeumhaBHKuGsypauXjxIvGYrCoaA238ewSSk5OpC7b/niOg5U4mAOS4k4ECc4AAIAAIKEcAyLFy3EAtQAAQAAQ6mQCQ404GCswBAoAAIKAcASDHynEDtQABQAAQ6GQCQI47GSgw998mUFxczPCUBPUmcWkOCIJQ6yII8ubNm075O0lNTU3kM3vS7ZJHmN0ji2EYJhQK5TSYkZEBblWmouvINpDjjtADdTWLgFAodHZ2ZtCp169fGxsbyyqQnZ1tb29PIBMKhRMmTPD29o6Pj8cw7M6dO9KPcsgPd/ny5dIv85OuDsOwoaEh+Si2dAHyiIeHR2JiIrkrsVFeXv7PP/8QB0+ePCn94iqJ8mBXTgJAjuUEBYoBAtjRo0fj4uIYQDDLcUVFBfGGeAzDbt++vWzZMtKUi4sL9S0T5HE5N+SUYwRBNm3aRD54yWCcWY5jY2PDw8OJ6nw+39raGgyQGWDK/xWQY/lZgZIaTQCG4eHDhzPPLTDLMRVfRETE4cOHySOqkWOyuXY35JdjDMPWrVsn8f6Ndu2DArQEgBzTYgEHAQFJAs+ePfP29iaOEq9ks7e3d3JysrKy+vrrr4lJYUKOeTzexo0bJ06cOHbsWDc3t4qKCqJWdXV1RESESCQKDg62sbEZO3ZsYGDgjz/+GBgY2L9//0WLFgUGBhJ2UBRNSUkZN27c+PHjR44cefDgQeoESHV1tYeHh62t7cSJE1etWsXn82WNjn/77bfa2trGxsYTJ04cO3YMQZCdO3eSrz3Jz8+fNWuWnZ2dg4NDREQEj8f74YcfiHGuh4fH48eP4+PjJ06c6OTkZGlpee7cOeKdyFu2bHFycrK1tQ0MDCRe+5eZmenr6yvJC+wrTgDIseLMQA2NJLB3794zZ84QoSckJEybNo2Y7YVheMeOHa6uriiKvn79un///vPnzy8vL0fFn+vXr5ubmxPvciLmjlEUFQqFu3btCg4OFrZ87O3ts7OzyXcG3bp1y87O7vXr18RL13bs2OHn50cIZU1NjZmZ2T///EPYLy8vnzVrlrOzM+3c8ccff3z8+HETE5OQkJAXL15Q545zcnIGDRpEvDMIRdG4uLg5c+bo6emRcuzu7h4REUFcBurr6999992EhATC+bNnz+7cuZNc7hMIBIaGhhLvq9LIc6SjQQM57ihBUF8TCKAoam1tnZ+fTwS7bdu2y5cvk4GLRKJp06YJhcLXr19DEJSZmUl+haKoqalpQUEBhmHUpTyGyYqmpqYBAwZQ//40iqLOzs7Z2dkYhnl4eEj8tY78/HwIgmTJsZmZWU1NDeEPKccoilpaWlL9xDBs7969VDn28PCgzghHR0eTPw6oc8fEmwJNTU1ra2vJqMGGcgSAHCvHDdTSLAIoihoZGZGrbWfPnh0zZkxlZSVVsDAMe/36de/evSXmlydNmvT8+XP55Tg9PZ28AYOkfOnSpaCgIJFI1Lt3b4n3naIoOnDgQFlyfODAAdIIKcdcLrdfv34S49mSkhKqHN+6dYusSPy9klmzZhFHJOSY+CvmxCWHWgVsK0oAyLGixEB5TSSAomjPnj3Jv98Kw/CuXbuMjIwsLCwCAgLi4+MJCaZdyps8ebJCcvzgwQPi3f97KB83Nzdvb28ej9e/f38JGUVR1MXFRZYcUxfZSDmuqqqysrKSvpZQ5VjiRrfU1NSZM2cSuZeW40mTJkn8kSdNPEs6HDOQ4w4jBAY0gACKon369CHlmIgYhuGKioqrV6/a2NhMnDhRJBJ1ihzHxcV5eXk1Sn2EQiGPx+vXr5/E6BtF0QkTJsiS44yMDDI/pBzX1dWZmJhQlweJN9YrJ8coitrY2DD8wWzSAbDBTADIMTMf8C0ggBNAUdTc3JyYrEBRND8/n6plxJ+2SkxM7BQ5zs7Olv7LpI2NjdXV1QiC6OnpSbxGFYZhAwMDheQYQRADA4Pq6mpqdq9fv660HJuZmZWWllKtgW0lCAA5VgIaqKKJBBYsWJCVlUVEPnToUGL+gQTh5eX15MkTpeV4+vTppJyJRCJTU9Pi4mLSOIqic+fOJZ5A8ff337dvH/kVhmEPHz7kcDgKyTGGYeHh4Y6OjuRNbxUVFfb29nLK8d27d0NDQ0kfYBgm/yQ5eRBsKEEAyLES0EAVTSQQGRkZFhZGRH7v3j0LC4ucnBwYhvl8/qVLl8aMGdORyYrly5evXbu2qKiIGHQnJSWZm5tnZWXBMPzmzZuQkJCZM2cSU70CgcDW1jYqKqqpqUkkEt2/f9/Ly8vb21tROUZRNCIiYtSoUZs3b165cuWCBQsKCwvllOP09HRLS8vs7Gzij4vX1NTY2dlJzERr4inS4ZiBHHcYITCgGQRqa2vHjh1LxIqiaHFxcUBAgKen55IlS06fPk0MMwl9lBCm5OTkhoYGDMN4PB75eofS0tKSkhKSnFAofPDgQUxMDDkvXFZWtnnzZk9PTz8/v8jISOryXVNTU1hYmJeX1+LFi2/duoUgSG5uLu2bKP7++2+iadLt+/fvU02JRCIul8vj8VAUrampMTQ0JJxPT0+vr68n3cMwjMvlpqamknZSU1NjYmKIJ1yioqKOHz9OLQy2lSMA5Fg5bqCWxhFAUdTNzY28h/dtj//OnTvU18thGBYfHz916lSJa0m7YaIoOnXqVIlFznZrgQK0BIAc02IBBwEBGgL5+flbt26l+eItPLR06dKQkBBSfEUikZWVVWxsrKKhFBcXr127VtFaoDwtASDHtFjAQUCAhgCKol5eXlwul+a7t+2QQCDw8fGxt7cPCwvbvXu3lZXV/v37SXWWMxoURRcvXiwxrSFnXVBMmgCQY2km4AggoCkE+Hz+K/GHnLPWlMjVMk4gx2qZFuAUIAAIaB4BIMeal3MQMSAACKglASDHapkW4BQgAAhoHgEgx5qXcxAxIAAIqCUBIMdqmRbgFCAACGgeASDHmpdzEDEgAAioJQEgx2qZFuAUIAAIaB4BIMeal3MQMSAACKglASDHapkW4BQgAAhoHgEgx5qXcxAxIAAIqCUBIMdqmRbgFCAACGgeASDHmpdzEDEgAAioJQEgx2qZFuAUIAAIaB4BIMeal3MQMSAACKglASDHapkW4BQgAAhoHgEgx5qXcxAxIAAIqCUBIMdqmRbgFCAACGgeASDHmpdzEDEgAAioJQEgx2qZFuAUIAAIaB4BIMeal3MQMSAACKglASDHapkW4BQgAAhoHgEgx5qXcxAxIAAIqCUBtZNj/suMx49kf+JTixowDC6J2bN244m0RjViClelXIrJEiniEVKfnxIvO9ZHjx49fl4hwkS1OXdP7T5w7SWiiHGJsnK2JVGr63bhisTTuzcsW+y3JuT35JqORNZ1PqqHZdGr7NgTuw5cL2sPElyf/+jc/pATycKudbyd81EdO2fXAuk862onx4KXT/8KW2rbC9LSYht+OP+rZcTnKz9fT7cPTLtz3l2fIERKDznpQtqW38R18YknH2ekNv1s0JzR72jreZxT6AIhuPmVKZvV09TGccbsOfPmOFjoQlrs/tZuc+d+5j590sh+OpDOlF1/ha+yN2ZDHLuQTFg+f2hLydGW48HS9no8rWnFD8LFpxd+OP+3Il7hmUUWHLbZ8tsCxY1oQg2k9N7B5ZOM2BDng23PmdIPF94+vGn2iB4QpO95nt91aJC6pAjm81HNOmfXoegKy+onxyVJl3/50oZOjmfYmbTI8UFHXUh7mNrIcca5oHnvG3CUlGMTayY5vn5stUPnyTFTW44HOzT+VuD0FMuxx7ECbv4fXwzB5fgOkGNafEjpvUMr7OWS45iD62cNV4EcJ//GfD4ipWrVOWmxqu1BtZNjnBRSdniqjpaW7qwTDW3AwUW/fjr+W3xI3JBz89SZx+UqGsy1cUJypyHrZmT05Z9mm7AhReWYf9nb/MOgJzzCJD/aqz9LizNxTx4xDELKIr8Yar87FxbcXmbG7ujoWM62JKPrkn1+7Ioh3ZvFvyHzyqlrL5oRdElrb7tRQczSQez2Rsd4kEjxvsk6XTw6xttp73yk6ZyCF08zuB1NRKcY6agTXVtfLeUYqz/upqulpet+SvK3f/2dsJPPFJqf7Vp8Ldbhgh/tOQrLcWPkkgXHKluuKZJyjGHC+E2e2zJEgnurhnRYjuVsqyWgrvxflPSdFUfXJayqKxv579gWxK4cLJ8cV/zysUrkWNHzsf7+hg+n7ytqOdGVS02nGFGuadXVeovkGHlVVFxPSamwrk5CrRF+ZUFeGY9pjo2erKCuDp9vE9WWlNRSxB5pLM8vqJJnJg4pDKWXY4RXWV5HMdmmfaSmuKR1/C8txxhcWVTCw6hyLKoreZH7soEmxHaclbMtfPBDC0PIfZn7PLu0XioWfm2tOA0w92VhGY+SHyJUUX1ZaRW/zWH+Fd8BLFo5hhvKc7PyKhrbFCfs0HklfFXDFRcV1RXnFte2LiTA9aWF5dK+YLIY0Rlvkym5dhR2hyFcvEFRbXF+WQNML8c0oSByybHMRMqCAHNLcvLKGloTL8/52No5hXmn5ptzdBx+kpRjmghIzJJtyjRC1qDZkBEQU7s0VlR66O2RY7hgv7f/PQGG8YriTm37crrVgGGUFSB+9pk1btO9A4I3fm5nOsh62udfrvZftyk8vjT9fJDbkB66vR1D82EMqUk8vd3ng/7du/X1xFfdGosfnd61wm2MkdW31+5sdTbtztIevDJWgGGiktt7VizyWrLY02l43wE2C488bZVNuvzIkGN+7GpLHW0jj9PyTKvQyDHRFHH6226Jubje0Vy/OweCull8FpZJqo+izmIYRteWLBiCnLP+s1wWfH8o4udA93cHT/7uRgWugXDBzf3rv5hi2XfE6mtPjnrbGffUhqAeIxb93jzXgiGv4vYsmL3kh/DfjmzxdrJ2CLgvwESpR5fOn2M/WAdiG9nOmjdv3ufrzhTg1xakKi50oZOz59otW9Z6ThxuOWnx4YRavBk6r5afuXXk+8UuVoYGc09lX9s6e+ygvj3YrF7vfRX1kp8ftd7NbviAHtqs3mNWXCYnw+kZ0RkX558uxzKPwSX3FHVHZrhEI/XJRxdPm+a5JigkwG+e5+zx/ViUyQr6UHCG7cixjETKhlCf8Ye/x+yFqwKCvplmYWTt+VP8KzwlTOejZOcUpIX5TTLTgdiGtjPnzfMM+qsKYe5ddG1KGrmSm6qSXi0z4132hTrLMeeDlcd/Jz4nw/esdDAZtuqeAENe5T2NO+Den8U2W9ayIN/4cP2oHu9tfIIrFFJ2cnZfFtts3v7oa0+KhRjGv+JjyKJMyYpP2l5zzzRiSH1B6r0fXfuy2IZ2nkF/Pri2/6vPfI9miOpuf/OB4/Z08fIS8vL4LAMWZ/jqu0zzm7LkOO57W/3ug30u4Cdhex86iRTXEZ/+rL4jXb/9Pa1GCJdf/XK4NsvI6xIxGae4s/RyLAOGIDd0cg/O2KBU8eioKvyT7i07MFx/f81wbVafEZ/4H0+sEAhLLvhYaJPrcqLk79/v53GWuIwJkoNmrLjevF7Hj1rwDkvH8UAJCaUxces4fYslf70iGDWm7nE0YOvb70wV0Hv1N4+XFzpZF+KYT11/PKGMjyEVUYvM2NqDPpy9IuxpPYIhVX/5DdXm2G7NELstgxG9caJKe9mifi8UKOaO7HBxq3Be+MyBQ7wuNF/CefEbRnNa76yQEQpekVmOYRmJlAVBkLrHcZjz3jTxaY8UHZraE+IQXYzhfKTrnPxLi/qxKKNjhghktImfsBJGVNKrqTlWzbZay/HIzzYFij/fb/p28TRLPQtcjvEP/HzbB5xWORbcXTWErUPep1V/3rMfS9f5l+bzWXDdz4TdKsdY7a+f6EJiOcZNiVK+H81hGftcJoe/cM5e+z6262+kpYs/afeCPtKB2ENa2qbNiww5FjcgoplZoDPCLMecsUFpzb8XidEJceObMs7SyzE9DAwuOLHQ2sbn9yJxFPyLCw1YfeadJWaJkKJ9k3VYht6Xm+dz+Fd9jVg6k4mfpXgH4gxbEl0mrgjnR0U+bh7PS8oxUhruqsex+i6J8ns43n+ENuudT0/gOZROER5B1BcGLB2nQy3jX96Zub0hnSn7ips1vvGchx6r5+zf8bvUmRJKa5wuPczHFHCnnXDrLnkN1BkT+JSEQaycETe6MYbSjhwzJFIaAlLy6wwDsy9vkNOB3PiflvgEi29+Js4/+vNRunNKKClDBDLbpJNjVfRq5pR3xbfqLMdtl/JE6cGfrW2R4xc7xlHl+MaXJmzt4f7xRH8XZWy15XSbHta8SNZO4p4Gvs9prYuPMY66dO822uM74krQ8u+Wk8nkqSmdCAY5li4s40g7ctx637Eo+fvRHO0R6x4LlXOWQY4lYVBcFZYnnTsQvNC6B6Q78zdiYI4U75uiwzL0aZHjNrOcSOX5hSZsiGP00dKjCVXUS5KkHHP/nNMH0nE6RH3OQYCnlGXwRRQfw0R0XokvDJRKYnqUIbd4glpnyv5ihDmhtMYpYWMYv7IwN4f85L4kpqvbFMEw+d3BmMNtjPYyZL+z4ELrigWFKnMozHJMOkyTSGkINcdn9tJtvdiRlfEN6nAA36ecj/gu3LZztpVjpgiY2pQaHauiV7eJWiU7b48cY3DBk8SXRLeWzHj9jWXDONpDv7pei0PjXvYx6T8jrLBZAhRMnCgtaCxHd9pRhdb9VSvH+ICekGOlnFVUjkUv7x9YscA36I+UqgZ8dCyfHGMYVp98eP7IXiwtiDNgwtdnslsuZxJyjJQccNTR4ozf+YKi2eLfP5DujGN1ysrxVd8BxE9kZkbSSiTR78RqqEV+CJckysghx6Q7zOHWFPw4icPq5xVNK8fMobQrxzITKQVBlB5kzdFxCC0k55MoEUvJcev5iJeS7JxtlJQhAsY22xjBW1FFr6bErKLNt0iOKUQkM45h/JzI5bbvGNt5rNrov/iLlUeetD53q2Di4Owd4zgsY98rbeeKkZqyCnLxjOIKsflvybFSziokx0jxac/B+hN3PBMHLx4EyinHMIzLa2PeXz94WOmzIM4Qv6viqyUmIcdYw5l5ehDLyOdKi17jI660IGsOe9DSGHxdVanRMal/zIxojbfJb+eMjkl3mMN9I753mDLKxzDK6Jg5FGY5ZkqkFAQ4Z+d4Dqu/Z2RdGxRESjsixwwRvGFqs6NyzNCu7F7dJnaV7KinHNcdm0F/33EzEzFc9iByKQ+Di6O3rDsYXwUTJ0wbdOLfvZwPt2cRgy/k5SEnHajXnD+Jzi91JmJ8fK6Zpe98IJucvsN4T/etO5jeut+mAXwVRdaNbpIFGfbFZxzlMRCyqHhqnGMbktncfsuPQ3xuRhlnW6bipNuShiF8suFdbW3LtQ+Jk7Yx8nN9OScrGqOCfxCvreKanLbDvo+2qVhcMYx/QbyUt79lKQ95eWymPottsTK2dUjYELWwP2eQ3zV8Rl/aKzwCfJzONFnRqn+MjGiNk+jl3lDAHeZwxcmGejsfavlxhwliVwxmc+zED0kzhsIox4yJlIYguPe1BRvqNS4ogXx6A6m5s2vH5UoEYzof8dExPp6hdE7xNBK5dsMQgcw2W8YPpBF8dIzPZnVxr5Y7+51WUC3lGM7dPYGjpUVZmJGIV5S6+X0Oa4DPFaL/wnkHnPSHfhry65mLV2/EPohPSntBufsYzt71kS7U027D3QpBQ9H9X75xGdYD4nwQ9JSL67MwceN72mxz6mO6gsRA624QpGvhFnj8WtzDO5E/LXV2CbjXdqDQ1iNR+hYbDq7xbYfUwuQdDkZ9x3xzk6lui6VXx2Z0h7Q4o6hLWuLviOF961KXMO4bS+2WtUUlnMUwTEZb0jCE8f7DtSHdMWtjqwR12dd2zx3eDeKM3/GsrKCEi4nzRPllLV7K49hsEV+3Gs8tsP06trkzC59seK/P5NBc8RWRe+rTHhBn3PZs4vqId7aU7RP12H1nhIlvesMwuDhipqHpnJOEJEl7hSv8OY8+kI7jgZbXbPDPe+pDnPE7c5qN8i8u7NtyPw0TI1rjLSmR/39F3GEOV5S+fXwviNV3UuDNlwIMExZFLx/dHWIPnHPkSW6lgCkU4qm83vg9Q9IfxkTSQICzfnLUZ2mx9G0WbjlyNjrqWLCn8xcR4psYGc9HDJPonJgwft0IbbaJT3QdUp8Wl1yWILN3MbQpYeQV0pm9Gi78zWOw/pD5J8hLoDQ/1RxROzmuT/lz+6qpgziQlhbEMf949faTj8nn1sRI4MJ7x4JnD+NAWmxjR/9fYnIFGFJ5zf/DfngV8gPpmjhuuSu+TRLDau8EjO/LhiA2p6/N4uNJ53xMDK1cfAN+jUt/8OuG6ea4KaPJqw+cTxLfUItfel+cXvahodggxNZ7d3bIzVJSOiTzAhc9PH14owvuMXvAlLUHT11NIydKeFcWm2iz9F3DWwaCkpWJfaQm4dT2tW7Du+MRsA0/WhL00+UsYjiK1KWe/d7FlK0FcSzct5x9+qoq+fRmVzNtCNI2c918MYuvmLMYJrMtpOwhHQxR1lH3QToQBOn2GzNnx+3EQ9P0IIhj7LTtfnrsfp/3e0KQtun0gOOPSl+lntngZMTWgrqPWrD3Zj7cGOk12Nx65rcH/rwUFb5h9sc+v2Y0YkhZwpm9S2z1WVqQ7vA5wWEXkppvf0GqHoZ62g4Z9fGXQbt+WL/wkxlf/56JqwqtV3DB3SPfTjFka7EMJqw8fD2bW3Q/fP1UY7YW1O1dz10XnlaVPjq2wdmErcXqY/flwauZXBkJpTVOnyKmo4q7g8kKV9yMqODCNw4m3VmQdi/DQVaf7vjRx+KdoQ4LNv1yO79RVrqRsse/b5v/Xg9Ii2XosObQ1Uwph2UlMvjSdbq84+hvBk0f1kcb74nafW19jyTVYVg75+OzFxKdE3dDkBQyXo/F6jHw/dm7HtXJikDsMG2b4m8kjXRmrxYlB1l3g3Stg1Jk//6V4tklB9ROjpWJEqmI3b4i+EpWTurjezevXoqKPPvHsYObPWw+3kWuDsENL7Oe5Vbh98kh3Jqa5jtgGRsT1uSlpTwrojzsxVic/ku4Nj+L8uQdfaFOONopzsryo7E8O7Og5XHFhpLM56UNdEs8EtUFAgGGwdzS5ympL2gftJMoj+8Kawsys0rpHjqkKazooS5lpKgz4vJM4QpqctNScyoFGNZQVSn5hKGSoSiRSFF9UWZmkcwHS+UMW1CV+7ywnjqkYYpARpvSRjqvV/NKsvJrqf7JGVgnF/sPyLEoY4+DsVtEjQQZOHff+p9afrpKfAd2AQFAABBQOwJvvxwjZT8767JN3PfFl5FjXmFVWmTIqpBrLZMPaocdOAQIAAKAgCSBt1+OMaTm/jbXob1YEKePscXI90YONRsyetqKo5Rb3SSDBvuAACAACKgfgf+AHIuhwnW5j29ePBv5V1x6UZ063UmofikHHgECgIB6EvivyLF60gVeAQKAACAgNwEgx3KjAgUBAUAAEOhKAkCOu5IusA0IAAKAgNwEgBzLjQoUBAQAAUCgKwkAOe5KusA2IAAIAAJyEwByLDcqUBAQAAQAga4kAOS4K+kC24AAIAAIyE0AyLHcqEBBQAAQAAS6kgCQ466kC2wDAoAAICA3gf8DTFQPs9mBQQoAAAAASUVORK5CYII=)"
      ]
    },
    {
      "cell_type": "markdown",
      "id": "efc13376",
      "metadata": {
        "id": "efc13376"
      },
      "source": [
        "!!!!!아래 블로그를 참고하여 복습과제를 해결해주세요.\n",
        "\n",
        "https://kaya-dev.tistory.com/8\n",
        "\n",
        "https://kaya-dev.tistory.com/11\n"
      ]
    },
    {
      "cell_type": "markdown",
      "id": "4b5b769f",
      "metadata": {
        "id": "4b5b769f"
      },
      "source": [
        "### 2-1 Positional Encoding\n",
        "\n",
        "Transformer 모델은 input sentence를 한번에 모델에 집어넣기 때문에 모델에게 순서 정보를 알려줄 필요가 있고, 이를 위해 Positional Encoding을 사용합니다.\n",
        "\n",
        "아래 코드의 '''YOURCODE1'''를 채워주세요."
      ]
    },
    {
      "cell_type": "code",
      "execution_count": 1,
      "id": "13447f12",
      "metadata": {
        "id": "13447f12"
      },
      "outputs": [],
      "source": [
        "import torch\n",
        "import torch.nn as nn\n",
        "\n",
        "class PositionalEncoding(nn.Module):\n",
        "\n",
        "    def __init__(self,max_len,d_model,device):\n",
        "        super(PositionalEncoding,self).__init__()\n",
        "\n",
        "        self.encoding = torch.zeros(max_len,d_model,device = device)\n",
        "        self.encoding.requires_grad = False # we don't need to compute gradient\n",
        "\n",
        "        pos = torch.arange(0,max_len,device=device)\n",
        "        pos = pos.float().unsqueeze(dim = 1)\n",
        "\n",
        "        _2i = torch.arange(0,d_model,step = 2,device = device).float()\n",
        "\n",
        "        self.encoding[:,0::2] = torch.sin(pos/(10000**(_2i/d_model)))\n",
        "        self.encoding[:,1::2] = torch.cos(pos/(10000**(_2i/d_model)))\n",
        "\n",
        "    def forward(self,x):\n",
        "        batch_size,seq_len = x.size()\n",
        "\n",
        "        return self.encoding[:seq_len,:]"
      ]
    },
    {
      "cell_type": "markdown",
      "id": "c673cf35",
      "metadata": {
        "id": "c673cf35"
      },
      "source": [
        "### 2-2 Multi-Head Attention\n",
        "\n",
        "Multi-Head Attention은 문장의 특징 정보를 더 많이 잡을수 있게 도와줍니다.\n",
        "\n",
        "아래 코드를 실행해 주세요.\n"
      ]
    },
    {
      "cell_type": "code",
      "execution_count": 2,
      "id": "6d52cd2e",
      "metadata": {
        "id": "6d52cd2e"
      },
      "outputs": [],
      "source": [
        "import math\n",
        "\n",
        "class ScaleDotProductAttention(nn.Module):\n",
        "\n",
        "    def __init__(self):\n",
        "        super(ScaleDotProductAttention,self).__init__()\n",
        "        self.softmax = nn.Softmax()\n",
        "\n",
        "    def forward(self,q,k,v,mask = None, e = 1e-12):\n",
        "        # input is 4 dimension tensor\n",
        "        # [batch_size,head,length,d_tensor]\n",
        "        batch_size,head,length,d_tensor = k.size()\n",
        "\n",
        "        # 1. dot product Query with Key^T to compute similarity\n",
        "        k_t = k.view(batch_size,head,d_tensor,length)\n",
        "        score = (q @ k_t) / math.sqrt(d_tensor) # @연산은 np.matmul과 같은 역할\n",
        "\n",
        "        # 2. applying masking(optional)\n",
        "        if mask is not None:\n",
        "            score = score.masked_fill(mask == 0 ,-e)\n",
        "\n",
        "        # 3. pass tem softmax to make [0,1] range\n",
        "        score = self.softmax(score)\n",
        "\n",
        "        # 4. Multiply with Value\n",
        "        v = score @ v\n",
        "\n",
        "        return v, score"
      ]
    },
    {
      "cell_type": "markdown",
      "id": "847dd264",
      "metadata": {
        "id": "847dd264"
      },
      "source": [
        "아래 코드의 '''YOURCODE2'''를 채워주세요."
      ]
    },
    {
      "cell_type": "code",
      "execution_count": 3,
      "id": "d1afb2d7",
      "metadata": {
        "id": "d1afb2d7"
      },
      "outputs": [],
      "source": [
        "class MultiHeadAttention(nn.Module):\n",
        "\n",
        "    def __init__(self,d_model,n_head):\n",
        "        super(MultiHeadAttention,self).__init__()\n",
        "        self.n_head = n_head\n",
        "        self.attention = ScaleDotProductAttention()\n",
        "        self.w_q = nn.Linear(d_model,d_model)\n",
        "        self.w_k = nn.Linear(d_model,d_model)\n",
        "        self.w_v = nn.Linear(d_model,d_model)\n",
        "        self.w_concat = nn.Linear(d_model,d_model)\n",
        "\n",
        "    def split(self,tensor):\n",
        "\n",
        "        batch_size,length,d_model = tensor.size()\n",
        "\n",
        "        d_tensor = d_model//self.n_head\n",
        "\n",
        "        tensor = tensor.view(batch_size,self.n_head,length,d_tensor)\n",
        "\n",
        "        return tensor\n",
        "\n",
        "    def concat(self,tensor):\n",
        "\n",
        "        batch_size,head,length,d_tensor = tensor.size()\n",
        "        d_model = head*d_tensor\n",
        "\n",
        "        tensor = tensor.view(batch_size,length,d_model)\n",
        "        return tensor\n",
        "\n",
        "    def forward(self,q,k,v,mask = None):\n",
        "\n",
        "        #1. dot product with weight metrics\n",
        "        q,k,v = self.w_q(q),self.w_k(k),self.w_v(v)\n",
        "\n",
        "        # 2. split tensor by number of heads\n",
        "        q,k,v = self.split(q),self.split(k),self.split(v)\n",
        "\n",
        "        # 3. do scale dot product to compute similarity (attention 계산)\n",
        "        out,attention = self.attention(q, k, v, mask)\n",
        "\n",
        "        # 4. concat and pass to linear layer\n",
        "        out = self.concat(out)\n",
        "        out = self.w_concat(out)\n",
        "\n",
        "        return out"
      ]
    },
    {
      "cell_type": "markdown",
      "id": "b0721ff5",
      "metadata": {
        "id": "b0721ff5"
      },
      "source": [
        "### 2-3 Add & Norm\n",
        "\n",
        "Add & Norm은 Residuanl Connection과 Layer Normalization을 수행하는 단계입니다.\n",
        "\n",
        "아래 코드의 '''YOURCODE3'''를 채워주세요."
      ]
    },
    {
      "cell_type": "code",
      "execution_count": 4,
      "id": "0b067780",
      "metadata": {
        "id": "0b067780"
      },
      "outputs": [],
      "source": [
        "class LayerNorm(nn.Module):\n",
        "    def __init__(self,d_model,eps = 1e-12):\n",
        "        super(LayerNorm,self).__init__()\n",
        "        self.gamma = nn.Parameter(torch.ones(d_model))\n",
        "        self.beta = nn.Parameter(torch.zeros(d_model))\n",
        "        self.eps = eps\n",
        "\n",
        "    def forward(self,x):\n",
        "        mean = x.mean(-1,keepdim = True)\n",
        "        std = x.std(-1,keepdim = True)\n",
        "        # '-1' means last dimension\n",
        "\n",
        "        out = (x-mean)/(std + self.eps)\n",
        "        out = self.gamma * out + self.beta\n",
        "\n",
        "        return out"
      ]
    },
    {
      "cell_type": "markdown",
      "id": "f99f7277",
      "metadata": {
        "id": "f99f7277"
      },
      "source": [
        "### 2-4 Feed Forward\n",
        "\n",
        "Feed Forward는 Transformer의 Encoder와 Decoder에 모두 사용하는 Sub Layer입니다.\n",
        "\n",
        "아래 코드의 '''YOURCODE4'''를 채워주세요."
      ]
    },
    {
      "cell_type": "code",
      "execution_count": 5,
      "id": "833a4bd6",
      "metadata": {
        "id": "833a4bd6"
      },
      "outputs": [],
      "source": [
        "class PositionwiseFeedForward(nn.Module):\n",
        "\n",
        "    def __init__(self,d_model,hidden,drop_prob = 0.1):\n",
        "        super(PositionwiseFeedForward,self).__init__()\n",
        "        self.linear1 = nn.Linear(d_model,hidden)\n",
        "        self.linear2 = nn.Linear(hidden,d_model)\n",
        "        self.relu = nn.ReLU()\n",
        "        self.dropout = nn.Dropout(p = drop_prob)\n",
        "\n",
        "    def forward(self,x):\n",
        "        x = self.linear1(x)\n",
        "        x = self.relu(x)\n",
        "        x = self.dropout(x)\n",
        "        x = self.linear2(x)\n",
        "        return x"
      ]
    },
    {
      "cell_type": "markdown",
      "id": "d8244f61",
      "metadata": {
        "id": "d8244f61"
      },
      "source": [
        "### 2-5 Encoder Layer\n",
        "\n",
        "아래 코드의 '''YOURCODE5'''를 채워주세요."
      ]
    },
    {
      "cell_type": "code",
      "execution_count": 6,
      "id": "2dcc1f89",
      "metadata": {
        "id": "2dcc1f89"
      },
      "outputs": [],
      "source": [
        "class EncoderLayer(nn.Module):\n",
        "\n",
        "    def __init__(self,d_model,ffn_hidden,n_head,drop_prob):\n",
        "        super(EncoderLayer,self).__init__()\n",
        "\n",
        "        #Multi-Head Attention\n",
        "        self.attention = MultiHeadAttention(d_model,n_head)\n",
        "\n",
        "        #Layer Normalization(Multi-Head Attention ->)\n",
        "        self.norm1 = LayerNorm(d_model = d_model)\n",
        "        self.dropout1 = nn.Dropout(p = drop_prob)\n",
        "\n",
        "        #Feed-Forward\n",
        "        self.ffn = PositionwiseFeedForward(d_model = d_model,hidden = ffn_hidden,drop_prob = drop_prob)\n",
        "\n",
        "        #Layer Normalization(FFN ->)\n",
        "        self.norm2= LayerNorm(d_model = d_model)\n",
        "        self.dropout2 = nn.Dropout(p=drop_prob)\n",
        "\n",
        "    def forward(self,x,src_mask):\n",
        "        _x = x\n",
        "\n",
        "        #1. Compute Multi-Head Attention\n",
        "        x = self.attention(q= x,k= x,v= x,mask = src_mask)\n",
        "\n",
        "        #2. Compute add & norm\n",
        "        x = self.norm1(x + _x)\n",
        "        x = self.dropout1(x)\n",
        "\n",
        "        # 3. Compute Feed-Forward Network\n",
        "        _x = x\n",
        "        x = self.ffn(x)\n",
        "\n",
        "        # 4. Compute add & norm\n",
        "        x = self.norm2(x + _x)\n",
        "        x = self.dropout2(x)\n",
        "\n",
        "        return x"
      ]
    },
    {
      "cell_type": "markdown",
      "id": "1efd31ee",
      "metadata": {
        "id": "1efd31ee"
      },
      "source": [
        "### 2-6 Encoder\n",
        "\n",
        "아래 코드의 '''YOURCODE6'''를 채워주세요."
      ]
    },
    {
      "cell_type": "code",
      "execution_count": 7,
      "id": "76a9c0ff",
      "metadata": {
        "id": "76a9c0ff"
      },
      "outputs": [],
      "source": [
        "class Encoder(nn.Module):\n",
        "\n",
        "    def __init__(self,enc_voc_size,max_len,d_model,ffn_hidden,n_head,n_layers,\n",
        "                drop_prob,device):\n",
        "        super().__init__()\n",
        "\n",
        "        #Embedding\n",
        "        self.embed = nn.Embedding(num_embeddings = len(kor_text.vocab),embedding_dim = d_model,padding_idx = 1)\n",
        "\n",
        "        #Positional Encoding\n",
        "        self.pe = PositionalEncoding(max_len = max_len,d_model = d_model,device = device)\n",
        "\n",
        "        #Add Multi layers\n",
        "        self.layers = nn.ModuleList([EncoderLayer(d_model = d_model,\n",
        "                                                 ffn_hidden = ffn_hidden,\n",
        "                                                 n_head = n_head,\n",
        "                                                 drop_prob = drop_prob)\n",
        "                                    for _ in range(n_layers)])\n",
        "\n",
        "    def forward(self,x,src_mask):\n",
        "    \t#Compute Embedding\n",
        "        x = self.emb(x) #sentence -> vector\n",
        "\n",
        "        #Get Positional Encoding\n",
        "        x_pe = self.pe(x)\n",
        "\n",
        "        #Embedding + Positional Encoding\n",
        "        x = x + x_pe\n",
        "\n",
        "        #Compute Encoder layers\n",
        "        for layer in self.layers:\n",
        "            x = layer(x,src_mask)\n",
        "\n",
        "        #Return encoder output\n",
        "        return x"
      ]
    },
    {
      "cell_type": "markdown",
      "id": "a624dacb",
      "metadata": {
        "id": "a624dacb"
      },
      "source": [
        "### 2-7 Decoder Layer\n",
        "\n",
        "아래 코드의 '''YOURCODE7'''를 채워주세요."
      ]
    },
    {
      "cell_type": "code",
      "execution_count": 8,
      "id": "d3ae1dc8",
      "metadata": {
        "id": "d3ae1dc8"
      },
      "outputs": [],
      "source": [
        "class DecoderLayer(nn.Module):\n",
        "\n",
        "    def __init__(self,d_model,ffn_hidden,n_head,drop_prob):\n",
        "        super(DecoderLayer,self).__init__()\n",
        "\n",
        "        #self attention(only Decoder input)\n",
        "        self.self_attention = MultiHeadAttention(d_model = d_model,n_head = n_head)\n",
        "\n",
        "        #layer normalization(first)\n",
        "        self.norm1 = LayerNorm(d_model = d_model)\n",
        "        #dropout(first)\n",
        "        self.dropout1 = nn.Dropout(p=drop_prob)\n",
        "\n",
        "        #attention(encoder + decoder)\n",
        "        self.enc_dec_attention = MultiHeadAttention(d_model = d_model,n_head = n_head)\n",
        "\n",
        "        #layer normalization(second)\n",
        "        self.norm2 = LayerNorm(d_model = d_model)\n",
        "        #dropout(second)\n",
        "        self.dropout2 = nn.Dropout(p=drop_prob)\n",
        "\n",
        "        #Feed-Forward\n",
        "        self.ffn = PositionwiseFeedForward(d_model = d_model,hidden = ffn_hidden,\n",
        "                                           drop_prob = drop_prob)\n",
        "        #Layer normalization(third)\n",
        "        self.norm3 = LayerNorm(d_model = d_model)\n",
        "        #dropout(third)\n",
        "        self.dropout3 = nn.Dropout(p= drop_prob)\n",
        "\n",
        "    def forward(self,dec,enc,trg_mask,src_mask):\n",
        "\n",
        "        _x = dec\n",
        "        #Compute self-attention\n",
        "        x = self.self_attention(q = dec,k = dec,v = dec,mask = trg_mask)\n",
        "\n",
        "        #Compute add & norm\n",
        "        x = self.norm1(x + _x)\n",
        "        x=  self.dropout1(x)\n",
        "\n",
        "        if enc is not None:  #encoder의 출력값이 있다면 (없으면 FFN으로 넘어감)\n",
        "            _x = x\n",
        "\n",
        "            #Compute encoder - decoder attention\n",
        "            #Query(q) : decoder attention output\n",
        "            #Key(k) : Encoder output\n",
        "            #Value(v) : Encoder output\n",
        "            x = self.enc_dec_attention(q = x,k = enc,v = enc,mask = src_mask)\n",
        "\n",
        "            #Compute add & norm\n",
        "            x = self.norm2(x + _x)\n",
        "            x = self.dropout2(x)\n",
        "\n",
        "        _x = x\n",
        "\n",
        "        #Compute FFN\n",
        "        x = self.ffn(x)\n",
        "\n",
        "        #Compute add & norm\n",
        "        x = self.norm3(x + _x)\n",
        "        x = self.dropout3(x)\n",
        "\n",
        "        return x"
      ]
    },
    {
      "cell_type": "markdown",
      "id": "7751b97b",
      "metadata": {
        "id": "7751b97b"
      },
      "source": [
        "### 2-8 Decoder\n",
        "\n",
        "아래 코드의 '''YOURCODE8'''를 채워주세요."
      ]
    },
    {
      "cell_type": "code",
      "execution_count": 9,
      "id": "41e73c88",
      "metadata": {
        "id": "41e73c88"
      },
      "outputs": [],
      "source": [
        "class Decoder(nn.Module):\n",
        "    def __init__(self,dec_voc_size,max_len,d_model,ffn_hidden,n_head,n_layers,\n",
        "                drop_prob,device):\n",
        "        super().__init__()\n",
        "\n",
        "        #Embedding\n",
        "        self.embed = nn.Embedding(num_embeddings = len(eng_text.vocab),embedding_dim = d_model,padding_idx = 1)\n",
        "\n",
        "        #Positional Encoding\n",
        "        self.pe = PositionalEncoding(max_len = 50,d_model = d_model,device = 'cuda')\n",
        "\n",
        "        #Add decoder layers\n",
        "        self.layers = nn.ModuleList([DecoderLayer(d_model = d_model,\n",
        "                                                 ffn_hidden = ffn_hidden,\n",
        "                                                 n_head = n_head,\n",
        "                                                 drop_prob = drop_prob)\n",
        "                                    for _ in range(n_layers)])\n",
        "\n",
        "        #Linear\n",
        "        self.linear = nn.Linear(d_model,dec_voc_size)\n",
        "\n",
        "    def forward(self,trg,src,trg_mask,src_mask):\n",
        "\n",
        "        #Compute Embedding\n",
        "        trg = self.embed(trg)\n",
        "\n",
        "        #Get Positional Encoding\n",
        "        trg_pe = self.pe(trg)\n",
        "\n",
        "        #Embedding + Positional Encoding\n",
        "        trg = trg+trg_pe\n",
        "\n",
        "        #Compute Decoder layers\n",
        "        for layer in self.layers:\n",
        "            trg = layer(trg,src,trg_mask,src_mask)\n",
        "\n",
        "        #pass to LM head\n",
        "        output = self.linear(trg)\n",
        "\n",
        "        return output"
      ]
    },
    {
      "cell_type": "markdown",
      "id": "bf5038b0",
      "metadata": {
        "id": "bf5038b0"
      },
      "source": [
        "### 2-9 Transformer\n",
        "\n",
        "아래 코드의 '''YOURCODE9'''과 '''YOURCODE10'''를 채워주세요."
      ]
    },
    {
      "cell_type": "code",
      "execution_count": 11,
      "id": "5e7aee5f",
      "metadata": {
        "id": "5e7aee5f"
      },
      "outputs": [],
      "source": [
        "class Transformer(nn.Module):\n",
        "\n",
        "    def __init__(self,src_pad_idx,trg_pad_idx,trg_sos_idx,enc_voc_size,dec_voc_size,d_model,n_head,max_len,\n",
        "                ffn_hidden,n_layers,drop_prob,device):\n",
        "        super().__init__()\n",
        "        #Get <PAD> idx\n",
        "        self.src_pad_idx = src_pad_idx\n",
        "        self.trg_pad_idx = trg_pad_idx\n",
        "        self.trg_sos_idx = trg_sos_idx\n",
        "\n",
        "        #Encoder\n",
        "        self.encoder = Encoder(enc_voc_size = enc_voc_size,\n",
        "                              max_len = max_len,\n",
        "                              d_model = d_model,\n",
        "                              ffn_hidden = ffn_hidden,\n",
        "                              n_head = n_head,\n",
        "                              n_layers = n_layers,\n",
        "                              drop_prob = drop_prob,\n",
        "                              device = device)\n",
        "\n",
        "        #Decoder\n",
        "        self.decoder = Decoder(dec_voc_size = dec_voc_size,\n",
        "                              max_len = max_len,\n",
        "                              d_model = d_model,\n",
        "                              ffn_hidden = ffn_hidden,\n",
        "                              n_head = n_head,\n",
        "                              n_layers = n_layers,\n",
        "                              drop_prob = drop_prob,\n",
        "                              device = device)\n",
        "        self.device = device\n",
        "\n",
        "    def make_pad_mask(self,q,k):\n",
        "\n",
        "    \t#Padding부분은 attention연산에서 제외해야하므로 mask를 씌워줘서 계산이 되지 않도록 한다.\n",
        "\n",
        "        len_q,len_k = q.size(1),k.size(1)\n",
        "        print(len_k)\n",
        "        #batch_size x 1 x 1 x len_k\n",
        "        k = k.ne(self.src_pad_idx).unsqueeze(1).unsqueeze(2)\n",
        "        print(k.shape)\n",
        "        # batch_size x1 x len_1 x len_k\n",
        "        k = k.repeat(1,1,len_q,1)\n",
        "\n",
        "        #batch_size x 1 x len_q x 1\n",
        "        q = q.ne(self.src_pad_idx).unsqueeze(1).unsqueeze(3)\n",
        "        #batch_size x 1 x len_q x len_k\n",
        "        q = q.repeat(1,1,1,len_k)\n",
        "\n",
        "        mask = k & q\n",
        "\n",
        "        return mask\n",
        "\n",
        "    def make_no_peak_mask(self,q,k):\n",
        "\n",
        "        #Decoder 부분에서 t번째 단어를 예측하기 위해 입력으로 t-1번째 단어까지 넣어야 하므로 나머지 부분을 masking처리 한다.\n",
        "        #만약 t번째 단어를 예측하는데 이미 decoder에 t번째 단어가 들어간다면?? => 답을 이미 알고 있는 상황..\n",
        "        #따라서 Seq2Seq 모델에서 처럼 t번째 단어를 예측하기 위해서 t-1번째 단어까지만 입력될 필요가 있음\n",
        "        #(나머지 t,t+1,...,max_len)까지 단어는 t번째 단어를 예측하는데 전혀 필요하지 않음 => Masking!!\n",
        "        len_q,len_k = q.size(1),k.size(1)\n",
        "\n",
        "        #len_q x len_k (torch.tril = 하삼각행렬)\n",
        "        mask = torch.tril(torch.ones(len_q,len_k)).type(torch.BoolTensor).to(self.device)\n",
        "\n",
        "        return mask\n",
        "\n",
        "    def forward(self,src,trg):\n",
        "\n",
        "        #Get Mask\n",
        "        src_mask = self.make_pad_mask(src,src)\n",
        "        src_trg_mask = self.make_pad_mask(trg,src)\n",
        "        trg_mask = self.make_pad_mask(trg,trg) * self.make_no_peak_mask(trg,trg)\n",
        "\n",
        "        #Compute Encoder\n",
        "        enc_src = self.encoder(src,src_mask)\n",
        "\n",
        "        #Compute Decoder\n",
        "        output = self.decoder(trg,enc_src,trg_mask,src_trg_mask)\n",
        "\n",
        "        return output"
      ]
    }
  ],
  "metadata": {
    "accelerator": "GPU",
    "colab": {
      "gpuType": "T4",
      "provenance": []
    },
    "kernelspec": {
      "display_name": "Python 3",
      "name": "python3"
    },
    "language_info": {
      "codemirror_mode": {
        "name": "ipython",
        "version": 3
      },
      "file_extension": ".py",
      "mimetype": "text/x-python",
      "name": "python",
      "nbconvert_exporter": "python",
      "pygments_lexer": "ipython3",
      "version": "3.11.1"
    },
    "toc": {
      "base_numbering": 1,
      "nav_menu": {},
      "number_sections": false,
      "sideBar": true,
      "skip_h1_title": false,
      "title_cell": "Table of Contents",
      "title_sidebar": "Contents",
      "toc_cell": false,
      "toc_position": {},
      "toc_section_display": true,
      "toc_window_display": false
    }
  },
  "nbformat": 4,
  "nbformat_minor": 5
}
