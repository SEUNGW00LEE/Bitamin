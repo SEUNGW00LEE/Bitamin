{
 "cells": [
  {
   "cell_type": "markdown",
   "metadata": {},
   "source": [
    "## 패키지 설치"
   ]
  },
  {
   "cell_type": "code",
   "execution_count": 1,
   "metadata": {},
   "outputs": [],
   "source": [
    "# json 설치 명령어\n",
    "#!pip install json\n",
    "\n",
    "# numpy 설치 명령어\n",
    "#!pip install numpy\n",
    "\n",
    "# Pytorch 10.2 GPU install\n",
    "#!pip install torch\n",
    "\n",
    "# Pytorch 10.2 CPU install\n",
    "#!pip install torch==1.7.1+cpu torchvision==0.8.2+cpu torchaudio==0.7.2 -f https://download.pytorch.org/whl/torch_stable.html\n",
    "\n",
    "# OpenCV 설치 명령어\n",
    "#!pip install opencv-python\n",
    "\n",
    "# Scikit-image 설치 명령어\n",
    "#!pip install scikit-image\n",
    "\n",
    "# Scikit-learn 설치 명령어\n",
    "#!pip install scikit-learn\n",
    "\n",
    "# tqdm 설치 명령어\n",
    "#!pip install tqdm"
   ]
  },
  {
   "cell_type": "markdown",
   "metadata": {},
   "source": [
    "## 패키지 불러오기"
   ]
  },
  {
   "cell_type": "markdown",
   "metadata": {},
   "source": [
    "### 전처리 함수는 Utils.py에 정의됨."
   ]
  },
  {
   "cell_type": "code",
   "execution_count": 3,
   "metadata": {},
   "outputs": [],
   "source": [
    "from Utils import transform_folders"
   ]
  },
  {
   "cell_type": "markdown",
   "metadata": {},
   "source": [
    "### 전처리 파라미터 (Parameter)"
   ]
  },
  {
   "cell_type": "code",
   "execution_count": 4,
   "metadata": {},
   "outputs": [],
   "source": [
    "# 전처리 후 Input 이미지의 크기를 지정함.\n",
    "IMG_WIDTH = 512\n",
    "IMG_HEIGHT = 512\n",
    "\n",
    "# 전처리 후 Input 이미지의 Color 채널 수를 지정함.\n",
    "IMG_CHANNELS = 3\n",
    "\n",
    "# 파일을 읽어오고 저장할 Base Path를 지정함.\n",
    "LOAD_PATH = \"../Dataset/raw/segmentation/\"\n",
    "SAVE_PATH = \"../Dataset/preprocessed/segmentation/\"\n",
    "\n",
    "# 테스트 셋 (Test set)으로 지정할 폴더의 이름을 지정함.\n",
    "Test_folders = [\"0-826\", \"827-941\", \"1154\", \"1155\", \"1156\", \"1157\", \"1158\", \"1159\", \"980\", \"981\", \"982\", \"983\"]"
   ]
  },
  {
   "cell_type": "markdown",
   "metadata": {},
   "source": [
    "### 전처리 수행"
   ]
  },
  {
   "cell_type": "code",
   "execution_count": 5,
   "metadata": {},
   "outputs": [
    {
     "name": "stdout",
     "output_type": "stream",
     "text": [
      "For Train set!!\n"
     ]
    },
    {
     "name": "stderr",
     "output_type": "stream",
     "text": [
      " 81%|████████  | 142/176 [35:04<04:44,  8.37s/it] "
     ]
    },
    {
     "name": "stdout",
     "output_type": "stream",
     "text": [
      "Unable to read ../Dataset/raw/947/6 (40).json\n"
     ]
    },
    {
     "name": "stderr",
     "output_type": "stream",
     "text": [
      "100%|██████████| 176/176 [44:27<00:00, 15.15s/it]\n"
     ]
    },
    {
     "name": "stdout",
     "output_type": "stream",
     "text": [
      "For Test set!!\n"
     ]
    },
    {
     "name": "stderr",
     "output_type": "stream",
     "text": [
      "100%|██████████| 12/12 [17:34<00:00, 87.84s/it]  \n"
     ]
    }
   ],
   "source": [
    "transform_folders(LOAD_PATH, SAVE_PATH, Test_folders, IMG_WIDTH=IMG_WIDTH, IMG_HEIGHT=IMG_HEIGHT, IMG_CHANNELS=IMG_CHANNELS)"
   ]
  }
 ],
 "metadata": {
  "kernelspec": {
   "display_name": "Python 3",
   "language": "python",
   "name": "python3"
  },
  "language_info": {
   "codemirror_mode": {
    "name": "ipython",
    "version": 3
   },
   "file_extension": ".py",
   "mimetype": "text/x-python",
   "name": "python",
   "nbconvert_exporter": "python",
   "pygments_lexer": "ipython3",
   "version": "3.8.5"
  }
 },
 "nbformat": 4,
 "nbformat_minor": 4
}
