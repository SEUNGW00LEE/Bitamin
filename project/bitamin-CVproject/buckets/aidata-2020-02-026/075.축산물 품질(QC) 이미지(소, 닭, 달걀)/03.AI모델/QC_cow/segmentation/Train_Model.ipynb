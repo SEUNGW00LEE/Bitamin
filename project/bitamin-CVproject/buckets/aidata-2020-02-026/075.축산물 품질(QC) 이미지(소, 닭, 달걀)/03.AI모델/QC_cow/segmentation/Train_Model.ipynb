{
 "cells": [
  {
   "cell_type": "markdown",
   "metadata": {},
   "source": [
    "## 패키지 설치"
   ]
  },
  {
   "cell_type": "code",
   "execution_count": null,
   "metadata": {},
   "outputs": [],
   "source": [
    "#!pip install numpy\n",
    "\n",
    "# Pytorch 10.2 GPU install\n",
    "#!pip install torch\n",
    "\n",
    "# Pytorch 10.2 CPU install\n",
    "#!pip install torch==1.7.1+cpu torchvision==0.8.2+cpu torchaudio==0.7.2 -f https://download.pytorch.org/whl/torch_stable.html\n",
    "\n",
    "#!pip install torchvision\n",
    "#!pip install torchinfo\n",
    "#!pip install tqdm"
   ]
  },
  {
   "cell_type": "markdown",
   "metadata": {},
   "source": [
    "## 패키지 불러오기"
   ]
  },
  {
   "cell_type": "code",
   "execution_count": 1,
   "metadata": {},
   "outputs": [],
   "source": [
    "# CPU 코어 개수를 확인\n",
    "import os\n",
    "n_cores = os.cpu_count()"
   ]
  },
  {
   "cell_type": "code",
   "execution_count": 2,
   "metadata": {},
   "outputs": [],
   "source": [
    "import numpy as np\n",
    "\n",
    "import torch\n",
    "import torch.nn as nn\n",
    "\n",
    "from torch.utils.data import DataLoader\n",
    "from torchvision import transforms\n",
    "import torch.optim.lr_scheduler as lr_scheduler\n",
    "\n",
    "from UNet import UNet\n",
    "from Dataset import Dataset, ToTensor, Normalization, RandomFlip\n",
    "from Utils import IOU_Numpy\n",
    "from EarlyStopping import EarlyStopping\n",
    "\n",
    "from tqdm import tqdm"
   ]
  },
  {
   "cell_type": "markdown",
   "metadata": {},
   "source": [
    "## 설치 패키지 확인"
   ]
  },
  {
   "cell_type": "code",
   "execution_count": null,
   "metadata": {},
   "outputs": [],
   "source": [
    "print('python version:',sys.version)\n",
    "print('numpy version:', np.__version__)\n",
    "print('torch version:', torch.__version__)\n",
    "print('torchvision version:', torchvision.__version__)\n",
    "print('torchinfo version:', torchinfo.__version__)\n",
    "print('tqdm version:', tqdm.__version__)"
   ]
  },
  {
   "cell_type": "markdown",
   "metadata": {},
   "source": [
    "## 모델 파라미터 (Parameter)"
   ]
  },
  {
   "cell_type": "code",
   "execution_count": 3,
   "metadata": {},
   "outputs": [],
   "source": [
    "# Learning rate\n",
    "lr = 1e-3\n",
    "# 배치 사이즈\n",
    "batch_size = 24\n",
    "# Iteration\n",
    "num_epoch = 100\n",
    "\n",
    "# 데이터를 읽어올 Path\n",
    "data_dir = \"../Dataset/preprocessed/segmentation/\"\n",
    "# 모델을 저장할 Path\n",
    "ckpt_dir = \"./Models/\"\n",
    "\n",
    "# 모델 이름\n",
    "Model_name = \"cow_segmentation\"\n",
    "# 모델을 연산할 장비 설정 (가능하면 GPU, 안되면 CPU에서 계산함)\n",
    "device = torch.device('cuda:0' if torch.cuda.is_available() else 'cpu')"
   ]
  },
  {
   "cell_type": "markdown",
   "metadata": {},
   "source": [
    "## 데이터 셋 구성"
   ]
  },
  {
   "cell_type": "code",
   "execution_count": 4,
   "metadata": {},
   "outputs": [
    {
     "name": "stdout",
     "output_type": "stream",
     "text": [
      "The Number of Each Set\n",
      "Train set: 13813, Validation set: 2234, Test set: 2234\n"
     ]
    }
   ],
   "source": [
    "# Test 데이터를 읽어옴\n",
    "test_dataset = Dataset(data_dir=data_dir, train=False)\n",
    "# 갯수를 저장함\n",
    "n_test = len(test_dataset)\n",
    "\n",
    "# transform 적용해서 Train 데이터 셋 불러오기\n",
    "train_transform = transforms.Compose([Normalization(mean=0.5, std=0.5), RandomFlip(), ToTensor()])\n",
    "train_dataset = Dataset(data_dir=data_dir, train=True, transform=train_transform)\n",
    "# 전체 Train 데이터 셋 개수를 저장\n",
    "n_whole_train = len(train_dataset)\n",
    "\n",
    "# Train 개수를 Test 갯수만큼 Train와 Vlidation set으루 나눔\n",
    "train_ds, valid_ds = torch.utils.data.random_split(train_dataset, [int(n_whole_train - n_test), n_test])\n",
    "\n",
    "# Data Loader를 구성함\n",
    "train_loader = DataLoader(dataset=train_ds, batch_size=batch_size, shuffle=True, num_workers=int(n_cores/2), pin_memory=False)\n",
    "valid_loader = DataLoader(dataset=valid_ds, batch_size=batch_size, shuffle=True, num_workers=int(n_cores/2), pin_memory=False)\n",
    "\n",
    "print(\"The Number of Each Set\")\n",
    "print('Train set: %d, Validation set: %d, Test set: %d' %(len(train_ds), len(valid_ds), n_test))"
   ]
  },
  {
   "cell_type": "markdown",
   "metadata": {},
   "source": [
    "## 모델 학습"
   ]
  },
  {
   "cell_type": "markdown",
   "metadata": {},
   "source": [
    "### 모델 학습 세팅"
   ]
  },
  {
   "cell_type": "code",
   "execution_count": 5,
   "metadata": {
    "scrolled": true
   },
   "outputs": [
    {
     "name": "stdout",
     "output_type": "stream",
     "text": [
      "2 GPUs are available!!\n",
      "DataParallel(\n",
      "  (module): UNet(\n",
      "    (enc1_1): Sequential(\n",
      "      (0): Conv2d(3, 64, kernel_size=(3, 3), stride=(1, 1), padding=(1, 1))\n",
      "      (1): BatchNorm2d(64, eps=1e-05, momentum=0.1, affine=True, track_running_stats=True)\n",
      "      (2): ReLU()\n",
      "    )\n",
      "    (enc1_2): Sequential(\n",
      "      (0): Conv2d(64, 64, kernel_size=(3, 3), stride=(1, 1), padding=(1, 1))\n",
      "      (1): BatchNorm2d(64, eps=1e-05, momentum=0.1, affine=True, track_running_stats=True)\n",
      "      (2): ReLU()\n",
      "    )\n",
      "    (pool1): MaxPool2d(kernel_size=2, stride=2, padding=0, dilation=1, ceil_mode=False)\n",
      "    (enc2_1): Sequential(\n",
      "      (0): Conv2d(64, 128, kernel_size=(3, 3), stride=(1, 1), padding=(1, 1))\n",
      "      (1): BatchNorm2d(128, eps=1e-05, momentum=0.1, affine=True, track_running_stats=True)\n",
      "      (2): ReLU()\n",
      "    )\n",
      "    (enc2_2): Sequential(\n",
      "      (0): Conv2d(128, 128, kernel_size=(3, 3), stride=(1, 1), padding=(1, 1))\n",
      "      (1): BatchNorm2d(128, eps=1e-05, momentum=0.1, affine=True, track_running_stats=True)\n",
      "      (2): ReLU()\n",
      "    )\n",
      "    (pool2): MaxPool2d(kernel_size=2, stride=2, padding=0, dilation=1, ceil_mode=False)\n",
      "    (enc3_1): Sequential(\n",
      "      (0): Conv2d(128, 256, kernel_size=(3, 3), stride=(1, 1), padding=(1, 1))\n",
      "      (1): BatchNorm2d(256, eps=1e-05, momentum=0.1, affine=True, track_running_stats=True)\n",
      "      (2): ReLU()\n",
      "    )\n",
      "    (enc3_2): Sequential(\n",
      "      (0): Conv2d(256, 256, kernel_size=(3, 3), stride=(1, 1), padding=(1, 1))\n",
      "      (1): BatchNorm2d(256, eps=1e-05, momentum=0.1, affine=True, track_running_stats=True)\n",
      "      (2): ReLU()\n",
      "    )\n",
      "    (pool3): MaxPool2d(kernel_size=2, stride=2, padding=0, dilation=1, ceil_mode=False)\n",
      "    (enc4_1): Sequential(\n",
      "      (0): Conv2d(256, 512, kernel_size=(3, 3), stride=(1, 1), padding=(1, 1))\n",
      "      (1): BatchNorm2d(512, eps=1e-05, momentum=0.1, affine=True, track_running_stats=True)\n",
      "      (2): ReLU()\n",
      "    )\n",
      "    (enc4_2): Sequential(\n",
      "      (0): Conv2d(512, 512, kernel_size=(3, 3), stride=(1, 1), padding=(1, 1))\n",
      "      (1): BatchNorm2d(512, eps=1e-05, momentum=0.1, affine=True, track_running_stats=True)\n",
      "      (2): ReLU()\n",
      "    )\n",
      "    (pool4): MaxPool2d(kernel_size=2, stride=2, padding=0, dilation=1, ceil_mode=False)\n",
      "    (enc5_1): Sequential(\n",
      "      (0): Conv2d(512, 1024, kernel_size=(3, 3), stride=(1, 1), padding=(1, 1))\n",
      "      (1): BatchNorm2d(1024, eps=1e-05, momentum=0.1, affine=True, track_running_stats=True)\n",
      "      (2): ReLU()\n",
      "    )\n",
      "    (dec5_1): Sequential(\n",
      "      (0): Conv2d(1024, 512, kernel_size=(3, 3), stride=(1, 1), padding=(1, 1))\n",
      "      (1): BatchNorm2d(512, eps=1e-05, momentum=0.1, affine=True, track_running_stats=True)\n",
      "      (2): ReLU()\n",
      "    )\n",
      "    (unpool4): ConvTranspose2d(512, 512, kernel_size=(2, 2), stride=(2, 2))\n",
      "    (dec4_2): Sequential(\n",
      "      (0): Conv2d(1024, 512, kernel_size=(3, 3), stride=(1, 1), padding=(1, 1))\n",
      "      (1): BatchNorm2d(512, eps=1e-05, momentum=0.1, affine=True, track_running_stats=True)\n",
      "      (2): ReLU()\n",
      "    )\n",
      "    (dec4_1): Sequential(\n",
      "      (0): Conv2d(512, 256, kernel_size=(3, 3), stride=(1, 1), padding=(1, 1))\n",
      "      (1): BatchNorm2d(256, eps=1e-05, momentum=0.1, affine=True, track_running_stats=True)\n",
      "      (2): ReLU()\n",
      "    )\n",
      "    (unpool3): ConvTranspose2d(256, 256, kernel_size=(2, 2), stride=(2, 2))\n",
      "    (dec3_2): Sequential(\n",
      "      (0): Conv2d(512, 256, kernel_size=(3, 3), stride=(1, 1), padding=(1, 1))\n",
      "      (1): BatchNorm2d(256, eps=1e-05, momentum=0.1, affine=True, track_running_stats=True)\n",
      "      (2): ReLU()\n",
      "    )\n",
      "    (dec3_1): Sequential(\n",
      "      (0): Conv2d(256, 128, kernel_size=(3, 3), stride=(1, 1), padding=(1, 1))\n",
      "      (1): BatchNorm2d(128, eps=1e-05, momentum=0.1, affine=True, track_running_stats=True)\n",
      "      (2): ReLU()\n",
      "    )\n",
      "    (unpool2): ConvTranspose2d(128, 128, kernel_size=(2, 2), stride=(2, 2))\n",
      "    (dec2_2): Sequential(\n",
      "      (0): Conv2d(256, 128, kernel_size=(3, 3), stride=(1, 1), padding=(1, 1))\n",
      "      (1): BatchNorm2d(128, eps=1e-05, momentum=0.1, affine=True, track_running_stats=True)\n",
      "      (2): ReLU()\n",
      "    )\n",
      "    (dec2_1): Sequential(\n",
      "      (0): Conv2d(128, 64, kernel_size=(3, 3), stride=(1, 1), padding=(1, 1))\n",
      "      (1): BatchNorm2d(64, eps=1e-05, momentum=0.1, affine=True, track_running_stats=True)\n",
      "      (2): ReLU()\n",
      "    )\n",
      "    (unpool1): ConvTranspose2d(64, 64, kernel_size=(2, 2), stride=(2, 2))\n",
      "    (dec1_2): Sequential(\n",
      "      (0): Conv2d(128, 64, kernel_size=(3, 3), stride=(1, 1), padding=(1, 1))\n",
      "      (1): BatchNorm2d(64, eps=1e-05, momentum=0.1, affine=True, track_running_stats=True)\n",
      "      (2): ReLU()\n",
      "    )\n",
      "    (dec1_1): Sequential(\n",
      "      (0): Conv2d(64, 64, kernel_size=(3, 3), stride=(1, 1), padding=(1, 1))\n",
      "      (1): BatchNorm2d(64, eps=1e-05, momentum=0.1, affine=True, track_running_stats=True)\n",
      "      (2): ReLU()\n",
      "    )\n",
      "    (fc): Conv2d(64, 1, kernel_size=(1, 1), stride=(1, 1))\n",
      "  )\n",
      ")\n"
     ]
    }
   ],
   "source": [
    "fn_classifier = lambda x :  1.0 * (x > 0.5)  # threshold 0.5 기준으로 indicator function으로 classifier 구현\n",
    "\n",
    "# initialize the early_stopping object\n",
    "early_stopping = EarlyStopping(patience=15, verbose=True, path=ckpt_dir)\n",
    "\n",
    "# 네트워크 불러오기\n",
    "net = UNet().to(device) # device : cpu or gpu\n",
    "\n",
    "# 모델을 여러 GPU에 돌리기\n",
    "if torch.cuda.device_count() > 1:\n",
    "    print(torch.cuda.device_count(), \"GPUs are available!!\")\n",
    "    net = nn.DataParallel(net)\n",
    "\n",
    "# loss 정의\n",
    "fn_loss = nn.BCEWithLogitsLoss().to(device)\n",
    "\n",
    "# Optimizer 정의\n",
    "optim = torch.optim.Adam(net.parameters(), lr = lr)\n",
    "optimizer_scheduler = lr_scheduler.ReduceLROnPlateau(optimizer=optim,\n",
    "                                                     mode=\"min\",\n",
    "                                                     factor=0.5,\n",
    "                                                     patience=5,\n",
    "                                                     verbose=True)\n",
    "# 모델 확인\n",
    "print(net)"
   ]
  },
  {
   "cell_type": "markdown",
   "metadata": {},
   "source": [
    "### 모델 학습"
   ]
  },
  {
   "cell_type": "code",
   "execution_count": 6,
   "metadata": {
    "scrolled": true
   },
   "outputs": [
    {
     "name": "stderr",
     "output_type": "stream",
     "text": [
      "100%|██████████| 576/576 [14:30<00:00,  1.51s/it]\n",
      "  0%|          | 0/576 [00:00<?, ?it/s]"
     ]
    },
    {
     "name": "stdout",
     "output_type": "stream",
     "text": [
      "epoch 001 / 100 | train loss 0.1131 | valid loss 0.0565 | vallid iou 0.8259\n",
      "Validation loss decreased (inf --> 0.174149).  Saving model ...\n"
     ]
    },
    {
     "name": "stderr",
     "output_type": "stream",
     "text": [
      "100%|██████████| 576/576 [14:11<00:00,  1.48s/it]\n"
     ]
    },
    {
     "name": "stdout",
     "output_type": "stream",
     "text": [
      "epoch 002 / 100 | train loss 0.0454 | valid loss 0.0480 | vallid iou 0.8324\n",
      "Validation loss decreased (0.174149 --> 0.167627).  Saving model ...\n"
     ]
    },
    {
     "name": "stderr",
     "output_type": "stream",
     "text": [
      "100%|██████████| 576/576 [14:12<00:00,  1.48s/it]\n"
     ]
    },
    {
     "name": "stdout",
     "output_type": "stream",
     "text": [
      "epoch 003 / 100 | train loss 0.0381 | valid loss 0.0469 | vallid iou 0.8587\n",
      "Validation loss decreased (0.167627 --> 0.141300).  Saving model ...\n"
     ]
    },
    {
     "name": "stderr",
     "output_type": "stream",
     "text": [
      "100%|██████████| 576/576 [14:11<00:00,  1.48s/it]\n",
      "  0%|          | 0/576 [00:00<?, ?it/s]"
     ]
    },
    {
     "name": "stdout",
     "output_type": "stream",
     "text": [
      "epoch 004 / 100 | train loss 0.0356 | valid loss 0.0427 | vallid iou 0.8915\n",
      "Validation loss decreased (0.141300 --> 0.108497).  Saving model ...\n"
     ]
    },
    {
     "name": "stderr",
     "output_type": "stream",
     "text": [
      "100%|██████████| 576/576 [14:09<00:00,  1.48s/it]\n"
     ]
    },
    {
     "name": "stdout",
     "output_type": "stream",
     "text": [
      "epoch 005 / 100 | train loss 0.0315 | valid loss 0.0320 | vallid iou 0.9021\n",
      "Validation loss decreased (0.108497 --> 0.097868).  Saving model ...\n"
     ]
    },
    {
     "name": "stderr",
     "output_type": "stream",
     "text": [
      "100%|██████████| 576/576 [14:13<00:00,  1.48s/it]\n",
      "  0%|          | 0/576 [00:00<?, ?it/s]"
     ]
    },
    {
     "name": "stdout",
     "output_type": "stream",
     "text": [
      "epoch 006 / 100 | train loss 0.0312 | valid loss 0.0330 | vallid iou 0.9042\n",
      "Validation loss decreased (0.097868 --> 0.095821).  Saving model ...\n"
     ]
    },
    {
     "name": "stderr",
     "output_type": "stream",
     "text": [
      "100%|██████████| 576/576 [14:11<00:00,  1.48s/it]\n",
      "  0%|          | 0/576 [00:00<?, ?it/s]"
     ]
    },
    {
     "name": "stdout",
     "output_type": "stream",
     "text": [
      "epoch 007 / 100 | train loss 0.0290 | valid loss 0.0326 | vallid iou 0.9114\n",
      "Validation loss decreased (0.095821 --> 0.088564).  Saving model ...\n"
     ]
    },
    {
     "name": "stderr",
     "output_type": "stream",
     "text": [
      "100%|██████████| 576/576 [14:10<00:00,  1.48s/it]\n"
     ]
    },
    {
     "name": "stdout",
     "output_type": "stream",
     "text": [
      "epoch 008 / 100 | train loss 0.0286 | valid loss 0.0262 | vallid iou 0.9157\n",
      "Validation loss decreased (0.088564 --> 0.084265).  Saving model ...\n"
     ]
    },
    {
     "name": "stderr",
     "output_type": "stream",
     "text": [
      "100%|██████████| 576/576 [14:10<00:00,  1.48s/it]\n",
      "  0%|          | 0/576 [00:00<?, ?it/s]"
     ]
    },
    {
     "name": "stdout",
     "output_type": "stream",
     "text": [
      "epoch 009 / 100 | train loss 0.0259 | valid loss 0.0259 | vallid iou 0.9146\n",
      "EarlyStopping counter: 1 out of 15\n"
     ]
    },
    {
     "name": "stderr",
     "output_type": "stream",
     "text": [
      "100%|██████████| 576/576 [14:12<00:00,  1.48s/it]\n"
     ]
    },
    {
     "name": "stdout",
     "output_type": "stream",
     "text": [
      "epoch 010 / 100 | train loss 0.0250 | valid loss 0.0247 | vallid iou 0.9249\n",
      "Validation loss decreased (0.084265 --> 0.075118).  Saving model ...\n"
     ]
    },
    {
     "name": "stderr",
     "output_type": "stream",
     "text": [
      "100%|██████████| 576/576 [14:13<00:00,  1.48s/it]\n",
      "  0%|          | 0/576 [00:00<?, ?it/s]"
     ]
    },
    {
     "name": "stdout",
     "output_type": "stream",
     "text": [
      "epoch 011 / 100 | train loss 0.0244 | valid loss 0.0232 | vallid iou 0.9242\n",
      "EarlyStopping counter: 1 out of 15\n"
     ]
    },
    {
     "name": "stderr",
     "output_type": "stream",
     "text": [
      "100%|██████████| 576/576 [14:10<00:00,  1.48s/it]\n",
      "  0%|          | 0/576 [00:00<?, ?it/s]"
     ]
    },
    {
     "name": "stdout",
     "output_type": "stream",
     "text": [
      "epoch 012 / 100 | train loss 0.0243 | valid loss 0.0255 | vallid iou 0.9225\n",
      "EarlyStopping counter: 2 out of 15\n"
     ]
    },
    {
     "name": "stderr",
     "output_type": "stream",
     "text": [
      "100%|██████████| 576/576 [14:14<00:00,  1.48s/it]\n",
      "  0%|          | 0/576 [00:00<?, ?it/s]"
     ]
    },
    {
     "name": "stdout",
     "output_type": "stream",
     "text": [
      "epoch 013 / 100 | train loss 0.0233 | valid loss 0.0248 | vallid iou 0.9194\n",
      "EarlyStopping counter: 3 out of 15\n"
     ]
    },
    {
     "name": "stderr",
     "output_type": "stream",
     "text": [
      "100%|██████████| 576/576 [14:13<00:00,  1.48s/it]\n"
     ]
    },
    {
     "name": "stdout",
     "output_type": "stream",
     "text": [
      "epoch 014 / 100 | train loss 0.0224 | valid loss 0.0229 | vallid iou 0.9305\n",
      "Validation loss decreased (0.075118 --> 0.069457).  Saving model ...\n"
     ]
    },
    {
     "name": "stderr",
     "output_type": "stream",
     "text": [
      "100%|██████████| 576/576 [14:09<00:00,  1.48s/it]\n"
     ]
    },
    {
     "name": "stdout",
     "output_type": "stream",
     "text": [
      "epoch 015 / 100 | train loss 0.0218 | valid loss 0.0215 | vallid iou 0.9312\n",
      "Validation loss decreased (0.069457 --> 0.068840).  Saving model ...\n"
     ]
    },
    {
     "name": "stderr",
     "output_type": "stream",
     "text": [
      "100%|██████████| 576/576 [14:16<00:00,  1.49s/it]\n",
      "  0%|          | 0/576 [00:00<?, ?it/s]"
     ]
    },
    {
     "name": "stdout",
     "output_type": "stream",
     "text": [
      "epoch 016 / 100 | train loss 0.0212 | valid loss 0.0225 | vallid iou 0.9243\n",
      "EarlyStopping counter: 1 out of 15\n"
     ]
    },
    {
     "name": "stderr",
     "output_type": "stream",
     "text": [
      "100%|██████████| 576/576 [14:18<00:00,  1.49s/it]\n"
     ]
    },
    {
     "name": "stdout",
     "output_type": "stream",
     "text": [
      "epoch 017 / 100 | train loss 0.0209 | valid loss 0.0212 | vallid iou 0.9314\n",
      "Validation loss decreased (0.068840 --> 0.068568).  Saving model ...\n"
     ]
    },
    {
     "name": "stderr",
     "output_type": "stream",
     "text": [
      "100%|██████████| 576/576 [14:15<00:00,  1.49s/it]\n",
      "  0%|          | 0/576 [00:00<?, ?it/s]"
     ]
    },
    {
     "name": "stdout",
     "output_type": "stream",
     "text": [
      "epoch 018 / 100 | train loss 0.0208 | valid loss 0.0214 | vallid iou 0.9361\n",
      "Validation loss decreased (0.068568 --> 0.063935).  Saving model ...\n"
     ]
    },
    {
     "name": "stderr",
     "output_type": "stream",
     "text": [
      "100%|██████████| 576/576 [14:16<00:00,  1.49s/it]\n",
      "  0%|          | 0/576 [00:00<?, ?it/s]"
     ]
    },
    {
     "name": "stdout",
     "output_type": "stream",
     "text": [
      "epoch 019 / 100 | train loss 0.0201 | valid loss 0.0217 | vallid iou 0.9301\n",
      "EarlyStopping counter: 1 out of 15\n"
     ]
    },
    {
     "name": "stderr",
     "output_type": "stream",
     "text": [
      "100%|██████████| 576/576 [14:17<00:00,  1.49s/it]\n",
      "  0%|          | 0/576 [00:00<?, ?it/s]"
     ]
    },
    {
     "name": "stdout",
     "output_type": "stream",
     "text": [
      "epoch 020 / 100 | train loss 0.0198 | valid loss 0.0235 | vallid iou 0.9352\n",
      "EarlyStopping counter: 2 out of 15\n"
     ]
    },
    {
     "name": "stderr",
     "output_type": "stream",
     "text": [
      "100%|██████████| 576/576 [14:16<00:00,  1.49s/it]\n",
      "  0%|          | 0/576 [00:00<?, ?it/s]"
     ]
    },
    {
     "name": "stdout",
     "output_type": "stream",
     "text": [
      "epoch 021 / 100 | train loss 0.0201 | valid loss 0.0223 | vallid iou 0.9284\n",
      "EarlyStopping counter: 3 out of 15\n"
     ]
    },
    {
     "name": "stderr",
     "output_type": "stream",
     "text": [
      "100%|██████████| 576/576 [14:15<00:00,  1.49s/it]\n"
     ]
    },
    {
     "name": "stdout",
     "output_type": "stream",
     "text": [
      "epoch 022 / 100 | train loss 0.0198 | valid loss 0.0204 | vallid iou 0.9363\n",
      "Validation loss decreased (0.063935 --> 0.063682).  Saving model ...\n"
     ]
    },
    {
     "name": "stderr",
     "output_type": "stream",
     "text": [
      "100%|██████████| 576/576 [14:14<00:00,  1.48s/it]\n"
     ]
    },
    {
     "name": "stdout",
     "output_type": "stream",
     "text": [
      "epoch 023 / 100 | train loss 0.0190 | valid loss 0.0198 | vallid iou 0.9368\n",
      "Validation loss decreased (0.063682 --> 0.063171).  Saving model ...\n"
     ]
    },
    {
     "name": "stderr",
     "output_type": "stream",
     "text": [
      "100%|██████████| 576/576 [14:14<00:00,  1.48s/it]\n",
      "  0%|          | 0/576 [00:00<?, ?it/s]"
     ]
    },
    {
     "name": "stdout",
     "output_type": "stream",
     "text": [
      "epoch 024 / 100 | train loss 0.0186 | valid loss 0.0197 | vallid iou 0.9344\n",
      "EarlyStopping counter: 1 out of 15\n"
     ]
    },
    {
     "name": "stderr",
     "output_type": "stream",
     "text": [
      "100%|██████████| 576/576 [14:15<00:00,  1.49s/it]\n",
      "  0%|          | 0/576 [00:00<?, ?it/s]"
     ]
    },
    {
     "name": "stdout",
     "output_type": "stream",
     "text": [
      "epoch 025 / 100 | train loss 0.0185 | valid loss 0.0198 | vallid iou 0.9365\n",
      "EarlyStopping counter: 2 out of 15\n"
     ]
    },
    {
     "name": "stderr",
     "output_type": "stream",
     "text": [
      "100%|██████████| 576/576 [14:12<00:00,  1.48s/it]\n",
      "  0%|          | 0/576 [00:00<?, ?it/s]"
     ]
    },
    {
     "name": "stdout",
     "output_type": "stream",
     "text": [
      "epoch 026 / 100 | train loss 0.0190 | valid loss 0.0194 | vallid iou 0.9358\n",
      "EarlyStopping counter: 3 out of 15\n"
     ]
    },
    {
     "name": "stderr",
     "output_type": "stream",
     "text": [
      "100%|██████████| 576/576 [14:10<00:00,  1.48s/it]\n"
     ]
    },
    {
     "name": "stdout",
     "output_type": "stream",
     "text": [
      "epoch 027 / 100 | train loss 0.0181 | valid loss 0.0189 | vallid iou 0.9388\n",
      "Validation loss decreased (0.063171 --> 0.061197).  Saving model ...\n"
     ]
    },
    {
     "name": "stderr",
     "output_type": "stream",
     "text": [
      "100%|██████████| 576/576 [14:13<00:00,  1.48s/it]\n",
      "  0%|          | 0/576 [00:00<?, ?it/s]"
     ]
    },
    {
     "name": "stdout",
     "output_type": "stream",
     "text": [
      "epoch 028 / 100 | train loss 0.0180 | valid loss 0.0247 | vallid iou 0.9202\n",
      "EarlyStopping counter: 1 out of 15\n"
     ]
    },
    {
     "name": "stderr",
     "output_type": "stream",
     "text": [
      "100%|██████████| 576/576 [14:10<00:00,  1.48s/it]\n",
      "  0%|          | 0/576 [00:00<?, ?it/s]"
     ]
    },
    {
     "name": "stdout",
     "output_type": "stream",
     "text": [
      "epoch 029 / 100 | train loss 0.0186 | valid loss 0.0190 | vallid iou 0.9360\n",
      "EarlyStopping counter: 2 out of 15\n"
     ]
    },
    {
     "name": "stderr",
     "output_type": "stream",
     "text": [
      "100%|██████████| 576/576 [14:08<00:00,  1.47s/it]\n"
     ]
    },
    {
     "name": "stdout",
     "output_type": "stream",
     "text": [
      "epoch 030 / 100 | train loss 0.0176 | valid loss 0.0189 | vallid iou 0.9398\n",
      "Validation loss decreased (0.061197 --> 0.060168).  Saving model ...\n"
     ]
    },
    {
     "name": "stderr",
     "output_type": "stream",
     "text": [
      "100%|██████████| 576/576 [14:08<00:00,  1.47s/it]\n",
      "  0%|          | 0/576 [00:00<?, ?it/s]"
     ]
    },
    {
     "name": "stdout",
     "output_type": "stream",
     "text": [
      "epoch 031 / 100 | train loss 0.0171 | valid loss 0.0186 | vallid iou 0.9386\n",
      "EarlyStopping counter: 1 out of 15\n"
     ]
    },
    {
     "name": "stderr",
     "output_type": "stream",
     "text": [
      "100%|██████████| 576/576 [14:10<00:00,  1.48s/it]\n"
     ]
    },
    {
     "name": "stdout",
     "output_type": "stream",
     "text": [
      "epoch 032 / 100 | train loss 0.0169 | valid loss 0.0184 | vallid iou 0.9399\n",
      "Validation loss decreased (0.060168 --> 0.060057).  Saving model ...\n"
     ]
    },
    {
     "name": "stderr",
     "output_type": "stream",
     "text": [
      "100%|██████████| 576/576 [14:15<00:00,  1.49s/it]\n",
      "  0%|          | 0/576 [00:00<?, ?it/s]"
     ]
    },
    {
     "name": "stdout",
     "output_type": "stream",
     "text": [
      "epoch 033 / 100 | train loss 0.0169 | valid loss 0.0187 | vallid iou 0.9392\n",
      "EarlyStopping counter: 1 out of 15\n"
     ]
    },
    {
     "name": "stderr",
     "output_type": "stream",
     "text": [
      "100%|██████████| 576/576 [14:13<00:00,  1.48s/it]\n",
      "  0%|          | 0/576 [00:00<?, ?it/s]"
     ]
    },
    {
     "name": "stdout",
     "output_type": "stream",
     "text": [
      "epoch 034 / 100 | train loss 0.0167 | valid loss 0.0190 | vallid iou 0.9374\n",
      "EarlyStopping counter: 2 out of 15\n"
     ]
    },
    {
     "name": "stderr",
     "output_type": "stream",
     "text": [
      "100%|██████████| 576/576 [14:12<00:00,  1.48s/it]\n",
      "  0%|          | 0/576 [00:00<?, ?it/s]"
     ]
    },
    {
     "name": "stdout",
     "output_type": "stream",
     "text": [
      "epoch 035 / 100 | train loss 0.0165 | valid loss 0.0193 | vallid iou 0.9356\n",
      "EarlyStopping counter: 3 out of 15\n"
     ]
    },
    {
     "name": "stderr",
     "output_type": "stream",
     "text": [
      "100%|██████████| 576/576 [14:16<00:00,  1.49s/it]\n",
      "  0%|          | 0/576 [00:00<?, ?it/s]"
     ]
    },
    {
     "name": "stdout",
     "output_type": "stream",
     "text": [
      "epoch 036 / 100 | train loss 0.0163 | valid loss 0.0188 | vallid iou 0.9374\n",
      "EarlyStopping counter: 4 out of 15\n"
     ]
    },
    {
     "name": "stderr",
     "output_type": "stream",
     "text": [
      "100%|██████████| 576/576 [14:16<00:00,  1.49s/it]\n",
      "  0%|          | 0/576 [00:00<?, ?it/s]"
     ]
    },
    {
     "name": "stdout",
     "output_type": "stream",
     "text": [
      "epoch 037 / 100 | train loss 0.0175 | valid loss 0.0186 | vallid iou 0.9383\n",
      "EarlyStopping counter: 5 out of 15\n"
     ]
    },
    {
     "name": "stderr",
     "output_type": "stream",
     "text": [
      "100%|██████████| 576/576 [14:09<00:00,  1.48s/it]\n"
     ]
    },
    {
     "name": "stdout",
     "output_type": "stream",
     "text": [
      "epoch 038 / 100 | train loss 0.0162 | valid loss 0.0180 | vallid iou 0.9416\n",
      "Validation loss decreased (0.060057 --> 0.058371).  Saving model ...\n"
     ]
    },
    {
     "name": "stderr",
     "output_type": "stream",
     "text": [
      "100%|██████████| 576/576 [14:06<00:00,  1.47s/it]\n",
      "  0%|          | 0/576 [00:00<?, ?it/s]"
     ]
    },
    {
     "name": "stdout",
     "output_type": "stream",
     "text": [
      "epoch 039 / 100 | train loss 0.0157 | valid loss 0.0182 | vallid iou 0.9422\n",
      "Validation loss decreased (0.058371 --> 0.057770).  Saving model ...\n"
     ]
    },
    {
     "name": "stderr",
     "output_type": "stream",
     "text": [
      "100%|██████████| 576/576 [14:08<00:00,  1.47s/it]\n",
      "  0%|          | 0/576 [00:00<?, ?it/s]"
     ]
    },
    {
     "name": "stdout",
     "output_type": "stream",
     "text": [
      "epoch 040 / 100 | train loss 0.0157 | valid loss 0.0182 | vallid iou 0.9394\n",
      "EarlyStopping counter: 1 out of 15\n"
     ]
    },
    {
     "name": "stderr",
     "output_type": "stream",
     "text": [
      "100%|██████████| 576/576 [14:10<00:00,  1.48s/it]\n"
     ]
    },
    {
     "name": "stdout",
     "output_type": "stream",
     "text": [
      "epoch 041 / 100 | train loss 0.0155 | valid loss 0.0180 | vallid iou 0.9432\n",
      "Validation loss decreased (0.057770 --> 0.056780).  Saving model ...\n"
     ]
    },
    {
     "name": "stderr",
     "output_type": "stream",
     "text": [
      "100%|██████████| 576/576 [14:09<00:00,  1.47s/it]\n",
      "  0%|          | 0/576 [00:00<?, ?it/s]"
     ]
    },
    {
     "name": "stdout",
     "output_type": "stream",
     "text": [
      "epoch 042 / 100 | train loss 0.0156 | valid loss 0.0188 | vallid iou 0.9426\n",
      "EarlyStopping counter: 1 out of 15\n"
     ]
    },
    {
     "name": "stderr",
     "output_type": "stream",
     "text": [
      "100%|██████████| 576/576 [14:10<00:00,  1.48s/it]\n",
      "  0%|          | 0/576 [00:00<?, ?it/s]"
     ]
    },
    {
     "name": "stdout",
     "output_type": "stream",
     "text": [
      "epoch 043 / 100 | train loss 0.0154 | valid loss 0.0182 | vallid iou 0.9429\n",
      "EarlyStopping counter: 2 out of 15\n"
     ]
    },
    {
     "name": "stderr",
     "output_type": "stream",
     "text": [
      "100%|██████████| 576/576 [14:12<00:00,  1.48s/it]\n"
     ]
    },
    {
     "name": "stdout",
     "output_type": "stream",
     "text": [
      "epoch 044 / 100 | train loss 0.0151 | valid loss 0.0187 | vallid iou 0.9434\n",
      "Validation loss decreased (0.056780 --> 0.056635).  Saving model ...\n"
     ]
    },
    {
     "name": "stderr",
     "output_type": "stream",
     "text": [
      "100%|██████████| 576/576 [14:11<00:00,  1.48s/it]\n",
      "  0%|          | 0/576 [00:00<?, ?it/s]"
     ]
    },
    {
     "name": "stdout",
     "output_type": "stream",
     "text": [
      "epoch 045 / 100 | train loss 0.0150 | valid loss 0.0192 | vallid iou 0.9423\n",
      "EarlyStopping counter: 1 out of 15\n"
     ]
    },
    {
     "name": "stderr",
     "output_type": "stream",
     "text": [
      "100%|██████████| 576/576 [14:18<00:00,  1.49s/it]\n",
      "  0%|          | 0/576 [00:00<?, ?it/s]"
     ]
    },
    {
     "name": "stdout",
     "output_type": "stream",
     "text": [
      "epoch 046 / 100 | train loss 0.0149 | valid loss 0.0184 | vallid iou 0.9413\n",
      "EarlyStopping counter: 2 out of 15\n"
     ]
    },
    {
     "name": "stderr",
     "output_type": "stream",
     "text": [
      "100%|██████████| 576/576 [14:14<00:00,  1.48s/it]\n",
      "  0%|          | 0/576 [00:00<?, ?it/s]"
     ]
    },
    {
     "name": "stdout",
     "output_type": "stream",
     "text": [
      "epoch 047 / 100 | train loss 0.0148 | valid loss 0.0807 | vallid iou 0.8425\n",
      "EarlyStopping counter: 3 out of 15\n"
     ]
    },
    {
     "name": "stderr",
     "output_type": "stream",
     "text": [
      "100%|██████████| 576/576 [14:19<00:00,  1.49s/it]\n",
      "  0%|          | 0/576 [00:00<?, ?it/s]"
     ]
    },
    {
     "name": "stdout",
     "output_type": "stream",
     "text": [
      "epoch 048 / 100 | train loss 0.0151 | valid loss 0.0178 | vallid iou 0.9420\n",
      "EarlyStopping counter: 4 out of 15\n"
     ]
    },
    {
     "name": "stderr",
     "output_type": "stream",
     "text": [
      "100%|██████████| 576/576 [14:15<00:00,  1.49s/it]\n"
     ]
    },
    {
     "name": "stdout",
     "output_type": "stream",
     "text": [
      "epoch 049 / 100 | train loss 0.0145 | valid loss 0.0180 | vallid iou 0.9435\n",
      "Validation loss decreased (0.056635 --> 0.056490).  Saving model ...\n"
     ]
    },
    {
     "name": "stderr",
     "output_type": "stream",
     "text": [
      "100%|██████████| 576/576 [14:16<00:00,  1.49s/it]\n",
      "  0%|          | 0/576 [00:00<?, ?it/s]"
     ]
    },
    {
     "name": "stdout",
     "output_type": "stream",
     "text": [
      "epoch 050 / 100 | train loss 0.0144 | valid loss 0.0182 | vallid iou 0.9440\n",
      "Validation loss decreased (0.056490 --> 0.056001).  Saving model ...\n"
     ]
    },
    {
     "name": "stderr",
     "output_type": "stream",
     "text": [
      "100%|██████████| 576/576 [14:18<00:00,  1.49s/it]\n",
      "  0%|          | 0/576 [00:00<?, ?it/s]"
     ]
    },
    {
     "name": "stdout",
     "output_type": "stream",
     "text": [
      "epoch 051 / 100 | train loss 0.0142 | valid loss 0.0186 | vallid iou 0.9427\n",
      "EarlyStopping counter: 1 out of 15\n"
     ]
    },
    {
     "name": "stderr",
     "output_type": "stream",
     "text": [
      "100%|██████████| 576/576 [14:19<00:00,  1.49s/it]\n",
      "  0%|          | 0/576 [00:00<?, ?it/s]"
     ]
    },
    {
     "name": "stdout",
     "output_type": "stream",
     "text": [
      "epoch 052 / 100 | train loss 0.0142 | valid loss 0.0182 | vallid iou 0.9434\n",
      "EarlyStopping counter: 2 out of 15\n"
     ]
    },
    {
     "name": "stderr",
     "output_type": "stream",
     "text": [
      "100%|██████████| 576/576 [14:19<00:00,  1.49s/it]\n"
     ]
    },
    {
     "name": "stdout",
     "output_type": "stream",
     "text": [
      "epoch 053 / 100 | train loss 0.0141 | valid loss 0.0183 | vallid iou 0.9446\n",
      "Validation loss decreased (0.056001 --> 0.055372).  Saving model ...\n"
     ]
    },
    {
     "name": "stderr",
     "output_type": "stream",
     "text": [
      "100%|██████████| 576/576 [14:20<00:00,  1.49s/it]\n",
      "  0%|          | 0/576 [00:00<?, ?it/s]"
     ]
    },
    {
     "name": "stdout",
     "output_type": "stream",
     "text": [
      "epoch 054 / 100 | train loss 0.0140 | valid loss 0.0181 | vallid iou 0.9442\n",
      "EarlyStopping counter: 1 out of 15\n"
     ]
    },
    {
     "name": "stderr",
     "output_type": "stream",
     "text": [
      "100%|██████████| 576/576 [14:20<00:00,  1.49s/it]\n",
      "  0%|          | 0/576 [00:00<?, ?it/s]"
     ]
    },
    {
     "name": "stdout",
     "output_type": "stream",
     "text": [
      "epoch 055 / 100 | train loss 0.0139 | valid loss 0.0187 | vallid iou 0.9423\n",
      "EarlyStopping counter: 2 out of 15\n"
     ]
    },
    {
     "name": "stderr",
     "output_type": "stream",
     "text": [
      "100%|██████████| 576/576 [14:19<00:00,  1.49s/it]\n",
      "  0%|          | 0/576 [00:00<?, ?it/s]"
     ]
    },
    {
     "name": "stdout",
     "output_type": "stream",
     "text": [
      "epoch 056 / 100 | train loss 0.0137 | valid loss 0.0182 | vallid iou 0.9430\n",
      "EarlyStopping counter: 3 out of 15\n"
     ]
    },
    {
     "name": "stderr",
     "output_type": "stream",
     "text": [
      "100%|██████████| 576/576 [14:16<00:00,  1.49s/it]\n",
      "  0%|          | 0/576 [00:00<?, ?it/s]"
     ]
    },
    {
     "name": "stdout",
     "output_type": "stream",
     "text": [
      "epoch 057 / 100 | train loss 0.0136 | valid loss 0.0184 | vallid iou 0.9438\n",
      "EarlyStopping counter: 4 out of 15\n"
     ]
    },
    {
     "name": "stderr",
     "output_type": "stream",
     "text": [
      "100%|██████████| 576/576 [14:17<00:00,  1.49s/it]\n",
      "  0%|          | 0/576 [00:00<?, ?it/s]"
     ]
    },
    {
     "name": "stdout",
     "output_type": "stream",
     "text": [
      "epoch 058 / 100 | train loss 0.0135 | valid loss 0.0183 | vallid iou 0.9439\n",
      "EarlyStopping counter: 5 out of 15\n"
     ]
    },
    {
     "name": "stderr",
     "output_type": "stream",
     "text": [
      "100%|██████████| 576/576 [14:21<00:00,  1.49s/it]\n",
      "  0%|          | 0/576 [00:00<?, ?it/s]"
     ]
    },
    {
     "name": "stdout",
     "output_type": "stream",
     "text": [
      "epoch 059 / 100 | train loss 0.0134 | valid loss 0.0183 | vallid iou 0.9430\n",
      "Epoch    59: reducing learning rate of group 0 to 5.0000e-04.\n",
      "EarlyStopping counter: 6 out of 15\n"
     ]
    },
    {
     "name": "stderr",
     "output_type": "stream",
     "text": [
      "100%|██████████| 576/576 [14:19<00:00,  1.49s/it]\n",
      "  0%|          | 0/576 [00:00<?, ?it/s]"
     ]
    },
    {
     "name": "stdout",
     "output_type": "stream",
     "text": [
      "epoch 060 / 100 | train loss 0.0128 | valid loss 0.0184 | vallid iou 0.9444\n",
      "EarlyStopping counter: 7 out of 15\n"
     ]
    },
    {
     "name": "stderr",
     "output_type": "stream",
     "text": [
      "100%|██████████| 576/576 [14:22<00:00,  1.50s/it]\n",
      "  0%|          | 0/576 [00:00<?, ?it/s]"
     ]
    },
    {
     "name": "stdout",
     "output_type": "stream",
     "text": [
      "epoch 061 / 100 | train loss 0.0126 | valid loss 0.0186 | vallid iou 0.9437\n",
      "EarlyStopping counter: 8 out of 15\n"
     ]
    },
    {
     "name": "stderr",
     "output_type": "stream",
     "text": [
      "100%|██████████| 576/576 [14:22<00:00,  1.50s/it]\n",
      "  0%|          | 0/576 [00:00<?, ?it/s]"
     ]
    },
    {
     "name": "stdout",
     "output_type": "stream",
     "text": [
      "epoch 062 / 100 | train loss 0.0124 | valid loss 0.0186 | vallid iou 0.9440\n",
      "EarlyStopping counter: 9 out of 15\n"
     ]
    },
    {
     "name": "stderr",
     "output_type": "stream",
     "text": [
      "100%|██████████| 576/576 [14:22<00:00,  1.50s/it]\n",
      "  0%|          | 0/576 [00:00<?, ?it/s]"
     ]
    },
    {
     "name": "stdout",
     "output_type": "stream",
     "text": [
      "epoch 063 / 100 | train loss 0.0123 | valid loss 0.0189 | vallid iou 0.9443\n",
      "EarlyStopping counter: 10 out of 15\n"
     ]
    },
    {
     "name": "stderr",
     "output_type": "stream",
     "text": [
      "100%|██████████| 576/576 [14:17<00:00,  1.49s/it]\n",
      "  0%|          | 0/576 [00:00<?, ?it/s]"
     ]
    },
    {
     "name": "stdout",
     "output_type": "stream",
     "text": [
      "epoch 064 / 100 | train loss 0.0122 | valid loss 0.0184 | vallid iou 0.9438\n",
      "EarlyStopping counter: 11 out of 15\n"
     ]
    },
    {
     "name": "stderr",
     "output_type": "stream",
     "text": [
      "100%|██████████| 576/576 [14:18<00:00,  1.49s/it]\n",
      "  0%|          | 0/576 [00:00<?, ?it/s]"
     ]
    },
    {
     "name": "stdout",
     "output_type": "stream",
     "text": [
      "epoch 065 / 100 | train loss 0.0121 | valid loss 0.0187 | vallid iou 0.9439\n",
      "Epoch    65: reducing learning rate of group 0 to 2.5000e-04.\n",
      "EarlyStopping counter: 12 out of 15\n"
     ]
    },
    {
     "name": "stderr",
     "output_type": "stream",
     "text": [
      "100%|██████████| 576/576 [14:18<00:00,  1.49s/it]\n",
      "  0%|          | 0/576 [00:00<?, ?it/s]"
     ]
    },
    {
     "name": "stdout",
     "output_type": "stream",
     "text": [
      "epoch 066 / 100 | train loss 0.0117 | valid loss 0.0188 | vallid iou 0.9443\n",
      "EarlyStopping counter: 13 out of 15\n"
     ]
    },
    {
     "name": "stderr",
     "output_type": "stream",
     "text": [
      "100%|██████████| 576/576 [14:18<00:00,  1.49s/it]\n",
      "  0%|          | 0/576 [00:00<?, ?it/s]"
     ]
    },
    {
     "name": "stdout",
     "output_type": "stream",
     "text": [
      "epoch 067 / 100 | train loss 0.0116 | valid loss 0.0196 | vallid iou 0.9441\n",
      "EarlyStopping counter: 14 out of 15\n"
     ]
    },
    {
     "name": "stderr",
     "output_type": "stream",
     "text": [
      "100%|██████████| 576/576 [14:18<00:00,  1.49s/it]\n"
     ]
    },
    {
     "name": "stdout",
     "output_type": "stream",
     "text": [
      "epoch 068 / 100 | train loss 0.0115 | valid loss 0.0195 | vallid iou 0.9443\n",
      "EarlyStopping counter: 15 out of 15\n",
      "All works done!!!\n"
     ]
    }
   ],
   "source": [
    "# Automatic Mixed-Precision(AMP)를 위한 Gradscaler 선언\n",
    "scaler = torch.cuda.amp.GradScaler(enabled=True) \n",
    "\n",
    "# Iteration 수 만큼 학습 시킴\n",
    "for epoch in range(num_epoch):\n",
    "    net.train()\n",
    "    train_loss_arr = []\n",
    "    \n",
    "    # Train set을 Batch size 만큼 가져옴\n",
    "    for data in tqdm(train_loader):\n",
    "        # forward\n",
    "        inputs = data['input'].to(device) # 데이터 device로 올리기\n",
    "        label = data['label'].to(device) \n",
    "        \n",
    "        # Casts operations to mixed precision \n",
    "        with torch.cuda.amp.autocast(): \n",
    "            output = net(inputs)\n",
    "            train_loss = fn_loss(output, label)  # output과 label 사이의 loss 계산\n",
    "            \n",
    "        scaler.scale(train_loss).backward()  # gradient backpropagation with AMP\n",
    "        scaler.step(optim)  # backpropa 된 gradient를 이용해서 각 layer의 parameters update with AMP\n",
    "        \n",
    "        # Updates the scale for next iteration \n",
    "        scaler.update()\n",
    "        \n",
    "        # backward\n",
    "        optim.zero_grad()  # gradient 초기화\n",
    "        \n",
    "        # loss를 저장함\n",
    "        train_loss_arr += [train_loss.item()]\n",
    "    \n",
    "    # Validation을 진행하여 Early stopping을 적용함\n",
    "    with torch.no_grad():  # validation 이기 때문에 backpropa 진행 x, 학습된 네트워크가 정답과 얼마나 가까운지 loss만 계산\n",
    "        net.eval()  # 네트워크를 evaluation 용으로 선언\n",
    "        val_loss_arr = []\n",
    "        val_iou_arr = []\n",
    "        \n",
    "        for batch, data in enumerate(valid_loader):\n",
    "            # forward\n",
    "            inputs = data['input'].to(device)\n",
    "            label = data['label'].to(device)\n",
    "            output = net(inputs)\n",
    "            \n",
    "            # loss\n",
    "            val_loss = fn_loss(output, label)\n",
    "            val_loss_arr += [val_loss.item()]\n",
    "            val_iou_arr += [IOU_Numpy(fn_classifier(output), label)]\n",
    "    \n",
    "    # Validation이 끝나면 Iteration 후 정보를 출력\n",
    "    print('epoch %03d / %03d | train loss %.4f | valid loss %.4f | vallid iou %.4f' % (\n",
    "            epoch+1, num_epoch, np.mean(train_loss_arr), np.mean(val_loss_arr), np.mean(val_iou_arr)))  \n",
    "    \n",
    "    # Optimizaer를 Update함\n",
    "    optimizer_scheduler.step(1 - np.mean(val_iou_arr))\n",
    "    \n",
    "    # Validation IOU에 따라 Early stopping을 판단함\n",
    "    models_dict = dict()\n",
    "    models_dict[Model_name] = net.state_dict()\n",
    "    early_stopping(1 - np.mean(val_iou_arr), models_dict)\n",
    "\n",
    "    # Early stopping patient가 초과되면 멈춤\n",
    "    if early_stopping.early_stop:\n",
    "        break\n",
    "\n",
    "print(\"All works done!!!\")"
   ]
  }
 ],
 "metadata": {
  "kernelspec": {
   "display_name": "Python 3",
   "language": "python",
   "name": "python3"
  },
  "language_info": {
   "codemirror_mode": {
    "name": "ipython",
    "version": 3
   },
   "file_extension": ".py",
   "mimetype": "text/x-python",
   "name": "python",
   "nbconvert_exporter": "python",
   "pygments_lexer": "ipython3",
   "version": "3.8.5"
  }
 },
 "nbformat": 4,
 "nbformat_minor": 4
}
