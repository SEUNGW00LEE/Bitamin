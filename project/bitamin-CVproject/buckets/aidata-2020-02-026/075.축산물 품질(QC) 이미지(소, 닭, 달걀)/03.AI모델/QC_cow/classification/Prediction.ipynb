{
 "cells": [
  {
   "cell_type": "markdown",
   "metadata": {},
   "source": [
    "### CPU 환경"
   ]
  },
  {
   "cell_type": "code",
   "execution_count": 1,
   "metadata": {},
   "outputs": [
    {
     "name": "stdout",
     "output_type": "stream",
     "text": [
      "Architecture:                    x86_64\n",
      "CPU op-mode(s):                  32-bit, 64-bit\n",
      "Byte Order:                      Little Endian\n",
      "Address sizes:                   46 bits physical, 48 bits virtual\n",
      "CPU(s):                          64\n",
      "On-line CPU(s) list:             0-63\n",
      "Thread(s) per core:              2\n",
      "Core(s) per socket:              16\n",
      "Socket(s):                       2\n",
      "NUMA node(s):                    2\n",
      "Vendor ID:                       GenuineIntel\n",
      "CPU family:                      6\n",
      "Model:                           85\n",
      "Model name:                      Intel(R) Xeon(R) Platinum 8153 CPU @ 2.00GHz\n",
      "Stepping:                        4\n",
      "CPU MHz:                         1000.091\n",
      "CPU max MHz:                     2800.0000\n",
      "CPU min MHz:                     1000.0000\n",
      "BogoMIPS:                        4000.00\n",
      "Virtualization:                  VT-x\n",
      "L1d cache:                       1 MiB\n",
      "L1i cache:                       1 MiB\n",
      "L2 cache:                        32 MiB\n",
      "L3 cache:                        44 MiB\n",
      "NUMA node0 CPU(s):               0-15,32-47\n",
      "NUMA node1 CPU(s):               16-31,48-63\n",
      "Vulnerability Itlb multihit:     KVM: Vulnerable\n",
      "Vulnerability L1tf:              Mitigation; PTE Inversion\n",
      "Vulnerability Mds:               Mitigation; Clear CPU buffers; SMT vulnerable\n",
      "Vulnerability Meltdown:          Mitigation; PTI\n",
      "Vulnerability Spec store bypass: Mitigation; Speculative Store Bypass disabled v\n",
      "                                 ia prctl and seccomp\n",
      "Vulnerability Spectre v1:        Mitigation; usercopy/swapgs barriers and __user\n",
      "                                  pointer sanitization\n",
      "Vulnerability Spectre v2:        Mitigation; Full generic retpoline, IBPB condit\n",
      "                                 ional, IBRS_FW, STIBP conditional, RSB filling\n",
      "Vulnerability Srbds:             Not affected\n",
      "Vulnerability Tsx async abort:   Mitigation; Clear CPU buffers; SMT vulnerable\n",
      "Flags:                           fpu vme de pse tsc msr pae mce cx8 apic sep mtr\n",
      "                                 r pge mca cmov pat pse36 clflush dts acpi mmx f\n",
      "                                 xsr sse sse2 ss ht tm pbe syscall nx pdpe1gb rd\n",
      "                                 tscp lm constant_tsc art arch_perfmon pebs bts \n",
      "                                 rep_good nopl xtopology nonstop_tsc cpuid aperf\n",
      "                                 mperf pni pclmulqdq dtes64 monitor ds_cpl vmx s\n",
      "                                 mx est tm2 ssse3 sdbg fma cx16 xtpr pdcm pcid d\n",
      "                                 ca sse4_1 sse4_2 x2apic movbe popcnt tsc_deadli\n",
      "                                 ne_timer aes xsave avx f16c rdrand lahf_lm abm \n",
      "                                 3dnowprefetch cpuid_fault epb cat_l3 cdp_l3 inv\n",
      "                                 pcid_single pti intel_ppin ssbd mba ibrs ibpb s\n",
      "                                 tibp tpr_shadow vnmi flexpriority ept vpid ept_\n",
      "                                 ad fsgsbase tsc_adjust bmi1 hle avx2 smep bmi2 \n",
      "                                 erms invpcid rtm cqm mpx rdt_a avx512f avx512dq\n",
      "                                  rdseed adx smap clflushopt clwb intel_pt avx51\n",
      "                                 2cd avx512bw avx512vl xsaveopt xsavec xgetbv1 x\n",
      "                                 saves cqm_llc cqm_occup_llc cqm_mbm_total cqm_m\n",
      "                                 bm_local dtherm ida arat pln pts hwp hwp_act_wi\n",
      "                                 ndow hwp_pkg_req pku ospke md_clear flush_l1d\n"
     ]
    }
   ],
   "source": [
    "!lscpu"
   ]
  },
  {
   "cell_type": "markdown",
   "metadata": {},
   "source": [
    "### GPU 환경"
   ]
  },
  {
   "cell_type": "code",
   "execution_count": 2,
   "metadata": {},
   "outputs": [
    {
     "name": "stdout",
     "output_type": "stream",
     "text": [
      "Tue Feb 23 12:38:35 2021       \n",
      "+-----------------------------------------------------------------------------+\n",
      "| NVIDIA-SMI 450.51.05    Driver Version: 450.51.05    CUDA Version: 11.0     |\n",
      "|-------------------------------+----------------------+----------------------+\n",
      "| GPU  Name        Persistence-M| Bus-Id        Disp.A | Volatile Uncorr. ECC |\n",
      "| Fan  Temp  Perf  Pwr:Usage/Cap|         Memory-Usage | GPU-Util  Compute M. |\n",
      "|                               |                      |               MIG M. |\n",
      "|===============================+======================+======================|\n",
      "|   0  Tesla T4            Off  | 00000000:37:00.0 Off |                    0 |\n",
      "| N/A   44C    P8    10W /  70W |      3MiB / 15109MiB |      0%      Default |\n",
      "|                               |                      |                  N/A |\n",
      "+-------------------------------+----------------------+----------------------+\n",
      "|   1  Tesla T4            Off  | 00000000:86:00.0 Off |                    0 |\n",
      "| N/A   40C    P8     9W /  70W |      3MiB / 15109MiB |      0%      Default |\n",
      "|                               |                      |                  N/A |\n",
      "+-------------------------------+----------------------+----------------------+\n",
      "                                                                               \n",
      "+-----------------------------------------------------------------------------+\n",
      "| Processes:                                                                  |\n",
      "|  GPU   GI   CI        PID   Type   Process name                  GPU Memory |\n",
      "|        ID   ID                                                   Usage      |\n",
      "|=============================================================================|\n",
      "|  No running processes found                                                 |\n",
      "+-----------------------------------------------------------------------------+\n"
     ]
    }
   ],
   "source": [
    "!nvidia-smi"
   ]
  },
  {
   "cell_type": "markdown",
   "metadata": {},
   "source": [
    "### RAM 용량 확인"
   ]
  },
  {
   "cell_type": "code",
   "execution_count": 3,
   "metadata": {},
   "outputs": [
    {
     "name": "stdout",
     "output_type": "stream",
     "text": [
      "              total        used        free      shared  buff/cache   available\n",
      "Mem:          125Gi       2.9Gi       4.2Gi       2.0Mi       118Gi       121Gi\n",
      "Swap:         8.0Gi        18Mi       8.0Gi\n"
     ]
    }
   ],
   "source": [
    "!free -h"
   ]
  },
  {
   "cell_type": "markdown",
   "metadata": {},
   "source": [
    "### HDD 용량 확인"
   ]
  },
  {
   "cell_type": "code",
   "execution_count": 4,
   "metadata": {},
   "outputs": [
    {
     "name": "stdout",
     "output_type": "stream",
     "text": [
      "Filesystem      Size  Used Avail Use% Mounted on\n",
      "udev             63G     0   63G   0% /dev\n",
      "tmpfs            13G  2.7M   13G   1% /run\n",
      "/dev/sda2       549G  385G  137G  74% /\n",
      "tmpfs            63G     0   63G   0% /dev/shm\n",
      "tmpfs           5.0M     0  5.0M   0% /run/lock\n",
      "tmpfs            63G     0   63G   0% /sys/fs/cgroup\n",
      "/dev/sda1       511M  7.8M  504M   2% /boot/efi\n",
      "/dev/loop4       56M   56M     0 100% /snap/core18/1944\n",
      "tmpfs            13G     0   13G   0% /run/user/1000\n",
      "/dev/loop6       32M   32M     0 100% /snap/snapd/10707\n",
      "/dev/loop0       70M   70M     0 100% /snap/lxd/19032\n",
      "/dev/loop1       70M   70M     0 100% /snap/lxd/19188\n",
      "/dev/sdb2       466G  297G  170G  64% /home/test/mount_folder\n",
      "/dev/loop5       56M   56M     0 100% /snap/core18/1988\n",
      "/dev/loop2       32M   32M     0 100% /snap/snapd/11036\n"
     ]
    }
   ],
   "source": [
    "# 디스크 용량 확인\n",
    "!df -h"
   ]
  },
  {
   "cell_type": "markdown",
   "metadata": {},
   "source": [
    "### OS 환경"
   ]
  },
  {
   "cell_type": "code",
   "execution_count": 5,
   "metadata": {},
   "outputs": [
    {
     "name": "stdout",
     "output_type": "stream",
     "text": [
      "NAME=\"Ubuntu\"\n",
      "VERSION=\"20.04.1 LTS (Focal Fossa)\"\n",
      "ID=ubuntu\n",
      "ID_LIKE=debian\n",
      "PRETTY_NAME=\"Ubuntu 20.04.1 LTS\"\n",
      "VERSION_ID=\"20.04\"\n",
      "HOME_URL=\"https://www.ubuntu.com/\"\n",
      "SUPPORT_URL=\"https://help.ubuntu.com/\"\n",
      "BUG_REPORT_URL=\"https://bugs.launchpad.net/ubuntu/\"\n",
      "PRIVACY_POLICY_URL=\"https://www.ubuntu.com/legal/terms-and-policies/privacy-policy\"\n",
      "VERSION_CODENAME=focal\n",
      "UBUNTU_CODENAME=focal\n"
     ]
    }
   ],
   "source": [
    "!cat /etc/os-release"
   ]
  },
  {
   "cell_type": "markdown",
   "metadata": {},
   "source": [
    "## 패키지 불러오기"
   ]
  },
  {
   "cell_type": "code",
   "execution_count": 6,
   "metadata": {},
   "outputs": [],
   "source": [
    "import os\n",
    "import os.path as osp\n",
    "import sys\n",
    "from glob import glob\n",
    "\n",
    "import datetime\n",
    "import time\n",
    "import pytz\n",
    "\n",
    "import pandas as pd\n",
    "import numpy as np\n",
    "from tqdm import tqdm\n",
    "\n",
    "import sklearn\n",
    "\n",
    "import torch\n",
    "import torchvision\n",
    "from torchinfo import summary\n",
    "\n",
    "import torch.nn as nn\n",
    "from torch.utils.data import DataLoader\n",
    "\n",
    "from torchvision import datasets, transforms\n",
    "import torchvision.models as models\n",
    "\n",
    "import explain"
   ]
  },
  {
   "cell_type": "code",
   "execution_count": 7,
   "metadata": {},
   "outputs": [
    {
     "name": "stdout",
     "output_type": "stream",
     "text": [
      "python version: 3.7.0 (default, Oct  9 2018, 10:31:47) \n",
      "[GCC 7.3.0]\n",
      "pandas version: 1.1.5\n",
      "numpy version: 1.19.2\n",
      "sklearn version: 0.23.2\n",
      "torch version: 1.7.1\n",
      "torchvision version: 0.8.2\n"
     ]
    }
   ],
   "source": [
    "print('python version:',sys.version)\n",
    "print('pandas version:',pd.__version__)\n",
    "print('numpy version:', np.__version__)\n",
    "\n",
    "print('sklearn version:', sklearn.__version__)\n",
    "print('torch version:', torch.__version__)\n",
    "print('torchvision version:', torchvision.__version__)"
   ]
  },
  {
   "cell_type": "markdown",
   "metadata": {},
   "source": [
    "## 모델 파라미터 (Parameter)"
   ]
  },
  {
   "cell_type": "code",
   "execution_count": 8,
   "metadata": {},
   "outputs": [],
   "source": [
    "# 모델에 입력할 Input 이미지의 크기를 지정함.\n",
    "IMG_WIDTH = 512\n",
    "IMG_HEIGHT = 512\n",
    "\n",
    "# 배치 사이즈 임의 지정\n",
    "batch_size = 4\n",
    "\n",
    "# 데이터를 읽어올 경로를 지정함.\n",
    "data_dir='../Dataset/preprocessed/classification'\n",
    "# 학습된 모델이 저장된 경로를 지정함.\n",
    "ckpt_dir = \"./Models/\"\n",
    "\n",
    "# 모델 이름\n",
    "Model_name = \"cow_classification\"\n",
    "# 모델을 연산할 장비 설정 (Docker환경에서 작동할 수 있도록 CPU에서 계산함)\n",
    "device = torch.device('cpu')"
   ]
  },
  {
   "cell_type": "markdown",
   "metadata": {},
   "source": [
    "## Train, Validation, Test 데이터 셋 확인"
   ]
  },
  {
   "cell_type": "code",
   "execution_count": 9,
   "metadata": {},
   "outputs": [
    {
     "name": "stdout",
     "output_type": "stream",
     "text": [
      "train set size: 19520\n",
      "\n",
      "The number of Class 1++: 4762 / 19520 = 0.24\n",
      "The number of Class 1+: 5004 / 19520 = 0.26\n",
      "The number of Class 1: 5940 / 19520 = 0.30\n",
      "The number of Class 2: 2720 / 19520 = 0.14\n",
      "The number of Class 3: 1094 / 19520 = 0.06\n",
      "---------------------------------------------\n",
      "\n",
      "validation set size: 2438\n",
      "\n",
      "The number of Class 1++: 594 / 2438 = 0.24\n",
      "The number of Class 1+: 625 / 2438 = 0.26\n",
      "The number of Class 1: 742 / 2438 = 0.30\n",
      "The number of Class 2: 340 / 2438 = 0.14\n",
      "The number of Class 3: 137 / 2438 = 0.06\n",
      "---------------------------------------------\n",
      "\n",
      "test set size: 2440\n",
      "\n",
      "The number of Class 1++: 595 / 2440 = 0.24\n",
      "The number of Class 1+: 625 / 2440 = 0.26\n",
      "The number of Class 1: 743 / 2440 = 0.30\n",
      "The number of Class 2: 340 / 2440 = 0.14\n",
      "The number of Class 3: 137 / 2440 = 0.06\n",
      "---------------------------------------------\n",
      "\n"
     ]
    }
   ],
   "source": [
    "label=['1++','1+','1','2','3']\n",
    "\n",
    "for set_ in ['train','val','test']:\n",
    "    set_size=len(glob(osp.join(data_dir, set_, '*', '*'), recursive=True))\n",
    "    if set_=='val':\n",
    "        print(f\"{set_+'idation'} set size: {set_size}\\n\")\n",
    "    else:\n",
    "        print(f\"{set_} set size: {set_size}\\n\")\n",
    "    \n",
    "    for i in range(5):\n",
    "        size=len(glob(osp.join(data_dir, set_, str(i), '*'), recursive=True))\n",
    "        print(f\"The number of Class {label[i]}: {size} / {set_size} = {size/set_size :.2f}\")\n",
    "    print('-'*45)\n",
    "    print()"
   ]
  },
  {
   "cell_type": "markdown",
   "metadata": {},
   "source": [
    "## 데이터 셋 (Dataset) 불러오기"
   ]
  },
  {
   "cell_type": "code",
   "execution_count": 10,
   "metadata": {},
   "outputs": [],
   "source": [
    "# 이미지 transformation\n",
    "test_compose=transforms.Compose([\n",
    "    transforms.Resize((IMG_HEIGHT,IMG_WIDTH)),\n",
    "    transforms.ToTensor()\n",
    "])\n",
    "\n",
    "# Test set을 읽어옴\n",
    "test_dataset=datasets.ImageFolder(os.path.join(data_dir, 'test'), transform=test_compose)\n",
    "test_dataloader=DataLoader(test_dataset, batch_size=batch_size, pin_memory=True, shuffle=False)"
   ]
  },
  {
   "cell_type": "markdown",
   "metadata": {},
   "source": [
    "### 모델 불러오기 (Load)"
   ]
  },
  {
   "cell_type": "code",
   "execution_count": 11,
   "metadata": {},
   "outputs": [
    {
     "data": {
      "text/plain": [
       "<All keys matched successfully>"
      ]
     },
     "execution_count": 11,
     "metadata": {},
     "output_type": "execute_result"
    }
   ],
   "source": [
    "# Model: ResNeXt50_32x4d\n",
    "model=models.resnext50_32x4d(pretrained=False)\n",
    "# 최종 Label 의 개수 = 5 (1++, 1+, 1, 2, 3)\n",
    "model.fc=nn.Linear(model.fc.in_features, 5)\n",
    "\n",
    "# 학습된 모델 가중치 불러오기\n",
    "checkpoint=torch.load(ckpt_dir + Model_name + '.pth', map_location=device)\n",
    "model.load_state_dict(checkpoint['state_dict'])"
   ]
  },
  {
   "cell_type": "markdown",
   "metadata": {},
   "source": [
    "### 모델 학습 전, ImageNet 데이터로 Pretrain 된 기본 모델 불러오기 (Load)"
   ]
  },
  {
   "cell_type": "code",
   "execution_count": 12,
   "metadata": {},
   "outputs": [],
   "source": [
    "# model : ResNeXt50_32x4d\n",
    "base_model=models.resnext50_32x4d(pretrained=True)\n",
    "base_model.fc=nn.Linear(base_model.fc.in_features, 5)"
   ]
  },
  {
   "cell_type": "markdown",
   "metadata": {},
   "source": [
    "## 모델 확인 (Summary)"
   ]
  },
  {
   "cell_type": "code",
   "execution_count": 13,
   "metadata": {},
   "outputs": [
    {
     "name": "stdout",
     "output_type": "stream",
     "text": [
      "==========================================================================================\n",
      "Layer (type:depth-idx)                   Output Shape              Param #\n",
      "==========================================================================================\n",
      "├─Conv2d: 1-1                            [4, 64, 256, 256]         9,408\n",
      "├─BatchNorm2d: 1-2                       [4, 64, 256, 256]         128\n",
      "├─ReLU: 1-3                              [4, 64, 256, 256]         --\n",
      "├─MaxPool2d: 1-4                         [4, 64, 128, 128]         --\n",
      "├─Sequential: 1-5                        [4, 256, 128, 128]        --\n",
      "|    └─Bottleneck: 2-1                   [4, 256, 128, 128]        --\n",
      "|    |    └─Conv2d: 3-1                  [4, 128, 128, 128]        8,192\n",
      "|    |    └─BatchNorm2d: 3-2             [4, 128, 128, 128]        256\n",
      "|    |    └─ReLU: 3-3                    [4, 128, 128, 128]        --\n",
      "|    |    └─Conv2d: 3-4                  [4, 128, 128, 128]        4,608\n",
      "|    |    └─BatchNorm2d: 3-5             [4, 128, 128, 128]        256\n",
      "|    |    └─ReLU: 3-6                    [4, 128, 128, 128]        --\n",
      "|    |    └─Conv2d: 3-7                  [4, 256, 128, 128]        32,768\n",
      "|    |    └─BatchNorm2d: 3-8             [4, 256, 128, 128]        512\n",
      "|    |    └─Sequential: 3-9              [4, 256, 128, 128]        16,896\n",
      "|    |    └─ReLU: 3-10                   [4, 256, 128, 128]        --\n",
      "|    └─Bottleneck: 2-2                   [4, 256, 128, 128]        --\n",
      "|    |    └─Conv2d: 3-11                 [4, 128, 128, 128]        32,768\n",
      "|    |    └─BatchNorm2d: 3-12            [4, 128, 128, 128]        256\n",
      "|    |    └─ReLU: 3-13                   [4, 128, 128, 128]        --\n",
      "|    |    └─Conv2d: 3-14                 [4, 128, 128, 128]        4,608\n",
      "|    |    └─BatchNorm2d: 3-15            [4, 128, 128, 128]        256\n",
      "|    |    └─ReLU: 3-16                   [4, 128, 128, 128]        --\n",
      "|    |    └─Conv2d: 3-17                 [4, 256, 128, 128]        32,768\n",
      "|    |    └─BatchNorm2d: 3-18            [4, 256, 128, 128]        512\n",
      "|    |    └─ReLU: 3-19                   [4, 256, 128, 128]        --\n",
      "|    └─Bottleneck: 2-3                   [4, 256, 128, 128]        --\n",
      "|    |    └─Conv2d: 3-20                 [4, 128, 128, 128]        32,768\n",
      "|    |    └─BatchNorm2d: 3-21            [4, 128, 128, 128]        256\n",
      "|    |    └─ReLU: 3-22                   [4, 128, 128, 128]        --\n",
      "|    |    └─Conv2d: 3-23                 [4, 128, 128, 128]        4,608\n",
      "|    |    └─BatchNorm2d: 3-24            [4, 128, 128, 128]        256\n",
      "|    |    └─ReLU: 3-25                   [4, 128, 128, 128]        --\n",
      "|    |    └─Conv2d: 3-26                 [4, 256, 128, 128]        32,768\n",
      "|    |    └─BatchNorm2d: 3-27            [4, 256, 128, 128]        512\n",
      "|    |    └─ReLU: 3-28                   [4, 256, 128, 128]        --\n",
      "├─Sequential: 1-6                        [4, 512, 64, 64]          --\n",
      "|    └─Bottleneck: 2-4                   [4, 512, 64, 64]          --\n",
      "|    |    └─Conv2d: 3-29                 [4, 256, 128, 128]        65,536\n",
      "|    |    └─BatchNorm2d: 3-30            [4, 256, 128, 128]        512\n",
      "|    |    └─ReLU: 3-31                   [4, 256, 128, 128]        --\n",
      "|    |    └─Conv2d: 3-32                 [4, 256, 64, 64]          18,432\n",
      "|    |    └─BatchNorm2d: 3-33            [4, 256, 64, 64]          512\n",
      "|    |    └─ReLU: 3-34                   [4, 256, 64, 64]          --\n",
      "|    |    └─Conv2d: 3-35                 [4, 512, 64, 64]          131,072\n",
      "|    |    └─BatchNorm2d: 3-36            [4, 512, 64, 64]          1,024\n",
      "|    |    └─Sequential: 3-37             [4, 512, 64, 64]          132,096\n",
      "|    |    └─ReLU: 3-38                   [4, 512, 64, 64]          --\n",
      "|    └─Bottleneck: 2-5                   [4, 512, 64, 64]          --\n",
      "|    |    └─Conv2d: 3-39                 [4, 256, 64, 64]          131,072\n",
      "|    |    └─BatchNorm2d: 3-40            [4, 256, 64, 64]          512\n",
      "|    |    └─ReLU: 3-41                   [4, 256, 64, 64]          --\n",
      "|    |    └─Conv2d: 3-42                 [4, 256, 64, 64]          18,432\n",
      "|    |    └─BatchNorm2d: 3-43            [4, 256, 64, 64]          512\n",
      "|    |    └─ReLU: 3-44                   [4, 256, 64, 64]          --\n",
      "|    |    └─Conv2d: 3-45                 [4, 512, 64, 64]          131,072\n",
      "|    |    └─BatchNorm2d: 3-46            [4, 512, 64, 64]          1,024\n",
      "|    |    └─ReLU: 3-47                   [4, 512, 64, 64]          --\n",
      "|    └─Bottleneck: 2-6                   [4, 512, 64, 64]          --\n",
      "|    |    └─Conv2d: 3-48                 [4, 256, 64, 64]          131,072\n",
      "|    |    └─BatchNorm2d: 3-49            [4, 256, 64, 64]          512\n",
      "|    |    └─ReLU: 3-50                   [4, 256, 64, 64]          --\n",
      "|    |    └─Conv2d: 3-51                 [4, 256, 64, 64]          18,432\n",
      "|    |    └─BatchNorm2d: 3-52            [4, 256, 64, 64]          512\n",
      "|    |    └─ReLU: 3-53                   [4, 256, 64, 64]          --\n",
      "|    |    └─Conv2d: 3-54                 [4, 512, 64, 64]          131,072\n",
      "|    |    └─BatchNorm2d: 3-55            [4, 512, 64, 64]          1,024\n",
      "|    |    └─ReLU: 3-56                   [4, 512, 64, 64]          --\n",
      "|    └─Bottleneck: 2-7                   [4, 512, 64, 64]          --\n",
      "|    |    └─Conv2d: 3-57                 [4, 256, 64, 64]          131,072\n",
      "|    |    └─BatchNorm2d: 3-58            [4, 256, 64, 64]          512\n",
      "|    |    └─ReLU: 3-59                   [4, 256, 64, 64]          --\n",
      "|    |    └─Conv2d: 3-60                 [4, 256, 64, 64]          18,432\n",
      "|    |    └─BatchNorm2d: 3-61            [4, 256, 64, 64]          512\n",
      "|    |    └─ReLU: 3-62                   [4, 256, 64, 64]          --\n",
      "|    |    └─Conv2d: 3-63                 [4, 512, 64, 64]          131,072\n",
      "|    |    └─BatchNorm2d: 3-64            [4, 512, 64, 64]          1,024\n",
      "|    |    └─ReLU: 3-65                   [4, 512, 64, 64]          --\n",
      "├─Sequential: 1-7                        [4, 1024, 32, 32]         --\n",
      "|    └─Bottleneck: 2-8                   [4, 1024, 32, 32]         --\n",
      "|    |    └─Conv2d: 3-66                 [4, 512, 64, 64]          262,144\n",
      "|    |    └─BatchNorm2d: 3-67            [4, 512, 64, 64]          1,024\n",
      "|    |    └─ReLU: 3-68                   [4, 512, 64, 64]          --\n",
      "|    |    └─Conv2d: 3-69                 [4, 512, 32, 32]          73,728\n",
      "|    |    └─BatchNorm2d: 3-70            [4, 512, 32, 32]          1,024\n",
      "|    |    └─ReLU: 3-71                   [4, 512, 32, 32]          --\n",
      "|    |    └─Conv2d: 3-72                 [4, 1024, 32, 32]         524,288\n",
      "|    |    └─BatchNorm2d: 3-73            [4, 1024, 32, 32]         2,048\n",
      "|    |    └─Sequential: 3-74             [4, 1024, 32, 32]         526,336\n",
      "|    |    └─ReLU: 3-75                   [4, 1024, 32, 32]         --\n",
      "|    └─Bottleneck: 2-9                   [4, 1024, 32, 32]         --\n",
      "|    |    └─Conv2d: 3-76                 [4, 512, 32, 32]          524,288\n",
      "|    |    └─BatchNorm2d: 3-77            [4, 512, 32, 32]          1,024\n",
      "|    |    └─ReLU: 3-78                   [4, 512, 32, 32]          --\n",
      "|    |    └─Conv2d: 3-79                 [4, 512, 32, 32]          73,728\n",
      "|    |    └─BatchNorm2d: 3-80            [4, 512, 32, 32]          1,024\n",
      "|    |    └─ReLU: 3-81                   [4, 512, 32, 32]          --\n",
      "|    |    └─Conv2d: 3-82                 [4, 1024, 32, 32]         524,288\n",
      "|    |    └─BatchNorm2d: 3-83            [4, 1024, 32, 32]         2,048\n",
      "|    |    └─ReLU: 3-84                   [4, 1024, 32, 32]         --\n",
      "|    └─Bottleneck: 2-10                  [4, 1024, 32, 32]         --\n",
      "|    |    └─Conv2d: 3-85                 [4, 512, 32, 32]          524,288\n",
      "|    |    └─BatchNorm2d: 3-86            [4, 512, 32, 32]          1,024\n",
      "|    |    └─ReLU: 3-87                   [4, 512, 32, 32]          --\n",
      "|    |    └─Conv2d: 3-88                 [4, 512, 32, 32]          73,728\n",
      "|    |    └─BatchNorm2d: 3-89            [4, 512, 32, 32]          1,024\n",
      "|    |    └─ReLU: 3-90                   [4, 512, 32, 32]          --\n",
      "|    |    └─Conv2d: 3-91                 [4, 1024, 32, 32]         524,288\n",
      "|    |    └─BatchNorm2d: 3-92            [4, 1024, 32, 32]         2,048\n",
      "|    |    └─ReLU: 3-93                   [4, 1024, 32, 32]         --\n",
      "|    └─Bottleneck: 2-11                  [4, 1024, 32, 32]         --\n",
      "|    |    └─Conv2d: 3-94                 [4, 512, 32, 32]          524,288\n",
      "|    |    └─BatchNorm2d: 3-95            [4, 512, 32, 32]          1,024\n",
      "|    |    └─ReLU: 3-96                   [4, 512, 32, 32]          --\n",
      "|    |    └─Conv2d: 3-97                 [4, 512, 32, 32]          73,728\n",
      "|    |    └─BatchNorm2d: 3-98            [4, 512, 32, 32]          1,024\n",
      "|    |    └─ReLU: 3-99                   [4, 512, 32, 32]          --\n",
      "|    |    └─Conv2d: 3-100                [4, 1024, 32, 32]         524,288\n",
      "|    |    └─BatchNorm2d: 3-101           [4, 1024, 32, 32]         2,048\n",
      "|    |    └─ReLU: 3-102                  [4, 1024, 32, 32]         --\n",
      "|    └─Bottleneck: 2-12                  [4, 1024, 32, 32]         --\n",
      "|    |    └─Conv2d: 3-103                [4, 512, 32, 32]          524,288\n",
      "|    |    └─BatchNorm2d: 3-104           [4, 512, 32, 32]          1,024\n",
      "|    |    └─ReLU: 3-105                  [4, 512, 32, 32]          --\n",
      "|    |    └─Conv2d: 3-106                [4, 512, 32, 32]          73,728\n",
      "|    |    └─BatchNorm2d: 3-107           [4, 512, 32, 32]          1,024\n",
      "|    |    └─ReLU: 3-108                  [4, 512, 32, 32]          --\n",
      "|    |    └─Conv2d: 3-109                [4, 1024, 32, 32]         524,288\n",
      "|    |    └─BatchNorm2d: 3-110           [4, 1024, 32, 32]         2,048\n",
      "|    |    └─ReLU: 3-111                  [4, 1024, 32, 32]         --\n",
      "|    └─Bottleneck: 2-13                  [4, 1024, 32, 32]         --\n",
      "|    |    └─Conv2d: 3-112                [4, 512, 32, 32]          524,288\n",
      "|    |    └─BatchNorm2d: 3-113           [4, 512, 32, 32]          1,024\n",
      "|    |    └─ReLU: 3-114                  [4, 512, 32, 32]          --\n",
      "|    |    └─Conv2d: 3-115                [4, 512, 32, 32]          73,728\n",
      "|    |    └─BatchNorm2d: 3-116           [4, 512, 32, 32]          1,024\n",
      "|    |    └─ReLU: 3-117                  [4, 512, 32, 32]          --\n",
      "|    |    └─Conv2d: 3-118                [4, 1024, 32, 32]         524,288\n",
      "|    |    └─BatchNorm2d: 3-119           [4, 1024, 32, 32]         2,048\n",
      "|    |    └─ReLU: 3-120                  [4, 1024, 32, 32]         --\n",
      "├─Sequential: 1-8                        [4, 2048, 16, 16]         --\n",
      "|    └─Bottleneck: 2-14                  [4, 2048, 16, 16]         --\n",
      "|    |    └─Conv2d: 3-121                [4, 1024, 32, 32]         1,048,576\n",
      "|    |    └─BatchNorm2d: 3-122           [4, 1024, 32, 32]         2,048\n",
      "|    |    └─ReLU: 3-123                  [4, 1024, 32, 32]         --\n",
      "|    |    └─Conv2d: 3-124                [4, 1024, 16, 16]         294,912\n",
      "|    |    └─BatchNorm2d: 3-125           [4, 1024, 16, 16]         2,048\n",
      "|    |    └─ReLU: 3-126                  [4, 1024, 16, 16]         --\n",
      "|    |    └─Conv2d: 3-127                [4, 2048, 16, 16]         2,097,152\n",
      "|    |    └─BatchNorm2d: 3-128           [4, 2048, 16, 16]         4,096\n",
      "|    |    └─Sequential: 3-129            [4, 2048, 16, 16]         2,101,248\n",
      "|    |    └─ReLU: 3-130                  [4, 2048, 16, 16]         --\n",
      "|    └─Bottleneck: 2-15                  [4, 2048, 16, 16]         --\n",
      "|    |    └─Conv2d: 3-131                [4, 1024, 16, 16]         2,097,152\n",
      "|    |    └─BatchNorm2d: 3-132           [4, 1024, 16, 16]         2,048\n",
      "|    |    └─ReLU: 3-133                  [4, 1024, 16, 16]         --\n",
      "|    |    └─Conv2d: 3-134                [4, 1024, 16, 16]         294,912\n",
      "|    |    └─BatchNorm2d: 3-135           [4, 1024, 16, 16]         2,048\n",
      "|    |    └─ReLU: 3-136                  [4, 1024, 16, 16]         --\n",
      "|    |    └─Conv2d: 3-137                [4, 2048, 16, 16]         2,097,152\n",
      "|    |    └─BatchNorm2d: 3-138           [4, 2048, 16, 16]         4,096\n",
      "|    |    └─ReLU: 3-139                  [4, 2048, 16, 16]         --\n",
      "|    └─Bottleneck: 2-16                  [4, 2048, 16, 16]         --\n",
      "|    |    └─Conv2d: 3-140                [4, 1024, 16, 16]         2,097,152\n",
      "|    |    └─BatchNorm2d: 3-141           [4, 1024, 16, 16]         2,048\n",
      "|    |    └─ReLU: 3-142                  [4, 1024, 16, 16]         --\n",
      "|    |    └─Conv2d: 3-143                [4, 1024, 16, 16]         294,912\n",
      "|    |    └─BatchNorm2d: 3-144           [4, 1024, 16, 16]         2,048\n",
      "|    |    └─ReLU: 3-145                  [4, 1024, 16, 16]         --\n",
      "|    |    └─Conv2d: 3-146                [4, 2048, 16, 16]         2,097,152\n",
      "|    |    └─BatchNorm2d: 3-147           [4, 2048, 16, 16]         4,096\n",
      "|    |    └─ReLU: 3-148                  [4, 2048, 16, 16]         --\n",
      "├─AdaptiveAvgPool2d: 1-9                 [4, 2048, 1, 1]           --\n",
      "├─Linear: 1-10                           [4, 5]                    10,245\n",
      "==========================================================================================\n",
      "Total params: 22,990,149\n",
      "Trainable params: 22,990,149\n",
      "Non-trainable params: 0\n",
      "Total mult-adds (G): 22.14\n",
      "==========================================================================================\n",
      "Input size (MB): 12.58\n",
      "Forward/backward pass size (MB): 4815.06\n",
      "Params size (MB): 91.96\n",
      "Estimated Total Size (MB): 4919.60\n",
      "==========================================================================================\n"
     ]
    }
   ],
   "source": [
    "_ = summary(model, (4, 3, 512, 512))"
   ]
  },
  {
   "cell_type": "markdown",
   "metadata": {},
   "source": [
    "---"
   ]
  },
  {
   "cell_type": "markdown",
   "metadata": {},
   "source": [
    "## 테스트 (Test) 수행"
   ]
  },
  {
   "cell_type": "markdown",
   "metadata": {},
   "source": [
    "### 1. ImageNet 데이터로 Pretrain 된 기본 모델 성능 평가"
   ]
  },
  {
   "cell_type": "markdown",
   "metadata": {},
   "source": [
    "### 테스트 이미지 평가 (Predict)"
   ]
  },
  {
   "cell_type": "code",
   "execution_count": 14,
   "metadata": {},
   "outputs": [
    {
     "name": "stdout",
     "output_type": "stream",
     "text": [
      "테스트 시작 시간 : 2021-02-15 15:33:30\n"
     ]
    }
   ],
   "source": [
    "now = datetime.datetime.now(pytz.timezone('Asia/Seoul'))\n",
    "nowDatetime = now.strftime('%Y-%m-%d %H:%M:%S')\n",
    "print(f'테스트 시작 시간 : {nowDatetime}')"
   ]
  },
  {
   "cell_type": "code",
   "execution_count": 15,
   "metadata": {},
   "outputs": [],
   "source": [
    "since=time.time()"
   ]
  },
  {
   "cell_type": "code",
   "execution_count": 16,
   "metadata": {},
   "outputs": [
    {
     "name": "stderr",
     "output_type": "stream",
     "text": [
      "100%|██████████| 610/610 [17:22<00:00,  1.71s/it]\n"
     ]
    }
   ],
   "source": [
    "tot_labels=[]  # 전체 정답 Label 을 저장할 리스트\n",
    "tot_pred_labels=[]  # 전체 예측 Label 을 저장할 리스트\n",
    "\n",
    "# 모델을 device에 올림\n",
    "base_model=base_model.to(device)\n",
    "# 네트워크를 evaluation 용으로 선언\n",
    "base_model=base_model.eval()\n",
    "\n",
    "# test 이기 때문에 backprop 진행 x\n",
    "with torch.no_grad():\n",
    "    for images, labels in tqdm(test_dataloader):\n",
    "\n",
    "        images=images.to(device)\n",
    "        labels=labels.to(device)\n",
    "\n",
    "        # Model Prediction (forward)\n",
    "        output=base_model(images)\n",
    "        _, output_index = torch.max(output, 1)    \n",
    "\n",
    "        tot_labels.extend(list(labels.numpy()))\n",
    "        tot_pred_labels.extend(list(output_index.view(-1).numpy()))"
   ]
  },
  {
   "cell_type": "code",
   "execution_count": 17,
   "metadata": {},
   "outputs": [
    {
     "name": "stdout",
     "output_type": "stream",
     "text": [
      "테스트 소요 시간: 17m 22s\n"
     ]
    }
   ],
   "source": [
    "end=time.time()\n",
    "print(f'테스트 소요 시간: {int((end-since)//60)}m {int((end-since)%60)}s')"
   ]
  },
  {
   "cell_type": "code",
   "execution_count": 18,
   "metadata": {},
   "outputs": [
    {
     "name": "stdout",
     "output_type": "stream",
     "text": [
      "테스트 종료 시간 : 2021-02-15 15:50:52\n"
     ]
    }
   ],
   "source": [
    "now = datetime.datetime.now(pytz.timezone('Asia/Seoul'))\n",
    "nowDatetime = now.strftime('%Y-%m-%d %H:%M:%S')\n",
    "print(f'테스트 종료 시간 : {nowDatetime}')"
   ]
  },
  {
   "cell_type": "markdown",
   "metadata": {},
   "source": [
    "## Accuracy"
   ]
  },
  {
   "cell_type": "code",
   "execution_count": 19,
   "metadata": {},
   "outputs": [],
   "source": [
    "result=explain.ShowResult(tot_labels, tot_pred_labels)"
   ]
  },
  {
   "cell_type": "code",
   "execution_count": 20,
   "metadata": {},
   "outputs": [
    {
     "name": "stdout",
     "output_type": "stream",
     "text": [
      "Predicted  1++     1   All\n",
      "True                      \n",
      "1++         41   554   595\n",
      "1+          22   603   625\n",
      "1           28   715   743\n",
      "2            8   332   340\n",
      "3           14   123   137\n",
      "All        113  2327  2440\n",
      "\n",
      "\n",
      "#-- Confusion Matrix for class 1++\n",
      "\n",
      "                Pred    \n",
      "             Non 1++ 1++\n",
      "True Non 1++    1773  72\n",
      "     1++         554  41\n",
      "\n",
      "Accuracy for class 1++ : 74.344\n",
      "-----------------------------------\n",
      "\n",
      "#-- Confusion Matrix for class 1+\n",
      "\n",
      "              Pred   \n",
      "            Non 1+ 1+\n",
      "True Non 1+   1815  0\n",
      "     1+        625  0\n",
      "\n",
      "Accuracy for class 1+ : 74.385\n",
      "-----------------------------------\n",
      "\n",
      "#-- Confusion Matrix for class 1\n",
      "\n",
      "            Pred      \n",
      "           Non 1     1\n",
      "True Non 1    85  1612\n",
      "     1        28   715\n",
      "\n",
      "Accuracy for class 1 : 32.787\n",
      "-----------------------------------\n",
      "\n",
      "#-- Confusion Matrix for class 2\n",
      "\n",
      "            Pred   \n",
      "           Non 2  2\n",
      "True Non 2  2100  0\n",
      "     2       340  0\n",
      "\n",
      "Accuracy for class 2 : 86.066\n",
      "-----------------------------------\n",
      "\n",
      "#-- Confusion Matrix for class 3\n",
      "\n",
      "            Pred   \n",
      "           Non 3  3\n",
      "True Non 3  2303  0\n",
      "     3       137  0\n",
      "\n",
      "Accuracy for class 3 : 94.385\n",
      "-----------------------------------\n",
      "\n",
      "#-- Final Average Accuracy\n",
      "( 74.344 + 74.385 + 32.787 + 86.066 + 94.385 ) / 5 = 72.393\n"
     ]
    }
   ],
   "source": [
    "result.show_result()"
   ]
  },
  {
   "cell_type": "markdown",
   "metadata": {},
   "source": [
    "---"
   ]
  },
  {
   "cell_type": "markdown",
   "metadata": {},
   "source": [
    "### 2. 기본 모델을 Fine Tuning (학습) 한 모델 성능 평가 (Transfer Learning)"
   ]
  },
  {
   "cell_type": "markdown",
   "metadata": {},
   "source": [
    "### 테스트 이미지 평가 (Predict)"
   ]
  },
  {
   "cell_type": "code",
   "execution_count": 21,
   "metadata": {},
   "outputs": [
    {
     "name": "stdout",
     "output_type": "stream",
     "text": [
      "테스트 시작 시간 : 2021-02-15 15:50:52\n"
     ]
    }
   ],
   "source": [
    "now = datetime.datetime.now(pytz.timezone('Asia/Seoul'))\n",
    "nowDatetime = now.strftime('%Y-%m-%d %H:%M:%S')\n",
    "print(f'테스트 시작 시간 : {nowDatetime}')"
   ]
  },
  {
   "cell_type": "code",
   "execution_count": 22,
   "metadata": {},
   "outputs": [],
   "source": [
    "since=time.time()"
   ]
  },
  {
   "cell_type": "code",
   "execution_count": 23,
   "metadata": {},
   "outputs": [
    {
     "name": "stderr",
     "output_type": "stream",
     "text": [
      "100%|██████████| 610/610 [17:43<00:00,  1.74s/it]\n"
     ]
    }
   ],
   "source": [
    "tot_labels=[]  # 전체 정답 Label 을 저장할 리스트\n",
    "tot_pred_labels=[]  # 전체 예측 Label 을 저장할 리스트\n",
    "\n",
    "# 모델을 device에 올림\n",
    "model=model.to(device)\n",
    "# 네트워크를 evaluation 용으로 선언\n",
    "model=model.eval()\n",
    "\n",
    "# test 이기 때문에 backprop 진행 x\n",
    "with torch.no_grad():\n",
    "    for images, labels in tqdm(test_dataloader):\n",
    "\n",
    "        images=images.to(device)\n",
    "        labels=labels.to(device)\n",
    "\n",
    "        # Model Prediction (forward)\n",
    "        output=model(images)\n",
    "        _, output_index = torch.max(output, 1)    \n",
    "\n",
    "        tot_labels.extend(list(labels.numpy()))\n",
    "        tot_pred_labels.extend(list(output_index.view(-1).numpy()))"
   ]
  },
  {
   "cell_type": "code",
   "execution_count": 24,
   "metadata": {},
   "outputs": [
    {
     "name": "stdout",
     "output_type": "stream",
     "text": [
      "테스트 소요 시간: 17m 43s\n"
     ]
    }
   ],
   "source": [
    "end=time.time()\n",
    "print(f'테스트 소요 시간: {int((end-since)//60)}m {int((end-since)%60)}s')"
   ]
  },
  {
   "cell_type": "code",
   "execution_count": 25,
   "metadata": {},
   "outputs": [
    {
     "name": "stdout",
     "output_type": "stream",
     "text": [
      "테스트 종료 시간 : 2021-02-15 16:08:36\n"
     ]
    }
   ],
   "source": [
    "now = datetime.datetime.now(pytz.timezone('Asia/Seoul'))\n",
    "nowDatetime = now.strftime('%Y-%m-%d %H:%M:%S')\n",
    "print(f'테스트 종료 시간 : {nowDatetime}')"
   ]
  },
  {
   "cell_type": "markdown",
   "metadata": {},
   "source": [
    "## Accuracy"
   ]
  },
  {
   "cell_type": "code",
   "execution_count": 26,
   "metadata": {},
   "outputs": [],
   "source": [
    "result=explain.ShowResult(tot_labels, tot_pred_labels)"
   ]
  },
  {
   "cell_type": "code",
   "execution_count": 27,
   "metadata": {},
   "outputs": [
    {
     "name": "stdout",
     "output_type": "stream",
     "text": [
      "Predicted  1++   1+    1    2    3   All\n",
      "True                                    \n",
      "1++        577    9    8    1    0   595\n",
      "1+          16  589   20    0    0   625\n",
      "1            8   24  701   10    0   743\n",
      "2            3    5   15  315    2   340\n",
      "3            0    0    0    0  137   137\n",
      "All        604  627  744  326  139  2440\n",
      "\n",
      "\n",
      "#-- Confusion Matrix for class 1++\n",
      "\n",
      "                Pred     \n",
      "             Non 1++  1++\n",
      "True Non 1++    1818   27\n",
      "     1++          18  577\n",
      "\n",
      "Accuracy for class 1++ : 98.156\n",
      "-----------------------------------\n",
      "\n",
      "#-- Confusion Matrix for class 1+\n",
      "\n",
      "              Pred     \n",
      "            Non 1+   1+\n",
      "True Non 1+   1777   38\n",
      "     1+         36  589\n",
      "\n",
      "Accuracy for class 1+ : 96.967\n",
      "-----------------------------------\n",
      "\n",
      "#-- Confusion Matrix for class 1\n",
      "\n",
      "            Pred     \n",
      "           Non 1    1\n",
      "True Non 1  1654   43\n",
      "     1        42  701\n",
      "\n",
      "Accuracy for class 1 : 96.516\n",
      "-----------------------------------\n",
      "\n",
      "#-- Confusion Matrix for class 2\n",
      "\n",
      "            Pred     \n",
      "           Non 2    2\n",
      "True Non 2  2089   11\n",
      "     2        25  315\n",
      "\n",
      "Accuracy for class 2 : 98.525\n",
      "-----------------------------------\n",
      "\n",
      "#-- Confusion Matrix for class 3\n",
      "\n",
      "            Pred     \n",
      "           Non 3    3\n",
      "True Non 3  2301    2\n",
      "     3         0  137\n",
      "\n",
      "Accuracy for class 3 : 99.918\n",
      "-----------------------------------\n",
      "\n",
      "#-- Final Average Accuracy\n",
      "( 98.156 + 96.967 + 96.516 + 98.525 + 99.918 ) / 5 = 98.016\n"
     ]
    }
   ],
   "source": [
    "result.show_result()"
   ]
  }
 ],
 "metadata": {
  "kernelspec": {
   "display_name": "torch",
   "language": "python",
   "name": "torch"
  },
  "language_info": {
   "codemirror_mode": {
    "name": "ipython",
    "version": 3
   },
   "file_extension": ".py",
   "mimetype": "text/x-python",
   "name": "python",
   "nbconvert_exporter": "python",
   "pygments_lexer": "ipython3",
   "version": "3.7.0"
  }
 },
 "nbformat": 4,
 "nbformat_minor": 4
}
