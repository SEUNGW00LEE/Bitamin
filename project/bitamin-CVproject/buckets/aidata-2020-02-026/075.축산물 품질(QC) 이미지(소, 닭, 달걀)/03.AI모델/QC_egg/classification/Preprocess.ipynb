{
 "cells": [
  {
   "cell_type": "markdown",
   "metadata": {},
   "source": [
    "## # Preprocessing.ipynb\n",
    "\n",
    "### # from Raw to Preprocessed_for_classification"
   ]
  },
  {
   "cell_type": "code",
   "execution_count": 1,
   "metadata": {},
   "outputs": [],
   "source": [
    "import sys\n",
    "import os\n",
    "import os.path as osp\n",
    "import re\n",
    "from glob import glob\n",
    "import shutil\n",
    "\n",
    "import numpy as np\n",
    "import pandas as pd\n",
    "\n",
    "from tqdm import tqdm\n",
    "\n",
    "from sklearn.model_selection import train_test_split"
   ]
  },
  {
   "cell_type": "code",
   "execution_count": 2,
   "metadata": {},
   "outputs": [
    {
     "name": "stdout",
     "output_type": "stream",
     "text": [
      "전체 데이터 수: 30423\n"
     ]
    }
   ],
   "source": [
    "base_PATH='../Dataset/raw/classification'\n",
    "# 전체 데이터 경로 가져오기\n",
    "total_path=glob(osp.join(base_PATH, '*', '*.jpg'))\n",
    "\n",
    "print('전체 데이터 수:',len(total_path))"
   ]
  },
  {
   "cell_type": "code",
   "execution_count": 3,
   "metadata": {},
   "outputs": [],
   "source": [
    "## csv 파일에서 달걀 정보 추출\n",
    "#df_info=pd.read_csv('label_info.csv')"
   ]
  },
  {
   "cell_type": "code",
   "execution_count": 4,
   "metadata": {},
   "outputs": [
    {
     "name": "stderr",
     "output_type": "stream",
     "text": [
      "100%|██████████| 30423/30423 [01:18<00:00, 387.55it/s]\n"
     ]
    }
   ],
   "source": [
    "#df_full=pd.DataFrame(columns=['day','egg','id','label','image_path','json_path'])\n",
    "df_full=pd.DataFrame(columns=['name','label','image_path','json_path'])\n",
    "\n",
    "for path in tqdm(total_path):\n",
    "\n",
    "    # 이미지 이름 추출\n",
    "    image_name=osp.split(path)[-1]\n",
    "    # 해당 데이터의 정보 추출\n",
    "    #info=df_info[df_info['image_name']==image_name]\n",
    "    \n",
    "    \n",
    "    # json 경로 생성\n",
    "    json_path=path.replace('.jpg', '.json')\n",
    "    # 이미지 경로에서 label 추출\n",
    "    #label=info['label'].item()\n",
    "    label= path.split(os.path.sep)[-2]\n",
    "    ## 이미지 이름에서 day 추출\n",
    "    #day=info['date'].item()\n",
    "    ## 이미지 이름에서 id 추출\n",
    "    #id_=info['id'].item()\n",
    "    ## id 에서 egg 추출\n",
    "    #egg=info['egg'].item()\n",
    "    \n",
    "    \n",
    "\n",
    "    # label과 image_path 의 dictionary 생성\n",
    "    #dict_={'day':day, 'egg':egg, 'id':id_, 'label': label, 'image_path': path, 'json_path':json_path}\n",
    "    dict_={'name':image_name, 'label': label, 'image_path': path, 'json_path':json_path}\n",
    "    df_full=df_full.append(dict_, ignore_index=True)"
   ]
  },
  {
   "cell_type": "code",
   "execution_count": 5,
   "metadata": {},
   "outputs": [],
   "source": [
    "# train, validation, test set 분할  8 : 1 : 1\n",
    "#unique_df=df_full.drop_duplicates(subset=['day','egg'])\n",
    "unique_df=df_full.drop_duplicates(subset=['name'])\n",
    "train_val_id, test_df, _,_=train_test_split(unique_df, unique_df['label'], test_size=0.1, stratify=unique_df['label'], random_state=42)\n",
    "train_id, val_df,_,_=train_test_split(train_val_id, train_val_id['label'], test_size=0.111, stratify=train_val_id['label'], random_state=42)\n",
    "\n",
    "\n",
    "train_df=pd.DataFrame()\n",
    "#for day, egg in zip(train_id['day'], train_id['egg']):\n",
    "#    train_df=train_df.append(df_full[ (df_full['day']==day) & (df_full['egg']==egg)])\n",
    "for name in train_id['name']:\n",
    "    train_df=train_df.append(df_full[ (df_full['name']==name) ])"
   ]
  },
  {
   "cell_type": "code",
   "execution_count": 6,
   "metadata": {},
   "outputs": [
    {
     "name": "stdout",
     "output_type": "stream",
     "text": [
      "Train set size: 24340\n",
      "Validation set size: 3040\n",
      "Train set size: 3043\n"
     ]
    }
   ],
   "source": [
    "print(f\"Train set size: {len(train_df)}\")\n",
    "print(f\"Validation set size: {len(val_df)}\")\n",
    "print(f\"Train set size: {len(test_df)}\")"
   ]
  },
  {
   "cell_type": "code",
   "execution_count": 7,
   "metadata": {},
   "outputs": [],
   "source": [
    "dst_base_PATH='../Dataset/preprocessed/classification/'\n",
    "folder_list=['train','val','test']\n",
    "\n",
    "for fd in folder_list:\n",
    "    folder_path=osp.join(dst_base_PATH, fd)\n",
    "    if not osp.exists(folder_path):\n",
    "        os.mkdir(folder_path)\n",
    "        \n",
    "    for i in range(2):\n",
    "        folder=osp.join(folder_path, str(i))\n",
    "        if not osp.exists(folder):\n",
    "            os.mkdir(folder)"
   ]
  },
  {
   "cell_type": "code",
   "execution_count": 8,
   "metadata": {},
   "outputs": [
    {
     "name": "stderr",
     "output_type": "stream",
     "text": [
      "100%|██████████| 24340/24340 [00:24<00:00, 978.40it/s] \n",
      "100%|██████████| 3040/3040 [00:03<00:00, 954.17it/s] \n",
      "100%|██████████| 3043/3043 [00:03<00:00, 971.15it/s] \n"
     ]
    }
   ],
   "source": [
    "dst_base_PATH='../Dataset/preprocessed/classification'\n",
    "\n",
    "df_dict={'train': train_df, 'val':val_df, 'test': test_df}\n",
    "\n",
    "for key in df_dict:    \n",
    "    for idx in tqdm(range(len(df_dict[key]))):\n",
    "        label=str(int(df_dict[key].iloc[idx]['label']))\n",
    "        img_path=df_dict[key].iloc[idx]['image_path']\n",
    "        json_path=df_dict[key].iloc[idx]['json_path']\n",
    "        \n",
    "        img_name=os.path.split(img_path)[1]\n",
    "        json_name=os.path.split(json_path)[1]\n",
    "\n",
    "        # image copy\n",
    "        img_dst_path=os.path.join(dst_base_PATH, key, label, img_name)\n",
    "        _=shutil.copyfile(img_path, img_dst_path)\n",
    "        \n",
    "        # json copy\n",
    "        json_dst_path=os.path.join(dst_base_PATH, key, label, json_name)\n",
    "        _=shutil.copyfile(json_path, json_dst_path)        "
   ]
  },
  {
   "cell_type": "code",
   "execution_count": null,
   "metadata": {},
   "outputs": [],
   "source": []
  }
 ],
 "metadata": {
  "kernelspec": {
   "display_name": "Python 3",
   "language": "python",
   "name": "python3"
  },
  "language_info": {
   "codemirror_mode": {
    "name": "ipython",
    "version": 3
   },
   "file_extension": ".py",
   "mimetype": "text/x-python",
   "name": "python",
   "nbconvert_exporter": "python",
   "pygments_lexer": "ipython3",
   "version": "3.7.10"
  }
 },
 "nbformat": 4,
 "nbformat_minor": 4
}
