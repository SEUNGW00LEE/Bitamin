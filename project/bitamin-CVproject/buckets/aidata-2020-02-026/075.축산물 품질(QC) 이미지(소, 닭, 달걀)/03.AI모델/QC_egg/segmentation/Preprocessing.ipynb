{
 "cells": [
  {
   "cell_type": "markdown",
   "metadata": {},
   "source": [
    "## 패키지 설치"
   ]
  },
  {
   "cell_type": "code",
   "execution_count": 1,
   "metadata": {},
   "outputs": [],
   "source": [
    "# json 설치 명령어\n",
    "#!pip install json\n",
    "\n",
    "# numpy 설치 명령어\n",
    "#!pip install numpy\n",
    "\n",
    "# Pytorch 10.2 GPU install\n",
    "#!pip install torch\n",
    "\n",
    "# Pytorch 10.2 CPU install\n",
    "#!pip install torch==1.7.1+cpu torchvision==0.8.2+cpu torchaudio==0.7.2 -f https://download.pytorch.org/whl/torch_stable.html\n",
    "\n",
    "# OpenCV 설치 명령어\n",
    "#!pip install opencv-python\n",
    "\n",
    "# Scikit-image 설치 명령어\n",
    "#!pip install scikit-image\n",
    "\n",
    "# Scikit-learn 설치 명령어\n",
    "#!pip install scikit-learn\n",
    "\n",
    "# tqdm 설치 명령어\n",
    "#!pip install tqdm"
   ]
  },
  {
   "cell_type": "markdown",
   "metadata": {},
   "source": [
    "## 패키지 불러오기"
   ]
  },
  {
   "cell_type": "markdown",
   "metadata": {},
   "source": [
    "### 전처리 함수는 Utils.py에 정의됨."
   ]
  },
  {
   "cell_type": "code",
   "execution_count": 2,
   "metadata": {},
   "outputs": [],
   "source": [
    "%load_ext autoreload\n",
    "%autoreload 2\n",
    "\n",
    "from Utils import transform_files"
   ]
  },
  {
   "cell_type": "markdown",
   "metadata": {},
   "source": [
    "### 전처리 파라미터 (Parameter)"
   ]
  },
  {
   "cell_type": "code",
   "execution_count": 3,
   "metadata": {},
   "outputs": [],
   "source": [
    "# 전처리 후 Input 이미지의 크기를 지정함.\n",
    "IMG_WIDTH = 512\n",
    "IMG_HEIGHT = 512\n",
    "\n",
    "# 전처리 후 Input 이미지의 Color 채널 수를 지정함.\n",
    "IMG_CHANNELS = 3\n",
    "\n",
    "# 파일을 읽어오고 저장할 Base Path를 지정함\n",
    "LOAD_PATH = \"../Dataset/raw/segmentation/\"\n",
    "SAVE_PATH = \"../Dataset/preprocessed/segmentation/\"\n",
    "\n",
    "# 각 데이터 별로 Path를 지정함\n",
    "SIDE_PATH = \"side_result/\"\n",
    "TOP_PATH = \"top_result/\""
   ]
  },
  {
   "cell_type": "markdown",
   "metadata": {},
   "source": [
    "### 전처리 수행 - Side view"
   ]
  },
  {
   "cell_type": "code",
   "execution_count": 4,
   "metadata": {},
   "outputs": [
    {
     "name": "stdout",
     "output_type": "stream",
     "text": [
      "For Train set!!\n"
     ]
    },
    {
     "name": "stderr",
     "output_type": "stream",
     "text": [
      "100%|██████████| 13709/13709 [19:13<00:00, 11.89it/s]\n"
     ]
    },
    {
     "name": "stdout",
     "output_type": "stream",
     "text": [
      "For Test set!!\n"
     ]
    },
    {
     "name": "stderr",
     "output_type": "stream",
     "text": [
      "100%|██████████| 1524/1524 [02:09<00:00, 11.73it/s]\n"
     ]
    }
   ],
   "source": [
    "transform_files(LOAD_PATH, SAVE_PATH, SIDE_PATH, LABEL_CODE=\"egg_side_yolk\", area_threshold=30000, IMG_WIDTH=IMG_WIDTH, IMG_HEIGHT=IMG_HEIGHT, IMG_CHANNELS=IMG_CHANNELS)"
   ]
  },
  {
   "cell_type": "markdown",
   "metadata": {},
   "source": [
    "### 전처리 수행 - Top view"
   ]
  },
  {
   "cell_type": "code",
   "execution_count": 5,
   "metadata": {},
   "outputs": [
    {
     "name": "stdout",
     "output_type": "stream",
     "text": [
      "For Train set!!\n"
     ]
    },
    {
     "name": "stderr",
     "output_type": "stream",
     "text": [
      "100%|██████████| 13714/13714 [19:11<00:00, 11.91it/s]\n"
     ]
    },
    {
     "name": "stdout",
     "output_type": "stream",
     "text": [
      "For Test set!!\n"
     ]
    },
    {
     "name": "stderr",
     "output_type": "stream",
     "text": [
      "100%|██████████| 1524/1524 [02:07<00:00, 11.93it/s]\n"
     ]
    }
   ],
   "source": [
    "transform_files(LOAD_PATH, SAVE_PATH, TOP_PATH, LABEL_CODE=\"egg_top_yolk\", area_threshold=15000, IMG_WIDTH=IMG_WIDTH, IMG_HEIGHT=IMG_HEIGHT, IMG_CHANNELS=IMG_CHANNELS)"
   ]
  },
  {
   "cell_type": "code",
   "execution_count": null,
   "metadata": {},
   "outputs": [],
   "source": []
  }
 ],
 "metadata": {
  "kernelspec": {
   "display_name": "Python 3",
   "language": "python",
   "name": "python3"
  },
  "language_info": {
   "codemirror_mode": {
    "name": "ipython",
    "version": 3
   },
   "file_extension": ".py",
   "mimetype": "text/x-python",
   "name": "python",
   "nbconvert_exporter": "python",
   "pygments_lexer": "ipython3",
   "version": "3.7.10"
  }
 },
 "nbformat": 4,
 "nbformat_minor": 4
}
